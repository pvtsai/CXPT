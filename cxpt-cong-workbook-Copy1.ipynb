{
 "cells": [
  {
   "cell_type": "markdown",
   "metadata": {},
   "source": [
    "# Cong Workbook\n"
   ]
  },
  {
   "cell_type": "code",
   "execution_count": null,
   "metadata": {},
   "outputs": [],
   "source": [
    "# QUESTION 1: JOIN - why did movie number increase post 2nd join? duplicates?\n",
    "# QUESTION 2: similar question for second join "
   ]
  },
  {
   "cell_type": "markdown",
   "metadata": {},
   "source": [
    "### Import Libraries\n",
    "Let's first import some stuff"
   ]
  },
  {
   "cell_type": "code",
   "execution_count": 5,
   "metadata": {},
   "outputs": [],
   "source": [
    "import numpy as np\n",
    "import pandas as pd\n",
    "import matplotlib.pyplot as plt"
   ]
  },
  {
   "cell_type": "code",
   "execution_count": 6,
   "metadata": {},
   "outputs": [
    {
     "name": "stdout",
     "output_type": "stream",
     "text": [
      "Requirement already satisfied: mysql-connector-python in c:\\users\\cxu19\\anaconda\\lib\\site-packages (8.0.20)\n",
      "Requirement already satisfied: protobuf>=3.0.0 in c:\\users\\cxu19\\anaconda\\lib\\site-packages (from mysql-connector-python) (3.12.2)\n",
      "Requirement already satisfied: six>=1.9 in c:\\users\\cxu19\\anaconda\\lib\\site-packages (from protobuf>=3.0.0->mysql-connector-python) (1.14.0)\n",
      "Requirement already satisfied: setuptools in c:\\users\\cxu19\\anaconda\\lib\\site-packages (from protobuf>=3.0.0->mysql-connector-python) (45.2.0.post20200210)\n"
     ]
    }
   ],
   "source": [
    "!pip install mysql-connector-python"
   ]
  },
  {
   "cell_type": "code",
   "execution_count": 39,
   "metadata": {},
   "outputs": [],
   "source": [
    "import mysql.connector"
   ]
  },
  {
   "cell_type": "code",
   "execution_count": 40,
   "metadata": {},
   "outputs": [],
   "source": [
    "con = mysql.connector.connect(user='hbs-student', password='super-secure-password?',\n",
    "                              host='hbs-ds-060120.c1doesqrid0e.us-east-1.rds.amazonaws.com',\n",
    "                              database='movies')"
   ]
  },
  {
   "cell_type": "markdown",
   "metadata": {},
   "source": [
    "### Loading SQL Queries"
   ]
  },
  {
   "cell_type": "code",
   "execution_count": 41,
   "metadata": {},
   "outputs": [],
   "source": [
    "tn = pd.DataFrame(pd.read_sql_query(\"\"\"\n",
    "SELECT * \n",
    "FROM movies.tn_movie_budgets\"\"\", con))"
   ]
  },
  {
   "cell_type": "code",
   "execution_count": 42,
   "metadata": {},
   "outputs": [],
   "source": [
    "#Change data types\n",
    "tn['domestic_gross'] = tn['domestic_gross'].str.replace('$','')  \n",
    "tn['domestic_gross'] = tn['domestic_gross'].str.replace(',','')\n",
    "tn['domestic_gross'] = tn['domestic_gross'].astype(float)\n",
    "tn['worldwide_gross'] =tn['worldwide_gross'].str.replace('$','')\n",
    "tn['worldwide_gross'] =tn['worldwide_gross'].str.replace(',','')\n",
    "tn['worldwide_gross'] =tn['worldwide_gross'].astype(float) \n",
    "tn['production_budget'] =tn['production_budget'].str.replace('$','')\n",
    "tn['production_budget'] =tn['production_budget'].str.replace(',','')\n",
    "tn['production_budget'] =tn['production_budget'].astype(float) \n",
    "tn['release_date'] = pd.to_datetime(tn['release_date'])"
   ]
  },
  {
   "cell_type": "code",
   "execution_count": 43,
   "metadata": {},
   "outputs": [],
   "source": [
    "bom = pd.DataFrame(pd.read_sql_query(\"\"\"\n",
    "SELECT * \n",
    "FROM movies.bom_movie_gross\"\"\", con))"
   ]
  },
  {
   "cell_type": "code",
   "execution_count": 44,
   "metadata": {},
   "outputs": [],
   "source": [
    "tmdb = pd.DataFrame(pd.read_sql_query(\"\"\"\n",
    "SELECT * \n",
    "FROM movies.tmdb_movies\"\"\", con))"
   ]
  },
  {
   "cell_type": "code",
   "execution_count": 45,
   "metadata": {},
   "outputs": [],
   "source": [
    "tmd = pd.DataFrame(pd.read_sql_query(\"\"\"\n",
    "SELECT\n",
    "\toriginal_title,\n",
    "    title,\n",
    "    vote_average,\n",
    "    popularity,\n",
    "    release_date\n",
    "FROM movies.tmdb_movies\"\"\", con))"
   ]
  },
  {
   "cell_type": "code",
   "execution_count": 46,
   "metadata": {},
   "outputs": [],
   "source": [
    "tmd['release_date'] = pd.to_datetime(tmd['release_date'])\n",
    "tmd = tmd.drop_duplicates(subset='original_title')"
   ]
  },
  {
   "cell_type": "code",
   "execution_count": 47,
   "metadata": {},
   "outputs": [],
   "source": [
    "imdb_title_basics = pd.DataFrame(pd.read_sql_query(\"\"\"\n",
    "SELECT \n",
    "\toriginal_title,\n",
    "    primary_title,\n",
    "    genres\n",
    "FROM movies.imdb_title_basics\"\"\", con))"
   ]
  },
  {
   "cell_type": "code",
   "execution_count": 48,
   "metadata": {},
   "outputs": [],
   "source": [
    "imdb_title_basics = imdb_title_basics.drop_duplicates(subset = 'original_title')"
   ]
  },
  {
   "cell_type": "code",
   "execution_count": 56,
   "metadata": {},
   "outputs": [],
   "source": [
    "# SELECT *\n",
    "# FROM movies.imdb_title_basics\n",
    "# JOIN movies.imdb_title_ratings USING (tconst)\n",
    "#to compare ImDB genre to ratings "
   ]
  },
  {
   "cell_type": "code",
   "execution_count": null,
   "metadata": {},
   "outputs": [],
   "source": [
    "# SELECT\n",
    "# \tnconst,\n",
    "#     tconst,\n",
    "#     ordering,\n",
    "#     category,\n",
    "#     primary_title,\n",
    "#     start_year,\n",
    "#     genres,\n",
    "#     primary_name,\n",
    "#     averagerating,\n",
    "#     numvotes\n",
    "# FROM movies.imdb_title_principals\n",
    "# JOIN movies.imdb_title_basics USING (tconst)\n",
    "# JOIN movies.imdb_name_basics USING (nconst)\n",
    "# JOIN movies.imdb_title_ratings USING (tconst)\n",
    "# WHERE start_year >= 2015\n",
    "#to show which actresses / actors / directors appeared in most highly rated movies since 2015"
   ]
  },
  {
   "cell_type": "code",
   "execution_count": null,
   "metadata": {},
   "outputs": [],
   "source": [
    "# tn = pd.DataFrame(pd.read_sql_query(\"\"\"\n",
    "# SELECT Count(*)\n",
    "# \ttconst,\n",
    "#     primary_title,\n",
    "#     averagerating,\n",
    "#     numvotes\n",
    "# FROM movies.imdb_title_ratings\n",
    "# JOIN movies.imdb_title_basics USING (tconst)\"\"\", con))\n",
    "# to join with tbi to get ratings vs. box office success correlation"
   ]
  },
  {
   "cell_type": "markdown",
   "metadata": {},
   "source": [
    "### Approach 1 (NEW)"
   ]
  },
  {
   "cell_type": "code",
   "execution_count": 49,
   "metadata": {},
   "outputs": [],
   "source": [
    "# JOIN bom and tn\n",
    "tb = tn.join(bom.set_index('title'),\n",
    "             on='movie',\n",
    "             how='outer',\n",
    "             lsuffix='_tn',\n",
    "             rsuffix='_bom')"
   ]
  },
  {
   "cell_type": "code",
   "execution_count": 50,
   "metadata": {},
   "outputs": [],
   "source": [
    "tb = tb.drop_duplicates(subset = 'movie')"
   ]
  },
  {
   "cell_type": "code",
   "execution_count": 51,
   "metadata": {},
   "outputs": [
    {
     "name": "stdout",
     "output_type": "stream",
     "text": [
      "<class 'pandas.core.frame.DataFrame'>\n",
      "Float64Index: 7846 entries, 0.0 to nan\n",
      "Data columns (total 10 columns):\n",
      " #   Column              Non-Null Count  Dtype         \n",
      "---  ------              --------------  -----         \n",
      " 0   id                  5698 non-null   float64       \n",
      " 1   release_date        5698 non-null   datetime64[ns]\n",
      " 2   movie               7846 non-null   object        \n",
      " 3   production_budget   5698 non-null   float64       \n",
      " 4   domestic_gross_tn   5698 non-null   float64       \n",
      " 5   worldwide_gross     5698 non-null   float64       \n",
      " 6   studio              3386 non-null   object        \n",
      " 7   domestic_gross_bom  3358 non-null   float64       \n",
      " 8   foreign_gross       2037 non-null   float64       \n",
      " 9   year                3386 non-null   float64       \n",
      "dtypes: datetime64[ns](1), float64(7), object(2)\n",
      "memory usage: 674.3+ KB\n"
     ]
    }
   ],
   "source": [
    "tb.info()"
   ]
  },
  {
   "cell_type": "code",
   "execution_count": 52,
   "metadata": {},
   "outputs": [],
   "source": [
    "# JOIN bom & tn and imdb_title_basics\n",
    "tbi = tb.join(imdb_title_basics.set_index('original_title'),\n",
    "              on='movie',\n",
    "              how='left',\n",
    "              rsuffix='_imdb')"
   ]
  },
  {
   "cell_type": "code",
   "execution_count": 53,
   "metadata": {},
   "outputs": [
    {
     "name": "stdout",
     "output_type": "stream",
     "text": [
      "<class 'pandas.core.frame.DataFrame'>\n",
      "Float64Index: 7846 entries, 0.0 to nan\n",
      "Data columns (total 12 columns):\n",
      " #   Column              Non-Null Count  Dtype         \n",
      "---  ------              --------------  -----         \n",
      " 0   id                  5698 non-null   float64       \n",
      " 1   release_date        5698 non-null   datetime64[ns]\n",
      " 2   movie               7846 non-null   object        \n",
      " 3   production_budget   5698 non-null   float64       \n",
      " 4   domestic_gross_tn   5698 non-null   float64       \n",
      " 5   worldwide_gross     5698 non-null   float64       \n",
      " 6   studio              3386 non-null   object        \n",
      " 7   domestic_gross_bom  3358 non-null   float64       \n",
      " 8   foreign_gross       2037 non-null   float64       \n",
      " 9   year                3386 non-null   float64       \n",
      " 10  primary_title       3284 non-null   object        \n",
      " 11  genres              3284 non-null   object        \n",
      "dtypes: datetime64[ns](1), float64(7), object(4)\n",
      "memory usage: 796.9+ KB\n"
     ]
    }
   ],
   "source": [
    "tbi.info()"
   ]
  },
  {
   "cell_type": "code",
   "execution_count": 28,
   "metadata": {},
   "outputs": [],
   "source": [
    "tbi = tbi.drop_duplicates(subset = 'movie')\n",
    "tbi['domestic_gross_tn'] = np.where(tbi['domestic_gross_tn'].isna(), tbi['domestic_gross_bom'], tbi['domestic_gross_tn']) \n",
    "tbi = tbi.drop(columns=['domestic_gross_bom','studio'])\n",
    "tbi[['genre1','genre2','genre3']] = tbi['genres'].str.split(pat=',',expand=True)\n",
    "tbi['release_month'] = tbi['release_date'].dt.month\n",
    "tbi = tbi.rename(columns={'production_budget':'production_budget_$m','domestic_gross_tn':'domestic_gross_$m','worldwide_gross':'worldwide_gross_$m', 'foreign_gross':'foreign_gross_$m'})"
   ]
  },
  {
   "cell_type": "code",
   "execution_count": 29,
   "metadata": {},
   "outputs": [],
   "source": [
    "tbi['production_budget_$m'] = tbi['production_budget_$m'].apply(lambda x: '{:.0f}'.format(x/1000000))\n",
    "tbi['domestic_gross_$m'] = tbi['domestic_gross_$m'].apply(lambda x: '{:.0f}'.format(x/1000000))\n",
    "tbi['worldwide_gross_$m'] = tbi['worldwide_gross_$m'].apply(lambda x: '{:.0f}'.format(x/1000000))\n",
    "tbi['foreign_gross_$m'] = tbi['foreign_gross_$m'].apply(lambda x: '{:.0f}'.format(x/1000000))"
   ]
  },
  {
   "cell_type": "code",
   "execution_count": 30,
   "metadata": {},
   "outputs": [],
   "source": [
    "tbi['production_budget_$m'] = tbi['production_budget_$m'].astype(float)\n",
    "tbi['domestic_gross_$m'] = tbi['domestic_gross_$m'].astype(float)\n",
    "tbi['worldwide_gross_$m'] = tbi['worldwide_gross_$m'].astype(float)\n",
    "tbi['foreign_gross_$m'] = tbi['foreign_gross_$m'].astype(float)"
   ]
  },
  {
   "cell_type": "code",
   "execution_count": 31,
   "metadata": {},
   "outputs": [],
   "source": [
    "tbi['release_year'] = tbi['release_date'].dt.year\n",
    "tbi['global_mom'] = tbi['worldwide_gross_$m'] / tbi['production_budget_$m']\n",
    "tbi = tbi.round({'global_mom':2})"
   ]
  },
  {
   "cell_type": "code",
   "execution_count": 32,
   "metadata": {},
   "outputs": [],
   "source": [
    "# JOIN tmd\n",
    "tbi = tbi.join(tmd.set_index('original_title'),\n",
    "               on='movie',\n",
    "               how='left',\n",
    "               rsuffix='_tmd')"
   ]
  },
  {
   "cell_type": "code",
   "execution_count": 33,
   "metadata": {},
   "outputs": [],
   "source": [
    "tbi['release_date'] = np.where(tbi['release_date'].isna(), tbi['release_date_tmd'], tbi['release_date']) "
   ]
  },
  {
   "cell_type": "code",
   "execution_count": 34,
   "metadata": {},
   "outputs": [],
   "source": [
    "tbi = tbi.drop(columns=['release_date_tmd'])\n",
    "tbi['release_year'] = tbi['release_date'].dt.year\n",
    "tbi['release_month'] = tbi['release_date'].dt.month"
   ]
  },
  {
   "cell_type": "code",
   "execution_count": 35,
   "metadata": {},
   "outputs": [],
   "source": [
    "tbi['worldwide_gross_$m'] = np.where(tbi['worldwide_gross_$m'].isna(), tbi['domestic_gross_$m'] + tbi['foreign_gross_$m'], tbi['worldwide_gross_$m'])"
   ]
  },
  {
   "cell_type": "code",
   "execution_count": 36,
   "metadata": {},
   "outputs": [
    {
     "name": "stdout",
     "output_type": "stream",
     "text": [
      "<class 'pandas.core.frame.DataFrame'>\n",
      "Float64Index: 7846 entries, 0.0 to nan\n",
      "Data columns (total 19 columns):\n",
      " #   Column                Non-Null Count  Dtype         \n",
      "---  ------                --------------  -----         \n",
      " 0   id                    5698 non-null   float64       \n",
      " 1   release_date          6481 non-null   datetime64[ns]\n",
      " 2   movie                 7846 non-null   object        \n",
      " 3   production_budget_$m  5698 non-null   float64       \n",
      " 4   domestic_gross_$m     7820 non-null   float64       \n",
      " 5   worldwide_gross_$m    6630 non-null   float64       \n",
      " 6   foreign_gross_$m      2037 non-null   float64       \n",
      " 7   year                  3386 non-null   float64       \n",
      " 8   primary_title         3284 non-null   object        \n",
      " 9   genres                3284 non-null   object        \n",
      " 10  genre1                3284 non-null   object        \n",
      " 11  genre2                2519 non-null   object        \n",
      " 12  genre3                1702 non-null   object        \n",
      " 13  release_month         6481 non-null   float64       \n",
      " 14  release_year          6481 non-null   float64       \n",
      " 15  global_mom            5461 non-null   float64       \n",
      " 16  title                 2691 non-null   object        \n",
      " 17  vote_average          2691 non-null   float64       \n",
      " 18  popularity            2691 non-null   float64       \n",
      "dtypes: datetime64[ns](1), float64(11), object(7)\n",
      "memory usage: 1.2+ MB\n"
     ]
    }
   ],
   "source": [
    "tbi.info()"
   ]
  },
  {
   "cell_type": "code",
   "execution_count": 37,
   "metadata": {},
   "outputs": [
    {
     "data": {
      "text/html": [
       "<div>\n",
       "<style scoped>\n",
       "    .dataframe tbody tr th:only-of-type {\n",
       "        vertical-align: middle;\n",
       "    }\n",
       "\n",
       "    .dataframe tbody tr th {\n",
       "        vertical-align: top;\n",
       "    }\n",
       "\n",
       "    .dataframe thead th {\n",
       "        text-align: right;\n",
       "    }\n",
       "</style>\n",
       "<table border=\"1\" class=\"dataframe\">\n",
       "  <thead>\n",
       "    <tr style=\"text-align: right;\">\n",
       "      <th></th>\n",
       "      <th>id</th>\n",
       "      <th>release_date</th>\n",
       "      <th>movie</th>\n",
       "      <th>production_budget_$m</th>\n",
       "      <th>domestic_gross_$m</th>\n",
       "      <th>worldwide_gross_$m</th>\n",
       "      <th>foreign_gross_$m</th>\n",
       "      <th>year</th>\n",
       "      <th>primary_title</th>\n",
       "      <th>genres</th>\n",
       "      <th>genre1</th>\n",
       "      <th>genre2</th>\n",
       "      <th>genre3</th>\n",
       "      <th>release_month</th>\n",
       "      <th>release_year</th>\n",
       "      <th>global_mom</th>\n",
       "      <th>title</th>\n",
       "      <th>vote_average</th>\n",
       "      <th>popularity</th>\n",
       "    </tr>\n",
       "  </thead>\n",
       "  <tbody>\n",
       "    <tr>\n",
       "      <th>1604.0</th>\n",
       "      <td>5.0</td>\n",
       "      <td>2018-10-05</td>\n",
       "      <td>A Star is Born</td>\n",
       "      <td>36.0</td>\n",
       "      <td>215.0</td>\n",
       "      <td>433.0</td>\n",
       "      <td>NaN</td>\n",
       "      <td>NaN</td>\n",
       "      <td>NaN</td>\n",
       "      <td>NaN</td>\n",
       "      <td>NaN</td>\n",
       "      <td>NaN</td>\n",
       "      <td>NaN</td>\n",
       "      <td>10.0</td>\n",
       "      <td>2018.0</td>\n",
       "      <td>12.03</td>\n",
       "      <td>NaN</td>\n",
       "      <td>NaN</td>\n",
       "      <td>NaN</td>\n",
       "    </tr>\n",
       "  </tbody>\n",
       "</table>\n",
       "</div>"
      ],
      "text/plain": [
       "         id release_date           movie  production_budget_$m  \\\n",
       "1604.0  5.0   2018-10-05  A Star is Born                  36.0   \n",
       "\n",
       "        domestic_gross_$m  worldwide_gross_$m  foreign_gross_$m  year  \\\n",
       "1604.0              215.0               433.0               NaN   NaN   \n",
       "\n",
       "       primary_title genres genre1 genre2 genre3  release_month  release_year  \\\n",
       "1604.0           NaN    NaN    NaN    NaN    NaN           10.0        2018.0   \n",
       "\n",
       "        global_mom title  vote_average  popularity  \n",
       "1604.0       12.03   NaN           NaN         NaN  "
      ]
     },
     "execution_count": 37,
     "metadata": {},
     "output_type": "execute_result"
    }
   ],
   "source": [
    "tbi.loc[tbi['movie'] == 'A Star is Born']"
   ]
  },
  {
   "cell_type": "markdown",
   "metadata": {},
   "source": [
    "### Approach 2 (OLD)"
   ]
  },
  {
   "cell_type": "code",
   "execution_count": 122,
   "metadata": {},
   "outputs": [],
   "source": [
    "tmdb_bom = tmdb.join(bom.set_index('title'),\n",
    "          on='original_title',\n",
    "          how='outer',\n",
    "          rsuffix='_bom')"
   ]
  },
  {
   "cell_type": "code",
   "execution_count": 123,
   "metadata": {},
   "outputs": [],
   "source": [
    "tbt_org = tmdb_bom.join(tn.set_index('movie'),\n",
    "              on='original_title',\n",
    "              how='outer',\n",
    "              rsuffix='_tn')"
   ]
  },
  {
   "cell_type": "code",
   "execution_count": 124,
   "metadata": {},
   "outputs": [],
   "source": [
    "tbt_org = tbt_org.reset_index()"
   ]
  },
  {
   "cell_type": "code",
   "execution_count": 125,
   "metadata": {},
   "outputs": [],
   "source": [
    "tbt_org['domestic_gross'] = np.where(tbt_org['domestic_gross'].isna(), tbt_org['domestic_gross_tn'], tbt_org['domestic_gross']) "
   ]
  },
  {
   "cell_type": "code",
   "execution_count": 126,
   "metadata": {},
   "outputs": [],
   "source": [
    "tbt_org['release_date'] = pd.to_datetime(tbt_org['release_date']) "
   ]
  },
  {
   "cell_type": "code",
   "execution_count": 127,
   "metadata": {},
   "outputs": [],
   "source": [
    "tbt_org['release_date'] = np.where(tbt_org['release_date'].isna(), tbt_org['release_date_tn'], tbt_org['release_date']) "
   ]
  },
  {
   "cell_type": "code",
   "execution_count": 128,
   "metadata": {},
   "outputs": [],
   "source": [
    "tbt_new = tbt_org.drop(columns=['domestic_gross_tn','title', 'release_date_tn', 'index','id','year','id_tn', 'genre_ids'])"
   ]
  },
  {
   "cell_type": "code",
   "execution_count": 130,
   "metadata": {},
   "outputs": [],
   "source": [
    "tbt_new = tbt_new.drop_duplicates(subset = 'original_title')"
   ]
  },
  {
   "cell_type": "code",
   "execution_count": 132,
   "metadata": {},
   "outputs": [],
   "source": [
    "tbt_new = tbt_new.dropna(subset=['domestic_gross'])"
   ]
  },
  {
   "cell_type": "code",
   "execution_count": 134,
   "metadata": {},
   "outputs": [],
   "source": [
    "tbt_new = tbt_new.dropna(subset=['production_budget'])"
   ]
  },
  {
   "cell_type": "code",
   "execution_count": 137,
   "metadata": {},
   "outputs": [],
   "source": [
    "tbti = tbt_new.join(imdb_title_basics.set_index('primary_title'),\n",
    "                    on='original_title')"
   ]
  },
  {
   "cell_type": "code",
   "execution_count": 140,
   "metadata": {},
   "outputs": [
    {
     "name": "stdout",
     "output_type": "stream",
     "text": [
      "<class 'pandas.core.frame.DataFrame'>\n",
      "Int64Index: 6992 entries, 1 to 31785\n",
      "Data columns (total 12 columns):\n",
      " #   Column             Non-Null Count  Dtype         \n",
      "---  ------             --------------  -----         \n",
      " 0   original_language  2906 non-null   object        \n",
      " 1   original_title     6992 non-null   object        \n",
      " 2   popularity         2906 non-null   float64       \n",
      " 3   release_date       6992 non-null   datetime64[ns]\n",
      " 4   vote_average       2906 non-null   float64       \n",
      " 5   vote_count         2906 non-null   float64       \n",
      " 6   studio             1654 non-null   object        \n",
      " 7   domestic_gross     6992 non-null   float64       \n",
      " 8   foreign_gross      1424 non-null   float64       \n",
      " 9   production_budget  6992 non-null   float64       \n",
      " 10  worldwide_gross    6992 non-null   float64       \n",
      " 11  genres             3606 non-null   object        \n",
      "dtypes: datetime64[ns](1), float64(7), object(4)\n",
      "memory usage: 710.1+ KB\n"
     ]
    }
   ],
   "source": [
    "tbti.info() ## WHY DID title number go up even though it was a left join??"
   ]
  },
  {
   "cell_type": "markdown",
   "metadata": {},
   "source": [
    "### Execution"
   ]
  },
  {
   "cell_type": "code",
   "execution_count": 79,
   "metadata": {},
   "outputs": [],
   "source": [
    "tbi_since1990 = tbi.loc[tbi['release_year'] > 1989]"
   ]
  },
  {
   "cell_type": "code",
   "execution_count": 80,
   "metadata": {},
   "outputs": [],
   "source": [
    "genre_vs_mom = tbi_since1990.groupby(['genre1']).median().sort_values(by='global_mom',ascending=False)['global_mom']"
   ]
  },
  {
   "cell_type": "code",
   "execution_count": 81,
   "metadata": {},
   "outputs": [],
   "source": [
    "genre2_vs_mom = tbi_since1990.groupby(['genre2']).median().sort_values(by='global_mom',ascending=False)['global_mom']"
   ]
  },
  {
   "cell_type": "code",
   "execution_count": 82,
   "metadata": {},
   "outputs": [
    {
     "data": {
      "text/plain": [
       "genre1\n",
       "Mystery        4.450\n",
       "War            3.210\n",
       "Adventure      2.450\n",
       "Animation      2.400\n",
       "Horror         2.400\n",
       "               2.340\n",
       "Sci-Fi         2.190\n",
       "Action         2.000\n",
       "Musical        1.900\n",
       "Biography      1.870\n",
       "Comedy         1.850\n",
       "Documentary    1.490\n",
       "Drama          1.360\n",
       "Fantasy        1.340\n",
       "Thriller       1.040\n",
       "Crime          1.000\n",
       "Romance        0.835\n",
       "Sport          0.830\n",
       "Music          0.500\n",
       "Western        0.120\n",
       "Family         0.085\n",
       "Name: global_mom, dtype: float64"
      ]
     },
     "execution_count": 82,
     "metadata": {},
     "output_type": "execute_result"
    }
   ],
   "source": [
    "genre_vs_mom"
   ]
  },
  {
   "cell_type": "code",
   "execution_count": 83,
   "metadata": {},
   "outputs": [
    {
     "data": {
      "text/plain": [
       "<matplotlib.axes._subplots.AxesSubplot at 0x2aec6d19308>"
      ]
     },
     "execution_count": 83,
     "metadata": {},
     "output_type": "execute_result"
    },
    {
     "data": {
      "image/png": "[encoded data removed]",
      "text/plain": [
       "<Figure size 432x288 with 1 Axes>"
      ]
     },
     "metadata": {
      "needs_background": "light"
     },
     "output_type": "display_data"
    }
   ],
   "source": [
    "genre_vs_mom.plot.bar()"
   ]
  },
  {
   "cell_type": "code",
   "execution_count": 84,
   "metadata": {},
   "outputs": [
    {
     "data": {
      "text/plain": [
       "genre2\n",
       "Mystery        2.920\n",
       "Music          2.750\n",
       "Animation      2.680\n",
       "Adventure      2.470\n",
       "Documentary    2.250\n",
       "Romance        2.140\n",
       "Sci-Fi         2.080\n",
       "Comedy         2.050\n",
       "Family         1.850\n",
       "Fantasy        1.545\n",
       "Drama          1.520\n",
       "Crime          1.495\n",
       "Horror         1.430\n",
       "Thriller       1.390\n",
       "Western        1.165\n",
       "Sport          1.020\n",
       "History        0.865\n",
       "Biography      0.615\n",
       "War            0.355\n",
       "Musical          NaN\n",
       "Name: global_mom, dtype: float64"
      ]
     },
     "execution_count": 84,
     "metadata": {},
     "output_type": "execute_result"
    }
   ],
   "source": [
    "genre2_vs_mom"
   ]
  },
  {
   "cell_type": "code",
   "execution_count": 85,
   "metadata": {},
   "outputs": [
    {
     "data": {
      "text/plain": [
       "<matplotlib.axes._subplots.AxesSubplot at 0x2aec8c81a88>"
      ]
     },
     "execution_count": 85,
     "metadata": {},
     "output_type": "execute_result"
    },
    {
     "data": {
      "image/png": "[encoded data removed]",
      "text/plain": [
       "<Figure size 432x288 with 1 Axes>"
      ]
     },
     "metadata": {
      "needs_background": "light"
     },
     "output_type": "display_data"
    }
   ],
   "source": [
    "genre2_vs_mom.plot.bar()"
   ]
  },
  {
   "cell_type": "code",
   "execution_count": null,
   "metadata": {},
   "outputs": [],
   "source": []
  },
  {
   "cell_type": "code",
   "execution_count": null,
   "metadata": {},
   "outputs": [],
   "source": []
  },
  {
   "cell_type": "code",
   "execution_count": 5,
   "metadata": {},
   "outputs": [
    {
     "ename": "OperationalError",
     "evalue": "MySQL Connection not available.",
     "output_type": "error",
     "traceback": [
      "\u001b[1;31m---------------------------------------------------------------------------\u001b[0m",
      "\u001b[1;31mOperationalError\u001b[0m                          Traceback (most recent call last)",
      "\u001b[1;32m<ipython-input-5-5e1adf40545f>\u001b[0m in \u001b[0;36m<module>\u001b[1;34m\u001b[0m\n\u001b[0;32m      6\u001b[0m     \u001b[0mnumvotes\u001b[0m\u001b[1;33m\u001b[0m\u001b[1;33m\u001b[0m\u001b[0m\n\u001b[0;32m      7\u001b[0m \u001b[0mFROM\u001b[0m \u001b[0mmovies\u001b[0m\u001b[1;33m.\u001b[0m\u001b[0mimdb_title_ratings\u001b[0m\u001b[1;33m\u001b[0m\u001b[1;33m\u001b[0m\u001b[0m\n\u001b[1;32m----> 8\u001b[1;33m JOIN movies.imdb_title_basics USING (tconst)\"\"\", con))\n\u001b[0m",
      "\u001b[1;32m~\\anaconda\\lib\\site-packages\\pandas\\io\\sql.py\u001b[0m in \u001b[0;36mread_sql_query\u001b[1;34m(sql, con, index_col, coerce_float, params, parse_dates, chunksize)\u001b[0m\n\u001b[0;32m    330\u001b[0m         \u001b[0mcoerce_float\u001b[0m\u001b[1;33m=\u001b[0m\u001b[0mcoerce_float\u001b[0m\u001b[1;33m,\u001b[0m\u001b[1;33m\u001b[0m\u001b[1;33m\u001b[0m\u001b[0m\n\u001b[0;32m    331\u001b[0m         \u001b[0mparse_dates\u001b[0m\u001b[1;33m=\u001b[0m\u001b[0mparse_dates\u001b[0m\u001b[1;33m,\u001b[0m\u001b[1;33m\u001b[0m\u001b[1;33m\u001b[0m\u001b[0m\n\u001b[1;32m--> 332\u001b[1;33m         \u001b[0mchunksize\u001b[0m\u001b[1;33m=\u001b[0m\u001b[0mchunksize\u001b[0m\u001b[1;33m,\u001b[0m\u001b[1;33m\u001b[0m\u001b[1;33m\u001b[0m\u001b[0m\n\u001b[0m\u001b[0;32m    333\u001b[0m     )\n\u001b[0;32m    334\u001b[0m \u001b[1;33m\u001b[0m\u001b[0m\n",
      "\u001b[1;32m~\\anaconda\\lib\\site-packages\\pandas\\io\\sql.py\u001b[0m in \u001b[0;36mread_query\u001b[1;34m(self, sql, index_col, coerce_float, params, parse_dates, chunksize)\u001b[0m\n\u001b[0;32m   1631\u001b[0m \u001b[1;33m\u001b[0m\u001b[0m\n\u001b[0;32m   1632\u001b[0m         \u001b[0margs\u001b[0m \u001b[1;33m=\u001b[0m \u001b[0m_convert_params\u001b[0m\u001b[1;33m(\u001b[0m\u001b[0msql\u001b[0m\u001b[1;33m,\u001b[0m \u001b[0mparams\u001b[0m\u001b[1;33m)\u001b[0m\u001b[1;33m\u001b[0m\u001b[1;33m\u001b[0m\u001b[0m\n\u001b[1;32m-> 1633\u001b[1;33m         \u001b[0mcursor\u001b[0m \u001b[1;33m=\u001b[0m \u001b[0mself\u001b[0m\u001b[1;33m.\u001b[0m\u001b[0mexecute\u001b[0m\u001b[1;33m(\u001b[0m\u001b[1;33m*\u001b[0m\u001b[0margs\u001b[0m\u001b[1;33m)\u001b[0m\u001b[1;33m\u001b[0m\u001b[1;33m\u001b[0m\u001b[0m\n\u001b[0m\u001b[0;32m   1634\u001b[0m         \u001b[0mcolumns\u001b[0m \u001b[1;33m=\u001b[0m \u001b[1;33m[\u001b[0m\u001b[0mcol_desc\u001b[0m\u001b[1;33m[\u001b[0m\u001b[1;36m0\u001b[0m\u001b[1;33m]\u001b[0m \u001b[1;32mfor\u001b[0m \u001b[0mcol_desc\u001b[0m \u001b[1;32min\u001b[0m \u001b[0mcursor\u001b[0m\u001b[1;33m.\u001b[0m\u001b[0mdescription\u001b[0m\u001b[1;33m]\u001b[0m\u001b[1;33m\u001b[0m\u001b[1;33m\u001b[0m\u001b[0m\n\u001b[0;32m   1635\u001b[0m \u001b[1;33m\u001b[0m\u001b[0m\n",
      "\u001b[1;32m~\\anaconda\\lib\\site-packages\\pandas\\io\\sql.py\u001b[0m in \u001b[0;36mexecute\u001b[1;34m(self, *args, **kwargs)\u001b[0m\n\u001b[0;32m   1582\u001b[0m             \u001b[0mcur\u001b[0m \u001b[1;33m=\u001b[0m \u001b[0mself\u001b[0m\u001b[1;33m.\u001b[0m\u001b[0mcon\u001b[0m\u001b[1;33m\u001b[0m\u001b[1;33m\u001b[0m\u001b[0m\n\u001b[0;32m   1583\u001b[0m         \u001b[1;32melse\u001b[0m\u001b[1;33m:\u001b[0m\u001b[1;33m\u001b[0m\u001b[1;33m\u001b[0m\u001b[0m\n\u001b[1;32m-> 1584\u001b[1;33m             \u001b[0mcur\u001b[0m \u001b[1;33m=\u001b[0m \u001b[0mself\u001b[0m\u001b[1;33m.\u001b[0m\u001b[0mcon\u001b[0m\u001b[1;33m.\u001b[0m\u001b[0mcursor\u001b[0m\u001b[1;33m(\u001b[0m\u001b[1;33m)\u001b[0m\u001b[1;33m\u001b[0m\u001b[1;33m\u001b[0m\u001b[0m\n\u001b[0m\u001b[0;32m   1585\u001b[0m         \u001b[1;32mtry\u001b[0m\u001b[1;33m:\u001b[0m\u001b[1;33m\u001b[0m\u001b[1;33m\u001b[0m\u001b[0m\n\u001b[0;32m   1586\u001b[0m             \u001b[0mcur\u001b[0m\u001b[1;33m.\u001b[0m\u001b[0mexecute\u001b[0m\u001b[1;33m(\u001b[0m\u001b[1;33m*\u001b[0m\u001b[0margs\u001b[0m\u001b[1;33m,\u001b[0m \u001b[1;33m**\u001b[0m\u001b[0mkwargs\u001b[0m\u001b[1;33m)\u001b[0m\u001b[1;33m\u001b[0m\u001b[1;33m\u001b[0m\u001b[0m\n",
      "\u001b[1;32m~\\anaconda\\lib\\site-packages\\mysql\\connector\\connection_cext.py\u001b[0m in \u001b[0;36mcursor\u001b[1;34m(self, buffered, raw, prepared, cursor_class, dictionary, named_tuple)\u001b[0m\n\u001b[0;32m    539\u001b[0m         \u001b[0mself\u001b[0m\u001b[1;33m.\u001b[0m\u001b[0mhandle_unread_result\u001b[0m\u001b[1;33m(\u001b[0m\u001b[0mprepared\u001b[0m\u001b[1;33m)\u001b[0m\u001b[1;33m\u001b[0m\u001b[1;33m\u001b[0m\u001b[0m\n\u001b[0;32m    540\u001b[0m         \u001b[1;32mif\u001b[0m \u001b[1;32mnot\u001b[0m \u001b[0mself\u001b[0m\u001b[1;33m.\u001b[0m\u001b[0mis_connected\u001b[0m\u001b[1;33m(\u001b[0m\u001b[1;33m)\u001b[0m\u001b[1;33m:\u001b[0m\u001b[1;33m\u001b[0m\u001b[1;33m\u001b[0m\u001b[0m\n\u001b[1;32m--> 541\u001b[1;33m             \u001b[1;32mraise\u001b[0m \u001b[0merrors\u001b[0m\u001b[1;33m.\u001b[0m\u001b[0mOperationalError\u001b[0m\u001b[1;33m(\u001b[0m\u001b[1;34m\"MySQL Connection not available.\"\u001b[0m\u001b[1;33m)\u001b[0m\u001b[1;33m\u001b[0m\u001b[1;33m\u001b[0m\u001b[0m\n\u001b[0m\u001b[0;32m    542\u001b[0m         \u001b[1;32mif\u001b[0m \u001b[0mcursor_class\u001b[0m \u001b[1;32mis\u001b[0m \u001b[1;32mnot\u001b[0m \u001b[1;32mNone\u001b[0m\u001b[1;33m:\u001b[0m\u001b[1;33m\u001b[0m\u001b[1;33m\u001b[0m\u001b[0m\n\u001b[0;32m    543\u001b[0m             \u001b[1;32mif\u001b[0m \u001b[1;32mnot\u001b[0m \u001b[0missubclass\u001b[0m\u001b[1;33m(\u001b[0m\u001b[0mcursor_class\u001b[0m\u001b[1;33m,\u001b[0m \u001b[0mMySQLCursorAbstract\u001b[0m\u001b[1;33m)\u001b[0m\u001b[1;33m:\u001b[0m\u001b[1;33m\u001b[0m\u001b[1;33m\u001b[0m\u001b[0m\n",
      "\u001b[1;31mOperationalError\u001b[0m: MySQL Connection not available."
     ]
    }
   ],
   "source": []
  },
  {
   "cell_type": "markdown",
   "metadata": {},
   "source": [
    "### Notes"
   ]
  },
  {
   "cell_type": "code",
   "execution_count": null,
   "metadata": {},
   "outputs": [],
   "source": [
    "# Use below three tables to do earnings / ROI by genre by season"
   ]
  },
  {
   "cell_type": "code",
   "execution_count": null,
   "metadata": {},
   "outputs": [],
   "source": [
    "SELECT COUNT(*) \n",
    "FROM movies.imdb_title_basics\n",
    "WHERE start_year > 2010\n",
    "#total 146144 rows --> starts 2010 only "
   ]
  },
  {
   "cell_type": "code",
   "execution_count": null,
   "metadata": {},
   "outputs": [],
   "source": [
    "SELECT COUNT(*)\n",
    "FROM movies.bom_movie_gross\n",
    "# total 3387 rows --> total database only has 3387 rows and starts at 2010"
   ]
  },
  {
   "cell_type": "code",
   "execution_count": null,
   "metadata": {},
   "outputs": [],
   "source": [
    "# tn movie budgets; bom movie gross; tmbd movies with unique titles "
   ]
  },
  {
   "cell_type": "code",
   "execution_count": null,
   "metadata": {},
   "outputs": [],
   "source": [
    "SELECT \n",
    "\tCOUNT(*),\n",
    "    RIGHT(release_date, 4)\n",
    "FROM movies.tn_movie_budgets\n",
    "GROUP BY RIGHT(release_date, 4) ASC\n",
    "#5782 rows total --> 1996 first year with over 100 movies \n",
    "\n",
    "SELECT \n",
    "\tCOUNT(*)\n",
    "FROM movies.tn_movie_budgets\n",
    "WHERE RIGHT(release_date, 4) > 1995\n",
    "#4925\n",
    "#2194 for 2010 and after"
   ]
  },
  {
   "cell_type": "code",
   "execution_count": 1,
   "metadata": {},
   "outputs": [],
   "source": [
    "#GENERAL Analysis (JOIN ON Movie name)\n",
    "#earnings / ROI by genre (tn_movie_budgets + imdb_title_basics JOIN on movie title) POST 2010 (only 2194 movies)\n",
    "#earnings / ROI by season (use only tn_movie_budgets) POST 2010 (only 2194 movies)\n",
    "#ratings vs. box office success correlatoin (movie_budgets and title_basics)\n",
    "#IMDB analysis (JOIN ON nmstat and tstat)\n",
    "#imdb genre vs. rating (use title_basics, title_ratings JOIN on tconst) POST 2010 (limit is ratings)\n",
    "#imdb actors, directors and producers with highest ratings (use title_principals, title_ratings and \n",
    "#name_basics, JOIN on tconst and nmconst) POST 2010 (limit is ratings)\n",
    "#RT Analysis (JOIN ON ID)\n",
    "#overview of top critics, most frequent critics and what genres they like / how harsh they are (rt_reviews)\n",
    "#rt ratings vs. box office reviews vs. top critics (1500 instances approx) limited by box office numbers in movie_info"
   ]
  },
  {
   "cell_type": "code",
   "execution_count": null,
   "metadata": {},
   "outputs": [],
   "source": [
    "# LIST of databases\n",
    "## DONT USE movies.bom_movie_gross for anything \n",
    "## DONT USE movies.imdb_name basics\n",
    "## DONT USE imdb title akas\n",
    "## DONT USE imdb title crew\n",
    "## ONLY database with too many rows is imdb principles w/ over 1m "
   ]
  },
  {
   "cell_type": "code",
   "execution_count": null,
   "metadata": {},
   "outputs": [],
   "source": [
    "# TO DO\n",
    "## Split genre into Primary, Secondary, Tertiary (for both ImDB and RT)"
   ]
  }
 ],
 "metadata": {
  "kernelspec": {
   "display_name": "Python 3",
   "language": "python",
   "name": "python3"
  },
  "language_info": {
   "codemirror_mode": {
    "name": "ipython",
    "version": 3
   },
   "file_extension": ".py",
   "mimetype": "text/x-python",
   "name": "python",
   "nbconvert_exporter": "python",
   "pygments_lexer": "ipython3",
   "version": "3.7.6"
  }
 },
 "nbformat": 4,
 "nbformat_minor": 4
}
