{
 "cells": [
  {
   "cell_type": "markdown",
   "metadata": {},
   "source": [
    "### Import python libraries"
   ]
  },
  {
   "cell_type": "code",
   "execution_count": 2,
   "metadata": {},
   "outputs": [
    {
     "name": "stdout",
     "output_type": "stream",
     "text": [
      "Requirement already satisfied: mysql-connector-python in c:\\users\\cxu19\\anaconda\\lib\\site-packages (8.0.20)\n",
      "Requirement already satisfied: protobuf>=3.0.0 in c:\\users\\cxu19\\anaconda\\lib\\site-packages (from mysql-connector-python) (3.12.2)\n",
      "Requirement already satisfied: setuptools in c:\\users\\cxu19\\anaconda\\lib\\site-packages (from protobuf>=3.0.0->mysql-connector-python) (45.2.0.post20200210)\n",
      "Requirement already satisfied: six>=1.9 in c:\\users\\cxu19\\anaconda\\lib\\site-packages (from protobuf>=3.0.0->mysql-connector-python) (1.14.0)\n"
     ]
    }
   ],
   "source": [
    "!pip install mysql-connector-python"
   ]
  },
  {
   "cell_type": "code",
   "execution_count": 153,
   "metadata": {},
   "outputs": [],
   "source": [
    "import pandas as pd\n",
    "import matplotlib.pyplot as plt\n",
    "import seaborn as sns"
   ]
  },
  {
   "cell_type": "code",
   "execution_count": 8,
   "metadata": {},
   "outputs": [],
   "source": [
    "import mysql.connector\n",
    "\n",
    "con = mysql.connector.connect(user='hbs-student', password='super-secure-password?',\n",
    "                              host='hbs-ds-060120.c1doesqrid0e.us-east-1.rds.amazonaws.com',\n",
    "                              database='movies')"
   ]
  },
  {
   "cell_type": "markdown",
   "metadata": {},
   "source": [
    "### Load SQL queries"
   ]
  },
  {
   "cell_type": "code",
   "execution_count": 9,
   "metadata": {},
   "outputs": [],
   "source": [
    "imdb_title_crew_df = pd.read_sql_query(\"\"\"\n",
    "SELECT * \n",
    "FROM movies.imdb_title_crew;\n",
    "\"\"\",con)"
   ]
  },
  {
   "cell_type": "code",
   "execution_count": 10,
   "metadata": {},
   "outputs": [],
   "source": [
    "imdb_title = pd.read_sql_query(\"\"\"\n",
    "SELECT * \n",
    "FROM movies.imdb_title_basics;\n",
    "\"\"\",con)"
   ]
  },
  {
   "cell_type": "code",
   "execution_count": 11,
   "metadata": {},
   "outputs": [],
   "source": [
    "imdb_people = pd.read_sql_query(\"\"\"\n",
    "SELECT * \n",
    "FROM movies.imdb_name_basics;\n",
    "\"\"\",con)"
   ]
  },
  {
   "cell_type": "code",
   "execution_count": 12,
   "metadata": {},
   "outputs": [],
   "source": [
    "imdb_ratings = pd.read_sql_query(\"\"\"\n",
    "SELECT \n",
    "\ttconst,\n",
    "    averagerating,\n",
    "    numvotes\n",
    "FROM movies.imdb_title_ratings\n",
    "\"\"\",con)"
   ]
  },
  {
   "cell_type": "markdown",
   "metadata": {},
   "source": [
    "## Analysis"
   ]
  },
  {
   "cell_type": "markdown",
   "metadata": {},
   "source": [
    "First of all, we combine SQL tables and manipulate the data so that we have all relevant information in seperate columns of one table. Relevant information includes movie title, movie rating, director names."
   ]
  },
  {
   "cell_type": "code",
   "execution_count": 13,
   "metadata": {},
   "outputs": [],
   "source": [
    "# One column per each director identifier\n",
    "imdb_test = imdb_title_crew_df['directors'].str.split(pat=',',expand=True)"
   ]
  },
  {
   "cell_type": "code",
   "execution_count": 14,
   "metadata": {},
   "outputs": [
    {
     "data": {
      "text/plain": [
       "130417"
      ]
     },
     "execution_count": 14,
     "metadata": {},
     "output_type": "execute_result"
    }
   ],
   "source": [
    "imdb_test.iloc[ : ,1].isna().sum() \n",
    "# Out of 146144 movies, 130417 have only 1 director "
   ]
  },
  {
   "cell_type": "code",
   "execution_count": 15,
   "metadata": {},
   "outputs": [],
   "source": [
    "# Add movie identifier to table\n",
    "imdb_test['tconst'] = imdb_title_crew_df['tconst']"
   ]
  },
  {
   "cell_type": "code",
   "execution_count": 16,
   "metadata": {},
   "outputs": [],
   "source": [
    "# Drop irrelevant columns\n",
    "imdb_test = imdb_test.drop(imdb_test.iloc[:,3:26], axis = 1)"
   ]
  },
  {
   "cell_type": "code",
   "execution_count": 17,
   "metadata": {},
   "outputs": [],
   "source": [
    "# Rename table columns\n",
    "imdb_title_crew_df['dir1'] = imdb_test[0]\n",
    "imdb_title_crew_df['dir2'] = imdb_test[1]\n",
    "imdb_title_crew_df['dir3'] = imdb_test[2]"
   ]
  },
  {
   "cell_type": "code",
   "execution_count": 18,
   "metadata": {},
   "outputs": [],
   "source": [
    "# Rename table to something shorter\n",
    "imdb_crew = imdb_title_crew_df"
   ]
  },
  {
   "cell_type": "code",
   "execution_count": 19,
   "metadata": {},
   "outputs": [],
   "source": [
    "# One column per each writer identifier\n",
    "writers = imdb_title_crew_df['writers'].str.split(pat=',',expand=True)"
   ]
  },
  {
   "cell_type": "code",
   "execution_count": 20,
   "metadata": {},
   "outputs": [
    {
     "data": {
      "text/plain": [
       "140714"
      ]
     },
     "execution_count": 20,
     "metadata": {},
     "output_type": "execute_result"
    }
   ],
   "source": [
    "writers.iloc[:,3].isna().sum() \n",
    "# Out of 146144 movies, 140714 have only max 3 writers "
   ]
  },
  {
   "cell_type": "code",
   "execution_count": 21,
   "metadata": {},
   "outputs": [],
   "source": [
    "# Rename table columns\n",
    "imdb_crew['wri1'] = writers[0]\n",
    "imdb_crew['wri2'] = writers[1]\n",
    "imdb_crew['wri3'] = writers[2]"
   ]
  },
  {
   "cell_type": "code",
   "execution_count": 22,
   "metadata": {},
   "outputs": [],
   "source": [
    "# Add director and writer names to the table\n",
    "imdb = imdb_title.set_index('tconst').join(imdb_crew.set_index('tconst'))"
   ]
  },
  {
   "cell_type": "code",
   "execution_count": 23,
   "metadata": {},
   "outputs": [],
   "source": [
    "nconst_to_names = imdb_people.loc[:, ['nconst','primary_name']]"
   ]
  },
  {
   "cell_type": "code",
   "execution_count": 24,
   "metadata": {},
   "outputs": [],
   "source": [
    "imdb = imdb.join(nconst_to_names.set_index('nconst'),\n",
    "          on='dir1',\n",
    "          rsuffix='_names')"
   ]
  },
  {
   "cell_type": "code",
   "execution_count": 25,
   "metadata": {},
   "outputs": [],
   "source": [
    "imdb = imdb.rename(columns={'primary_name':'dir1_name'})"
   ]
  },
  {
   "cell_type": "code",
   "execution_count": 26,
   "metadata": {},
   "outputs": [],
   "source": [
    "imdb = imdb.join(nconst_to_names.set_index('nconst'),\n",
    "          on='dir2',\n",
    "          rsuffix='_names')"
   ]
  },
  {
   "cell_type": "code",
   "execution_count": 27,
   "metadata": {},
   "outputs": [],
   "source": [
    "imdb = imdb.rename(columns={'primary_name':'dir2_name'})"
   ]
  },
  {
   "cell_type": "code",
   "execution_count": 28,
   "metadata": {},
   "outputs": [],
   "source": [
    "imdb = imdb.join(nconst_to_names.set_index('nconst'),\n",
    "          on='dir3',\n",
    "          rsuffix='_names')"
   ]
  },
  {
   "cell_type": "code",
   "execution_count": 29,
   "metadata": {},
   "outputs": [],
   "source": [
    "imdb = imdb.rename(columns={'primary_name':'dir3_name'})"
   ]
  },
  {
   "cell_type": "code",
   "execution_count": 30,
   "metadata": {},
   "outputs": [],
   "source": [
    "imdb = imdb.join(nconst_to_names.set_index('nconst'),\n",
    "          on='wri1',\n",
    "          rsuffix='_names')"
   ]
  },
  {
   "cell_type": "code",
   "execution_count": 31,
   "metadata": {},
   "outputs": [],
   "source": [
    "imdb = imdb.rename(columns={'primary_name':'wri1_name'})"
   ]
  },
  {
   "cell_type": "code",
   "execution_count": 32,
   "metadata": {},
   "outputs": [],
   "source": [
    "imdb = imdb.join(nconst_to_names.set_index('nconst'),\n",
    "          on='wri2',\n",
    "          rsuffix='_names')"
   ]
  },
  {
   "cell_type": "code",
   "execution_count": 33,
   "metadata": {},
   "outputs": [],
   "source": [
    "imdb = imdb.rename(columns={'primary_name':'wri2_name'})"
   ]
  },
  {
   "cell_type": "code",
   "execution_count": 34,
   "metadata": {},
   "outputs": [],
   "source": [
    "imdb = imdb.join(nconst_to_names.set_index('nconst'),\n",
    "          on='wri3',\n",
    "          rsuffix='_names')"
   ]
  },
  {
   "cell_type": "code",
   "execution_count": 35,
   "metadata": {},
   "outputs": [],
   "source": [
    "imdb = imdb.rename(columns={'primary_name':'wri3_name'})"
   ]
  },
  {
   "cell_type": "code",
   "execution_count": 36,
   "metadata": {},
   "outputs": [],
   "source": [
    "imdb = imdb.reset_index()"
   ]
  },
  {
   "cell_type": "code",
   "execution_count": 37,
   "metadata": {},
   "outputs": [],
   "source": [
    "# Add ratings to the table\n",
    "imdb = imdb.join(imdb_ratings.set_index('tconst'),\n",
    "          on='tconst',\n",
    "          rsuffix='_ratings')"
   ]
  },
  {
   "cell_type": "code",
   "execution_count": 38,
   "metadata": {},
   "outputs": [],
   "source": [
    "# One genre per column \n",
    "imdb[['genre1','genre2','genre3']] = imdb['genres'].str.split(pat=',',expand=True)"
   ]
  },
  {
   "cell_type": "code",
   "execution_count": 39,
   "metadata": {},
   "outputs": [
    {
     "data": {
      "text/plain": [
       "116708"
      ]
     },
     "execution_count": 39,
     "metadata": {},
     "output_type": "execute_result"
    }
   ],
   "source": [
    "imdb['genre3'].isna().sum()"
   ]
  },
  {
   "cell_type": "code",
   "execution_count": 40,
   "metadata": {},
   "outputs": [
    {
     "data": {
      "text/html": [
       "<div>\n",
       "<style scoped>\n",
       "    .dataframe tbody tr th:only-of-type {\n",
       "        vertical-align: middle;\n",
       "    }\n",
       "\n",
       "    .dataframe tbody tr th {\n",
       "        vertical-align: top;\n",
       "    }\n",
       "\n",
       "    .dataframe thead th {\n",
       "        text-align: right;\n",
       "    }\n",
       "</style>\n",
       "<table border=\"1\" class=\"dataframe\">\n",
       "  <thead>\n",
       "    <tr style=\"text-align: right;\">\n",
       "      <th></th>\n",
       "      <th>tconst</th>\n",
       "      <th>primary_title</th>\n",
       "      <th>original_title</th>\n",
       "      <th>start_year</th>\n",
       "      <th>runtime_minutes</th>\n",
       "      <th>genres</th>\n",
       "      <th>directors</th>\n",
       "      <th>writers</th>\n",
       "      <th>dir1</th>\n",
       "      <th>dir2</th>\n",
       "      <th>...</th>\n",
       "      <th>dir2_name</th>\n",
       "      <th>dir3_name</th>\n",
       "      <th>wri1_name</th>\n",
       "      <th>wri2_name</th>\n",
       "      <th>wri3_name</th>\n",
       "      <th>averagerating</th>\n",
       "      <th>numvotes</th>\n",
       "      <th>genre1</th>\n",
       "      <th>genre2</th>\n",
       "      <th>genre3</th>\n",
       "    </tr>\n",
       "  </thead>\n",
       "  <tbody>\n",
       "    <tr>\n",
       "      <th>0</th>\n",
       "      <td>tt0063540</td>\n",
       "      <td>Sunghursh</td>\n",
       "      <td>Sunghursh</td>\n",
       "      <td>2013</td>\n",
       "      <td>175.0</td>\n",
       "      <td>Action,Crime,Drama</td>\n",
       "      <td>nm0712540</td>\n",
       "      <td>nm0023551,nm1194313,nm0347899,nm1391276</td>\n",
       "      <td>nm0712540</td>\n",
       "      <td>None</td>\n",
       "      <td>...</td>\n",
       "      <td>NaN</td>\n",
       "      <td>NaN</td>\n",
       "      <td>Abrar Alvi</td>\n",
       "      <td>Mahasweta Devi</td>\n",
       "      <td>Gulzar</td>\n",
       "      <td>7.0</td>\n",
       "      <td>77.0</td>\n",
       "      <td>Action</td>\n",
       "      <td>Crime</td>\n",
       "      <td>Drama</td>\n",
       "    </tr>\n",
       "    <tr>\n",
       "      <th>1</th>\n",
       "      <td>tt0066787</td>\n",
       "      <td>One Day Before the Rainy Season</td>\n",
       "      <td>Ashad Ka Ek Din</td>\n",
       "      <td>2019</td>\n",
       "      <td>114.0</td>\n",
       "      <td>Biography,Drama</td>\n",
       "      <td>nm0002411</td>\n",
       "      <td>None</td>\n",
       "      <td>nm0002411</td>\n",
       "      <td>None</td>\n",
       "      <td>...</td>\n",
       "      <td>NaN</td>\n",
       "      <td>NaN</td>\n",
       "      <td>NaN</td>\n",
       "      <td>NaN</td>\n",
       "      <td>NaN</td>\n",
       "      <td>7.2</td>\n",
       "      <td>43.0</td>\n",
       "      <td>Biography</td>\n",
       "      <td>Drama</td>\n",
       "      <td>None</td>\n",
       "    </tr>\n",
       "    <tr>\n",
       "      <th>2</th>\n",
       "      <td>tt0069049</td>\n",
       "      <td>The Other Side of the Wind</td>\n",
       "      <td>The Other Side of the Wind</td>\n",
       "      <td>2018</td>\n",
       "      <td>122.0</td>\n",
       "      <td>Drama</td>\n",
       "      <td>nm0000080</td>\n",
       "      <td>nm0000080,nm0462648</td>\n",
       "      <td>nm0000080</td>\n",
       "      <td>None</td>\n",
       "      <td>...</td>\n",
       "      <td>NaN</td>\n",
       "      <td>NaN</td>\n",
       "      <td>Orson Welles</td>\n",
       "      <td>Oja Kodar</td>\n",
       "      <td>NaN</td>\n",
       "      <td>6.9</td>\n",
       "      <td>4517.0</td>\n",
       "      <td>Drama</td>\n",
       "      <td>None</td>\n",
       "      <td>None</td>\n",
       "    </tr>\n",
       "    <tr>\n",
       "      <th>3</th>\n",
       "      <td>tt0069204</td>\n",
       "      <td>Sabse Bada Sukh</td>\n",
       "      <td>Sabse Bada Sukh</td>\n",
       "      <td>2018</td>\n",
       "      <td>NaN</td>\n",
       "      <td>Comedy,Drama</td>\n",
       "      <td>nm0611531</td>\n",
       "      <td>nm0347899</td>\n",
       "      <td>nm0611531</td>\n",
       "      <td>None</td>\n",
       "      <td>...</td>\n",
       "      <td>NaN</td>\n",
       "      <td>NaN</td>\n",
       "      <td>Gulzar</td>\n",
       "      <td>NaN</td>\n",
       "      <td>NaN</td>\n",
       "      <td>6.1</td>\n",
       "      <td>13.0</td>\n",
       "      <td>Comedy</td>\n",
       "      <td>Drama</td>\n",
       "      <td>None</td>\n",
       "    </tr>\n",
       "    <tr>\n",
       "      <th>4</th>\n",
       "      <td>tt0100275</td>\n",
       "      <td>The Wandering Soap Opera</td>\n",
       "      <td>La Telenovela Errante</td>\n",
       "      <td>2017</td>\n",
       "      <td>80.0</td>\n",
       "      <td>Comedy,Drama,Fantasy</td>\n",
       "      <td>nm0765384,nm0749914</td>\n",
       "      <td>nm1360635,nm0749914</td>\n",
       "      <td>nm0765384</td>\n",
       "      <td>nm0749914</td>\n",
       "      <td>...</td>\n",
       "      <td>Raoul Ruiz</td>\n",
       "      <td>NaN</td>\n",
       "      <td>Pía Rey</td>\n",
       "      <td>Raoul Ruiz</td>\n",
       "      <td>NaN</td>\n",
       "      <td>6.5</td>\n",
       "      <td>119.0</td>\n",
       "      <td>Comedy</td>\n",
       "      <td>Drama</td>\n",
       "      <td>Fantasy</td>\n",
       "    </tr>\n",
       "  </tbody>\n",
       "</table>\n",
       "<p>5 rows × 25 columns</p>\n",
       "</div>"
      ],
      "text/plain": [
       "      tconst                    primary_title              original_title  \\\n",
       "0  tt0063540                        Sunghursh                   Sunghursh   \n",
       "1  tt0066787  One Day Before the Rainy Season             Ashad Ka Ek Din   \n",
       "2  tt0069049       The Other Side of the Wind  The Other Side of the Wind   \n",
       "3  tt0069204                  Sabse Bada Sukh             Sabse Bada Sukh   \n",
       "4  tt0100275         The Wandering Soap Opera       La Telenovela Errante   \n",
       "\n",
       "   start_year  runtime_minutes                genres            directors  \\\n",
       "0        2013            175.0    Action,Crime,Drama            nm0712540   \n",
       "1        2019            114.0       Biography,Drama            nm0002411   \n",
       "2        2018            122.0                 Drama            nm0000080   \n",
       "3        2018              NaN          Comedy,Drama            nm0611531   \n",
       "4        2017             80.0  Comedy,Drama,Fantasy  nm0765384,nm0749914   \n",
       "\n",
       "                                   writers       dir1       dir2  ...  \\\n",
       "0  nm0023551,nm1194313,nm0347899,nm1391276  nm0712540       None  ...   \n",
       "1                                     None  nm0002411       None  ...   \n",
       "2                      nm0000080,nm0462648  nm0000080       None  ...   \n",
       "3                                nm0347899  nm0611531       None  ...   \n",
       "4                      nm1360635,nm0749914  nm0765384  nm0749914  ...   \n",
       "\n",
       "    dir2_name dir3_name     wri1_name       wri2_name wri3_name averagerating  \\\n",
       "0         NaN       NaN    Abrar Alvi  Mahasweta Devi    Gulzar           7.0   \n",
       "1         NaN       NaN           NaN             NaN       NaN           7.2   \n",
       "2         NaN       NaN  Orson Welles       Oja Kodar       NaN           6.9   \n",
       "3         NaN       NaN        Gulzar             NaN       NaN           6.1   \n",
       "4  Raoul Ruiz       NaN       Pía Rey      Raoul Ruiz       NaN           6.5   \n",
       "\n",
       "  numvotes     genre1 genre2   genre3  \n",
       "0     77.0     Action  Crime    Drama  \n",
       "1     43.0  Biography  Drama     None  \n",
       "2   4517.0      Drama   None     None  \n",
       "3     13.0     Comedy  Drama     None  \n",
       "4    119.0     Comedy  Drama  Fantasy  \n",
       "\n",
       "[5 rows x 25 columns]"
      ]
     },
     "execution_count": 40,
     "metadata": {},
     "output_type": "execute_result"
    }
   ],
   "source": [
    "imdb.head()"
   ]
  },
  {
   "cell_type": "markdown",
   "metadata": {},
   "source": [
    "### Chart 1: Directors with most movies with ratings above 7.5 (median is 6.1 with 1.35 std) since 2010 with at least 100 votes"
   ]
  },
  {
   "cell_type": "code",
   "execution_count": 41,
   "metadata": {},
   "outputs": [],
   "source": [
    "chart1data1 = imdb.sort_values(by='averagerating',ascending = False).loc[(imdb['averagerating'].notna()) & (imdb['numvotes']>100)]"
   ]
  },
  {
   "cell_type": "code",
   "execution_count": 42,
   "metadata": {},
   "outputs": [],
   "source": [
    "chart1data2 = chart1data1.sort_values(by='averagerating',ascending = False).loc[imdb['averagerating'] > 7.5]"
   ]
  },
  {
   "cell_type": "code",
   "execution_count": 43,
   "metadata": {},
   "outputs": [],
   "source": [
    "chart1data3 = chart1data2.groupby('dir1_name').count().sort_values(by='tconst',ascending = False)"
   ]
  },
  {
   "cell_type": "code",
   "execution_count": 44,
   "metadata": {},
   "outputs": [],
   "source": [
    "chart1data4 = chart1data3.loc[chart1data3['tconst'] > 3]['tconst']"
   ]
  },
  {
   "cell_type": "code",
   "execution_count": 45,
   "metadata": {},
   "outputs": [
    {
     "data": {
      "text/plain": [
       "dir1_name\n",
       "Paul Dugdale           6\n",
       "Kaushik Ganguly        5\n",
       "Denis Villeneuve       5\n",
       "Alex Gibney            4\n",
       "Keitarô Motonaga       4\n",
       "Tim Van Someren        4\n",
       "Anurag Singh           4\n",
       "Shunsuke Tada          4\n",
       "Shoojit Sircar         4\n",
       "Christopher Nolan      4\n",
       "Anthony Russo          4\n",
       "Quentin Tarantino      4\n",
       "Ram Gopal Varma        4\n",
       "Aris Chatzistefanou    4\n",
       "Martin Scorsese        4\n",
       "Name: tconst, dtype: int64"
      ]
     },
     "execution_count": 45,
     "metadata": {},
     "output_type": "execute_result"
    }
   ],
   "source": [
    "chart1data4"
   ]
  },
  {
   "cell_type": "code",
   "execution_count": 169,
   "metadata": {
    "scrolled": true
   },
   "outputs": [
    {
     "data": {
      "text/plain": [
       "Text(0.5, 1.0, 'Directors with most movies with 7.5+ ratings')"
      ]
     },
     "execution_count": 169,
     "metadata": {},
     "output_type": "execute_result"
    },
    {
     "data": {
      "image/png": "[encoded data removed]",
      "text/plain": [
       "<Figure size 720x288 with 1 Axes>"
      ]
     },
     "metadata": {
      "needs_background": "light"
     },
     "output_type": "display_data"
    }
   ],
   "source": [
    "fig, chart1 = plt.subplots()\n",
    "fig.set_size_inches(10, 4)\n",
    "chart1index = list(chart1data4.index)\n",
    "chart1values = list(chart1data4)\n",
    "chart1 = sns.barplot(x=chart1values, \n",
    "                     y=chart1index,\n",
    "                     color='darkblue')\n",
    "chart1.set(ylabel='Director Name', xlabel='Number Of Movies')\n",
    "chart1.set_title('Directors with most movies with 7.5+ ratings')"
   ]
  },
  {
   "cell_type": "markdown",
   "metadata": {},
   "source": [
    "### Ratings By Genre"
   ]
  },
  {
   "cell_type": "code",
   "execution_count": 66,
   "metadata": {},
   "outputs": [],
   "source": [
    "rgdata1 = imdb[['genre1','averagerating','start_year','numvotes']].loc[imdb['genre1'].notna()]"
   ]
  },
  {
   "cell_type": "code",
   "execution_count": 67,
   "metadata": {},
   "outputs": [],
   "source": [
    "rgdata1 = rgdata1.rename(columns={'genre1':'genre'})"
   ]
  },
  {
   "cell_type": "code",
   "execution_count": 68,
   "metadata": {},
   "outputs": [],
   "source": [
    "rgdata2 = imdb[['genre2','averagerating','start_year','numvotes']].loc[imdb['genre2'].notna()]"
   ]
  },
  {
   "cell_type": "code",
   "execution_count": 69,
   "metadata": {},
   "outputs": [],
   "source": [
    "rgdata2 = rgdata2.rename(columns={'genre2':'genre'})"
   ]
  },
  {
   "cell_type": "code",
   "execution_count": 83,
   "metadata": {},
   "outputs": [],
   "source": [
    "rgdata3 = imdb[['genre3','averagerating','start_year','numvotes']].loc[imdb['genre3'].notna()]"
   ]
  },
  {
   "cell_type": "code",
   "execution_count": 72,
   "metadata": {},
   "outputs": [],
   "source": [
    "rgdata3 = rgdata3.rename(columns={'genre3':'genre'})"
   ]
  },
  {
   "cell_type": "code",
   "execution_count": 73,
   "metadata": {},
   "outputs": [],
   "source": [
    "rgdata4 = pd.concat([rgdata1, rgdata2, rgdata3])"
   ]
  },
  {
   "cell_type": "code",
   "execution_count": 80,
   "metadata": {},
   "outputs": [],
   "source": [
    "rgdata5 = rgdata4[['genre','averagerating','start_year','numvotes']].loc[rgdata4['averagerating'].notna()]"
   ]
  },
  {
   "cell_type": "code",
   "execution_count": 81,
   "metadata": {},
   "outputs": [],
   "source": [
    "rgdata6 = rgdata5.loc[rgdata5['numvotes']>100]"
   ]
  },
  {
   "cell_type": "markdown",
   "metadata": {},
   "source": [
    "### Chart 2: Genres of Movies With Ratings of 8.0+ "
   ]
  },
  {
   "cell_type": "code",
   "execution_count": 88,
   "metadata": {},
   "outputs": [],
   "source": [
    "#rgdata6 = one row per genre, movies with at least 100 numvotes and no 'averagerating' N/A, since 2010\n",
    "chart2data1 = rgdata6.sort_values('averagerating', ascending=False)"
   ]
  },
  {
   "cell_type": "code",
   "execution_count": 89,
   "metadata": {},
   "outputs": [],
   "source": [
    "chart2data1 = chart2data1.loc[chart2data1['averagerating'] > 8]"
   ]
  },
  {
   "cell_type": "code",
   "execution_count": 90,
   "metadata": {},
   "outputs": [],
   "source": [
    "chart2data1 = chart2data1.groupby('genre').count()['averagerating'].nlargest(10)"
   ]
  },
  {
   "cell_type": "code",
   "execution_count": 156,
   "metadata": {},
   "outputs": [
    {
     "data": {
      "text/plain": [
       "Text(0.5, 1.0, 'Movies With 8.0+ Ratings')"
      ]
     },
     "execution_count": 156,
     "metadata": {},
     "output_type": "execute_result"
    },
    {
     "data": {
      "image/png": "[encoded data removed]",
      "text/plain": [
       "<Figure size 792x576 with 1 Axes>"
      ]
     },
     "metadata": {
      "needs_background": "light"
     },
     "output_type": "display_data"
    }
   ],
   "source": [
    "fig, chart2 = plt.subplots()\n",
    "fig.set_size_inches(11, 8)\n",
    "chart2ylabel = list(chart2data1.index)\n",
    "chart2values = list(chart2data1)\n",
    "chart2 = sns.barplot(x=chart2values, \n",
    "                     y=chart2ylabel,\n",
    "                     color='darkblue')\n",
    "chart2.set(ylabel='Genre', xlabel='Number Of Movies')\n",
    "chart2.set_title('Movies With 8.0+ Ratings')"
   ]
  },
  {
   "cell_type": "markdown",
   "metadata": {},
   "source": [
    "### Chart 3: Movie Rating Mean, Median, Volatility"
   ]
  },
  {
   "cell_type": "code",
   "execution_count": 92,
   "metadata": {},
   "outputs": [],
   "source": [
    "#rgdata6 = one row per genre, movies with at least 100 numvotes and no 'averagerating' N/A, since 2010"
   ]
  },
  {
   "cell_type": "code",
   "execution_count": 93,
   "metadata": {},
   "outputs": [],
   "source": [
    "chart3data1 = rgdata6.groupby('genre').describe()"
   ]
  },
  {
   "cell_type": "code",
   "execution_count": 94,
   "metadata": {},
   "outputs": [],
   "source": [
    "chart3data1.drop(chart3data1.columns[8:],axis=1,inplace=True)"
   ]
  },
  {
   "cell_type": "code",
   "execution_count": 95,
   "metadata": {},
   "outputs": [],
   "source": [
    "chart3data2 = chart3data1.loc[chart3data1['averagerating', 'count'] > 250]"
   ]
  },
  {
   "cell_type": "code",
   "execution_count": 97,
   "metadata": {},
   "outputs": [],
   "source": [
    "chart3data2 = chart3data2.sort_values(by=('averagerating', '50%'),ascending=False)"
   ]
  },
  {
   "cell_type": "code",
   "execution_count": 98,
   "metadata": {},
   "outputs": [
    {
     "data": {
      "text/plain": [
       "Index(['Documentary', 'Biography', 'Music', 'Sport', 'History', 'War',\n",
       "       'Animation', 'Drama', 'Crime', 'Family'],\n",
       "      dtype='object', name='genre')"
      ]
     },
     "execution_count": 98,
     "metadata": {},
     "output_type": "execute_result"
    }
   ],
   "source": [
    "chart3data2.head(10).index"
   ]
  },
  {
   "cell_type": "code",
   "execution_count": 99,
   "metadata": {},
   "outputs": [],
   "source": [
    "# Manually select the top 10 Median genres\n",
    "Top10Median = list(chart3data2.head(10).index)"
   ]
  },
  {
   "cell_type": "code",
   "execution_count": 105,
   "metadata": {},
   "outputs": [],
   "source": [
    "chart3data3 = rgdata6.loc[chart2data6['genre'].isin(Top10Median)]"
   ]
  },
  {
   "cell_type": "code",
   "execution_count": 106,
   "metadata": {},
   "outputs": [],
   "source": [
    "chart3data4 = chart3data3[['genre','averagerating']]"
   ]
  },
  {
   "cell_type": "code",
   "execution_count": 147,
   "metadata": {},
   "outputs": [],
   "source": [
    "char3data4index = chart3data4.groupby('genre').median().sort_values(by='averagerating',ascending=False).index"
   ]
  },
  {
   "cell_type": "code",
   "execution_count": 155,
   "metadata": {},
   "outputs": [
    {
     "data": {
      "text/plain": [
       "Text(0.5, 1.0, 'Ratings by Genre')"
      ]
     },
     "execution_count": 155,
     "metadata": {},
     "output_type": "execute_result"
    },
    {
     "data": {
      "image/png": "[encoded data removed]",
      "text/plain": [
       "<Figure size 792x576 with 1 Axes>"
      ]
     },
     "metadata": {
      "needs_background": "light"
     },
     "output_type": "display_data"
    }
   ],
   "source": [
    "fig, chart3 = plt.subplots()\n",
    "fig.set_size_inches(11, 8)\n",
    "chart3 = sns.violinplot(x=\"averagerating\", \n",
    "                    y=\"genre\", \n",
    "                    data=chart3data4,\n",
    "                    order=char3data4index)\n",
    "chart3.set(ylabel='Genre', xlabel='Average Rating')\n",
    "chart3.set_title('Ratings by Genre')"
   ]
  }
 ],
 "metadata": {
  "kernelspec": {
   "display_name": "Python 3",
   "language": "python",
   "name": "python3"
  },
  "language_info": {
   "codemirror_mode": {
    "name": "ipython",
    "version": 3
   },
   "file_extension": ".py",
   "mimetype": "text/x-python",
   "name": "python",
   "nbconvert_exporter": "python",
   "pygments_lexer": "ipython3",
   "version": "3.7.6"
  }
 },
 "nbformat": 4,
 "nbformat_minor": 4
}
