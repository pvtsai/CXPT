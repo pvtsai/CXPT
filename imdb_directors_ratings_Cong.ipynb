{
 "cells": [
  {
   "cell_type": "markdown",
   "metadata": {},
   "source": [
    "### Import python libraries"
   ]
  },
  {
   "cell_type": "code",
   "execution_count": 1,
   "metadata": {},
   "outputs": [
    {
     "name": "stdout",
     "output_type": "stream",
     "text": [
      "Requirement already satisfied: mysql-connector-python in c:\\users\\cxu19\\anaconda\\lib\\site-packages (8.0.20)\n",
      "Requirement already satisfied: protobuf>=3.0.0 in c:\\users\\cxu19\\anaconda\\lib\\site-packages (from mysql-connector-python) (3.12.2)\n",
      "Requirement already satisfied: six>=1.9 in c:\\users\\cxu19\\anaconda\\lib\\site-packages (from protobuf>=3.0.0->mysql-connector-python) (1.14.0)\n",
      "Requirement already satisfied: setuptools in c:\\users\\cxu19\\anaconda\\lib\\site-packages (from protobuf>=3.0.0->mysql-connector-python) (45.2.0.post20200210)\n"
     ]
    }
   ],
   "source": [
    "!pip install mysql-connector-python"
   ]
  },
  {
   "cell_type": "code",
   "execution_count": 2,
   "metadata": {},
   "outputs": [],
   "source": [
    "import pandas as pd\n",
    "import matplotlib.pyplot as plyt\n",
    "import seaborn as sns"
   ]
  },
  {
   "cell_type": "code",
   "execution_count": 8,
   "metadata": {},
   "outputs": [],
   "source": [
    "import mysql.connector\n",
    "\n",
    "con = mysql.connector.connect(user='hbs-student', password='super-secure-password?',\n",
    "                              host='hbs-ds-060120.c1doesqrid0e.us-east-1.rds.amazonaws.com',\n",
    "                              database='movies')"
   ]
  },
  {
   "cell_type": "markdown",
   "metadata": {},
   "source": [
    "### Load SQL queries"
   ]
  },
  {
   "cell_type": "code",
   "execution_count": 9,
   "metadata": {},
   "outputs": [],
   "source": [
    "imdb_title_crew_df = pd.read_sql_query(\"\"\"\n",
    "SELECT * \n",
    "FROM movies.imdb_title_crew;\n",
    "\"\"\",con)"
   ]
  },
  {
   "cell_type": "code",
   "execution_count": 10,
   "metadata": {},
   "outputs": [],
   "source": [
    "imdb_title = pd.read_sql_query(\"\"\"\n",
    "SELECT * \n",
    "FROM movies.imdb_title_basics;\n",
    "\"\"\",con)"
   ]
  },
  {
   "cell_type": "code",
   "execution_count": 11,
   "metadata": {},
   "outputs": [],
   "source": [
    "imdb_people = pd.read_sql_query(\"\"\"\n",
    "SELECT * \n",
    "FROM movies.imdb_name_basics;\n",
    "\"\"\",con)"
   ]
  },
  {
   "cell_type": "code",
   "execution_count": 12,
   "metadata": {},
   "outputs": [],
   "source": [
    "imdb_ratings = pd.read_sql_query(\"\"\"\n",
    "SELECT \n",
    "\ttconst,\n",
    "    averagerating,\n",
    "    numvotes\n",
    "FROM movies.imdb_title_ratings\n",
    "\"\"\",con)"
   ]
  },
  {
   "cell_type": "markdown",
   "metadata": {},
   "source": [
    "## Analysis"
   ]
  },
  {
   "cell_type": "markdown",
   "metadata": {},
   "source": [
    "First of all, we combine SQL tables and manipulate the data so that we have all relevant information in seperate columns of one table. Relevant information includes movie title, movie rating, director names."
   ]
  },
  {
   "cell_type": "code",
   "execution_count": 20,
   "metadata": {},
   "outputs": [],
   "source": [
    "# One column per each director identifier\n",
    "imdb_test = imdb_title_crew_df['directors'].str.split(pat=',',expand=True)"
   ]
  },
  {
   "cell_type": "code",
   "execution_count": 21,
   "metadata": {},
   "outputs": [
    {
     "data": {
      "text/plain": [
       "130417"
      ]
     },
     "execution_count": 21,
     "metadata": {},
     "output_type": "execute_result"
    }
   ],
   "source": [
    "imdb_test.iloc[ : ,1].isna().sum() \n",
    "# Out of 146144 movies, 130417 have only 1 director "
   ]
  },
  {
   "cell_type": "code",
   "execution_count": 23,
   "metadata": {},
   "outputs": [],
   "source": [
    "# Add movie identifier to table\n",
    "imdb_test['tconst'] = imdb_title_crew_df['tconst']"
   ]
  },
  {
   "cell_type": "code",
   "execution_count": 24,
   "metadata": {},
   "outputs": [],
   "source": [
    "# Drop irrelevant columns\n",
    "imdb_test = imdb_test.drop(imdb_test.iloc[:,3:26], axis = 1)"
   ]
  },
  {
   "cell_type": "code",
   "execution_count": 25,
   "metadata": {},
   "outputs": [],
   "source": [
    "# Rename table columns\n",
    "imdb_title_crew_df['dir1'] = imdb_test[0]\n",
    "imdb_title_crew_df['dir2'] = imdb_test[1]\n",
    "imdb_title_crew_df['dir3'] = imdb_test[2]"
   ]
  },
  {
   "cell_type": "code",
   "execution_count": 33,
   "metadata": {},
   "outputs": [],
   "source": [
    "# Rename table to something shorter\n",
    "imdb_crew = imdb_title_crew_df"
   ]
  },
  {
   "cell_type": "code",
   "execution_count": 34,
   "metadata": {},
   "outputs": [],
   "source": [
    "# One column per each writer identifier\n",
    "writers = imdb_title_crew_df['writers'].str.split(pat=',',expand=True)"
   ]
  },
  {
   "cell_type": "code",
   "execution_count": 35,
   "metadata": {},
   "outputs": [
    {
     "data": {
      "text/plain": [
       "140714"
      ]
     },
     "execution_count": 35,
     "metadata": {},
     "output_type": "execute_result"
    }
   ],
   "source": [
    "writers.iloc[:,3].isna().sum() \n",
    "# Out of 146144 movies, 140714 have only max 3 writers "
   ]
  },
  {
   "cell_type": "code",
   "execution_count": 36,
   "metadata": {},
   "outputs": [],
   "source": [
    "# Rename table columns\n",
    "imdb_crew['wri1'] = writers[0]\n",
    "imdb_crew['wri2'] = writers[1]\n",
    "imdb_crew['wri3'] = writers[2]"
   ]
  },
  {
   "cell_type": "code",
   "execution_count": 38,
   "metadata": {},
   "outputs": [],
   "source": [
    "# Add director and writer names to the table\n",
    "imdb = imdb_title.set_index('tconst').join(imdb_crew.set_index('tconst'))"
   ]
  },
  {
   "cell_type": "code",
   "execution_count": 40,
   "metadata": {},
   "outputs": [],
   "source": [
    "nconst_to_names = imdb_people.loc[:, ['nconst','primary_name']]"
   ]
  },
  {
   "cell_type": "code",
   "execution_count": 41,
   "metadata": {},
   "outputs": [],
   "source": [
    "imdb = imdb.join(nconst_to_names.set_index('nconst'),\n",
    "          on='dir1',\n",
    "          rsuffix='_names')"
   ]
  },
  {
   "cell_type": "code",
   "execution_count": 42,
   "metadata": {},
   "outputs": [],
   "source": [
    "imdb = imdb.rename(columns={'primary_name':'dir1_name'})"
   ]
  },
  {
   "cell_type": "code",
   "execution_count": 43,
   "metadata": {},
   "outputs": [],
   "source": [
    "imdb = imdb.join(nconst_to_names.set_index('nconst'),\n",
    "          on='dir2',\n",
    "          rsuffix='_names')"
   ]
  },
  {
   "cell_type": "code",
   "execution_count": 44,
   "metadata": {},
   "outputs": [],
   "source": [
    "imdb = imdb.rename(columns={'primary_name':'dir2_name'})"
   ]
  },
  {
   "cell_type": "code",
   "execution_count": 45,
   "metadata": {},
   "outputs": [],
   "source": [
    "imdb = imdb.join(nconst_to_names.set_index('nconst'),\n",
    "          on='dir3',\n",
    "          rsuffix='_names')"
   ]
  },
  {
   "cell_type": "code",
   "execution_count": 46,
   "metadata": {},
   "outputs": [],
   "source": [
    "imdb = imdb.rename(columns={'primary_name':'dir3_name'})"
   ]
  },
  {
   "cell_type": "code",
   "execution_count": 47,
   "metadata": {},
   "outputs": [],
   "source": [
    "imdb = imdb.join(nconst_to_names.set_index('nconst'),\n",
    "          on='wri1',\n",
    "          rsuffix='_names')"
   ]
  },
  {
   "cell_type": "code",
   "execution_count": 48,
   "metadata": {},
   "outputs": [],
   "source": [
    "imdb = imdb.rename(columns={'primary_name':'wri1_name'})"
   ]
  },
  {
   "cell_type": "code",
   "execution_count": 49,
   "metadata": {},
   "outputs": [],
   "source": [
    "imdb = imdb.join(nconst_to_names.set_index('nconst'),\n",
    "          on='wri2',\n",
    "          rsuffix='_names')"
   ]
  },
  {
   "cell_type": "code",
   "execution_count": 50,
   "metadata": {},
   "outputs": [],
   "source": [
    "imdb = imdb.rename(columns={'primary_name':'wri2_name'})"
   ]
  },
  {
   "cell_type": "code",
   "execution_count": 51,
   "metadata": {},
   "outputs": [],
   "source": [
    "imdb = imdb.join(nconst_to_names.set_index('nconst'),\n",
    "          on='wri3',\n",
    "          rsuffix='_names')"
   ]
  },
  {
   "cell_type": "code",
   "execution_count": 52,
   "metadata": {},
   "outputs": [],
   "source": [
    "imdb = imdb.rename(columns={'primary_name':'wri3_name'})"
   ]
  },
  {
   "cell_type": "code",
   "execution_count": 54,
   "metadata": {},
   "outputs": [],
   "source": [
    "imdb = imdb.reset_index()"
   ]
  },
  {
   "cell_type": "code",
   "execution_count": 55,
   "metadata": {},
   "outputs": [],
   "source": [
    "# Add ratings to the table\n",
    "imdb = imdb.join(imdb_ratings.set_index('tconst'),\n",
    "          on='tconst',\n",
    "          rsuffix='_ratings')"
   ]
  },
  {
   "cell_type": "code",
   "execution_count": 57,
   "metadata": {},
   "outputs": [],
   "source": [
    "# One genre per column \n",
    "imdb[['genre1','genre2','genre3']] = imdb['genres'].str.split(pat=',',expand=True)"
   ]
  },
  {
   "cell_type": "code",
   "execution_count": 91,
   "metadata": {},
   "outputs": [
    {
     "data": {
      "text/plain": [
       "116708"
      ]
     },
     "execution_count": 91,
     "metadata": {},
     "output_type": "execute_result"
    }
   ],
   "source": [
    "imdb['genre3'].isna().sum()"
   ]
  },
  {
   "cell_type": "code",
   "execution_count": 77,
   "metadata": {},
   "outputs": [
    {
     "data": {
      "text/html": [
       "<div>\n",
       "<style scoped>\n",
       "    .dataframe tbody tr th:only-of-type {\n",
       "        vertical-align: middle;\n",
       "    }\n",
       "\n",
       "    .dataframe tbody tr th {\n",
       "        vertical-align: top;\n",
       "    }\n",
       "\n",
       "    .dataframe thead th {\n",
       "        text-align: right;\n",
       "    }\n",
       "</style>\n",
       "<table border=\"1\" class=\"dataframe\">\n",
       "  <thead>\n",
       "    <tr style=\"text-align: right;\">\n",
       "      <th></th>\n",
       "      <th>tconst</th>\n",
       "      <th>primary_title</th>\n",
       "      <th>original_title</th>\n",
       "      <th>start_year</th>\n",
       "      <th>runtime_minutes</th>\n",
       "      <th>genres</th>\n",
       "      <th>directors</th>\n",
       "      <th>writers</th>\n",
       "      <th>dir1</th>\n",
       "      <th>dir2</th>\n",
       "      <th>...</th>\n",
       "      <th>dir2_name</th>\n",
       "      <th>dir3_name</th>\n",
       "      <th>wri1_name</th>\n",
       "      <th>wri2_name</th>\n",
       "      <th>wri3_name</th>\n",
       "      <th>averagerating</th>\n",
       "      <th>numvotes</th>\n",
       "      <th>genre1</th>\n",
       "      <th>genre2</th>\n",
       "      <th>genre3</th>\n",
       "    </tr>\n",
       "  </thead>\n",
       "  <tbody>\n",
       "    <tr>\n",
       "      <th>0</th>\n",
       "      <td>tt0063540</td>\n",
       "      <td>Sunghursh</td>\n",
       "      <td>Sunghursh</td>\n",
       "      <td>2013</td>\n",
       "      <td>175.0</td>\n",
       "      <td>Action,Crime,Drama</td>\n",
       "      <td>nm0712540</td>\n",
       "      <td>nm0023551,nm1194313,nm0347899,nm1391276</td>\n",
       "      <td>nm0712540</td>\n",
       "      <td>None</td>\n",
       "      <td>...</td>\n",
       "      <td>NaN</td>\n",
       "      <td>NaN</td>\n",
       "      <td>Abrar Alvi</td>\n",
       "      <td>Mahasweta Devi</td>\n",
       "      <td>Gulzar</td>\n",
       "      <td>7.0</td>\n",
       "      <td>77.0</td>\n",
       "      <td>Action</td>\n",
       "      <td>Crime</td>\n",
       "      <td>Drama</td>\n",
       "    </tr>\n",
       "    <tr>\n",
       "      <th>1</th>\n",
       "      <td>tt0066787</td>\n",
       "      <td>One Day Before the Rainy Season</td>\n",
       "      <td>Ashad Ka Ek Din</td>\n",
       "      <td>2019</td>\n",
       "      <td>114.0</td>\n",
       "      <td>Biography,Drama</td>\n",
       "      <td>nm0002411</td>\n",
       "      <td>None</td>\n",
       "      <td>nm0002411</td>\n",
       "      <td>None</td>\n",
       "      <td>...</td>\n",
       "      <td>NaN</td>\n",
       "      <td>NaN</td>\n",
       "      <td>NaN</td>\n",
       "      <td>NaN</td>\n",
       "      <td>NaN</td>\n",
       "      <td>7.2</td>\n",
       "      <td>43.0</td>\n",
       "      <td>Biography</td>\n",
       "      <td>Drama</td>\n",
       "      <td>None</td>\n",
       "    </tr>\n",
       "    <tr>\n",
       "      <th>2</th>\n",
       "      <td>tt0069049</td>\n",
       "      <td>The Other Side of the Wind</td>\n",
       "      <td>The Other Side of the Wind</td>\n",
       "      <td>2018</td>\n",
       "      <td>122.0</td>\n",
       "      <td>Drama</td>\n",
       "      <td>nm0000080</td>\n",
       "      <td>nm0000080,nm0462648</td>\n",
       "      <td>nm0000080</td>\n",
       "      <td>None</td>\n",
       "      <td>...</td>\n",
       "      <td>NaN</td>\n",
       "      <td>NaN</td>\n",
       "      <td>Orson Welles</td>\n",
       "      <td>Oja Kodar</td>\n",
       "      <td>NaN</td>\n",
       "      <td>6.9</td>\n",
       "      <td>4517.0</td>\n",
       "      <td>Drama</td>\n",
       "      <td>None</td>\n",
       "      <td>None</td>\n",
       "    </tr>\n",
       "    <tr>\n",
       "      <th>3</th>\n",
       "      <td>tt0069204</td>\n",
       "      <td>Sabse Bada Sukh</td>\n",
       "      <td>Sabse Bada Sukh</td>\n",
       "      <td>2018</td>\n",
       "      <td>NaN</td>\n",
       "      <td>Comedy,Drama</td>\n",
       "      <td>nm0611531</td>\n",
       "      <td>nm0347899</td>\n",
       "      <td>nm0611531</td>\n",
       "      <td>None</td>\n",
       "      <td>...</td>\n",
       "      <td>NaN</td>\n",
       "      <td>NaN</td>\n",
       "      <td>Gulzar</td>\n",
       "      <td>NaN</td>\n",
       "      <td>NaN</td>\n",
       "      <td>6.1</td>\n",
       "      <td>13.0</td>\n",
       "      <td>Comedy</td>\n",
       "      <td>Drama</td>\n",
       "      <td>None</td>\n",
       "    </tr>\n",
       "    <tr>\n",
       "      <th>4</th>\n",
       "      <td>tt0100275</td>\n",
       "      <td>The Wandering Soap Opera</td>\n",
       "      <td>La Telenovela Errante</td>\n",
       "      <td>2017</td>\n",
       "      <td>80.0</td>\n",
       "      <td>Comedy,Drama,Fantasy</td>\n",
       "      <td>nm0765384,nm0749914</td>\n",
       "      <td>nm1360635,nm0749914</td>\n",
       "      <td>nm0765384</td>\n",
       "      <td>nm0749914</td>\n",
       "      <td>...</td>\n",
       "      <td>Raoul Ruiz</td>\n",
       "      <td>NaN</td>\n",
       "      <td>Pía Rey</td>\n",
       "      <td>Raoul Ruiz</td>\n",
       "      <td>NaN</td>\n",
       "      <td>6.5</td>\n",
       "      <td>119.0</td>\n",
       "      <td>Comedy</td>\n",
       "      <td>Drama</td>\n",
       "      <td>Fantasy</td>\n",
       "    </tr>\n",
       "  </tbody>\n",
       "</table>\n",
       "<p>5 rows × 25 columns</p>\n",
       "</div>"
      ],
      "text/plain": [
       "      tconst                    primary_title              original_title  \\\n",
       "0  tt0063540                        Sunghursh                   Sunghursh   \n",
       "1  tt0066787  One Day Before the Rainy Season             Ashad Ka Ek Din   \n",
       "2  tt0069049       The Other Side of the Wind  The Other Side of the Wind   \n",
       "3  tt0069204                  Sabse Bada Sukh             Sabse Bada Sukh   \n",
       "4  tt0100275         The Wandering Soap Opera       La Telenovela Errante   \n",
       "\n",
       "   start_year  runtime_minutes                genres            directors  \\\n",
       "0        2013            175.0    Action,Crime,Drama            nm0712540   \n",
       "1        2019            114.0       Biography,Drama            nm0002411   \n",
       "2        2018            122.0                 Drama            nm0000080   \n",
       "3        2018              NaN          Comedy,Drama            nm0611531   \n",
       "4        2017             80.0  Comedy,Drama,Fantasy  nm0765384,nm0749914   \n",
       "\n",
       "                                   writers       dir1       dir2  ...  \\\n",
       "0  nm0023551,nm1194313,nm0347899,nm1391276  nm0712540       None  ...   \n",
       "1                                     None  nm0002411       None  ...   \n",
       "2                      nm0000080,nm0462648  nm0000080       None  ...   \n",
       "3                                nm0347899  nm0611531       None  ...   \n",
       "4                      nm1360635,nm0749914  nm0765384  nm0749914  ...   \n",
       "\n",
       "    dir2_name dir3_name     wri1_name       wri2_name wri3_name averagerating  \\\n",
       "0         NaN       NaN    Abrar Alvi  Mahasweta Devi    Gulzar           7.0   \n",
       "1         NaN       NaN           NaN             NaN       NaN           7.2   \n",
       "2         NaN       NaN  Orson Welles       Oja Kodar       NaN           6.9   \n",
       "3         NaN       NaN        Gulzar             NaN       NaN           6.1   \n",
       "4  Raoul Ruiz       NaN       Pía Rey      Raoul Ruiz       NaN           6.5   \n",
       "\n",
       "  numvotes     genre1 genre2   genre3  \n",
       "0     77.0     Action  Crime    Drama  \n",
       "1     43.0  Biography  Drama     None  \n",
       "2   4517.0      Drama   None     None  \n",
       "3     13.0     Comedy  Drama     None  \n",
       "4    119.0     Comedy  Drama  Fantasy  \n",
       "\n",
       "[5 rows x 25 columns]"
      ]
     },
     "execution_count": 77,
     "metadata": {},
     "output_type": "execute_result"
    }
   ],
   "source": [
    "imdb.head()"
   ]
  },
  {
   "cell_type": "markdown",
   "metadata": {},
   "source": [
    "#### Chart 1: Directors with most movies with ratings above 7.5 (median is 6.1 with 1.35 std) since 2010 with at least 100 votes"
   ]
  },
  {
   "cell_type": "code",
   "execution_count": 69,
   "metadata": {},
   "outputs": [],
   "source": [
    "chart1data1 = imdb.sort_values(by='averagerating',ascending = False).loc[(imdb['averagerating'].notna()) & (imdb['numvotes']>100)]"
   ]
  },
  {
   "cell_type": "code",
   "execution_count": 72,
   "metadata": {},
   "outputs": [],
   "source": [
    "chart1data2 = chart1data1.sort_values(by='averagerating',ascending = False).loc[imdb['averagerating'] > 7.5]"
   ]
  },
  {
   "cell_type": "code",
   "execution_count": 73,
   "metadata": {},
   "outputs": [],
   "source": [
    "chart1data3 = chart1data2.groupby('dir1_name').count().sort_values(by='tconst',ascending = False)"
   ]
  },
  {
   "cell_type": "code",
   "execution_count": 74,
   "metadata": {},
   "outputs": [],
   "source": [
    "chart1data4 = chart1data3.loc[chart1data3['tconst'] > 3]['tconst']"
   ]
  },
  {
   "cell_type": "code",
   "execution_count": 75,
   "metadata": {},
   "outputs": [
    {
     "data": {
      "text/plain": [
       "dir1_name\n",
       "Paul Dugdale           6\n",
       "Kaushik Ganguly        5\n",
       "Denis Villeneuve       5\n",
       "Alex Gibney            4\n",
       "Keitarô Motonaga       4\n",
       "Tim Van Someren        4\n",
       "Anurag Singh           4\n",
       "Shunsuke Tada          4\n",
       "Shoojit Sircar         4\n",
       "Christopher Nolan      4\n",
       "Anthony Russo          4\n",
       "Quentin Tarantino      4\n",
       "Ram Gopal Varma        4\n",
       "Aris Chatzistefanou    4\n",
       "Martin Scorsese        4\n",
       "Name: tconst, dtype: int64"
      ]
     },
     "execution_count": 75,
     "metadata": {},
     "output_type": "execute_result"
    }
   ],
   "source": [
    "chart1data4"
   ]
  },
  {
   "cell_type": "code",
   "execution_count": 76,
   "metadata": {},
   "outputs": [
    {
     "data": {
      "text/plain": [
       "Text(0.5, 1.0, 'Movies With 7.5+ Ratings')"
      ]
     },
     "execution_count": 76,
     "metadata": {},
     "output_type": "execute_result"
    },
    {
     "data": {
      "image/png": "[encoded data removed]",
      "text/plain": [
       "<Figure size 432x288 with 1 Axes>"
      ]
     },
     "metadata": {
      "needs_background": "light"
     },
     "output_type": "display_data"
    }
   ],
   "source": [
    "chart1index = list(chart1data4.index)\n",
    "chart1values = list(chart1data4)\n",
    "chart1 = sns.barplot(x=chart1values, \n",
    "                     y=chart1index,\n",
    "                     color='darkblue')\n",
    "chart1.set(ylabel='Director Name', xlabel='Number Of Movies')\n",
    "chart1.set_title('Movies With 7.5+ Ratings')"
   ]
  },
  {
   "cell_type": "markdown",
   "metadata": {},
   "source": [
    "### Top 3 rated genres (only movies with at least 100 votes, at least 50 movies that year) by year"
   ]
  },
  {
   "cell_type": "code",
   "execution_count": 171,
   "metadata": {},
   "outputs": [],
   "source": [
    "chart2data1 = imdb[['genre1','averagerating','start_year','numvotes']].loc[imdb['genre1'].notna()]"
   ]
  },
  {
   "cell_type": "code",
   "execution_count": 172,
   "metadata": {},
   "outputs": [],
   "source": [
    "chart2data1 = chart2data1.rename(columns={'genre1':'genre'})"
   ]
  },
  {
   "cell_type": "code",
   "execution_count": 173,
   "metadata": {},
   "outputs": [],
   "source": [
    "chart2data2 = imdb[['genre2','averagerating','start_year','numvotes']].loc[imdb['genre2'].notna()]"
   ]
  },
  {
   "cell_type": "code",
   "execution_count": 174,
   "metadata": {},
   "outputs": [],
   "source": [
    "chart2data2 = chart2data2.rename(columns={'genre2':'genre'})"
   ]
  },
  {
   "cell_type": "code",
   "execution_count": 175,
   "metadata": {},
   "outputs": [],
   "source": [
    "chart2data3 = imdb[['genre3','averagerating','start_year','numvotes']].loc[imdb['genre3'].notna()]"
   ]
  },
  {
   "cell_type": "code",
   "execution_count": 176,
   "metadata": {},
   "outputs": [],
   "source": [
    "chart2data3 = chart2data3.rename(columns={'genre3':'genre'})"
   ]
  },
  {
   "cell_type": "code",
   "execution_count": 177,
   "metadata": {},
   "outputs": [],
   "source": [
    "chart2data4 = pd.concat([chart2data1, chart2data2, chart2data3])"
   ]
  },
  {
   "cell_type": "code",
   "execution_count": 182,
   "metadata": {},
   "outputs": [],
   "source": [
    "chart2data5 = chart2data4[['genre','averagerating','start_year','numvotes']].loc[chart2data4['averagerating'].notna()]"
   ]
  },
  {
   "cell_type": "code",
   "execution_count": 184,
   "metadata": {},
   "outputs": [],
   "source": [
    "chart2data6 = chart2data5.loc[chart2data5['numvotes']>100]"
   ]
  },
  {
   "cell_type": "code",
   "execution_count": 199,
   "metadata": {},
   "outputs": [],
   "source": [
    "chart2data7 = chart2data6.groupby(['start_year','genre']).count()"
   ]
  },
  {
   "cell_type": "code",
   "execution_count": 231,
   "metadata": {},
   "outputs": [],
   "source": [
    "chart2data8 = chart2data6.groupby(['start_year','genre']).median()"
   ]
  },
  {
   "cell_type": "code",
   "execution_count": 233,
   "metadata": {},
   "outputs": [],
   "source": [
    "chart2data9 = chart2data8.join(chart2data7,\n",
    "                 rsuffix='_count')"
   ]
  },
  {
   "cell_type": "code",
   "execution_count": 234,
   "metadata": {},
   "outputs": [
    {
     "data": {
      "text/html": [
       "<div>\n",
       "<style scoped>\n",
       "    .dataframe tbody tr th:only-of-type {\n",
       "        vertical-align: middle;\n",
       "    }\n",
       "\n",
       "    .dataframe tbody tr th {\n",
       "        vertical-align: top;\n",
       "    }\n",
       "\n",
       "    .dataframe thead th {\n",
       "        text-align: right;\n",
       "    }\n",
       "</style>\n",
       "<table border=\"1\" class=\"dataframe\">\n",
       "  <thead>\n",
       "    <tr style=\"text-align: right;\">\n",
       "      <th></th>\n",
       "      <th></th>\n",
       "      <th>averagerating</th>\n",
       "      <th>numvotes</th>\n",
       "      <th>averagerating_count</th>\n",
       "      <th>numvotes_count</th>\n",
       "    </tr>\n",
       "    <tr>\n",
       "      <th>start_year</th>\n",
       "      <th>genre</th>\n",
       "      <th></th>\n",
       "      <th></th>\n",
       "      <th></th>\n",
       "      <th></th>\n",
       "    </tr>\n",
       "  </thead>\n",
       "  <tbody>\n",
       "    <tr>\n",
       "      <th rowspan=\"5\" valign=\"top\">2010</th>\n",
       "      <th></th>\n",
       "      <td>6.30</td>\n",
       "      <td>104.0</td>\n",
       "      <td>1</td>\n",
       "      <td>1</td>\n",
       "    </tr>\n",
       "    <tr>\n",
       "      <th>Action</th>\n",
       "      <td>5.90</td>\n",
       "      <td>961.0</td>\n",
       "      <td>385</td>\n",
       "      <td>385</td>\n",
       "    </tr>\n",
       "    <tr>\n",
       "      <th>Adventure</th>\n",
       "      <td>6.10</td>\n",
       "      <td>1393.5</td>\n",
       "      <td>152</td>\n",
       "      <td>152</td>\n",
       "    </tr>\n",
       "    <tr>\n",
       "      <th>Animation</th>\n",
       "      <td>6.70</td>\n",
       "      <td>632.0</td>\n",
       "      <td>77</td>\n",
       "      <td>77</td>\n",
       "    </tr>\n",
       "    <tr>\n",
       "      <th>Biography</th>\n",
       "      <td>7.00</td>\n",
       "      <td>972.0</td>\n",
       "      <td>121</td>\n",
       "      <td>121</td>\n",
       "    </tr>\n",
       "    <tr>\n",
       "      <th>...</th>\n",
       "      <th>...</th>\n",
       "      <td>...</td>\n",
       "      <td>...</td>\n",
       "      <td>...</td>\n",
       "      <td>...</td>\n",
       "    </tr>\n",
       "    <tr>\n",
       "      <th rowspan=\"5\" valign=\"top\">2019</th>\n",
       "      <th>Sci-Fi</th>\n",
       "      <td>6.30</td>\n",
       "      <td>3589.0</td>\n",
       "      <td>24</td>\n",
       "      <td>24</td>\n",
       "    </tr>\n",
       "    <tr>\n",
       "      <th>Sport</th>\n",
       "      <td>6.30</td>\n",
       "      <td>318.5</td>\n",
       "      <td>12</td>\n",
       "      <td>12</td>\n",
       "    </tr>\n",
       "    <tr>\n",
       "      <th>Thriller</th>\n",
       "      <td>5.90</td>\n",
       "      <td>336.5</td>\n",
       "      <td>110</td>\n",
       "      <td>110</td>\n",
       "    </tr>\n",
       "    <tr>\n",
       "      <th>War</th>\n",
       "      <td>6.45</td>\n",
       "      <td>668.5</td>\n",
       "      <td>12</td>\n",
       "      <td>12</td>\n",
       "    </tr>\n",
       "    <tr>\n",
       "      <th>Western</th>\n",
       "      <td>5.70</td>\n",
       "      <td>1034.0</td>\n",
       "      <td>3</td>\n",
       "      <td>3</td>\n",
       "    </tr>\n",
       "  </tbody>\n",
       "</table>\n",
       "<p>228 rows × 4 columns</p>\n",
       "</div>"
      ],
      "text/plain": [
       "                      averagerating  numvotes  averagerating_count  \\\n",
       "start_year genre                                                     \n",
       "2010                           6.30     104.0                    1   \n",
       "           Action              5.90     961.0                  385   \n",
       "           Adventure           6.10    1393.5                  152   \n",
       "           Animation           6.70     632.0                   77   \n",
       "           Biography           7.00     972.0                  121   \n",
       "...                             ...       ...                  ...   \n",
       "2019       Sci-Fi              6.30    3589.0                   24   \n",
       "           Sport               6.30     318.5                   12   \n",
       "           Thriller            5.90     336.5                  110   \n",
       "           War                 6.45     668.5                   12   \n",
       "           Western             5.70    1034.0                    3   \n",
       "\n",
       "                      numvotes_count  \n",
       "start_year genre                      \n",
       "2010                               1  \n",
       "           Action                385  \n",
       "           Adventure             152  \n",
       "           Animation              77  \n",
       "           Biography             121  \n",
       "...                              ...  \n",
       "2019       Sci-Fi                 24  \n",
       "           Sport                  12  \n",
       "           Thriller              110  \n",
       "           War                    12  \n",
       "           Western                 3  \n",
       "\n",
       "[228 rows x 4 columns]"
      ]
     },
     "execution_count": 234,
     "metadata": {},
     "output_type": "execute_result"
    }
   ],
   "source": [
    "chart2data9"
   ]
  },
  {
   "cell_type": "code",
   "execution_count": 235,
   "metadata": {},
   "outputs": [],
   "source": [
    "chart2data10 = chart2data9.loc[chart2data9['averagerating_count'] > 50]"
   ]
  },
  {
   "cell_type": "code",
   "execution_count": 239,
   "metadata": {},
   "outputs": [
    {
     "data": {
      "text/plain": [
       "start_year  start_year  genre      \n",
       "2010        2010        Documentary    7.30\n",
       "                        Biography      7.00\n",
       "                        Music          6.95\n",
       "2011        2011        Documentary    7.30\n",
       "                        Biography      6.90\n",
       "                        Music          6.90\n",
       "2012        2012        Documentary    7.20\n",
       "                        Biography      7.10\n",
       "                        Music          7.00\n",
       "2013        2013        Documentary    7.10\n",
       "                        Music          7.05\n",
       "                        Biography      7.00\n",
       "2014        2014        Documentary    7.20\n",
       "                        Biography      7.00\n",
       "                        Sport          7.00\n",
       "2015        2015        Documentary    7.20\n",
       "                        Biography      7.10\n",
       "                        History        6.95\n",
       "2016        2016        Documentary    7.10\n",
       "                        Biography      6.95\n",
       "                        History        6.80\n",
       "2017        2017        Documentary    7.10\n",
       "                        Biography      7.00\n",
       "                        Sport          6.80\n",
       "2018        2018        Documentary    7.20\n",
       "                        Music          7.10\n",
       "                        Biography      6.90\n",
       "2019        2019        Drama          6.70\n",
       "                        Crime          6.30\n",
       "                        Romance        6.30\n",
       "Name: averagerating, dtype: float64"
      ]
     },
     "execution_count": 239,
     "metadata": {},
     "output_type": "execute_result"
    }
   ],
   "source": [
    "chart2data10.groupby([\"start_year\"])[\"averagerating\"].nlargest(3)     "
   ]
  },
  {
   "cell_type": "markdown",
   "metadata": {},
   "source": [
    "### Chart 3: Genres of Top 100 Movies By Rating "
   ]
  },
  {
   "cell_type": "code",
   "execution_count": 263,
   "metadata": {},
   "outputs": [],
   "source": [
    "#chart2data6 = one row per genre, movies with at least 100 numvotes and no 'averagerating' N/A, since 2010\n",
    "chart3data1 = chart2data6.sort_values('averagerating', ascending=False)"
   ]
  },
  {
   "cell_type": "code",
   "execution_count": 274,
   "metadata": {},
   "outputs": [],
   "source": [
    "chart3data1 = chart3data1.loc[chart3data1['averagerating'] > 8]"
   ]
  },
  {
   "cell_type": "code",
   "execution_count": 275,
   "metadata": {},
   "outputs": [],
   "source": [
    "chart3data1 = chart3data1.groupby('genre').count()['averagerating'].nlargest(10)"
   ]
  },
  {
   "cell_type": "code",
   "execution_count": 277,
   "metadata": {},
   "outputs": [
    {
     "data": {
      "text/plain": [
       "Text(0.5, 1.0, 'Movies With 8.0+ Ratings')"
      ]
     },
     "execution_count": 277,
     "metadata": {},
     "output_type": "execute_result"
    },
    {
     "data": {
      "image/png": "[encoded data removed]",
      "text/plain": [
       "<Figure size 432x288 with 1 Axes>"
      ]
     },
     "metadata": {
      "needs_background": "light"
     },
     "output_type": "display_data"
    }
   ],
   "source": [
    "chart3ylabel = list(chart3data1.index)\n",
    "chart3values = list(chart3data1)\n",
    "chart3 = sns.barplot(x=chart3values, \n",
    "                     y=chart3ylabel,\n",
    "                     color='darkblue')\n",
    "chart3.set(ylabel='Genre', xlabel='Number Of Movies')\n",
    "chart3.set_title('Movies With 8.0+ Ratings')"
   ]
  },
  {
   "cell_type": "markdown",
   "metadata": {},
   "source": [
    "### Chart 4: Movie Rating Mean, Median, Volatility"
   ]
  },
  {
   "cell_type": "code",
   "execution_count": 281,
   "metadata": {},
   "outputs": [],
   "source": [
    "#chart2data6 = one row per genre, movies with at least 100 numvotes and no 'averagerating' N/A, since 2010"
   ]
  },
  {
   "cell_type": "code",
   "execution_count": 348,
   "metadata": {},
   "outputs": [],
   "source": [
    "chart4data1 = chart2data6.groupby('genre').describe()"
   ]
  },
  {
   "cell_type": "code",
   "execution_count": 349,
   "metadata": {},
   "outputs": [],
   "source": [
    "chart4data1.drop(chart4data1.columns[8:],axis=1,inplace=True)"
   ]
  },
  {
   "cell_type": "code",
   "execution_count": 355,
   "metadata": {},
   "outputs": [],
   "source": [
    "chart4data2 = chart4data1.loc[chart4data1['averagerating', 'count'] > 250]"
   ]
  },
  {
   "cell_type": "code",
   "execution_count": 374,
   "metadata": {},
   "outputs": [],
   "source": [
    "chart4data2 = chart4data2.sort_values(by=('averagerating', '50%'),ascending=False)"
   ]
  },
  {
   "cell_type": "code",
   "execution_count": 377,
   "metadata": {},
   "outputs": [
    {
     "data": {
      "text/plain": [
       "Index(['Documentary', 'Biography', 'Music', 'Sport', 'History', 'War',\n",
       "       'Animation', 'Drama', 'Crime', 'Family'],\n",
       "      dtype='object', name='genre')"
      ]
     },
     "execution_count": 377,
     "metadata": {},
     "output_type": "execute_result"
    }
   ],
   "source": [
    "chart4data2.head(10).index"
   ]
  },
  {
   "cell_type": "code",
   "execution_count": 379,
   "metadata": {},
   "outputs": [],
   "source": [
    "# Manually select the top 10 Median genres\n",
    "Top10Median = list(chart4data2.head(10).index)"
   ]
  },
  {
   "cell_type": "code",
   "execution_count": 392,
   "metadata": {},
   "outputs": [],
   "source": [
    "chart5data1 = chart2data6.loc[chart2data6['genre'].isin(Top10Median)]"
   ]
  },
  {
   "cell_type": "code",
   "execution_count": 396,
   "metadata": {},
   "outputs": [],
   "source": [
    "chart5data2 = chart5data1[['genre','averagerating']]"
   ]
  },
  {
   "cell_type": "code",
   "execution_count": 397,
   "metadata": {},
   "outputs": [
    {
     "data": {
      "text/html": [
       "<div>\n",
       "<style scoped>\n",
       "    .dataframe tbody tr th:only-of-type {\n",
       "        vertical-align: middle;\n",
       "    }\n",
       "\n",
       "    .dataframe tbody tr th {\n",
       "        vertical-align: top;\n",
       "    }\n",
       "\n",
       "    .dataframe thead th {\n",
       "        text-align: right;\n",
       "    }\n",
       "</style>\n",
       "<table border=\"1\" class=\"dataframe\">\n",
       "  <thead>\n",
       "    <tr style=\"text-align: right;\">\n",
       "      <th></th>\n",
       "      <th>genre</th>\n",
       "      <th>averagerating</th>\n",
       "    </tr>\n",
       "  </thead>\n",
       "  <tbody>\n",
       "    <tr>\n",
       "      <th>2</th>\n",
       "      <td>Drama</td>\n",
       "      <td>6.9</td>\n",
       "    </tr>\n",
       "    <tr>\n",
       "      <th>10</th>\n",
       "      <td>Drama</td>\n",
       "      <td>6.8</td>\n",
       "    </tr>\n",
       "    <tr>\n",
       "      <th>13</th>\n",
       "      <td>Drama</td>\n",
       "      <td>6.9</td>\n",
       "    </tr>\n",
       "    <tr>\n",
       "      <th>15</th>\n",
       "      <td>Animation</td>\n",
       "      <td>7.8</td>\n",
       "    </tr>\n",
       "    <tr>\n",
       "      <th>21</th>\n",
       "      <td>Crime</td>\n",
       "      <td>6.7</td>\n",
       "    </tr>\n",
       "    <tr>\n",
       "      <th>...</th>\n",
       "      <td>...</td>\n",
       "      <td>...</td>\n",
       "    </tr>\n",
       "    <tr>\n",
       "      <th>143874</th>\n",
       "      <td>War</td>\n",
       "      <td>6.8</td>\n",
       "    </tr>\n",
       "    <tr>\n",
       "      <th>143996</th>\n",
       "      <td>Sport</td>\n",
       "      <td>6.6</td>\n",
       "    </tr>\n",
       "    <tr>\n",
       "      <th>144600</th>\n",
       "      <td>War</td>\n",
       "      <td>1.3</td>\n",
       "    </tr>\n",
       "    <tr>\n",
       "      <th>145433</th>\n",
       "      <td>Drama</td>\n",
       "      <td>7.8</td>\n",
       "    </tr>\n",
       "    <tr>\n",
       "      <th>145798</th>\n",
       "      <td>Sport</td>\n",
       "      <td>6.8</td>\n",
       "    </tr>\n",
       "  </tbody>\n",
       "</table>\n",
       "<p>26109 rows × 2 columns</p>\n",
       "</div>"
      ],
      "text/plain": [
       "            genre  averagerating\n",
       "2           Drama            6.9\n",
       "10          Drama            6.8\n",
       "13          Drama            6.9\n",
       "15      Animation            7.8\n",
       "21          Crime            6.7\n",
       "...           ...            ...\n",
       "143874        War            6.8\n",
       "143996      Sport            6.6\n",
       "144600        War            1.3\n",
       "145433      Drama            7.8\n",
       "145798      Sport            6.8\n",
       "\n",
       "[26109 rows x 2 columns]"
      ]
     },
     "execution_count": 397,
     "metadata": {},
     "output_type": "execute_result"
    }
   ],
   "source": [
    "chart5data2"
   ]
  },
  {
   "cell_type": "code",
   "execution_count": 398,
   "metadata": {},
   "outputs": [
    {
     "data": {
      "image/png": "[encoded data removed]",
      "text/plain": [
       "<Figure size 432x288 with 1 Axes>"
      ]
     },
     "metadata": {
      "needs_background": "light"
     },
     "output_type": "display_data"
    }
   ],
   "source": [
    "ax = sns.violinplot(x=\"averagerating\", y=\"genre\", data=chart5data2)"
   ]
  },
  {
   "cell_type": "code",
   "execution_count": null,
   "metadata": {},
   "outputs": [],
   "source": []
  },
  {
   "cell_type": "code",
   "execution_count": 5,
   "metadata": {},
   "outputs": [],
   "source": [
    "imdb_principles = pd.read_sql_query(\"\"\"\n",
    "SELECT * \n",
    "FROM movies.imdb_title_principals\n",
    "LIMIT 1000;\n",
    "\"\"\",con)"
   ]
  },
  {
   "cell_type": "code",
   "execution_count": 6,
   "metadata": {},
   "outputs": [
    {
     "data": {
      "text/plain": [
       "Index(['tconst', 'ordering', 'nconst', 'category', 'job', 'characters'], dtype='object')"
      ]
     },
     "execution_count": 6,
     "metadata": {},
     "output_type": "execute_result"
    }
   ],
   "source": [
    "imdb_principles.columns"
   ]
  },
  {
   "cell_type": "code",
   "execution_count": 7,
   "metadata": {},
   "outputs": [
    {
     "data": {
      "text/html": [
       "<div>\n",
       "<style scoped>\n",
       "    .dataframe tbody tr th:only-of-type {\n",
       "        vertical-align: middle;\n",
       "    }\n",
       "\n",
       "    .dataframe tbody tr th {\n",
       "        vertical-align: top;\n",
       "    }\n",
       "\n",
       "    .dataframe thead th {\n",
       "        text-align: right;\n",
       "    }\n",
       "</style>\n",
       "<table border=\"1\" class=\"dataframe\">\n",
       "  <thead>\n",
       "    <tr style=\"text-align: right;\">\n",
       "      <th></th>\n",
       "      <th>tconst</th>\n",
       "      <th>ordering</th>\n",
       "      <th>nconst</th>\n",
       "      <th>category</th>\n",
       "      <th>job</th>\n",
       "      <th>characters</th>\n",
       "    </tr>\n",
       "  </thead>\n",
       "  <tbody>\n",
       "    <tr>\n",
       "      <th>0</th>\n",
       "      <td>tt0111414</td>\n",
       "      <td>1</td>\n",
       "      <td>nm0246005</td>\n",
       "      <td>actor</td>\n",
       "      <td></td>\n",
       "      <td>[\"The Man\"]</td>\n",
       "    </tr>\n",
       "    <tr>\n",
       "      <th>1</th>\n",
       "      <td>tt0111414</td>\n",
       "      <td>2</td>\n",
       "      <td>nm0398271</td>\n",
       "      <td>director</td>\n",
       "      <td></td>\n",
       "      <td></td>\n",
       "    </tr>\n",
       "    <tr>\n",
       "      <th>2</th>\n",
       "      <td>tt0111414</td>\n",
       "      <td>3</td>\n",
       "      <td>nm3739909</td>\n",
       "      <td>producer</td>\n",
       "      <td>producer</td>\n",
       "      <td></td>\n",
       "    </tr>\n",
       "    <tr>\n",
       "      <th>3</th>\n",
       "      <td>tt0323808</td>\n",
       "      <td>10</td>\n",
       "      <td>nm0059247</td>\n",
       "      <td>editor</td>\n",
       "      <td></td>\n",
       "      <td></td>\n",
       "    </tr>\n",
       "    <tr>\n",
       "      <th>4</th>\n",
       "      <td>tt0323808</td>\n",
       "      <td>1</td>\n",
       "      <td>nm3579312</td>\n",
       "      <td>actress</td>\n",
       "      <td></td>\n",
       "      <td>[\"Beth Boothby\"]</td>\n",
       "    </tr>\n",
       "    <tr>\n",
       "      <th>5</th>\n",
       "      <td>tt0323808</td>\n",
       "      <td>2</td>\n",
       "      <td>nm2694680</td>\n",
       "      <td>actor</td>\n",
       "      <td></td>\n",
       "      <td>[\"Steve Thomson\"]</td>\n",
       "    </tr>\n",
       "    <tr>\n",
       "      <th>6</th>\n",
       "      <td>tt0323808</td>\n",
       "      <td>3</td>\n",
       "      <td>nm0574615</td>\n",
       "      <td>actor</td>\n",
       "      <td></td>\n",
       "      <td>[\"Sir Lachlan Morrison\"]</td>\n",
       "    </tr>\n",
       "    <tr>\n",
       "      <th>7</th>\n",
       "      <td>tt0323808</td>\n",
       "      <td>4</td>\n",
       "      <td>nm0502652</td>\n",
       "      <td>actress</td>\n",
       "      <td></td>\n",
       "      <td>[\"Lady Delia Morrison\"]</td>\n",
       "    </tr>\n",
       "    <tr>\n",
       "      <th>8</th>\n",
       "      <td>tt0323808</td>\n",
       "      <td>5</td>\n",
       "      <td>nm0362736</td>\n",
       "      <td>director</td>\n",
       "      <td></td>\n",
       "      <td></td>\n",
       "    </tr>\n",
       "    <tr>\n",
       "      <th>9</th>\n",
       "      <td>tt0323808</td>\n",
       "      <td>6</td>\n",
       "      <td>nm0811056</td>\n",
       "      <td>producer</td>\n",
       "      <td>producer</td>\n",
       "      <td></td>\n",
       "    </tr>\n",
       "    <tr>\n",
       "      <th>10</th>\n",
       "      <td>tt0323808</td>\n",
       "      <td>7</td>\n",
       "      <td>nm0914939</td>\n",
       "      <td>producer</td>\n",
       "      <td>producer</td>\n",
       "      <td></td>\n",
       "    </tr>\n",
       "    <tr>\n",
       "      <th>11</th>\n",
       "      <td>tt0323808</td>\n",
       "      <td>8</td>\n",
       "      <td>nm0779346</td>\n",
       "      <td>composer</td>\n",
       "      <td></td>\n",
       "      <td></td>\n",
       "    </tr>\n",
       "    <tr>\n",
       "      <th>12</th>\n",
       "      <td>tt0323808</td>\n",
       "      <td>9</td>\n",
       "      <td>nm0676104</td>\n",
       "      <td>cinematographer</td>\n",
       "      <td></td>\n",
       "      <td></td>\n",
       "    </tr>\n",
       "    <tr>\n",
       "      <th>13</th>\n",
       "      <td>tt0417610</td>\n",
       "      <td>10</td>\n",
       "      <td>nm0284261</td>\n",
       "      <td>composer</td>\n",
       "      <td></td>\n",
       "      <td></td>\n",
       "    </tr>\n",
       "    <tr>\n",
       "      <th>14</th>\n",
       "      <td>tt0417610</td>\n",
       "      <td>1</td>\n",
       "      <td>nm0532721</td>\n",
       "      <td>actor</td>\n",
       "      <td></td>\n",
       "      <td>[\"Lucio\"]</td>\n",
       "    </tr>\n",
       "    <tr>\n",
       "      <th>15</th>\n",
       "      <td>tt0417610</td>\n",
       "      <td>2</td>\n",
       "      <td>nm0330974</td>\n",
       "      <td>actress</td>\n",
       "      <td></td>\n",
       "      <td>[\"Diana\"]</td>\n",
       "    </tr>\n",
       "    <tr>\n",
       "      <th>16</th>\n",
       "      <td>tt0417610</td>\n",
       "      <td>3</td>\n",
       "      <td>nm0069209</td>\n",
       "      <td>actor</td>\n",
       "      <td></td>\n",
       "      <td>[\"Dr. Samaniego\"]</td>\n",
       "    </tr>\n",
       "    <tr>\n",
       "      <th>17</th>\n",
       "      <td>tt0417610</td>\n",
       "      <td>4</td>\n",
       "      <td>nm0679167</td>\n",
       "      <td>actress</td>\n",
       "      <td></td>\n",
       "      <td>[\"Adriana María\"]</td>\n",
       "    </tr>\n",
       "    <tr>\n",
       "      <th>18</th>\n",
       "      <td>tt0417610</td>\n",
       "      <td>5</td>\n",
       "      <td>nm1145057</td>\n",
       "      <td>director</td>\n",
       "      <td></td>\n",
       "      <td></td>\n",
       "    </tr>\n",
       "    <tr>\n",
       "      <th>19</th>\n",
       "      <td>tt0417610</td>\n",
       "      <td>6</td>\n",
       "      <td>nm0083201</td>\n",
       "      <td>writer</td>\n",
       "      <td>story</td>\n",
       "      <td></td>\n",
       "    </tr>\n",
       "    <tr>\n",
       "      <th>20</th>\n",
       "      <td>tt0417610</td>\n",
       "      <td>7</td>\n",
       "      <td>nm0147416</td>\n",
       "      <td>producer</td>\n",
       "      <td>producer</td>\n",
       "      <td></td>\n",
       "    </tr>\n",
       "    <tr>\n",
       "      <th>21</th>\n",
       "      <td>tt0417610</td>\n",
       "      <td>8</td>\n",
       "      <td>nm0215732</td>\n",
       "      <td>producer</td>\n",
       "      <td>producer</td>\n",
       "      <td></td>\n",
       "    </tr>\n",
       "    <tr>\n",
       "      <th>22</th>\n",
       "      <td>tt0417610</td>\n",
       "      <td>9</td>\n",
       "      <td>nm1900304</td>\n",
       "      <td>producer</td>\n",
       "      <td>producer</td>\n",
       "      <td></td>\n",
       "    </tr>\n",
       "    <tr>\n",
       "      <th>23</th>\n",
       "      <td>tt0469152</td>\n",
       "      <td>10</td>\n",
       "      <td>nm3745712</td>\n",
       "      <td>editor</td>\n",
       "      <td></td>\n",
       "      <td></td>\n",
       "    </tr>\n",
       "    <tr>\n",
       "      <th>24</th>\n",
       "      <td>tt0469152</td>\n",
       "      <td>1</td>\n",
       "      <td>nm0036109</td>\n",
       "      <td>actress</td>\n",
       "      <td></td>\n",
       "      <td>[\"Eleanor Jordan\"]</td>\n",
       "    </tr>\n",
       "    <tr>\n",
       "      <th>25</th>\n",
       "      <td>tt0469152</td>\n",
       "      <td>2</td>\n",
       "      <td>nm0005253</td>\n",
       "      <td>actress</td>\n",
       "      <td></td>\n",
       "      <td>[\"Diana Whelan\"]</td>\n",
       "    </tr>\n",
       "    <tr>\n",
       "      <th>26</th>\n",
       "      <td>tt0469152</td>\n",
       "      <td>3</td>\n",
       "      <td>nm0002090</td>\n",
       "      <td>actor</td>\n",
       "      <td></td>\n",
       "      <td>[\"Anson\"]</td>\n",
       "    </tr>\n",
       "    <tr>\n",
       "      <th>27</th>\n",
       "      <td>tt0469152</td>\n",
       "      <td>4</td>\n",
       "      <td>nm1469262</td>\n",
       "      <td>actor</td>\n",
       "      <td></td>\n",
       "      <td>[\"Jack Jordan Jr.\"]</td>\n",
       "    </tr>\n",
       "    <tr>\n",
       "      <th>28</th>\n",
       "      <td>tt0469152</td>\n",
       "      <td>5</td>\n",
       "      <td>nm0707738</td>\n",
       "      <td>director</td>\n",
       "      <td></td>\n",
       "      <td></td>\n",
       "    </tr>\n",
       "    <tr>\n",
       "      <th>29</th>\n",
       "      <td>tt0469152</td>\n",
       "      <td>6</td>\n",
       "      <td>nm0071770</td>\n",
       "      <td>writer</td>\n",
       "      <td></td>\n",
       "      <td></td>\n",
       "    </tr>\n",
       "  </tbody>\n",
       "</table>\n",
       "</div>"
      ],
      "text/plain": [
       "       tconst  ordering     nconst         category       job  \\\n",
       "0   tt0111414         1  nm0246005            actor             \n",
       "1   tt0111414         2  nm0398271         director             \n",
       "2   tt0111414         3  nm3739909         producer  producer   \n",
       "3   tt0323808        10  nm0059247           editor             \n",
       "4   tt0323808         1  nm3579312          actress             \n",
       "5   tt0323808         2  nm2694680            actor             \n",
       "6   tt0323808         3  nm0574615            actor             \n",
       "7   tt0323808         4  nm0502652          actress             \n",
       "8   tt0323808         5  nm0362736         director             \n",
       "9   tt0323808         6  nm0811056         producer  producer   \n",
       "10  tt0323808         7  nm0914939         producer  producer   \n",
       "11  tt0323808         8  nm0779346         composer             \n",
       "12  tt0323808         9  nm0676104  cinematographer             \n",
       "13  tt0417610        10  nm0284261         composer             \n",
       "14  tt0417610         1  nm0532721            actor             \n",
       "15  tt0417610         2  nm0330974          actress             \n",
       "16  tt0417610         3  nm0069209            actor             \n",
       "17  tt0417610         4  nm0679167          actress             \n",
       "18  tt0417610         5  nm1145057         director             \n",
       "19  tt0417610         6  nm0083201           writer     story   \n",
       "20  tt0417610         7  nm0147416         producer  producer   \n",
       "21  tt0417610         8  nm0215732         producer  producer   \n",
       "22  tt0417610         9  nm1900304         producer  producer   \n",
       "23  tt0469152        10  nm3745712           editor             \n",
       "24  tt0469152         1  nm0036109          actress             \n",
       "25  tt0469152         2  nm0005253          actress             \n",
       "26  tt0469152         3  nm0002090            actor             \n",
       "27  tt0469152         4  nm1469262            actor             \n",
       "28  tt0469152         5  nm0707738         director             \n",
       "29  tt0469152         6  nm0071770           writer             \n",
       "\n",
       "                  characters  \n",
       "0                [\"The Man\"]  \n",
       "1                             \n",
       "2                             \n",
       "3                             \n",
       "4           [\"Beth Boothby\"]  \n",
       "5          [\"Steve Thomson\"]  \n",
       "6   [\"Sir Lachlan Morrison\"]  \n",
       "7    [\"Lady Delia Morrison\"]  \n",
       "8                             \n",
       "9                             \n",
       "10                            \n",
       "11                            \n",
       "12                            \n",
       "13                            \n",
       "14                 [\"Lucio\"]  \n",
       "15                 [\"Diana\"]  \n",
       "16         [\"Dr. Samaniego\"]  \n",
       "17         [\"Adriana María\"]  \n",
       "18                            \n",
       "19                            \n",
       "20                            \n",
       "21                            \n",
       "22                            \n",
       "23                            \n",
       "24        [\"Eleanor Jordan\"]  \n",
       "25          [\"Diana Whelan\"]  \n",
       "26                 [\"Anson\"]  \n",
       "27       [\"Jack Jordan Jr.\"]  \n",
       "28                            \n",
       "29                            "
      ]
     },
     "execution_count": 7,
     "metadata": {},
     "output_type": "execute_result"
    }
   ],
   "source": [
    "imdb_principles.head(30)"
   ]
  },
  {
   "cell_type": "code",
   "execution_count": 148,
   "metadata": {},
   "outputs": [
    {
     "data": {
      "text/html": [
       "<div>\n",
       "<style scoped>\n",
       "    .dataframe tbody tr th:only-of-type {\n",
       "        vertical-align: middle;\n",
       "    }\n",
       "\n",
       "    .dataframe tbody tr th {\n",
       "        vertical-align: top;\n",
       "    }\n",
       "\n",
       "    .dataframe thead tr th {\n",
       "        text-align: left;\n",
       "    }\n",
       "\n",
       "    .dataframe thead tr:last-of-type th {\n",
       "        text-align: right;\n",
       "    }\n",
       "</style>\n",
       "<table border=\"1\" class=\"dataframe\">\n",
       "  <thead>\n",
       "    <tr>\n",
       "      <th></th>\n",
       "      <th colspan=\"11\" halign=\"left\">ordering</th>\n",
       "    </tr>\n",
       "    <tr>\n",
       "      <th>category</th>\n",
       "      <th>actor</th>\n",
       "      <th>actress</th>\n",
       "      <th>archive_footage</th>\n",
       "      <th>cinematographer</th>\n",
       "      <th>composer</th>\n",
       "      <th>director</th>\n",
       "      <th>editor</th>\n",
       "      <th>producer</th>\n",
       "      <th>production_designer</th>\n",
       "      <th>self</th>\n",
       "      <th>writer</th>\n",
       "    </tr>\n",
       "    <tr>\n",
       "      <th>tconst</th>\n",
       "      <th></th>\n",
       "      <th></th>\n",
       "      <th></th>\n",
       "      <th></th>\n",
       "      <th></th>\n",
       "      <th></th>\n",
       "      <th></th>\n",
       "      <th></th>\n",
       "      <th></th>\n",
       "      <th></th>\n",
       "      <th></th>\n",
       "    </tr>\n",
       "  </thead>\n",
       "  <tbody>\n",
       "    <tr>\n",
       "      <th>tt0111414</th>\n",
       "      <td>1.0</td>\n",
       "      <td>NaN</td>\n",
       "      <td>NaN</td>\n",
       "      <td>NaN</td>\n",
       "      <td>NaN</td>\n",
       "      <td>2.0</td>\n",
       "      <td>NaN</td>\n",
       "      <td>3.0</td>\n",
       "      <td>NaN</td>\n",
       "      <td>NaN</td>\n",
       "      <td>NaN</td>\n",
       "    </tr>\n",
       "    <tr>\n",
       "      <th>tt0323808</th>\n",
       "      <td>2.5</td>\n",
       "      <td>2.500000</td>\n",
       "      <td>NaN</td>\n",
       "      <td>9.0</td>\n",
       "      <td>8.0</td>\n",
       "      <td>5.0</td>\n",
       "      <td>10.0</td>\n",
       "      <td>6.5</td>\n",
       "      <td>NaN</td>\n",
       "      <td>NaN</td>\n",
       "      <td>NaN</td>\n",
       "    </tr>\n",
       "    <tr>\n",
       "      <th>tt0417610</th>\n",
       "      <td>2.0</td>\n",
       "      <td>3.000000</td>\n",
       "      <td>NaN</td>\n",
       "      <td>NaN</td>\n",
       "      <td>10.0</td>\n",
       "      <td>5.0</td>\n",
       "      <td>NaN</td>\n",
       "      <td>8.0</td>\n",
       "      <td>NaN</td>\n",
       "      <td>NaN</td>\n",
       "      <td>6.0</td>\n",
       "    </tr>\n",
       "    <tr>\n",
       "      <th>tt0469152</th>\n",
       "      <td>3.5</td>\n",
       "      <td>1.500000</td>\n",
       "      <td>NaN</td>\n",
       "      <td>9.0</td>\n",
       "      <td>8.0</td>\n",
       "      <td>5.0</td>\n",
       "      <td>10.0</td>\n",
       "      <td>7.0</td>\n",
       "      <td>NaN</td>\n",
       "      <td>NaN</td>\n",
       "      <td>6.0</td>\n",
       "    </tr>\n",
       "    <tr>\n",
       "      <th>tt0473032</th>\n",
       "      <td>1.5</td>\n",
       "      <td>NaN</td>\n",
       "      <td>NaN</td>\n",
       "      <td>NaN</td>\n",
       "      <td>NaN</td>\n",
       "      <td>3.0</td>\n",
       "      <td>NaN</td>\n",
       "      <td>NaN</td>\n",
       "      <td>NaN</td>\n",
       "      <td>NaN</td>\n",
       "      <td>NaN</td>\n",
       "    </tr>\n",
       "    <tr>\n",
       "      <th>...</th>\n",
       "      <td>...</td>\n",
       "      <td>...</td>\n",
       "      <td>...</td>\n",
       "      <td>...</td>\n",
       "      <td>...</td>\n",
       "      <td>...</td>\n",
       "      <td>...</td>\n",
       "      <td>...</td>\n",
       "      <td>...</td>\n",
       "      <td>...</td>\n",
       "      <td>...</td>\n",
       "    </tr>\n",
       "    <tr>\n",
       "      <th>tt1294688</th>\n",
       "      <td>3.0</td>\n",
       "      <td>2.000000</td>\n",
       "      <td>NaN</td>\n",
       "      <td>9.0</td>\n",
       "      <td>8.0</td>\n",
       "      <td>5.0</td>\n",
       "      <td>10.0</td>\n",
       "      <td>6.5</td>\n",
       "      <td>NaN</td>\n",
       "      <td>NaN</td>\n",
       "      <td>NaN</td>\n",
       "    </tr>\n",
       "    <tr>\n",
       "      <th>tt1298644</th>\n",
       "      <td>3.5</td>\n",
       "      <td>1.500000</td>\n",
       "      <td>NaN</td>\n",
       "      <td>NaN</td>\n",
       "      <td>NaN</td>\n",
       "      <td>5.0</td>\n",
       "      <td>NaN</td>\n",
       "      <td>10.0</td>\n",
       "      <td>NaN</td>\n",
       "      <td>NaN</td>\n",
       "      <td>7.5</td>\n",
       "    </tr>\n",
       "    <tr>\n",
       "      <th>tt1300159</th>\n",
       "      <td>3.0</td>\n",
       "      <td>2.000000</td>\n",
       "      <td>NaN</td>\n",
       "      <td>NaN</td>\n",
       "      <td>NaN</td>\n",
       "      <td>5.0</td>\n",
       "      <td>NaN</td>\n",
       "      <td>10.0</td>\n",
       "      <td>NaN</td>\n",
       "      <td>NaN</td>\n",
       "      <td>7.5</td>\n",
       "    </tr>\n",
       "    <tr>\n",
       "      <th>tt1308748</th>\n",
       "      <td>2.0</td>\n",
       "      <td>2.666667</td>\n",
       "      <td>NaN</td>\n",
       "      <td>7.0</td>\n",
       "      <td>6.0</td>\n",
       "      <td>5.0</td>\n",
       "      <td>NaN</td>\n",
       "      <td>NaN</td>\n",
       "      <td>NaN</td>\n",
       "      <td>NaN</td>\n",
       "      <td>NaN</td>\n",
       "    </tr>\n",
       "    <tr>\n",
       "      <th>tt1308754</th>\n",
       "      <td>2.0</td>\n",
       "      <td>2.000000</td>\n",
       "      <td>NaN</td>\n",
       "      <td>NaN</td>\n",
       "      <td>NaN</td>\n",
       "      <td>NaN</td>\n",
       "      <td>NaN</td>\n",
       "      <td>NaN</td>\n",
       "      <td>10.0</td>\n",
       "      <td>NaN</td>\n",
       "      <td>NaN</td>\n",
       "    </tr>\n",
       "  </tbody>\n",
       "</table>\n",
       "<p>142 rows × 11 columns</p>\n",
       "</div>"
      ],
      "text/plain": [
       "          ordering                                                     \\\n",
       "category     actor   actress archive_footage cinematographer composer   \n",
       "tconst                                                                  \n",
       "tt0111414      1.0       NaN             NaN             NaN      NaN   \n",
       "tt0323808      2.5  2.500000             NaN             9.0      8.0   \n",
       "tt0417610      2.0  3.000000             NaN             NaN     10.0   \n",
       "tt0469152      3.5  1.500000             NaN             9.0      8.0   \n",
       "tt0473032      1.5       NaN             NaN             NaN      NaN   \n",
       "...            ...       ...             ...             ...      ...   \n",
       "tt1294688      3.0  2.000000             NaN             9.0      8.0   \n",
       "tt1298644      3.5  1.500000             NaN             NaN      NaN   \n",
       "tt1300159      3.0  2.000000             NaN             NaN      NaN   \n",
       "tt1308748      2.0  2.666667             NaN             7.0      6.0   \n",
       "tt1308754      2.0  2.000000             NaN             NaN      NaN   \n",
       "\n",
       "                                                                    \n",
       "category  director editor producer production_designer self writer  \n",
       "tconst                                                              \n",
       "tt0111414      2.0    NaN      3.0                 NaN  NaN    NaN  \n",
       "tt0323808      5.0   10.0      6.5                 NaN  NaN    NaN  \n",
       "tt0417610      5.0    NaN      8.0                 NaN  NaN    6.0  \n",
       "tt0469152      5.0   10.0      7.0                 NaN  NaN    6.0  \n",
       "tt0473032      3.0    NaN      NaN                 NaN  NaN    NaN  \n",
       "...            ...    ...      ...                 ...  ...    ...  \n",
       "tt1294688      5.0   10.0      6.5                 NaN  NaN    NaN  \n",
       "tt1298644      5.0    NaN     10.0                 NaN  NaN    7.5  \n",
       "tt1300159      5.0    NaN     10.0                 NaN  NaN    7.5  \n",
       "tt1308748      5.0    NaN      NaN                 NaN  NaN    NaN  \n",
       "tt1308754      NaN    NaN      NaN                10.0  NaN    NaN  \n",
       "\n",
       "[142 rows x 11 columns]"
      ]
     },
     "execution_count": 148,
     "metadata": {},
     "output_type": "execute_result"
    }
   ],
   "source": [
    "imdb_principles.pivot_table(index=imdb_principles['tconst'],columns='category')"
   ]
  },
  {
   "cell_type": "code",
   "execution_count": null,
   "metadata": {},
   "outputs": [],
   "source": []
  }
 ],
 "metadata": {
  "kernelspec": {
   "display_name": "Python 3",
   "language": "python",
   "name": "python3"
  },
  "language_info": {
   "codemirror_mode": {
    "name": "ipython",
    "version": 3
   },
   "file_extension": ".py",
   "mimetype": "text/x-python",
   "name": "python",
   "nbconvert_exporter": "python",
   "pygments_lexer": "ipython3",
   "version": "3.7.6"
  }
 },
 "nbformat": 4,
 "nbformat_minor": 4
}
