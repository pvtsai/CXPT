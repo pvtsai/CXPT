{
 "cells": [
  {
   "cell_type": "markdown",
   "metadata": {},
   "source": [
    "# CXPT Movie Data Analysis\n"
   ]
  },
  {
   "cell_type": "markdown",
   "metadata": {},
   "source": [
    "## Import Libraries"
   ]
  },
  {
   "cell_type": "code",
   "execution_count": 5,
   "metadata": {},
   "outputs": [],
   "source": [
    "import numpy as np\n",
    "import pandas as pd\n",
    "import matplotlib.pyplot as plt\n",
    "import seaborn as sns"
   ]
  },
  {
   "cell_type": "code",
   "execution_count": 6,
   "metadata": {},
   "outputs": [
    {
     "name": "stdout",
     "output_type": "stream",
     "text": [
      "Requirement already satisfied: mysql-connector-python in /opt/anaconda3/lib/python3.7/site-packages (8.0.20)\n",
      "Requirement already satisfied: protobuf>=3.0.0 in /opt/anaconda3/lib/python3.7/site-packages (from mysql-connector-python) (3.12.2)\n",
      "Requirement already satisfied: setuptools in /opt/anaconda3/lib/python3.7/site-packages (from protobuf>=3.0.0->mysql-connector-python) (46.0.0.post20200309)\n",
      "Requirement already satisfied: six>=1.9 in /opt/anaconda3/lib/python3.7/site-packages (from protobuf>=3.0.0->mysql-connector-python) (1.14.0)\n"
     ]
    }
   ],
   "source": [
    "!pip install mysql-connector-python"
   ]
  },
  {
   "cell_type": "code",
   "execution_count": 7,
   "metadata": {},
   "outputs": [],
   "source": [
    "import mysql.connector"
   ]
  },
  {
   "cell_type": "code",
   "execution_count": 8,
   "metadata": {},
   "outputs": [],
   "source": [
    "con = mysql.connector.connect(user='hbs-student', password='super-secure-password?',\n",
    "                              host='hbs-ds-060120.c1doesqrid0e.us-east-1.rds.amazonaws.com',\n",
    "                              database='movies')"
   ]
  },
  {
   "cell_type": "markdown",
   "metadata": {},
   "source": [
    "## Load SQL queries and adjust data"
   ]
  },
  {
   "cell_type": "code",
   "execution_count": 9,
   "metadata": {},
   "outputs": [],
   "source": [
    "tn = pd.DataFrame(pd.read_sql_query(\"\"\"\n",
    "SELECT * \n",
    "FROM movies.tn_movie_budgets\"\"\", con))"
   ]
  },
  {
   "cell_type": "code",
   "execution_count": 10,
   "metadata": {},
   "outputs": [],
   "source": [
    "#Change data types\n",
    "tn['domestic_gross'] = tn['domestic_gross'].str.replace('$','')  \n",
    "tn['domestic_gross'] = tn['domestic_gross'].str.replace(',','')\n",
    "tn['domestic_gross'] = tn['domestic_gross'].astype(float)\n",
    "tn['worldwide_gross'] =tn['worldwide_gross'].str.replace('$','')\n",
    "tn['worldwide_gross'] =tn['worldwide_gross'].str.replace(',','')\n",
    "tn['worldwide_gross'] =tn['worldwide_gross'].astype(float) \n",
    "tn['production_budget'] =tn['production_budget'].str.replace('$','')\n",
    "tn['production_budget'] =tn['production_budget'].str.replace(',','')\n",
    "tn['production_budget'] =tn['production_budget'].astype(float) \n",
    "tn['release_date'] = pd.to_datetime(tn['release_date'])"
   ]
  },
  {
   "cell_type": "code",
   "execution_count": 11,
   "metadata": {},
   "outputs": [],
   "source": [
    "bom = pd.DataFrame(pd.read_sql_query(\"\"\"\n",
    "SELECT * \n",
    "FROM movies.bom_movie_gross\"\"\", con))"
   ]
  },
  {
   "cell_type": "code",
   "execution_count": 12,
   "metadata": {},
   "outputs": [],
   "source": [
    "tmd = pd.DataFrame(pd.read_sql_query(\"\"\"\n",
    "SELECT\n",
    "\ttitle,\n",
    "    vote_average,\n",
    "    popularity,\n",
    "    release_date\n",
    "FROM movies.tmdb_movies\"\"\", con))"
   ]
  },
  {
   "cell_type": "code",
   "execution_count": 13,
   "metadata": {},
   "outputs": [],
   "source": [
    "#Change data types\n",
    "tmd['release_date'] = pd.to_datetime(tmd['release_date'])"
   ]
  },
  {
   "cell_type": "code",
   "execution_count": 14,
   "metadata": {},
   "outputs": [],
   "source": [
    "#Drop duplicates\n",
    "tmd = tmd.drop_duplicates(subset='title',keep=False)"
   ]
  },
  {
   "cell_type": "code",
   "execution_count": 15,
   "metadata": {},
   "outputs": [],
   "source": [
    "imdb_title_basics = pd.DataFrame(pd.read_sql_query(\"\"\"\n",
    "SELECT \n",
    "\tprimary_title,\n",
    "    genres,\n",
    "    start_year\n",
    "FROM movies.imdb_title_basics\"\"\", con))"
   ]
  },
  {
   "cell_type": "code",
   "execution_count": 16,
   "metadata": {},
   "outputs": [],
   "source": [
    "# Format data and change datatypes\n",
    "imdb_title_basics['title_new'] = imdb_title_basics['primary_title'].apply(lambda x: x.replace(' ',''))\n",
    "imdb_title_basics['title_new'] = imdb_title_basics['title_new'].apply(lambda x: x.lower())\n",
    "imdb_title_basics['title_new_year'] = imdb_title_basics['title_new'] + imdb_title_basics['start_year'].astype(str)"
   ]
  },
  {
   "cell_type": "code",
   "execution_count": 17,
   "metadata": {},
   "outputs": [],
   "source": [
    "imdb_title_crew_df = pd.read_sql_query(\"\"\"\n",
    "SELECT * \n",
    "FROM movies.imdb_title_crew;\n",
    "\"\"\",con)"
   ]
  },
  {
   "cell_type": "code",
   "execution_count": 18,
   "metadata": {},
   "outputs": [],
   "source": [
    "imdb_title = pd.read_sql_query(\"\"\"\n",
    "SELECT * \n",
    "FROM movies.imdb_title_basics;\n",
    "\"\"\",con)"
   ]
  },
  {
   "cell_type": "code",
   "execution_count": 19,
   "metadata": {},
   "outputs": [],
   "source": [
    "imdb_people = pd.read_sql_query(\"\"\"\n",
    "SELECT * \n",
    "FROM movies.imdb_name_basics;\n",
    "\"\"\",con)"
   ]
  },
  {
   "cell_type": "code",
   "execution_count": 20,
   "metadata": {},
   "outputs": [],
   "source": [
    "imdb_ratings = pd.read_sql_query(\"\"\"\n",
    "SELECT \n",
    "\ttconst,\n",
    "    averagerating,\n",
    "    numvotes\n",
    "FROM movies.imdb_title_ratings\n",
    "\"\"\",con)"
   ]
  },
  {
   "cell_type": "markdown",
   "metadata": {},
   "source": [
    "## Combine SQL queries into dataframes"
   ]
  },
  {
   "cell_type": "markdown",
   "metadata": {},
   "source": [
    "### 'tbi' dataframe\n",
    "Includes production budget, domestic / worldwide gross, genre, release date <br>\n",
    "Combination of 'bom_movie_gross', 'tn_movie_budgets', 'tmdb_movies', 'imdb_title_basics'"
   ]
  },
  {
   "cell_type": "code",
   "execution_count": 21,
   "metadata": {},
   "outputs": [],
   "source": [
    "# JOIN bom and tn\n",
    "tb = tn.join(bom.set_index('title'),\n",
    "             on='movie',\n",
    "             how='outer',\n",
    "             lsuffix='_tn',\n",
    "             rsuffix='_bom')"
   ]
  },
  {
   "cell_type": "code",
   "execution_count": 22,
   "metadata": {},
   "outputs": [],
   "source": [
    "# JOIN tb with tmd and edit table\n",
    "tbt = tb.join(\n",
    "        tmd.set_index('title'),\n",
    "        on='movie',\n",
    "        how='left',\n",
    "        rsuffix='_tmd')"
   ]
  },
  {
   "cell_type": "code",
   "execution_count": 23,
   "metadata": {},
   "outputs": [],
   "source": [
    "tbt['release_date'] = np.where(tbt['release_date'].isna(), tbt['release_date_tmd'], tbt['release_date']) "
   ]
  },
  {
   "cell_type": "code",
   "execution_count": 24,
   "metadata": {},
   "outputs": [],
   "source": [
    "tbt = tbt.drop(columns='release_date_tmd')"
   ]
  },
  {
   "cell_type": "code",
   "execution_count": 25,
   "metadata": {},
   "outputs": [],
   "source": [
    "tbt['year'] = np.where(tbt['release_date'].isna(), tbt['year'], tbt['release_date'].dt.year)\n",
    "tbt['movie_new'] = tbt['movie'].apply(lambda x: x.replace(' ',''))\n",
    "tbt['movie_new'] = tbt['movie_new'].apply(lambda x: x.lower())\n",
    "tbt['movie_new_year'] = tbt['movie_new'] + tbt['year'].astype(str)\n",
    "tbt['movie_new_year'] = tbt['movie_new_year'].apply(lambda x: x.replace('.0','')) "
   ]
  },
  {
   "cell_type": "code",
   "execution_count": 26,
   "metadata": {},
   "outputs": [],
   "source": [
    "# JOIN tbt with imdb_title_basics and edit table\n",
    "tbi = tbt.join(imdb_title_basics.set_index('title_new_year'),\n",
    "        on='movie_new_year',\n",
    "        how='left',\n",
    "        rsuffix='_imdb')"
   ]
  },
  {
   "cell_type": "code",
   "execution_count": 27,
   "metadata": {},
   "outputs": [],
   "source": [
    "tbi = tbi.drop_duplicates(subset = 'movie')"
   ]
  },
  {
   "cell_type": "code",
   "execution_count": 28,
   "metadata": {},
   "outputs": [],
   "source": [
    "tbi['domestic_gross_tn'] = np.where(tbi['domestic_gross_tn'].isna(), tbi['domestic_gross_bom'], tbi['domestic_gross_tn']) \n",
    "tbi = tbi.drop(columns=['domestic_gross_bom','studio'])\n",
    "tbi['release_month'] = tbi['release_date'].dt.month\n",
    "tbi = tbi.rename(columns={'production_budget':'production_budget_$m','domestic_gross_tn':'domestic_gross_$m','worldwide_gross':'worldwide_gross_$m', 'foreign_gross':'foreign_gross_$m'})"
   ]
  },
  {
   "cell_type": "code",
   "execution_count": 29,
   "metadata": {},
   "outputs": [],
   "source": [
    "tbi['production_budget_$m'] = tbi['production_budget_$m'].apply(lambda x: '{:.0f}'.format(x/1000000))\n",
    "tbi['domestic_gross_$m'] = tbi['domestic_gross_$m'].apply(lambda x: '{:.0f}'.format(x/1000000))\n",
    "tbi['worldwide_gross_$m'] = tbi['worldwide_gross_$m'].apply(lambda x: '{:.0f}'.format(x/1000000))\n",
    "tbi['foreign_gross_$m'] = tbi['foreign_gross_$m'].apply(lambda x: '{:.0f}'.format(x/1000000))"
   ]
  },
  {
   "cell_type": "code",
   "execution_count": 30,
   "metadata": {},
   "outputs": [],
   "source": [
    "tbi['production_budget_$m'] = tbi['production_budget_$m'].astype(float)\n",
    "tbi['domestic_gross_$m'] = tbi['domestic_gross_$m'].astype(float)\n",
    "tbi['worldwide_gross_$m'] = tbi['worldwide_gross_$m'].astype(float)\n",
    "tbi['foreign_gross_$m'] = tbi['foreign_gross_$m'].astype(float)"
   ]
  },
  {
   "cell_type": "code",
   "execution_count": 31,
   "metadata": {},
   "outputs": [],
   "source": [
    "tbi['release_year'] = tbi['release_date'].dt.year\n",
    "tbi['global_mom'] = tbi['worldwide_gross_$m'] / tbi['production_budget_$m']\n",
    "tbi = tbi.round({'global_mom':2})"
   ]
  },
  {
   "cell_type": "code",
   "execution_count": 32,
   "metadata": {},
   "outputs": [],
   "source": [
    "tbi['release_year'] = tbi['release_date'].dt.year\n",
    "tbi['release_month'] = tbi['release_date'].dt.month"
   ]
  },
  {
   "cell_type": "code",
   "execution_count": 33,
   "metadata": {},
   "outputs": [],
   "source": [
    "tbi['worldwide_gross_$m'] = np.where(tbi['worldwide_gross_$m'].isna(), tbi['domestic_gross_$m'] + tbi['foreign_gross_$m'], tbi['worldwide_gross_$m'])"
   ]
  },
  {
   "cell_type": "code",
   "execution_count": 34,
   "metadata": {},
   "outputs": [],
   "source": [
    "tbi = tbi.drop(columns=['year','start_year','movie_new'])"
   ]
  },
  {
   "cell_type": "code",
   "execution_count": 35,
   "metadata": {},
   "outputs": [
    {
     "data": {
      "text/html": [
       "<div>\n",
       "<style scoped>\n",
       "    .dataframe tbody tr th:only-of-type {\n",
       "        vertical-align: middle;\n",
       "    }\n",
       "\n",
       "    .dataframe tbody tr th {\n",
       "        vertical-align: top;\n",
       "    }\n",
       "\n",
       "    .dataframe thead th {\n",
       "        text-align: right;\n",
       "    }\n",
       "</style>\n",
       "<table border=\"1\" class=\"dataframe\">\n",
       "  <thead>\n",
       "    <tr style=\"text-align: right;\">\n",
       "      <th></th>\n",
       "      <th>id</th>\n",
       "      <th>release_date</th>\n",
       "      <th>movie</th>\n",
       "      <th>production_budget_$m</th>\n",
       "      <th>domestic_gross_$m</th>\n",
       "      <th>worldwide_gross_$m</th>\n",
       "      <th>foreign_gross_$m</th>\n",
       "      <th>vote_average</th>\n",
       "      <th>popularity</th>\n",
       "      <th>movie_new_year</th>\n",
       "      <th>primary_title</th>\n",
       "      <th>genres</th>\n",
       "      <th>title_new</th>\n",
       "      <th>release_month</th>\n",
       "      <th>release_year</th>\n",
       "      <th>global_mom</th>\n",
       "    </tr>\n",
       "  </thead>\n",
       "  <tbody>\n",
       "    <tr>\n",
       "      <th>0.0</th>\n",
       "      <td>1.0</td>\n",
       "      <td>2009-12-18</td>\n",
       "      <td>Avatar</td>\n",
       "      <td>425.0</td>\n",
       "      <td>761.0</td>\n",
       "      <td>2776.0</td>\n",
       "      <td>NaN</td>\n",
       "      <td>7.4</td>\n",
       "      <td>26.526</td>\n",
       "      <td>avatar2009</td>\n",
       "      <td>NaN</td>\n",
       "      <td>NaN</td>\n",
       "      <td>NaN</td>\n",
       "      <td>12.0</td>\n",
       "      <td>2009.0</td>\n",
       "      <td>6.53</td>\n",
       "    </tr>\n",
       "    <tr>\n",
       "      <th>1.0</th>\n",
       "      <td>2.0</td>\n",
       "      <td>2011-05-20</td>\n",
       "      <td>Pirates of the Caribbean: On Stranger Tides</td>\n",
       "      <td>411.0</td>\n",
       "      <td>241.0</td>\n",
       "      <td>1046.0</td>\n",
       "      <td>805.0</td>\n",
       "      <td>6.4</td>\n",
       "      <td>30.579</td>\n",
       "      <td>piratesofthecaribbean:onstrangertides2011</td>\n",
       "      <td>Pirates of the Caribbean: On Stranger Tides</td>\n",
       "      <td>Action,Adventure,Fantasy</td>\n",
       "      <td>piratesofthecaribbean:onstrangertides</td>\n",
       "      <td>5.0</td>\n",
       "      <td>2011.0</td>\n",
       "      <td>2.55</td>\n",
       "    </tr>\n",
       "    <tr>\n",
       "      <th>2.0</th>\n",
       "      <td>3.0</td>\n",
       "      <td>2019-06-07</td>\n",
       "      <td>Dark Phoenix</td>\n",
       "      <td>350.0</td>\n",
       "      <td>43.0</td>\n",
       "      <td>150.0</td>\n",
       "      <td>NaN</td>\n",
       "      <td>NaN</td>\n",
       "      <td>NaN</td>\n",
       "      <td>darkphoenix2019</td>\n",
       "      <td>Dark Phoenix</td>\n",
       "      <td>Action,Adventure,Sci-Fi</td>\n",
       "      <td>darkphoenix</td>\n",
       "      <td>6.0</td>\n",
       "      <td>2019.0</td>\n",
       "      <td>0.43</td>\n",
       "    </tr>\n",
       "    <tr>\n",
       "      <th>3.0</th>\n",
       "      <td>4.0</td>\n",
       "      <td>2015-05-01</td>\n",
       "      <td>Avengers: Age of Ultron</td>\n",
       "      <td>331.0</td>\n",
       "      <td>459.0</td>\n",
       "      <td>1403.0</td>\n",
       "      <td>946.0</td>\n",
       "      <td>7.3</td>\n",
       "      <td>44.383</td>\n",
       "      <td>avengers:ageofultron2015</td>\n",
       "      <td>Avengers: Age of Ultron</td>\n",
       "      <td>Action,Adventure,Sci-Fi</td>\n",
       "      <td>avengers:ageofultron</td>\n",
       "      <td>5.0</td>\n",
       "      <td>2015.0</td>\n",
       "      <td>4.24</td>\n",
       "    </tr>\n",
       "    <tr>\n",
       "      <th>4.0</th>\n",
       "      <td>5.0</td>\n",
       "      <td>2017-12-15</td>\n",
       "      <td>Star Wars Ep. VIII: The Last Jedi</td>\n",
       "      <td>317.0</td>\n",
       "      <td>620.0</td>\n",
       "      <td>1317.0</td>\n",
       "      <td>NaN</td>\n",
       "      <td>NaN</td>\n",
       "      <td>NaN</td>\n",
       "      <td>starwarsep.viii:thelastjedi2017</td>\n",
       "      <td>NaN</td>\n",
       "      <td>NaN</td>\n",
       "      <td>NaN</td>\n",
       "      <td>12.0</td>\n",
       "      <td>2017.0</td>\n",
       "      <td>4.15</td>\n",
       "    </tr>\n",
       "  </tbody>\n",
       "</table>\n",
       "</div>"
      ],
      "text/plain": [
       "      id release_date                                        movie  \\\n",
       "0.0  1.0   2009-12-18                                       Avatar   \n",
       "1.0  2.0   2011-05-20  Pirates of the Caribbean: On Stranger Tides   \n",
       "2.0  3.0   2019-06-07                                 Dark Phoenix   \n",
       "3.0  4.0   2015-05-01                      Avengers: Age of Ultron   \n",
       "4.0  5.0   2017-12-15            Star Wars Ep. VIII: The Last Jedi   \n",
       "\n",
       "     production_budget_$m  domestic_gross_$m  worldwide_gross_$m  \\\n",
       "0.0                 425.0              761.0              2776.0   \n",
       "1.0                 411.0              241.0              1046.0   \n",
       "2.0                 350.0               43.0               150.0   \n",
       "3.0                 331.0              459.0              1403.0   \n",
       "4.0                 317.0              620.0              1317.0   \n",
       "\n",
       "     foreign_gross_$m  vote_average  popularity  \\\n",
       "0.0               NaN           7.4      26.526   \n",
       "1.0             805.0           6.4      30.579   \n",
       "2.0               NaN           NaN         NaN   \n",
       "3.0             946.0           7.3      44.383   \n",
       "4.0               NaN           NaN         NaN   \n",
       "\n",
       "                                movie_new_year  \\\n",
       "0.0                                 avatar2009   \n",
       "1.0  piratesofthecaribbean:onstrangertides2011   \n",
       "2.0                            darkphoenix2019   \n",
       "3.0                   avengers:ageofultron2015   \n",
       "4.0            starwarsep.viii:thelastjedi2017   \n",
       "\n",
       "                                   primary_title                    genres  \\\n",
       "0.0                                          NaN                       NaN   \n",
       "1.0  Pirates of the Caribbean: On Stranger Tides  Action,Adventure,Fantasy   \n",
       "2.0                                 Dark Phoenix   Action,Adventure,Sci-Fi   \n",
       "3.0                      Avengers: Age of Ultron   Action,Adventure,Sci-Fi   \n",
       "4.0                                          NaN                       NaN   \n",
       "\n",
       "                                 title_new  release_month  release_year  \\\n",
       "0.0                                    NaN           12.0        2009.0   \n",
       "1.0  piratesofthecaribbean:onstrangertides            5.0        2011.0   \n",
       "2.0                            darkphoenix            6.0        2019.0   \n",
       "3.0                   avengers:ageofultron            5.0        2015.0   \n",
       "4.0                                    NaN           12.0        2017.0   \n",
       "\n",
       "     global_mom  \n",
       "0.0        6.53  \n",
       "1.0        2.55  \n",
       "2.0        0.43  \n",
       "3.0        4.24  \n",
       "4.0        4.15  "
      ]
     },
     "execution_count": 35,
     "metadata": {},
     "output_type": "execute_result"
    }
   ],
   "source": [
    "tbi.head()"
   ]
  },
  {
   "cell_type": "code",
   "execution_count": 36,
   "metadata": {},
   "outputs": [],
   "source": [
    "# Create a dataset that has one row per genre\n",
    "tbi_genre= pd.DataFrame(tbi.genres.str.split(',').tolist(), index=tbi.movie).stack()\n",
    "tbi_genre =tbi_genre.reset_index([0, 'movie'])\n",
    "tbi_genre = tbi_genre.join(tbi.set_index('movie'),on='movie')\n",
    "tbi_genre = tbi_genre.rename(columns={0:'genre'})\n",
    "tbi_genre = tbi_genre.explode('genre')\n",
    "tbi_genre = tbi_genre.drop(columns='genres')\n",
    "tbi_genre['release_month'] = tbi_genre['release_date'].dt.month"
   ]
  },
  {
   "cell_type": "markdown",
   "metadata": {},
   "source": [
    "### 'imdb' dataframe\n",
    "Includes director names, genre, ratings <br>\n",
    "Combination of 'imdb_title_crew', 'imdb_title_basics', 'imdb_name_basics', 'imdb_title_ratings'"
   ]
  },
  {
   "cell_type": "code",
   "execution_count": 37,
   "metadata": {},
   "outputs": [],
   "source": [
    "# One column per each director identifier\n",
    "imdb_test = imdb_title_crew_df['directors'].str.split(pat=',',expand=True)"
   ]
  },
  {
   "cell_type": "code",
   "execution_count": 38,
   "metadata": {},
   "outputs": [
    {
     "data": {
      "text/plain": [
       "130417"
      ]
     },
     "execution_count": 38,
     "metadata": {},
     "output_type": "execute_result"
    }
   ],
   "source": [
    "imdb_test.iloc[ : ,1].isna().sum() \n",
    "# Out of 146144 movies, 130417 have only 1 director  "
   ]
  },
  {
   "cell_type": "code",
   "execution_count": 39,
   "metadata": {},
   "outputs": [],
   "source": [
    "# Add movie identifier to table\n",
    "imdb_test['tconst'] = imdb_title_crew_df['tconst']"
   ]
  },
  {
   "cell_type": "code",
   "execution_count": 40,
   "metadata": {},
   "outputs": [],
   "source": [
    "# Drop irrelevant columns\n",
    "imdb_test = imdb_test.drop(imdb_test.iloc[:,3:26], axis = 1)"
   ]
  },
  {
   "cell_type": "code",
   "execution_count": 41,
   "metadata": {},
   "outputs": [],
   "source": [
    "# Rename table columns\n",
    "imdb_title_crew_df['dir1'] = imdb_test[0]\n",
    "imdb_title_crew_df['dir2'] = imdb_test[1]\n",
    "imdb_title_crew_df['dir3'] = imdb_test[2]"
   ]
  },
  {
   "cell_type": "code",
   "execution_count": 42,
   "metadata": {},
   "outputs": [],
   "source": [
    "# Rename table to something shorter\n",
    "imdb_crew = imdb_title_crew_df"
   ]
  },
  {
   "cell_type": "code",
   "execution_count": 43,
   "metadata": {},
   "outputs": [],
   "source": [
    "# One column per each writer identifier\n",
    "writers = imdb_title_crew_df['writers'].str.split(pat=',',expand=True)"
   ]
  },
  {
   "cell_type": "code",
   "execution_count": 44,
   "metadata": {},
   "outputs": [
    {
     "data": {
      "text/plain": [
       "140714"
      ]
     },
     "execution_count": 44,
     "metadata": {},
     "output_type": "execute_result"
    }
   ],
   "source": [
    "writers.iloc[:,3].isna().sum() \n",
    "# Out of 146144 movies, 140714 have only max 3 writers "
   ]
  },
  {
   "cell_type": "code",
   "execution_count": 45,
   "metadata": {},
   "outputs": [],
   "source": [
    "# Rename table columns\n",
    "imdb_crew['wri1'] = writers[0]\n",
    "imdb_crew['wri2'] = writers[1]\n",
    "imdb_crew['wri3'] = writers[2]"
   ]
  },
  {
   "cell_type": "code",
   "execution_count": 46,
   "metadata": {},
   "outputs": [],
   "source": [
    "# Add director and writer names to the table\n",
    "imdb = imdb_title.set_index('tconst').join(imdb_crew.set_index('tconst'))\n",
    "nconst_to_names = imdb_people.loc[:, ['nconst','primary_name']]\n",
    "imdb = imdb.join(nconst_to_names.set_index('nconst'),\n",
    "          on='dir1',\n",
    "          rsuffix='_names')\n",
    "imdb = imdb.rename(columns={'primary_name':'dir1_name'})\n",
    "imdb = imdb.join(nconst_to_names.set_index('nconst'),\n",
    "          on='dir2',\n",
    "          rsuffix='_names')\n",
    "imdb = imdb.rename(columns={'primary_name':'dir2_name'})\n",
    "imdb = imdb.join(nconst_to_names.set_index('nconst'),\n",
    "          on='dir3',\n",
    "          rsuffix='_names')\n",
    "imdb = imdb.rename(columns={'primary_name':'dir3_name'})\n",
    "imdb = imdb.join(nconst_to_names.set_index('nconst'),\n",
    "          on='wri1',\n",
    "          rsuffix='_names')\n",
    "imdb = imdb.rename(columns={'primary_name':'wri1_name'})\n",
    "imdb = imdb.join(nconst_to_names.set_index('nconst'),\n",
    "          on='wri2',\n",
    "          rsuffix='_names')\n",
    "imdb = imdb.rename(columns={'primary_name':'wri2_name'})\n",
    "imdb = imdb.join(nconst_to_names.set_index('nconst'),\n",
    "          on='wri3',\n",
    "          rsuffix='_names')\n",
    "imdb = imdb.rename(columns={'primary_name':'wri3_name'})\n",
    "imdb = imdb.reset_index()"
   ]
  },
  {
   "cell_type": "code",
   "execution_count": 47,
   "metadata": {},
   "outputs": [],
   "source": [
    "# Add ratings to the table\n",
    "imdb = imdb.join(imdb_ratings.set_index('tconst'),\n",
    "          on='tconst',\n",
    "          rsuffix='_ratings')"
   ]
  },
  {
   "cell_type": "code",
   "execution_count": 50,
   "metadata": {},
   "outputs": [],
   "source": [
    "# One genre per column \n",
    "imdb[['genre1','genre2','genre3']] = imdb['genres'].str.split(pat=',',expand=True)"
   ]
  },
  {
   "cell_type": "code",
   "execution_count": 51,
   "metadata": {},
   "outputs": [
    {
     "data": {
      "text/html": [
       "<div>\n",
       "<style scoped>\n",
       "    .dataframe tbody tr th:only-of-type {\n",
       "        vertical-align: middle;\n",
       "    }\n",
       "\n",
       "    .dataframe tbody tr th {\n",
       "        vertical-align: top;\n",
       "    }\n",
       "\n",
       "    .dataframe thead th {\n",
       "        text-align: right;\n",
       "    }\n",
       "</style>\n",
       "<table border=\"1\" class=\"dataframe\">\n",
       "  <thead>\n",
       "    <tr style=\"text-align: right;\">\n",
       "      <th></th>\n",
       "      <th>tconst</th>\n",
       "      <th>primary_title</th>\n",
       "      <th>original_title</th>\n",
       "      <th>start_year</th>\n",
       "      <th>runtime_minutes</th>\n",
       "      <th>genres</th>\n",
       "      <th>directors</th>\n",
       "      <th>writers</th>\n",
       "      <th>dir1</th>\n",
       "      <th>dir2</th>\n",
       "      <th>...</th>\n",
       "      <th>dir2_name</th>\n",
       "      <th>dir3_name</th>\n",
       "      <th>wri1_name</th>\n",
       "      <th>wri2_name</th>\n",
       "      <th>wri3_name</th>\n",
       "      <th>averagerating</th>\n",
       "      <th>numvotes</th>\n",
       "      <th>genre1</th>\n",
       "      <th>genre2</th>\n",
       "      <th>genre3</th>\n",
       "    </tr>\n",
       "  </thead>\n",
       "  <tbody>\n",
       "    <tr>\n",
       "      <th>0</th>\n",
       "      <td>tt0063540</td>\n",
       "      <td>Sunghursh</td>\n",
       "      <td>Sunghursh</td>\n",
       "      <td>2013</td>\n",
       "      <td>175.0</td>\n",
       "      <td>Action,Crime,Drama</td>\n",
       "      <td>nm0712540</td>\n",
       "      <td>nm0023551,nm1194313,nm0347899,nm1391276</td>\n",
       "      <td>nm0712540</td>\n",
       "      <td>None</td>\n",
       "      <td>...</td>\n",
       "      <td>NaN</td>\n",
       "      <td>NaN</td>\n",
       "      <td>Abrar Alvi</td>\n",
       "      <td>Mahasweta Devi</td>\n",
       "      <td>Gulzar</td>\n",
       "      <td>7.0</td>\n",
       "      <td>77.0</td>\n",
       "      <td>Action</td>\n",
       "      <td>Crime</td>\n",
       "      <td>Drama</td>\n",
       "    </tr>\n",
       "    <tr>\n",
       "      <th>1</th>\n",
       "      <td>tt0066787</td>\n",
       "      <td>One Day Before the Rainy Season</td>\n",
       "      <td>Ashad Ka Ek Din</td>\n",
       "      <td>2019</td>\n",
       "      <td>114.0</td>\n",
       "      <td>Biography,Drama</td>\n",
       "      <td>nm0002411</td>\n",
       "      <td>None</td>\n",
       "      <td>nm0002411</td>\n",
       "      <td>None</td>\n",
       "      <td>...</td>\n",
       "      <td>NaN</td>\n",
       "      <td>NaN</td>\n",
       "      <td>NaN</td>\n",
       "      <td>NaN</td>\n",
       "      <td>NaN</td>\n",
       "      <td>7.2</td>\n",
       "      <td>43.0</td>\n",
       "      <td>Biography</td>\n",
       "      <td>Drama</td>\n",
       "      <td>None</td>\n",
       "    </tr>\n",
       "    <tr>\n",
       "      <th>2</th>\n",
       "      <td>tt0069049</td>\n",
       "      <td>The Other Side of the Wind</td>\n",
       "      <td>The Other Side of the Wind</td>\n",
       "      <td>2018</td>\n",
       "      <td>122.0</td>\n",
       "      <td>Drama</td>\n",
       "      <td>nm0000080</td>\n",
       "      <td>nm0000080,nm0462648</td>\n",
       "      <td>nm0000080</td>\n",
       "      <td>None</td>\n",
       "      <td>...</td>\n",
       "      <td>NaN</td>\n",
       "      <td>NaN</td>\n",
       "      <td>Orson Welles</td>\n",
       "      <td>Oja Kodar</td>\n",
       "      <td>NaN</td>\n",
       "      <td>6.9</td>\n",
       "      <td>4517.0</td>\n",
       "      <td>Drama</td>\n",
       "      <td>None</td>\n",
       "      <td>None</td>\n",
       "    </tr>\n",
       "    <tr>\n",
       "      <th>3</th>\n",
       "      <td>tt0069204</td>\n",
       "      <td>Sabse Bada Sukh</td>\n",
       "      <td>Sabse Bada Sukh</td>\n",
       "      <td>2018</td>\n",
       "      <td>NaN</td>\n",
       "      <td>Comedy,Drama</td>\n",
       "      <td>nm0611531</td>\n",
       "      <td>nm0347899</td>\n",
       "      <td>nm0611531</td>\n",
       "      <td>None</td>\n",
       "      <td>...</td>\n",
       "      <td>NaN</td>\n",
       "      <td>NaN</td>\n",
       "      <td>Gulzar</td>\n",
       "      <td>NaN</td>\n",
       "      <td>NaN</td>\n",
       "      <td>6.1</td>\n",
       "      <td>13.0</td>\n",
       "      <td>Comedy</td>\n",
       "      <td>Drama</td>\n",
       "      <td>None</td>\n",
       "    </tr>\n",
       "    <tr>\n",
       "      <th>4</th>\n",
       "      <td>tt0100275</td>\n",
       "      <td>The Wandering Soap Opera</td>\n",
       "      <td>La Telenovela Errante</td>\n",
       "      <td>2017</td>\n",
       "      <td>80.0</td>\n",
       "      <td>Comedy,Drama,Fantasy</td>\n",
       "      <td>nm0765384,nm0749914</td>\n",
       "      <td>nm1360635,nm0749914</td>\n",
       "      <td>nm0765384</td>\n",
       "      <td>nm0749914</td>\n",
       "      <td>...</td>\n",
       "      <td>Raoul Ruiz</td>\n",
       "      <td>NaN</td>\n",
       "      <td>Pía Rey</td>\n",
       "      <td>Raoul Ruiz</td>\n",
       "      <td>NaN</td>\n",
       "      <td>6.5</td>\n",
       "      <td>119.0</td>\n",
       "      <td>Comedy</td>\n",
       "      <td>Drama</td>\n",
       "      <td>Fantasy</td>\n",
       "    </tr>\n",
       "  </tbody>\n",
       "</table>\n",
       "<p>5 rows × 25 columns</p>\n",
       "</div>"
      ],
      "text/plain": [
       "      tconst                    primary_title              original_title  \\\n",
       "0  tt0063540                        Sunghursh                   Sunghursh   \n",
       "1  tt0066787  One Day Before the Rainy Season             Ashad Ka Ek Din   \n",
       "2  tt0069049       The Other Side of the Wind  The Other Side of the Wind   \n",
       "3  tt0069204                  Sabse Bada Sukh             Sabse Bada Sukh   \n",
       "4  tt0100275         The Wandering Soap Opera       La Telenovela Errante   \n",
       "\n",
       "   start_year  runtime_minutes                genres            directors  \\\n",
       "0        2013            175.0    Action,Crime,Drama            nm0712540   \n",
       "1        2019            114.0       Biography,Drama            nm0002411   \n",
       "2        2018            122.0                 Drama            nm0000080   \n",
       "3        2018              NaN          Comedy,Drama            nm0611531   \n",
       "4        2017             80.0  Comedy,Drama,Fantasy  nm0765384,nm0749914   \n",
       "\n",
       "                                   writers       dir1       dir2  ...  \\\n",
       "0  nm0023551,nm1194313,nm0347899,nm1391276  nm0712540       None  ...   \n",
       "1                                     None  nm0002411       None  ...   \n",
       "2                      nm0000080,nm0462648  nm0000080       None  ...   \n",
       "3                                nm0347899  nm0611531       None  ...   \n",
       "4                      nm1360635,nm0749914  nm0765384  nm0749914  ...   \n",
       "\n",
       "    dir2_name dir3_name     wri1_name       wri2_name wri3_name averagerating  \\\n",
       "0         NaN       NaN    Abrar Alvi  Mahasweta Devi    Gulzar           7.0   \n",
       "1         NaN       NaN           NaN             NaN       NaN           7.2   \n",
       "2         NaN       NaN  Orson Welles       Oja Kodar       NaN           6.9   \n",
       "3         NaN       NaN        Gulzar             NaN       NaN           6.1   \n",
       "4  Raoul Ruiz       NaN       Pía Rey      Raoul Ruiz       NaN           6.5   \n",
       "\n",
       "  numvotes     genre1 genre2   genre3  \n",
       "0     77.0     Action  Crime    Drama  \n",
       "1     43.0  Biography  Drama     None  \n",
       "2   4517.0      Drama   None     None  \n",
       "3     13.0     Comedy  Drama     None  \n",
       "4    119.0     Comedy  Drama  Fantasy  \n",
       "\n",
       "[5 rows x 25 columns]"
      ]
     },
     "execution_count": 51,
     "metadata": {},
     "output_type": "execute_result"
    }
   ],
   "source": [
    "imdb.head()"
   ]
  },
  {
   "cell_type": "code",
   "execution_count": 52,
   "metadata": {},
   "outputs": [],
   "source": [
    "# Create a dataset that has ratings by genre, which one row for each genre\n",
    "rgdata1 = imdb[['genre1','averagerating','start_year','numvotes']].loc[imdb['genre1'].notna()]\n",
    "rgdata1 = rgdata1.rename(columns={'genre1':'genre'})\n",
    "rgdata2 = imdb[['genre2','averagerating','start_year','numvotes']].loc[imdb['genre2'].notna()]\n",
    "rgdata2 = rgdata2.rename(columns={'genre2':'genre'})\n",
    "rgdata3 = imdb[['genre3','averagerating','start_year','numvotes']].loc[imdb['genre3'].notna()]\n",
    "rgdata3 = rgdata3.rename(columns={'genre3':'genre'})\n",
    "rgdata4 = pd.concat([rgdata1, rgdata2, rgdata3])\n",
    "rgdata5 = rgdata4[['genre','averagerating','start_year','numvotes']].loc[rgdata4['averagerating'].notna()]\n",
    "rgdata6 = rgdata5.loc[rgdata5['numvotes']>100]"
   ]
  },
  {
   "cell_type": "markdown",
   "metadata": {},
   "source": [
    "## Business questions to be answered"
   ]
  },
  {
   "cell_type": "markdown",
   "metadata": {},
   "source": [
    "1. What genre had the highest multiple on money invested?\n",
    "2. What genre had the highest worldwide gross revenue?\n",
    "3. What month of the year is the most lucrative release month?\n",
    "4. What director has the most top rated movies?\n",
    "5. What genre appears most often in the top rated movies?\n",
    "6. How are different genres rated more broadly?"
   ]
  },
  {
   "cell_type": "markdown",
   "metadata": {},
   "source": [
    "### Question 1: What genre had the highest multiple on money invested?"
   ]
  },
  {
   "cell_type": "code",
   "execution_count": 166,
   "metadata": {},
   "outputs": [],
   "source": [
    "# # only movies since 1990\n",
    "# tbi_since1990 = tbi_genre.loc[tbi_genre['release_year'] > 1989]\n",
    "# genre_vs_mom = tbi_since1990.groupby(['genre']).median().sort_values(by='global_mom',ascending=False)['global_mom']\n",
    "# genre_vs_mom = genre_vs_mom.reset_index()"
   ]
  },
  {
   "cell_type": "code",
   "execution_count": 167,
   "metadata": {},
   "outputs": [],
   "source": [
    "# plt.figure(figsize=(10, 10))\n",
    "# chart = sns.barplot(x='genre',y='global_mom',data=genre_vs_mom, ci=None, color = 'turquoise')\n",
    "\n",
    "# # set labels\n",
    "# plt.xlabel(\"Genre\", size=15)\n",
    "# plt.ylabel(\"Median Global MoM\", size=15)\n",
    "# plt.title(\"Top Genres by Multiple on Money (MoM) since 1990\", size=18)\n",
    "# plt.xticks(\n",
    "#     rotation=45, \n",
    "#     horizontalalignment='right',\n",
    "#     fontweight='light',\n",
    "#     fontsize='x-large'  \n",
    "# )\n",
    "# plt.show()"
   ]
  },
  {
   "cell_type": "code",
   "execution_count": 53,
   "metadata": {},
   "outputs": [],
   "source": [
    "# all movies in database\n",
    "genre_vs_mom_all = tbi_genre.groupby(['genre']).median().sort_values(by='global_mom',ascending=False)['global_mom']\n",
    "genre_vs_mom_all = genre_vs_mom_all.reset_index()"
   ]
  },
  {
   "cell_type": "code",
   "execution_count": 68,
   "metadata": {},
   "outputs": [
    {
     "data": {
      "image/png": "[encoded data removed]",
      "text/plain": [
       "<Figure size 720x720 with 1 Axes>"
      ]
     },
     "metadata": {
      "needs_background": "light"
     },
     "output_type": "display_data"
    }
   ],
   "source": [
    "plt.figure(figsize=(10, 10))\n",
    "chart = sns.barplot(x='genre',y='global_mom',data=genre_vs_mom_all, ci=None, color = 'turquoise')\n",
    "\n",
    "# set labels\n",
    "plt.xlabel(\"Genre\", size=15)\n",
    "plt.ylabel(\"Median Global MoM\", size=15)\n",
    "plt.title(\"Top Genres by Multiple on Money (MoM)\", size=18)\n",
    "plt.xticks(\n",
    "    rotation=45, \n",
    "    horizontalalignment='right',\n",
    "    fontweight='light',\n",
    "    fontsize='x-large'  \n",
    ")\n",
    "plt.savefig('genres_mom.png')\n",
    "plt.show()\n"
   ]
  },
  {
   "cell_type": "markdown",
   "metadata": {},
   "source": [
    "__Commentary__: The genres with the highest multiple on money (calculated as worldwide gross / production budget) are: 'Mystery', 'Animation', and 'Sci-Fi'."
   ]
  },
  {
   "cell_type": "markdown",
   "metadata": {},
   "source": [
    "### Question 2: What genre had the highest worldwide gross revenue?"
   ]
  },
  {
   "cell_type": "code",
   "execution_count": 70,
   "metadata": {},
   "outputs": [],
   "source": [
    "# pull chart data\n",
    "genre_vs_wwg_all = tbi_genre.groupby(['genre']).median().sort_values(by='worldwide_gross_$m',ascending=False)['worldwide_gross_$m']\n",
    "genre_vs_wwg_all = genre_vs_wwg_all.reset_index()"
   ]
  },
  {
   "cell_type": "code",
   "execution_count": 71,
   "metadata": {},
   "outputs": [
    {
     "data": {
      "image/png": "[encoded data removed]",
      "text/plain": [
       "<Figure size 720x720 with 1 Axes>"
      ]
     },
     "metadata": {
      "needs_background": "light"
     },
     "output_type": "display_data"
    }
   ],
   "source": [
    "plt.figure(figsize=(10, 10))\n",
    "chart = sns.barplot(x='genre',y='worldwide_gross_$m',data=genre_vs_wwg_all, ci=None, color = 'slateblue')\n",
    "\n",
    "# set labels\n",
    "plt.xlabel(\"Genre\", size=15)\n",
    "plt.ylabel(\"Median Worldwide Gross Earnings\", size=15)\n",
    "plt.title(\"Top Genres by Worldwide Gross Earnings (median)\", size=18)\n",
    "plt.xticks(\n",
    "    rotation=45, \n",
    "    horizontalalignment='right',\n",
    "    fontweight='light',\n",
    "    fontsize='x-large'  \n",
    ")\n",
    "plt.savefig('genres_wwg.png')\n",
    "plt.show()"
   ]
  },
  {
   "cell_type": "markdown",
   "metadata": {},
   "source": [
    "__Commentary__: The genres with the highest median worldwide gross earnings is 'Animation', followed by 'Sci-Fi' and 'Adventure'. Especially notable are 'Animation' and 'Sci-Fi' which also ranked highly on the multiple on money analysis, indiciating that these are both high return and high absolute revenue genres."
   ]
  },
  {
   "cell_type": "markdown",
   "metadata": {},
   "source": [
    "### Question 3: What month of the year is the most lucrative release month?"
   ]
  },
  {
   "cell_type": "code",
   "execution_count": 73,
   "metadata": {},
   "outputs": [],
   "source": [
    "# get chart data\n",
    "mom_by_month = tbi.groupby(['release_month']).median().sort_values(by='release_month',ascending=True)['global_mom']\n",
    "mom_by_month = mom_by_month.reset_index()"
   ]
  },
  {
   "cell_type": "code",
   "execution_count": 74,
   "metadata": {},
   "outputs": [],
   "source": [
    "# format data\n",
    "mom_by_month = mom_by_month.replace(to_replace = 12.0,value='December')\n",
    "mom_by_month = mom_by_month.replace(to_replace = 11.0,value='November')\n",
    "mom_by_month = mom_by_month.replace(to_replace = 10.0,value='October')\n",
    "mom_by_month = mom_by_month.replace(to_replace = 9.0,value='September')\n",
    "mom_by_month = mom_by_month.replace(to_replace = 8.0,value='August')\n",
    "mom_by_month = mom_by_month.replace(to_replace = 7.0,value='July')\n",
    "mom_by_month = mom_by_month.replace(to_replace = 6.0,value='June')\n",
    "mom_by_month = mom_by_month.replace(to_replace = 5.0,value='May')\n",
    "mom_by_month = mom_by_month.replace(to_replace = 4.0,value='April')\n",
    "mom_by_month = mom_by_month.replace(to_replace = 3.0,value='March')\n",
    "mom_by_month = mom_by_month.replace(to_replace = 2.0,value='February')\n",
    "mom_by_month = mom_by_month.replace(to_replace = 1.0,value='January')"
   ]
  },
  {
   "cell_type": "code",
   "execution_count": 76,
   "metadata": {},
   "outputs": [
    {
     "data": {
      "image/png": "[encoded data removed]",
      "text/plain": [
       "<Figure size 720x720 with 1 Axes>"
      ]
     },
     "metadata": {
      "needs_background": "light"
     },
     "output_type": "display_data"
    }
   ],
   "source": [
    "plt.figure(figsize=(10, 10))\n",
    "chart = sns.barplot(x='release_month',y='global_mom',data=mom_by_month, color='orchid',ci=None)\n",
    "\n",
    "# set labels\n",
    "plt.xlabel(\"Month\", size=15)\n",
    "plt.ylabel(\"Median Multiple on Money\", size=15)\n",
    "plt.title(\"Median Multiple on Money by Month\", size=18)\n",
    "plt.xticks(\n",
    "    rotation=45, \n",
    "    horizontalalignment='right',\n",
    "    fontweight='light',\n",
    "    fontsize='x-large'  \n",
    ")\n",
    "plt.savefig('genres_month.png')\n",
    "plt.show()"
   ]
  },
  {
   "cell_type": "markdown",
   "metadata": {},
   "source": [
    "__Commentary__: The summer months of June and July have the highest multiple on money releases."
   ]
  },
  {
   "cell_type": "markdown",
   "metadata": {},
   "source": [
    "### Question 4: What director has the most top rated movies?"
   ]
  },
  {
   "cell_type": "code",
   "execution_count": 78,
   "metadata": {},
   "outputs": [],
   "source": [
    "# create chart data\n",
    "chart1data1 = imdb.sort_values(by='averagerating',ascending = False).loc[(imdb['averagerating'].notna()) & (imdb['numvotes']>100)]\n",
    "chart1data2 = chart1data1.sort_values(by='averagerating',ascending = False).loc[imdb['averagerating'] > 7.5]\n",
    "chart1data3 = chart1data2.groupby('dir1_name').count().sort_values(by='tconst',ascending = False)\n",
    "chart1data4 = chart1data3.loc[chart1data3['tconst'] > 3]['tconst']"
   ]
  },
  {
   "cell_type": "code",
   "execution_count": 79,
   "metadata": {},
   "outputs": [
    {
     "data": {
      "image/png": "[encoded data removed]",
      "text/plain": [
       "<Figure size 720x288 with 1 Axes>"
      ]
     },
     "metadata": {
      "needs_background": "light"
     },
     "output_type": "display_data"
    }
   ],
   "source": [
    "fig, chart1 = plt.subplots()\n",
    "fig.set_size_inches(10, 4)\n",
    "chart1index = list(chart1data4.index)\n",
    "chart1values = list(chart1data4)\n",
    "chart1 = sns.barplot(x=chart1values, \n",
    "                     y=chart1index,\n",
    "                     color='darkblue')\n",
    "chart1.set(ylabel='Director Name', xlabel='Number Of Movies')\n",
    "chart1.set_title('Directors with most movies with 7.5+ ratings')\n",
    "plt.savefig('directors.png')"
   ]
  },
  {
   "cell_type": "markdown",
   "metadata": {},
   "source": [
    "__Commentary:__ Since 2010, Paul Dugdale has directed the most movies with a 7.5+ / 10 rating on Imdb (with at least 100 votes). Dugdale directed six, with Ganguly and Villeneuve directing five, and a group including Scorsese and Nolan directing four."
   ]
  },
  {
   "cell_type": "markdown",
   "metadata": {},
   "source": [
    "### Question 5: What genre appears most often in the top rated movies?"
   ]
  },
  {
   "cell_type": "code",
   "execution_count": 81,
   "metadata": {},
   "outputs": [],
   "source": [
    "# create chart data\n",
    "#rgdata6 = one row per genre, movies with at least 100 numvotes and no 'averagerating' N/A, since 2010\n",
    "chart2data1 = rgdata6.sort_values('averagerating', ascending=False)\n",
    "chart2data1 = chart2data1.loc[chart2data1['averagerating'] > 7.5]\n",
    "chart2data1 = chart2data1.groupby('genre').count()['averagerating'].nlargest(10)"
   ]
  },
  {
   "cell_type": "code",
   "execution_count": 82,
   "metadata": {},
   "outputs": [
    {
     "data": {
      "image/png": "[encoded data removed]",
      "text/plain": [
       "<Figure size 792x576 with 1 Axes>"
      ]
     },
     "metadata": {
      "needs_background": "light"
     },
     "output_type": "display_data"
    }
   ],
   "source": [
    "fig, chart2 = plt.subplots()\n",
    "fig.set_size_inches(11, 8)\n",
    "chart2ylabel = list(chart2data1.index)\n",
    "chart2values = list(chart2data1)\n",
    "chart2 = sns.barplot(x=chart2values, \n",
    "                     y=chart2ylabel,\n",
    "                     color='darkblue')\n",
    "chart2.set(ylabel='Genre', xlabel='Number Of Movies')\n",
    "chart2.set_title('Movies With 8.0+ Ratings')\n",
    "plt.savefig('genres_ratings.png')"
   ]
  },
  {
   "cell_type": "markdown",
   "metadata": {},
   "source": [
    "__Commentary:__ Since 2010, Drama is the genre with the most movies with a 7.5+ / 10 rating on Imdb (with at least 100 votes). Other notable genres are Documentary and Comedy."
   ]
  },
  {
   "cell_type": "markdown",
   "metadata": {},
   "source": [
    "### Question 6: How are different genres rated more broadly?"
   ]
  },
  {
   "cell_type": "code",
   "execution_count": 83,
   "metadata": {},
   "outputs": [],
   "source": [
    "# Create dataset for chart\n",
    "# rgdata6 = one row per genre, movies with at least 100 numvotes and no 'averagerating' N/A, since 2010\n",
    "chart3data1 = rgdata6.groupby('genre').describe()\n",
    "chart3data1.drop(chart3data1.columns[8:],axis=1,inplace=True)\n",
    "chart3data2 = chart3data1.loc[chart3data1['averagerating', 'count'] > 250]\n",
    "chart3data2 = chart3data2.sort_values(by=('averagerating', '50%'),ascending=False)\n",
    "\n",
    "# Manually select the top 10 Median genres\n",
    "Top10Median = list(chart3data2.head(10).index)\n",
    "\n",
    "chart3data3 = rgdata6.loc[rgdata6['genre'].isin(Top10Median)]\n",
    "chart3data4 = chart3data3[['genre','averagerating']]\n",
    "char3data4index = chart3data4.groupby('genre').median().sort_values(by='averagerating',ascending=False).index"
   ]
  },
  {
   "cell_type": "code",
   "execution_count": 85,
   "metadata": {},
   "outputs": [
    {
     "data": {
      "image/png": "[encoded data removed]",
      "text/plain": [
       "<Figure size 792x576 with 1 Axes>"
      ]
     },
     "metadata": {
      "needs_background": "light"
     },
     "output_type": "display_data"
    }
   ],
   "source": [
    "fig, chart3 = plt.subplots()\n",
    "fig.set_size_inches(11, 8)\n",
    "chart3 = sns.violinplot(x=\"averagerating\", \n",
    "                    y=\"genre\", \n",
    "                    data=chart3data4,\n",
    "                    order=char3data4index)\n",
    "chart3.set(ylabel='Genre', xlabel='Average Rating')\n",
    "chart3.set_title('Ratings by Genre')\n",
    "plt.savefig('genres_ratings2.png')"
   ]
  },
  {
   "cell_type": "markdown",
   "metadata": {},
   "source": [
    "__Commentary:__ Documentary is a very attractive genre given its high median rating and a distribution of ratings that really centers around the median. It also had the second highest number of top rated movies based on our analysis from question 5. Drama on the other had had the most top rated movies. However, this chart illustrates that that was largely driven by a large number of movies produced overall. When looking at the chart above, Drama ranks low on the median rating, and has a wider distribution.  "
   ]
  }
 ],
 "metadata": {
  "kernelspec": {
   "display_name": "Python 3",
   "language": "python",
   "name": "python3"
  },
  "language_info": {
   "codemirror_mode": {
    "name": "ipython",
    "version": 3
   },
   "file_extension": ".py",
   "mimetype": "text/x-python",
   "name": "python",
   "nbconvert_exporter": "python",
   "pygments_lexer": "ipython3",
   "version": "3.7.6"
  }
 },
 "nbformat": 4,
 "nbformat_minor": 4
}
