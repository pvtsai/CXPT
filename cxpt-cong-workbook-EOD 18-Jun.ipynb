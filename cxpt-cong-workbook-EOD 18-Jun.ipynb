{
 "cells": [
  {
   "cell_type": "markdown",
   "metadata": {},
   "source": [
    "# Cong Workbook\n"
   ]
  },
  {
   "cell_type": "markdown",
   "metadata": {},
   "source": [
    "### Import Libraries\n",
    "Let's first import some stuff"
   ]
  },
  {
   "cell_type": "code",
   "execution_count": 240,
   "metadata": {},
   "outputs": [],
   "source": [
    "import numpy as np\n",
    "import pandas as pd\n",
    "import matplotlib.pyplot as plt"
   ]
  },
  {
   "cell_type": "code",
   "execution_count": 241,
   "metadata": {},
   "outputs": [
    {
     "name": "stdout",
     "output_type": "stream",
     "text": [
      "Requirement already satisfied: mysql-connector-python in c:\\users\\cxu19\\anaconda\\lib\\site-packages (8.0.20)\n",
      "Requirement already satisfied: protobuf>=3.0.0 in c:\\users\\cxu19\\anaconda\\lib\\site-packages (from mysql-connector-python) (3.12.2)\n",
      "Requirement already satisfied: six>=1.9 in c:\\users\\cxu19\\anaconda\\lib\\site-packages (from protobuf>=3.0.0->mysql-connector-python) (1.14.0)\n",
      "Requirement already satisfied: setuptools in c:\\users\\cxu19\\anaconda\\lib\\site-packages (from protobuf>=3.0.0->mysql-connector-python) (45.2.0.post20200210)\n"
     ]
    }
   ],
   "source": [
    "!pip install mysql-connector-python"
   ]
  },
  {
   "cell_type": "code",
   "execution_count": 242,
   "metadata": {},
   "outputs": [],
   "source": [
    "import mysql.connector"
   ]
  },
  {
   "cell_type": "code",
   "execution_count": 243,
   "metadata": {},
   "outputs": [],
   "source": [
    "con = mysql.connector.connect(user='hbs-student', password='super-secure-password?',\n",
    "                              host='hbs-ds-060120.c1doesqrid0e.us-east-1.rds.amazonaws.com',\n",
    "                              database='movies')"
   ]
  },
  {
   "cell_type": "markdown",
   "metadata": {},
   "source": [
    "### Loading SQL Queries"
   ]
  },
  {
   "cell_type": "code",
   "execution_count": 244,
   "metadata": {},
   "outputs": [],
   "source": [
    "tn = pd.DataFrame(pd.read_sql_query(\"\"\"\n",
    "SELECT * \n",
    "FROM movies.tn_movie_budgets\"\"\", con))"
   ]
  },
  {
   "cell_type": "code",
   "execution_count": 245,
   "metadata": {},
   "outputs": [],
   "source": [
    "#Change data types\n",
    "tn['domestic_gross'] = tn['domestic_gross'].str.replace('$','')  \n",
    "tn['domestic_gross'] = tn['domestic_gross'].str.replace(',','')\n",
    "tn['domestic_gross'] = tn['domestic_gross'].astype(float)\n",
    "tn['worldwide_gross'] =tn['worldwide_gross'].str.replace('$','')\n",
    "tn['worldwide_gross'] =tn['worldwide_gross'].str.replace(',','')\n",
    "tn['worldwide_gross'] =tn['worldwide_gross'].astype(float) \n",
    "tn['production_budget'] =tn['production_budget'].str.replace('$','')\n",
    "tn['production_budget'] =tn['production_budget'].str.replace(',','')\n",
    "tn['production_budget'] =tn['production_budget'].astype(float) \n",
    "tn['release_date'] = pd.to_datetime(tn['release_date'])"
   ]
  },
  {
   "cell_type": "code",
   "execution_count": 246,
   "metadata": {},
   "outputs": [],
   "source": [
    "bom = pd.DataFrame(pd.read_sql_query(\"\"\"\n",
    "SELECT * \n",
    "FROM movies.bom_movie_gross\"\"\", con))"
   ]
  },
  {
   "cell_type": "code",
   "execution_count": 247,
   "metadata": {},
   "outputs": [],
   "source": [
    "tmd = pd.DataFrame(pd.read_sql_query(\"\"\"\n",
    "SELECT\n",
    "\ttitle,\n",
    "    vote_average,\n",
    "    popularity,\n",
    "    release_date\n",
    "FROM movies.tmdb_movies\"\"\", con))"
   ]
  },
  {
   "cell_type": "code",
   "execution_count": 248,
   "metadata": {},
   "outputs": [],
   "source": [
    "tmd['release_date'] = pd.to_datetime(tmd['release_date'])"
   ]
  },
  {
   "cell_type": "code",
   "execution_count": 249,
   "metadata": {},
   "outputs": [],
   "source": [
    "tmd = tmd.drop_duplicates(subset='title',keep=False)"
   ]
  },
  {
   "cell_type": "code",
   "execution_count": 250,
   "metadata": {},
   "outputs": [],
   "source": [
    "imdb_title_basics = pd.DataFrame(pd.read_sql_query(\"\"\"\n",
    "SELECT \n",
    "\tprimary_title,\n",
    "    genres,\n",
    "    start_year\n",
    "FROM movies.imdb_title_basics\"\"\", con))"
   ]
  },
  {
   "cell_type": "code",
   "execution_count": 251,
   "metadata": {},
   "outputs": [],
   "source": [
    "imdb_title_basics['title_new'] = imdb_title_basics['primary_title'].apply(lambda x: x.replace(' ',''))\n",
    "imdb_title_basics['title_new'] = imdb_title_basics['title_new'].apply(lambda x: x.lower())\n",
    "imdb_title_basics['title_new_year'] = imdb_title_basics['title_new'] + imdb_title_basics['start_year'].astype(str)"
   ]
  },
  {
   "cell_type": "code",
   "execution_count": 302,
   "metadata": {},
   "outputs": [],
   "source": [
    "# SELECT *\n",
    "# FROM movies.imdb_title_basics\n",
    "# JOIN movies.imdb_title_ratings USING (tconst)\n",
    "#to compare ImDB genre to ratings "
   ]
  },
  {
   "cell_type": "code",
   "execution_count": 303,
   "metadata": {},
   "outputs": [],
   "source": [
    "# SELECT\n",
    "# \tnconst,\n",
    "#     tconst,\n",
    "#     ordering,\n",
    "#     category,\n",
    "#     primary_title,\n",
    "#     start_year,\n",
    "#     genres,\n",
    "#     primary_name,\n",
    "#     averagerating,\n",
    "#     numvotes\n",
    "# FROM movies.imdb_title_principals\n",
    "# JOIN movies.imdb_title_basics USING (tconst)\n",
    "# JOIN movies.imdb_name_basics USING (nconst)\n",
    "# JOIN movies.imdb_title_ratings USING (tconst)\n",
    "# WHERE start_year >= 2015\n",
    "#to show which actresses / actors / directors appeared in most highly rated movies since 2015"
   ]
  },
  {
   "cell_type": "code",
   "execution_count": 304,
   "metadata": {},
   "outputs": [],
   "source": [
    "# tn = pd.DataFrame(pd.read_sql_query(\"\"\"\n",
    "# SELECT Count(*)\n",
    "# \ttconst,\n",
    "#     primary_title,\n",
    "#     averagerating,\n",
    "#     numvotes\n",
    "# FROM movies.imdb_title_ratings\n",
    "# JOIN movies.imdb_title_basics USING (tconst)\"\"\", con))\n",
    "# to join with tbi to get ratings vs. box office success correlation"
   ]
  },
  {
   "cell_type": "markdown",
   "metadata": {},
   "source": [
    "### Worldwide Gross by Genre and Season"
   ]
  },
  {
   "cell_type": "code",
   "execution_count": 252,
   "metadata": {},
   "outputs": [],
   "source": [
    "# JOIN bom and tn\n",
    "tb = tn.join(bom.set_index('title'),\n",
    "             on='movie',\n",
    "             how='outer',\n",
    "             lsuffix='_tn',\n",
    "             rsuffix='_bom')"
   ]
  },
  {
   "cell_type": "code",
   "execution_count": 253,
   "metadata": {},
   "outputs": [],
   "source": [
    "# JOIN tb with tmd\n",
    "tbt = tb.join(\n",
    "        tmd.set_index('title'),\n",
    "        on='movie',\n",
    "        how='left',\n",
    "        rsuffix='_tmd')"
   ]
  },
  {
   "cell_type": "code",
   "execution_count": 254,
   "metadata": {},
   "outputs": [],
   "source": [
    "tbt['release_date'] = np.where(tbt['release_date'].isna(), tbt['release_date_tmd'], tbt['release_date']) "
   ]
  },
  {
   "cell_type": "code",
   "execution_count": 255,
   "metadata": {},
   "outputs": [],
   "source": [
    "tbt = tbt.drop(columns='release_date_tmd')"
   ]
  },
  {
   "cell_type": "code",
   "execution_count": 256,
   "metadata": {},
   "outputs": [],
   "source": [
    "tbt['year'] = np.where(tbt['release_date'].isna(), tbt['year'], tbt['release_date'].dt.year)\n",
    "tbt['movie_new'] = tbt['movie'].apply(lambda x: x.replace(' ',''))\n",
    "tbt['movie_new'] = tbt['movie_new'].apply(lambda x: x.lower())\n",
    "tbt['movie_new_year'] = tbt['movie_new'] + tbt['year'].astype(str)\n",
    "tbt['movie_new_year'] = tbt['movie_new_year'].apply(lambda x: x.replace('.0','')) "
   ]
  },
  {
   "cell_type": "code",
   "execution_count": 257,
   "metadata": {},
   "outputs": [],
   "source": [
    "# JOIN tbt with imdb_title_basics\n",
    "tbi = tbt.join(imdb_title_basics.set_index('title_new_year'),\n",
    "        on='movie_new_year',\n",
    "        how='left',\n",
    "        rsuffix='_imdb')"
   ]
  },
  {
   "cell_type": "code",
   "execution_count": 258,
   "metadata": {},
   "outputs": [],
   "source": [
    "tbi = tbi.drop_duplicates(subset = 'movie')"
   ]
  },
  {
   "cell_type": "code",
   "execution_count": 259,
   "metadata": {},
   "outputs": [],
   "source": [
    "tbi['domestic_gross_tn'] = np.where(tbi['domestic_gross_tn'].isna(), tbi['domestic_gross_bom'], tbi['domestic_gross_tn']) \n",
    "tbi = tbi.drop(columns=['domestic_gross_bom','studio'])\n",
    "tbi[['genre1','genre2','genre3']] = tbi['genres'].str.split(pat=',',expand=True)a\n",
    "tbi['release_month'] = tbi['release_date'].dt.month\n",
    "tbi = tbi.rename(columns={'production_budget':'production_budget_$m','domestic_gross_tn':'domestic_gross_$m','worldwide_gross':'worldwide_gross_$m', 'foreign_gross':'foreign_gross_$m'})"
   ]
  },
  {
   "cell_type": "code",
   "execution_count": 260,
   "metadata": {},
   "outputs": [],
   "source": [
    "tbi['production_budget_$m'] = tbi['production_budget_$m'].apply(lambda x: '{:.0f}'.format(x/1000000))\n",
    "tbi['domestic_gross_$m'] = tbi['domestic_gross_$m'].apply(lambda x: '{:.0f}'.format(x/1000000))\n",
    "tbi['worldwide_gross_$m'] = tbi['worldwide_gross_$m'].apply(lambda x: '{:.0f}'.format(x/1000000))\n",
    "tbi['foreign_gross_$m'] = tbi['foreign_gross_$m'].apply(lambda x: '{:.0f}'.format(x/1000000))"
   ]
  },
  {
   "cell_type": "code",
   "execution_count": 261,
   "metadata": {},
   "outputs": [],
   "source": [
    "tbi['production_budget_$m'] = tbi['production_budget_$m'].astype(float)\n",
    "tbi['domestic_gross_$m'] = tbi['domestic_gross_$m'].astype(float)\n",
    "tbi['worldwide_gross_$m'] = tbi['worldwide_gross_$m'].astype(float)\n",
    "tbi['foreign_gross_$m'] = tbi['foreign_gross_$m'].astype(float)"
   ]
  },
  {
   "cell_type": "code",
   "execution_count": 262,
   "metadata": {},
   "outputs": [],
   "source": [
    "tbi['release_year'] = tbi['release_date'].dt.year\n",
    "tbi['global_mom'] = tbi['worldwide_gross_$m'] / tbi['production_budget_$m']\n",
    "tbi = tbi.round({'global_mom':2})"
   ]
  },
  {
   "cell_type": "code",
   "execution_count": 263,
   "metadata": {},
   "outputs": [],
   "source": [
    "tbi['release_year'] = tbi['release_date'].dt.year\n",
    "tbi['release_month'] = tbi['release_date'].dt.month"
   ]
  },
  {
   "cell_type": "code",
   "execution_count": 264,
   "metadata": {},
   "outputs": [],
   "source": [
    "tbi['worldwide_gross_$m'] = np.where(tbi['worldwide_gross_$m'].isna(), tbi['domestic_gross_$m'] + tbi['foreign_gross_$m'], tbi['worldwide_gross_$m'])"
   ]
  },
  {
   "cell_type": "code",
   "execution_count": 265,
   "metadata": {},
   "outputs": [],
   "source": [
    "tbi = tbi.drop(columns=['year','start_year','movie_new'])"
   ]
  },
  {
   "cell_type": "code",
   "execution_count": 269,
   "metadata": {},
   "outputs": [
    {
     "data": {
      "text/html": [
       "<div>\n",
       "<style scoped>\n",
       "    .dataframe tbody tr th:only-of-type {\n",
       "        vertical-align: middle;\n",
       "    }\n",
       "\n",
       "    .dataframe tbody tr th {\n",
       "        vertical-align: top;\n",
       "    }\n",
       "\n",
       "    .dataframe thead th {\n",
       "        text-align: right;\n",
       "    }\n",
       "</style>\n",
       "<table border=\"1\" class=\"dataframe\">\n",
       "  <thead>\n",
       "    <tr style=\"text-align: right;\">\n",
       "      <th></th>\n",
       "      <th>id</th>\n",
       "      <th>release_date</th>\n",
       "      <th>movie</th>\n",
       "      <th>production_budget_$m</th>\n",
       "      <th>domestic_gross_$m</th>\n",
       "      <th>worldwide_gross_$m</th>\n",
       "      <th>foreign_gross_$m</th>\n",
       "      <th>vote_average</th>\n",
       "      <th>popularity</th>\n",
       "      <th>movie_new_year</th>\n",
       "      <th>primary_title</th>\n",
       "      <th>genres</th>\n",
       "      <th>title_new</th>\n",
       "      <th>genre1</th>\n",
       "      <th>genre2</th>\n",
       "      <th>genre3</th>\n",
       "      <th>release_month</th>\n",
       "      <th>release_year</th>\n",
       "      <th>global_mom</th>\n",
       "    </tr>\n",
       "  </thead>\n",
       "  <tbody>\n",
       "    <tr>\n",
       "      <th>NaN</th>\n",
       "      <td>NaN</td>\n",
       "      <td>2014-12-31</td>\n",
       "      <td>Cake</td>\n",
       "      <td>NaN</td>\n",
       "      <td>2.0</td>\n",
       "      <td>NaN</td>\n",
       "      <td>NaN</td>\n",
       "      <td>6.3</td>\n",
       "      <td>9.317</td>\n",
       "      <td>cake2014</td>\n",
       "      <td>Cake</td>\n",
       "      <td>Drama</td>\n",
       "      <td>cake</td>\n",
       "      <td>Drama</td>\n",
       "      <td>None</td>\n",
       "      <td>None</td>\n",
       "      <td>12.0</td>\n",
       "      <td>2014.0</td>\n",
       "      <td>NaN</td>\n",
       "    </tr>\n",
       "  </tbody>\n",
       "</table>\n",
       "</div>"
      ],
      "text/plain": [
       "     id release_date movie  production_budget_$m  domestic_gross_$m  \\\n",
       "NaN NaN   2014-12-31  Cake                   NaN                2.0   \n",
       "\n",
       "     worldwide_gross_$m  foreign_gross_$m  vote_average  popularity  \\\n",
       "NaN                 NaN               NaN           6.3       9.317   \n",
       "\n",
       "    movie_new_year primary_title genres title_new genre1 genre2 genre3  \\\n",
       "NaN       cake2014          Cake  Drama      cake  Drama   None   None   \n",
       "\n",
       "     release_month  release_year  global_mom  \n",
       "NaN           12.0        2014.0         NaN  "
      ]
     },
     "execution_count": 269,
     "metadata": {},
     "output_type": "execute_result"
    }
   ],
   "source": [
    "tbi.loc[tbi['movie'] == 'Cake']"
   ]
  },
  {
   "cell_type": "markdown",
   "metadata": {},
   "source": [
    "### Execution"
   ]
  },
  {
   "cell_type": "code",
   "execution_count": 270,
   "metadata": {},
   "outputs": [],
   "source": [
    "tbi_since1990 = tbi.loc[tbi['release_year'] > 1989]"
   ]
  },
  {
   "cell_type": "code",
   "execution_count": 271,
   "metadata": {},
   "outputs": [
    {
     "data": {
      "text/html": [
       "<div>\n",
       "<style scoped>\n",
       "    .dataframe tbody tr th:only-of-type {\n",
       "        vertical-align: middle;\n",
       "    }\n",
       "\n",
       "    .dataframe tbody tr th {\n",
       "        vertical-align: top;\n",
       "    }\n",
       "\n",
       "    .dataframe thead th {\n",
       "        text-align: right;\n",
       "    }\n",
       "</style>\n",
       "<table border=\"1\" class=\"dataframe\">\n",
       "  <thead>\n",
       "    <tr style=\"text-align: right;\">\n",
       "      <th></th>\n",
       "      <th>id</th>\n",
       "      <th>production_budget_$m</th>\n",
       "      <th>domestic_gross_$m</th>\n",
       "      <th>worldwide_gross_$m</th>\n",
       "      <th>foreign_gross_$m</th>\n",
       "      <th>vote_average</th>\n",
       "      <th>popularity</th>\n",
       "      <th>release_month</th>\n",
       "      <th>release_year</th>\n",
       "      <th>global_mom</th>\n",
       "    </tr>\n",
       "    <tr>\n",
       "      <th>genre1</th>\n",
       "      <th></th>\n",
       "      <th></th>\n",
       "      <th></th>\n",
       "      <th></th>\n",
       "      <th></th>\n",
       "      <th></th>\n",
       "      <th></th>\n",
       "      <th></th>\n",
       "      <th></th>\n",
       "      <th></th>\n",
       "    </tr>\n",
       "  </thead>\n",
       "  <tbody>\n",
       "    <tr>\n",
       "      <th>Action</th>\n",
       "      <td>50.615385</td>\n",
       "      <td>79.127473</td>\n",
       "      <td>72.541301</td>\n",
       "      <td>227.043053</td>\n",
       "      <td>160.816489</td>\n",
       "      <td>6.129218</td>\n",
       "      <td>14.662453</td>\n",
       "      <td>6.820244</td>\n",
       "      <td>2014.089005</td>\n",
       "      <td>2.618996</td>\n",
       "    </tr>\n",
       "    <tr>\n",
       "      <th>Adventure</th>\n",
       "      <td>46.288344</td>\n",
       "      <td>82.018405</td>\n",
       "      <td>88.758974</td>\n",
       "      <td>262.745946</td>\n",
       "      <td>187.428571</td>\n",
       "      <td>6.368182</td>\n",
       "      <td>13.933727</td>\n",
       "      <td>7.497436</td>\n",
       "      <td>2014.271795</td>\n",
       "      <td>3.219012</td>\n",
       "    </tr>\n",
       "    <tr>\n",
       "      <th>Animation</th>\n",
       "      <td>43.111111</td>\n",
       "      <td>42.555556</td>\n",
       "      <td>51.764706</td>\n",
       "      <td>181.250000</td>\n",
       "      <td>142.222222</td>\n",
       "      <td>5.806667</td>\n",
       "      <td>7.183933</td>\n",
       "      <td>8.588235</td>\n",
       "      <td>2013.647059</td>\n",
       "      <td>3.276667</td>\n",
       "    </tr>\n",
       "    <tr>\n",
       "      <th>Biography</th>\n",
       "      <td>51.640351</td>\n",
       "      <td>23.868421</td>\n",
       "      <td>27.205882</td>\n",
       "      <td>66.204380</td>\n",
       "      <td>45.252632</td>\n",
       "      <td>6.781343</td>\n",
       "      <td>9.944806</td>\n",
       "      <td>8.494118</td>\n",
       "      <td>2014.729412</td>\n",
       "      <td>inf</td>\n",
       "    </tr>\n",
       "    <tr>\n",
       "      <th>Comedy</th>\n",
       "      <td>52.501639</td>\n",
       "      <td>22.514754</td>\n",
       "      <td>26.830396</td>\n",
       "      <td>60.967828</td>\n",
       "      <td>37.398438</td>\n",
       "      <td>6.080893</td>\n",
       "      <td>8.709251</td>\n",
       "      <td>7.134066</td>\n",
       "      <td>2013.210989</td>\n",
       "      <td>inf</td>\n",
       "    </tr>\n",
       "    <tr>\n",
       "      <th>Crime</th>\n",
       "      <td>48.500000</td>\n",
       "      <td>24.067568</td>\n",
       "      <td>21.529412</td>\n",
       "      <td>55.582278</td>\n",
       "      <td>30.036364</td>\n",
       "      <td>6.275294</td>\n",
       "      <td>10.568659</td>\n",
       "      <td>8.421569</td>\n",
       "      <td>2013.980392</td>\n",
       "      <td>2.407183</td>\n",
       "    </tr>\n",
       "    <tr>\n",
       "      <th>Documentary</th>\n",
       "      <td>46.321429</td>\n",
       "      <td>10.000000</td>\n",
       "      <td>4.719512</td>\n",
       "      <td>15.960000</td>\n",
       "      <td>14.733333</td>\n",
       "      <td>7.038889</td>\n",
       "      <td>5.005361</td>\n",
       "      <td>7.337349</td>\n",
       "      <td>2013.313253</td>\n",
       "      <td>inf</td>\n",
       "    </tr>\n",
       "    <tr>\n",
       "      <th>Drama</th>\n",
       "      <td>52.158915</td>\n",
       "      <td>18.573643</td>\n",
       "      <td>17.936118</td>\n",
       "      <td>52.402556</td>\n",
       "      <td>38.252688</td>\n",
       "      <td>6.467273</td>\n",
       "      <td>8.400864</td>\n",
       "      <td>7.710784</td>\n",
       "      <td>2013.681373</td>\n",
       "      <td>inf</td>\n",
       "    </tr>\n",
       "    <tr>\n",
       "      <th>Family</th>\n",
       "      <td>60.333333</td>\n",
       "      <td>36.166667</td>\n",
       "      <td>84.000000</td>\n",
       "      <td>214.166667</td>\n",
       "      <td>8.000000</td>\n",
       "      <td>4.833333</td>\n",
       "      <td>4.776333</td>\n",
       "      <td>8.333333</td>\n",
       "      <td>2014.833333</td>\n",
       "      <td>2.097500</td>\n",
       "    </tr>\n",
       "    <tr>\n",
       "      <th>Fantasy</th>\n",
       "      <td>72.500000</td>\n",
       "      <td>26.000000</td>\n",
       "      <td>15.285714</td>\n",
       "      <td>38.000000</td>\n",
       "      <td>15.000000</td>\n",
       "      <td>6.542857</td>\n",
       "      <td>10.338000</td>\n",
       "      <td>7.428571</td>\n",
       "      <td>2013.714286</td>\n",
       "      <td>2.355000</td>\n",
       "    </tr>\n",
       "    <tr>\n",
       "      <th>Horror</th>\n",
       "      <td>51.855422</td>\n",
       "      <td>10.277108</td>\n",
       "      <td>29.178947</td>\n",
       "      <td>66.523256</td>\n",
       "      <td>53.795918</td>\n",
       "      <td>5.391781</td>\n",
       "      <td>9.778767</td>\n",
       "      <td>6.739583</td>\n",
       "      <td>2014.208333</td>\n",
       "      <td>inf</td>\n",
       "    </tr>\n",
       "    <tr>\n",
       "      <th>Music</th>\n",
       "      <td>37.000000</td>\n",
       "      <td>18.000000</td>\n",
       "      <td>3.000000</td>\n",
       "      <td>9.000000</td>\n",
       "      <td>5.000000</td>\n",
       "      <td>NaN</td>\n",
       "      <td>NaN</td>\n",
       "      <td>9.000000</td>\n",
       "      <td>2013.000000</td>\n",
       "      <td>0.500000</td>\n",
       "    </tr>\n",
       "    <tr>\n",
       "      <th>Musical</th>\n",
       "      <td>11.000000</td>\n",
       "      <td>6.000000</td>\n",
       "      <td>1.000000</td>\n",
       "      <td>1.000000</td>\n",
       "      <td>NaN</td>\n",
       "      <td>4.300000</td>\n",
       "      <td>1.224000</td>\n",
       "      <td>7.000000</td>\n",
       "      <td>2010.000000</td>\n",
       "      <td>0.170000</td>\n",
       "    </tr>\n",
       "    <tr>\n",
       "      <th>Mystery</th>\n",
       "      <td>71.750000</td>\n",
       "      <td>39.500000</td>\n",
       "      <td>83.500000</td>\n",
       "      <td>178.250000</td>\n",
       "      <td>127.666667</td>\n",
       "      <td>6.100000</td>\n",
       "      <td>13.377750</td>\n",
       "      <td>4.750000</td>\n",
       "      <td>2011.750000</td>\n",
       "      <td>3.670000</td>\n",
       "    </tr>\n",
       "    <tr>\n",
       "      <th>Romance</th>\n",
       "      <td>76.500000</td>\n",
       "      <td>25.000000</td>\n",
       "      <td>16.000000</td>\n",
       "      <td>56.000000</td>\n",
       "      <td>53.333333</td>\n",
       "      <td>6.600000</td>\n",
       "      <td>9.365667</td>\n",
       "      <td>7.000000</td>\n",
       "      <td>2014.500000</td>\n",
       "      <td>2.540000</td>\n",
       "    </tr>\n",
       "    <tr>\n",
       "      <th>Sci-Fi</th>\n",
       "      <td>97.000000</td>\n",
       "      <td>25.000000</td>\n",
       "      <td>6.000000</td>\n",
       "      <td>9.000000</td>\n",
       "      <td>NaN</td>\n",
       "      <td>NaN</td>\n",
       "      <td>NaN</td>\n",
       "      <td>3.000000</td>\n",
       "      <td>2019.000000</td>\n",
       "      <td>0.360000</td>\n",
       "    </tr>\n",
       "    <tr>\n",
       "      <th>Thriller</th>\n",
       "      <td>66.333333</td>\n",
       "      <td>2.666667</td>\n",
       "      <td>0.000000</td>\n",
       "      <td>0.000000</td>\n",
       "      <td>0.000000</td>\n",
       "      <td>6.275000</td>\n",
       "      <td>5.322250</td>\n",
       "      <td>7.166667</td>\n",
       "      <td>2013.166667</td>\n",
       "      <td>0.000000</td>\n",
       "    </tr>\n",
       "    <tr>\n",
       "      <th>Western</th>\n",
       "      <td>17.000000</td>\n",
       "      <td>1.000000</td>\n",
       "      <td>0.000000</td>\n",
       "      <td>0.000000</td>\n",
       "      <td>NaN</td>\n",
       "      <td>3.200000</td>\n",
       "      <td>0.840000</td>\n",
       "      <td>12.000000</td>\n",
       "      <td>2014.000000</td>\n",
       "      <td>0.000000</td>\n",
       "    </tr>\n",
       "  </tbody>\n",
       "</table>\n",
       "</div>"
      ],
      "text/plain": [
       "                    id  production_budget_$m  domestic_gross_$m  \\\n",
       "genre1                                                            \n",
       "Action       50.615385             79.127473          72.541301   \n",
       "Adventure    46.288344             82.018405          88.758974   \n",
       "Animation    43.111111             42.555556          51.764706   \n",
       "Biography    51.640351             23.868421          27.205882   \n",
       "Comedy       52.501639             22.514754          26.830396   \n",
       "Crime        48.500000             24.067568          21.529412   \n",
       "Documentary  46.321429             10.000000           4.719512   \n",
       "Drama        52.158915             18.573643          17.936118   \n",
       "Family       60.333333             36.166667          84.000000   \n",
       "Fantasy      72.500000             26.000000          15.285714   \n",
       "Horror       51.855422             10.277108          29.178947   \n",
       "Music        37.000000             18.000000           3.000000   \n",
       "Musical      11.000000              6.000000           1.000000   \n",
       "Mystery      71.750000             39.500000          83.500000   \n",
       "Romance      76.500000             25.000000          16.000000   \n",
       "Sci-Fi       97.000000             25.000000           6.000000   \n",
       "Thriller     66.333333              2.666667           0.000000   \n",
       "Western      17.000000              1.000000           0.000000   \n",
       "\n",
       "             worldwide_gross_$m  foreign_gross_$m  vote_average  popularity  \\\n",
       "genre1                                                                        \n",
       "Action               227.043053        160.816489      6.129218   14.662453   \n",
       "Adventure            262.745946        187.428571      6.368182   13.933727   \n",
       "Animation            181.250000        142.222222      5.806667    7.183933   \n",
       "Biography             66.204380         45.252632      6.781343    9.944806   \n",
       "Comedy                60.967828         37.398438      6.080893    8.709251   \n",
       "Crime                 55.582278         30.036364      6.275294   10.568659   \n",
       "Documentary           15.960000         14.733333      7.038889    5.005361   \n",
       "Drama                 52.402556         38.252688      6.467273    8.400864   \n",
       "Family               214.166667          8.000000      4.833333    4.776333   \n",
       "Fantasy               38.000000         15.000000      6.542857   10.338000   \n",
       "Horror                66.523256         53.795918      5.391781    9.778767   \n",
       "Music                  9.000000          5.000000           NaN         NaN   \n",
       "Musical                1.000000               NaN      4.300000    1.224000   \n",
       "Mystery              178.250000        127.666667      6.100000   13.377750   \n",
       "Romance               56.000000         53.333333      6.600000    9.365667   \n",
       "Sci-Fi                 9.000000               NaN           NaN         NaN   \n",
       "Thriller               0.000000          0.000000      6.275000    5.322250   \n",
       "Western                0.000000               NaN      3.200000    0.840000   \n",
       "\n",
       "             release_month  release_year  global_mom  \n",
       "genre1                                                \n",
       "Action            6.820244   2014.089005    2.618996  \n",
       "Adventure         7.497436   2014.271795    3.219012  \n",
       "Animation         8.588235   2013.647059    3.276667  \n",
       "Biography         8.494118   2014.729412         inf  \n",
       "Comedy            7.134066   2013.210989         inf  \n",
       "Crime             8.421569   2013.980392    2.407183  \n",
       "Documentary       7.337349   2013.313253         inf  \n",
       "Drama             7.710784   2013.681373         inf  \n",
       "Family            8.333333   2014.833333    2.097500  \n",
       "Fantasy           7.428571   2013.714286    2.355000  \n",
       "Horror            6.739583   2014.208333         inf  \n",
       "Music             9.000000   2013.000000    0.500000  \n",
       "Musical           7.000000   2010.000000    0.170000  \n",
       "Mystery           4.750000   2011.750000    3.670000  \n",
       "Romance           7.000000   2014.500000    2.540000  \n",
       "Sci-Fi            3.000000   2019.000000    0.360000  \n",
       "Thriller          7.166667   2013.166667    0.000000  \n",
       "Western          12.000000   2014.000000    0.000000  "
      ]
     },
     "execution_count": 271,
     "metadata": {},
     "output_type": "execute_result"
    }
   ],
   "source": [
    "tbi_since1990.groupby(['genre1']).mean()"
   ]
  },
  {
   "cell_type": "code",
   "execution_count": 272,
   "metadata": {},
   "outputs": [],
   "source": [
    "genre_vs_mom = tbi_since1990.groupby(['genre1']).median().sort_values(by='global_mom',ascending=False)['global_mom']"
   ]
  },
  {
   "cell_type": "code",
   "execution_count": 273,
   "metadata": {},
   "outputs": [],
   "source": [
    "genre2_vs_mom = tbi_since1990.groupby(['genre2']).median().sort_values(by='global_mom',ascending=False)['global_mom']"
   ]
  },
  {
   "cell_type": "code",
   "execution_count": 274,
   "metadata": {},
   "outputs": [
    {
     "data": {
      "text/plain": [
       "genre1\n",
       "Mystery        4.450\n",
       "Horror         3.950\n",
       "Adventure      2.620\n",
       "Romance        2.540\n",
       "Comedy         2.275\n",
       "Action         2.135\n",
       "Animation      2.080\n",
       "Biography      1.915\n",
       "Drama          1.880\n",
       "Fantasy        1.655\n",
       "Crime          1.560\n",
       "Documentary    1.430\n",
       "Music          0.500\n",
       "Sci-Fi         0.360\n",
       "Family         0.260\n",
       "Musical        0.170\n",
       "Thriller       0.000\n",
       "Western        0.000\n",
       "Name: global_mom, dtype: float64"
      ]
     },
     "execution_count": 274,
     "metadata": {},
     "output_type": "execute_result"
    }
   ],
   "source": [
    "genre_vs_mom"
   ]
  },
  {
   "cell_type": "code",
   "execution_count": 275,
   "metadata": {},
   "outputs": [
    {
     "data": {
      "text/plain": [
       "<matplotlib.axes._subplots.AxesSubplot at 0x152678f7848>"
      ]
     },
     "execution_count": 275,
     "metadata": {},
     "output_type": "execute_result"
    },
    {
     "data": {
      "image/png": "[encoded data removed]",
      "text/plain": [
       "<Figure size 432x288 with 1 Axes>"
      ]
     },
     "metadata": {
      "needs_background": "light"
     },
     "output_type": "display_data"
    }
   ],
   "source": [
    "genre_vs_mom.plot.bar()"
   ]
  },
  {
   "cell_type": "code",
   "execution_count": 276,
   "metadata": {},
   "outputs": [
    {
     "data": {
      "text/plain": [
       "genre2\n",
       "Documentary    6.000\n",
       "Sci-Fi         4.550\n",
       "Mystery        4.440\n",
       "Music          3.180\n",
       "Animation      2.800\n",
       "Biography      2.720\n",
       "Horror         2.675\n",
       "Romance        2.625\n",
       "Adventure      2.600\n",
       "Fantasy        2.095\n",
       "Family         2.030\n",
       "Comedy         2.025\n",
       "Drama          1.910\n",
       "Sport          1.905\n",
       "Thriller       1.740\n",
       "Crime          1.630\n",
       "War            1.330\n",
       "Western        1.330\n",
       "History        0.830\n",
       "Musical        0.000\n",
       "Name: global_mom, dtype: float64"
      ]
     },
     "execution_count": 276,
     "metadata": {},
     "output_type": "execute_result"
    }
   ],
   "source": [
    "genre2_vs_mom"
   ]
  },
  {
   "cell_type": "code",
   "execution_count": 277,
   "metadata": {},
   "outputs": [
    {
     "data": {
      "text/plain": [
       "<matplotlib.axes._subplots.AxesSubplot at 0x15271e73288>"
      ]
     },
     "execution_count": 277,
     "metadata": {},
     "output_type": "execute_result"
    },
    {
     "data": {
      "image/png": "[encoded data removed]",
      "text/plain": [
       "<Figure size 432x288 with 1 Axes>"
      ]
     },
     "metadata": {
      "needs_background": "light"
     },
     "output_type": "display_data"
    }
   ],
   "source": [
    "genre2_vs_mom.plot.bar()"
   ]
  },
  {
   "cell_type": "markdown",
   "metadata": {},
   "source": [
    "### Notes"
   ]
  },
  {
   "cell_type": "code",
   "execution_count": null,
   "metadata": {},
   "outputs": [],
   "source": [
    "# Use below three tables to do earnings / ROI by genre by season"
   ]
  },
  {
   "cell_type": "code",
   "execution_count": null,
   "metadata": {},
   "outputs": [],
   "source": [
    "SELECT COUNT(*) \n",
    "FROM movies.imdb_title_basics\n",
    "WHERE start_year > 2010\n",
    "#total 146144 rows --> starts 2010 only "
   ]
  },
  {
   "cell_type": "code",
   "execution_count": null,
   "metadata": {},
   "outputs": [],
   "source": [
    "SELECT COUNT(*)\n",
    "FROM movies.bom_movie_gross\n",
    "# total 3387 rows --> total database only has 3387 rows and starts at 2010"
   ]
  },
  {
   "cell_type": "code",
   "execution_count": null,
   "metadata": {},
   "outputs": [],
   "source": [
    "# tn movie budgets; bom movie gross; tmbd movies with unique titles "
   ]
  },
  {
   "cell_type": "code",
   "execution_count": null,
   "metadata": {},
   "outputs": [],
   "source": [
    "SELECT \n",
    "\tCOUNT(*),\n",
    "    RIGHT(release_date, 4)\n",
    "FROM movies.tn_movie_budgets\n",
    "GROUP BY RIGHT(release_date, 4) ASC\n",
    "#5782 rows total --> 1996 first year with over 100 movies \n",
    "\n",
    "SELECT \n",
    "\tCOUNT(*)\n",
    "FROM movies.tn_movie_budgets\n",
    "WHERE RIGHT(release_date, 4) > 1995\n",
    "#4925\n",
    "#2194 for 2010 and after"
   ]
  },
  {
   "cell_type": "code",
   "execution_count": 1,
   "metadata": {},
   "outputs": [],
   "source": [
    "#GENERAL Analysis (JOIN ON Movie name)\n",
    "#earnings / ROI by genre (tn_movie_budgets + imdb_title_basics JOIN on movie title) POST 2010 (only 2194 movies)\n",
    "#earnings / ROI by season (use only tn_movie_budgets) POST 2010 (only 2194 movies)\n",
    "#ratings vs. box office success correlatoin (movie_budgets and title_basics)\n",
    "#IMDB analysis (JOIN ON nmstat and tstat)\n",
    "#imdb genre vs. rating (use title_basics, title_ratings JOIN on tconst) POST 2010 (limit is ratings)\n",
    "#imdb actors, directors and producers with highest ratings (use title_principals, title_ratings and \n",
    "#name_basics, JOIN on tconst and nmconst) POST 2010 (limit is ratings)\n",
    "#RT Analysis (JOIN ON ID)\n",
    "#overview of top critics, most frequent critics and what genres they like / how harsh they are (rt_reviews)\n",
    "#rt ratings vs. box office reviews vs. top critics (1500 instances approx) limited by box office numbers in movie_info"
   ]
  },
  {
   "cell_type": "code",
   "execution_count": null,
   "metadata": {},
   "outputs": [],
   "source": [
    "# LIST of databases\n",
    "## DONT USE movies.bom_movie_gross for anything \n",
    "## DONT USE movies.imdb_name basics\n",
    "## DONT USE imdb title akas\n",
    "## DONT USE imdb title crew\n",
    "## ONLY database with too many rows is imdb principles w/ over 1m "
   ]
  },
  {
   "cell_type": "code",
   "execution_count": null,
   "metadata": {},
   "outputs": [],
   "source": [
    "# TO DO\n",
    "## Split genre into Primary, Secondary, Tertiary (for both ImDB and RT)"
   ]
  }
 ],
 "metadata": {
  "kernelspec": {
   "display_name": "Python 3",
   "language": "python",
   "name": "python3"
  },
  "language_info": {
   "codemirror_mode": {
    "name": "ipython",
    "version": 3
   },
   "file_extension": ".py",
   "mimetype": "text/x-python",
   "name": "python",
   "nbconvert_exporter": "python",
   "pygments_lexer": "ipython3",
   "version": "3.7.6"
  }
 },
 "nbformat": 4,
 "nbformat_minor": 4
}
