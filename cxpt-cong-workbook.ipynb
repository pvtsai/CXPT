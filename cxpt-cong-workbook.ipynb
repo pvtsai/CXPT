{
 "cells": [
  {
   "cell_type": "markdown",
   "metadata": {},
   "source": [
    "# Cong Workbook\n"
   ]
  },
  {
   "cell_type": "code",
   "execution_count": null,
   "metadata": {},
   "outputs": [],
   "source": [
    "# QUESTION 1: JOIN - why did movie number increase post 2nd join? duplicates?\n",
    "# QUESTION 2: similar question for second join "
   ]
  },
  {
   "cell_type": "markdown",
   "metadata": {},
   "source": [
    "### Import Libraries\n",
    "Let's first import some stuff"
   ]
  },
  {
   "cell_type": "code",
   "execution_count": 1,
   "metadata": {},
   "outputs": [],
   "source": [
    "import numpy as np\n",
    "import pandas as pd\n",
    "import matplotlib.pyplot as plt"
   ]
  },
  {
   "cell_type": "code",
   "execution_count": 2,
   "metadata": {},
   "outputs": [
    {
     "name": "stdout",
     "output_type": "stream",
     "text": [
      "Requirement already satisfied: mysql-connector-python in c:\\users\\cxu19\\anaconda\\lib\\site-packages (8.0.20)\n",
      "Requirement already satisfied: protobuf>=3.0.0 in c:\\users\\cxu19\\anaconda\\lib\\site-packages (from mysql-connector-python) (3.12.2)\n",
      "Requirement already satisfied: setuptools in c:\\users\\cxu19\\anaconda\\lib\\site-packages (from protobuf>=3.0.0->mysql-connector-python) (45.2.0.post20200210)\n",
      "Requirement already satisfied: six>=1.9 in c:\\users\\cxu19\\anaconda\\lib\\site-packages (from protobuf>=3.0.0->mysql-connector-python) (1.14.0)\n"
     ]
    }
   ],
   "source": [
    "!pip install mysql-connector-python"
   ]
  },
  {
   "cell_type": "code",
   "execution_count": 3,
   "metadata": {},
   "outputs": [],
   "source": [
    "import mysql.connector"
   ]
  },
  {
   "cell_type": "code",
   "execution_count": 4,
   "metadata": {},
   "outputs": [],
   "source": [
    "con = mysql.connector.connect(user='hbs-student', password='super-secure-password?',\n",
    "                              host='hbs-ds-060120.c1doesqrid0e.us-east-1.rds.amazonaws.com',\n",
    "                              database='movies')"
   ]
  },
  {
   "cell_type": "markdown",
   "metadata": {},
   "source": [
    "### Loading SQL Queries"
   ]
  },
  {
   "cell_type": "code",
   "execution_count": 5,
   "metadata": {},
   "outputs": [],
   "source": [
    "tn = pd.DataFrame(pd.read_sql_query(\"\"\"\n",
    "SELECT * \n",
    "FROM movies.tn_movie_budgets\"\"\", con))"
   ]
  },
  {
   "cell_type": "code",
   "execution_count": 6,
   "metadata": {},
   "outputs": [],
   "source": [
    "#Change data types\n",
    "tn['domestic_gross'] = tn['domestic_gross'].str.replace('$','')  \n",
    "tn['domestic_gross'] = tn['domestic_gross'].str.replace(',','')\n",
    "tn['domestic_gross'] = tn['domestic_gross'].astype(float)\n",
    "tn['worldwide_gross'] =tn['worldwide_gross'].str.replace('$','')\n",
    "tn['worldwide_gross'] =tn['worldwide_gross'].str.replace(',','')\n",
    "tn['worldwide_gross'] =tn['worldwide_gross'].astype(float) \n",
    "tn['production_budget'] =tn['production_budget'].str.replace('$','')\n",
    "tn['production_budget'] =tn['production_budget'].str.replace(',','')\n",
    "tn['production_budget'] =tn['production_budget'].astype(float) \n",
    "tn['release_date'] = pd.to_datetime(tn['release_date'])"
   ]
  },
  {
   "cell_type": "code",
   "execution_count": 7,
   "metadata": {},
   "outputs": [],
   "source": [
    "bom = pd.DataFrame(pd.read_sql_query(\"\"\"\n",
    "SELECT * \n",
    "FROM movies.bom_movie_gross\"\"\", con))"
   ]
  },
  {
   "cell_type": "code",
   "execution_count": 8,
   "metadata": {},
   "outputs": [],
   "source": [
    "tmdb = pd.DataFrame(pd.read_sql_query(\"\"\"\n",
    "SELECT * \n",
    "FROM movies.tmdb_movies\"\"\", con))"
   ]
  },
  {
   "cell_type": "code",
   "execution_count": 9,
   "metadata": {},
   "outputs": [],
   "source": [
    "tmd = pd.DataFrame(pd.read_sql_query(\"\"\"\n",
    "SELECT\n",
    "\ttitle,\n",
    "    vote_average,\n",
    "    popularity,\n",
    "    release_date\n",
    "FROM movies.tmdb_movies\"\"\", con))"
   ]
  },
  {
   "cell_type": "code",
   "execution_count": 10,
   "metadata": {},
   "outputs": [],
   "source": [
    "tmd['release_date'] = pd.to_datetime(tmd['release_date'])"
   ]
  },
  {
   "cell_type": "code",
   "execution_count": 11,
   "metadata": {},
   "outputs": [],
   "source": [
    "tmd = tmd.drop_duplicates(subset='title')"
   ]
  },
  {
   "cell_type": "code",
   "execution_count": 12,
   "metadata": {},
   "outputs": [],
   "source": [
    "imdb_title_basics = pd.DataFrame(pd.read_sql_query(\"\"\"\n",
    "SELECT \n",
    "\tprimary_title,\n",
    "    genres\n",
    "FROM movies.imdb_title_basics\"\"\", con))"
   ]
  },
  {
   "cell_type": "code",
   "execution_count": 13,
   "metadata": {},
   "outputs": [],
   "source": [
    "imdb_title_basics = imdb_title_basics.drop_duplicates(subset = 'primary_title')"
   ]
  },
  {
   "cell_type": "code",
   "execution_count": 302,
   "metadata": {},
   "outputs": [],
   "source": [
    "# SELECT *\n",
    "# FROM movies.imdb_title_basics\n",
    "# JOIN movies.imdb_title_ratings USING (tconst)\n",
    "#to compare ImDB genre to ratings "
   ]
  },
  {
   "cell_type": "code",
   "execution_count": 303,
   "metadata": {},
   "outputs": [],
   "source": [
    "# SELECT\n",
    "# \tnconst,\n",
    "#     tconst,\n",
    "#     ordering,\n",
    "#     category,\n",
    "#     primary_title,\n",
    "#     start_year,\n",
    "#     genres,\n",
    "#     primary_name,\n",
    "#     averagerating,\n",
    "#     numvotes\n",
    "# FROM movies.imdb_title_principals\n",
    "# JOIN movies.imdb_title_basics USING (tconst)\n",
    "# JOIN movies.imdb_name_basics USING (nconst)\n",
    "# JOIN movies.imdb_title_ratings USING (tconst)\n",
    "# WHERE start_year >= 2015\n",
    "#to show which actresses / actors / directors appeared in most highly rated movies since 2015"
   ]
  },
  {
   "cell_type": "code",
   "execution_count": 304,
   "metadata": {},
   "outputs": [],
   "source": [
    "# tn = pd.DataFrame(pd.read_sql_query(\"\"\"\n",
    "# SELECT Count(*)\n",
    "# \ttconst,\n",
    "#     primary_title,\n",
    "#     averagerating,\n",
    "#     numvotes\n",
    "# FROM movies.imdb_title_ratings\n",
    "# JOIN movies.imdb_title_basics USING (tconst)\"\"\", con))\n",
    "# to join with tbi to get ratings vs. box office success correlation"
   ]
  },
  {
   "cell_type": "markdown",
   "metadata": {},
   "source": [
    "### Approach 1 (NEW)"
   ]
  },
  {
   "cell_type": "code",
   "execution_count": 14,
   "metadata": {},
   "outputs": [],
   "source": [
    "# JOIN bom and tn\n",
    "tb = tn.join(bom.set_index('title'),\n",
    "             on='movie',\n",
    "             how='outer',\n",
    "             lsuffix='_tn',\n",
    "             rsuffix='_bom')"
   ]
  },
  {
   "cell_type": "code",
   "execution_count": 306,
   "metadata": {},
   "outputs": [],
   "source": [
    "tb = tb.drop_duplicates(subset = 'movie')"
   ]
  },
  {
   "cell_type": "code",
   "execution_count": 307,
   "metadata": {},
   "outputs": [],
   "source": [
    "# JOIN bom & tn and imdb_title_basics\n",
    "tbi = tb.join(imdb_title_basics.set_index('primary_title'),\n",
    "        on='movie',\n",
    "        how='left',\n",
    "        rsuffix='_imdb')"
   ]
  },
  {
   "cell_type": "code",
   "execution_count": 308,
   "metadata": {},
   "outputs": [],
   "source": [
    "tbi = tbi.drop_duplicates(subset = 'movie')\n",
    "tbi['domestic_gross_tn'] = np.where(tbi['domestic_gross_tn'].isna(), tbi['domestic_gross_bom'], tbi['domestic_gross_tn']) \n",
    "tbi = tbi.drop(columns=['domestic_gross_bom','studio'])\n",
    "tbi[['genre1','genre2','genre3']] = tbi['genres'].str.split(pat=',',expand=True)\n",
    "tbi['release_month'] = tbi['release_date'].dt.month\n",
    "tbi = tbi.rename(columns={'production_budget':'production_budget_$m','domestic_gross_tn':'domestic_gross_$m','worldwide_gross':'worldwide_gross_$m', 'foreign_gross':'foreign_gross_$m'})"
   ]
  },
  {
   "cell_type": "code",
   "execution_count": 309,
   "metadata": {},
   "outputs": [],
   "source": [
    "tbi['production_budget_$m'] = tbi['production_budget_$m'].apply(lambda x: '{:.0f}'.format(x/1000000))\n",
    "tbi['domestic_gross_$m'] = tbi['domestic_gross_$m'].apply(lambda x: '{:.0f}'.format(x/1000000))\n",
    "tbi['worldwide_gross_$m'] = tbi['worldwide_gross_$m'].apply(lambda x: '{:.0f}'.format(x/1000000))\n",
    "tbi['foreign_gross_$m'] = tbi['foreign_gross_$m'].apply(lambda x: '{:.0f}'.format(x/1000000))"
   ]
  },
  {
   "cell_type": "code",
   "execution_count": 310,
   "metadata": {},
   "outputs": [],
   "source": [
    "tbi['production_budget_$m'] = tbi['production_budget_$m'].astype(float)\n",
    "tbi['domestic_gross_$m'] = tbi['domestic_gross_$m'].astype(float)\n",
    "tbi['worldwide_gross_$m'] = tbi['worldwide_gross_$m'].astype(float)\n",
    "tbi['foreign_gross_$m'] = tbi['foreign_gross_$m'].astype(float)"
   ]
  },
  {
   "cell_type": "code",
   "execution_count": 311,
   "metadata": {},
   "outputs": [],
   "source": [
    "tbi['release_year'] = tbi['release_date'].dt.year\n",
    "tbi['global_mom'] = tbi['worldwide_gross_$m'] / tbi['production_budget_$m']\n",
    "tbi = tbi.round({'global_mom':2})"
   ]
  },
  {
   "cell_type": "code",
   "execution_count": 312,
   "metadata": {},
   "outputs": [],
   "source": [
    "# JOIN tmd\n",
    "tbi = tbi.join(tmd.set_index('title'),\n",
    "         on='movie',\n",
    "         how='left',\n",
    "         rsuffix='_tmd')"
   ]
  },
  {
   "cell_type": "code",
   "execution_count": 313,
   "metadata": {},
   "outputs": [],
   "source": [
    "tbi['release_date'] = np.where(tbi['release_date'].isna(), tbi['release_date_tmd'], tbi['release_date']) "
   ]
  },
  {
   "cell_type": "code",
   "execution_count": 314,
   "metadata": {},
   "outputs": [],
   "source": [
    "tbi = tbi.drop(columns=['release_date_tmd'])\n",
    "tbi['release_year'] = tbi['release_date'].dt.year\n",
    "tbi['release_month'] = tbi['release_date'].dt.month"
   ]
  },
  {
   "cell_type": "code",
   "execution_count": 315,
   "metadata": {},
   "outputs": [],
   "source": [
    "tbi['worldwide_gross_$m'] = np.where(tbi['worldwide_gross_$m'].isna(), tbi['domestic_gross_$m'] + tbi['foreign_gross_$m'], tbi['worldwide_gross_$m'])"
   ]
  },
  {
   "cell_type": "code",
   "execution_count": 316,
   "metadata": {},
   "outputs": [
    {
     "name": "stdout",
     "output_type": "stream",
     "text": [
      "<class 'pandas.core.frame.DataFrame'>\n",
      "Float64Index: 7846 entries, 0.0 to nan\n",
      "Data columns (total 17 columns):\n",
      " #   Column                Non-Null Count  Dtype         \n",
      "---  ------                --------------  -----         \n",
      " 0   id                    5698 non-null   float64       \n",
      " 1   release_date          6829 non-null   datetime64[ns]\n",
      " 2   movie                 7846 non-null   object        \n",
      " 3   production_budget_$m  5698 non-null   float64       \n",
      " 4   domestic_gross_$m     7820 non-null   float64       \n",
      " 5   worldwide_gross_$m    6630 non-null   float64       \n",
      " 6   foreign_gross_$m      2037 non-null   float64       \n",
      " 7   year                  3386 non-null   float64       \n",
      " 8   genres                3759 non-null   object        \n",
      " 9   genre1                3759 non-null   object        \n",
      " 10  genre2                2860 non-null   object        \n",
      " 11  genre3                1865 non-null   object        \n",
      " 12  release_month         6829 non-null   float64       \n",
      " 13  release_year          6829 non-null   float64       \n",
      " 14  global_mom            5461 non-null   float64       \n",
      " 15  vote_average          3055 non-null   float64       \n",
      " 16  popularity            3055 non-null   float64       \n",
      "dtypes: datetime64[ns](1), float64(11), object(5)\n",
      "memory usage: 1.1+ MB\n"
     ]
    }
   ],
   "source": [
    "tbi.info()"
   ]
  },
  {
   "cell_type": "code",
   "execution_count": 321,
   "metadata": {},
   "outputs": [
    {
     "data": {
      "text/html": [
       "<div>\n",
       "<style scoped>\n",
       "    .dataframe tbody tr th:only-of-type {\n",
       "        vertical-align: middle;\n",
       "    }\n",
       "\n",
       "    .dataframe tbody tr th {\n",
       "        vertical-align: top;\n",
       "    }\n",
       "\n",
       "    .dataframe thead th {\n",
       "        text-align: right;\n",
       "    }\n",
       "</style>\n",
       "<table border=\"1\" class=\"dataframe\">\n",
       "  <thead>\n",
       "    <tr style=\"text-align: right;\">\n",
       "      <th></th>\n",
       "      <th>id</th>\n",
       "      <th>production_budget_$m</th>\n",
       "      <th>domestic_gross_$m</th>\n",
       "      <th>worldwide_gross_$m</th>\n",
       "      <th>foreign_gross_$m</th>\n",
       "      <th>year</th>\n",
       "      <th>release_month</th>\n",
       "      <th>release_year</th>\n",
       "      <th>global_mom</th>\n",
       "      <th>vote_average</th>\n",
       "      <th>popularity</th>\n",
       "    </tr>\n",
       "  </thead>\n",
       "  <tbody>\n",
       "    <tr>\n",
       "      <th>count</th>\n",
       "      <td>5698.000000</td>\n",
       "      <td>5698.000000</td>\n",
       "      <td>7820.000000</td>\n",
       "      <td>6630.000000</td>\n",
       "      <td>2037.000000</td>\n",
       "      <td>3386.000000</td>\n",
       "      <td>6829.000000</td>\n",
       "      <td>6829.000000</td>\n",
       "      <td>5461.00</td>\n",
       "      <td>3055.000000</td>\n",
       "      <td>3055.00000</td>\n",
       "    </tr>\n",
       "    <tr>\n",
       "      <th>mean</th>\n",
       "      <td>50.320814</td>\n",
       "      <td>31.804844</td>\n",
       "      <td>33.240665</td>\n",
       "      <td>88.479638</td>\n",
       "      <td>74.856652</td>\n",
       "      <td>2013.957177</td>\n",
       "      <td>7.009372</td>\n",
       "      <td>2005.802021</td>\n",
       "      <td>inf</td>\n",
       "      <td>6.266252</td>\n",
       "      <td>9.15051</td>\n",
       "    </tr>\n",
       "    <tr>\n",
       "      <th>std</th>\n",
       "      <td>28.799762</td>\n",
       "      <td>41.987650</td>\n",
       "      <td>64.296219</td>\n",
       "      <td>173.661187</td>\n",
       "      <td>137.412644</td>\n",
       "      <td>2.477955</td>\n",
       "      <td>3.458334</td>\n",
       "      <td>11.827296</td>\n",
       "      <td>NaN</td>\n",
       "      <td>1.061256</td>\n",
       "      <td>7.15873</td>\n",
       "    </tr>\n",
       "    <tr>\n",
       "      <th>min</th>\n",
       "      <td>1.000000</td>\n",
       "      <td>0.000000</td>\n",
       "      <td>0.000000</td>\n",
       "      <td>0.000000</td>\n",
       "      <td>0.000000</td>\n",
       "      <td>2010.000000</td>\n",
       "      <td>1.000000</td>\n",
       "      <td>1916.000000</td>\n",
       "      <td>0.00</td>\n",
       "      <td>0.000000</td>\n",
       "      <td>0.60000</td>\n",
       "    </tr>\n",
       "    <tr>\n",
       "      <th>25%</th>\n",
       "      <td>25.000000</td>\n",
       "      <td>5.000000</td>\n",
       "      <td>0.000000</td>\n",
       "      <td>4.000000</td>\n",
       "      <td>4.000000</td>\n",
       "      <td>2012.000000</td>\n",
       "      <td>4.000000</td>\n",
       "      <td>2001.000000</td>\n",
       "      <td>0.56</td>\n",
       "      <td>5.700000</td>\n",
       "      <td>4.54000</td>\n",
       "    </tr>\n",
       "    <tr>\n",
       "      <th>50%</th>\n",
       "      <td>50.000000</td>\n",
       "      <td>17.000000</td>\n",
       "      <td>7.000000</td>\n",
       "      <td>25.000000</td>\n",
       "      <td>19.000000</td>\n",
       "      <td>2014.000000</td>\n",
       "      <td>7.000000</td>\n",
       "      <td>2009.000000</td>\n",
       "      <td>1.80</td>\n",
       "      <td>6.300000</td>\n",
       "      <td>8.00400</td>\n",
       "    </tr>\n",
       "    <tr>\n",
       "      <th>75%</th>\n",
       "      <td>75.000000</td>\n",
       "      <td>40.000000</td>\n",
       "      <td>39.000000</td>\n",
       "      <td>92.750000</td>\n",
       "      <td>75.000000</td>\n",
       "      <td>2016.000000</td>\n",
       "      <td>10.000000</td>\n",
       "      <td>2014.000000</td>\n",
       "      <td>3.86</td>\n",
       "      <td>7.000000</td>\n",
       "      <td>12.02450</td>\n",
       "    </tr>\n",
       "    <tr>\n",
       "      <th>max</th>\n",
       "      <td>100.000000</td>\n",
       "      <td>425.000000</td>\n",
       "      <td>937.000000</td>\n",
       "      <td>2776.000000</td>\n",
       "      <td>960.000000</td>\n",
       "      <td>2018.000000</td>\n",
       "      <td>12.000000</td>\n",
       "      <td>2020.000000</td>\n",
       "      <td>inf</td>\n",
       "      <td>10.000000</td>\n",
       "      <td>80.77300</td>\n",
       "    </tr>\n",
       "  </tbody>\n",
       "</table>\n",
       "</div>"
      ],
      "text/plain": [
       "                id  production_budget_$m  domestic_gross_$m  \\\n",
       "count  5698.000000           5698.000000        7820.000000   \n",
       "mean     50.320814             31.804844          33.240665   \n",
       "std      28.799762             41.987650          64.296219   \n",
       "min       1.000000              0.000000           0.000000   \n",
       "25%      25.000000              5.000000           0.000000   \n",
       "50%      50.000000             17.000000           7.000000   \n",
       "75%      75.000000             40.000000          39.000000   \n",
       "max     100.000000            425.000000         937.000000   \n",
       "\n",
       "       worldwide_gross_$m  foreign_gross_$m         year  release_month  \\\n",
       "count         6630.000000       2037.000000  3386.000000    6829.000000   \n",
       "mean            88.479638         74.856652  2013.957177       7.009372   \n",
       "std            173.661187        137.412644     2.477955       3.458334   \n",
       "min              0.000000          0.000000  2010.000000       1.000000   \n",
       "25%              4.000000          4.000000  2012.000000       4.000000   \n",
       "50%             25.000000         19.000000  2014.000000       7.000000   \n",
       "75%             92.750000         75.000000  2016.000000      10.000000   \n",
       "max           2776.000000        960.000000  2018.000000      12.000000   \n",
       "\n",
       "       release_year  global_mom  vote_average  popularity  \n",
       "count   6829.000000     5461.00   3055.000000  3055.00000  \n",
       "mean    2005.802021         inf      6.266252     9.15051  \n",
       "std       11.827296         NaN      1.061256     7.15873  \n",
       "min     1916.000000        0.00      0.000000     0.60000  \n",
       "25%     2001.000000        0.56      5.700000     4.54000  \n",
       "50%     2009.000000        1.80      6.300000     8.00400  \n",
       "75%     2014.000000        3.86      7.000000    12.02450  \n",
       "max     2020.000000         inf     10.000000    80.77300  "
      ]
     },
     "execution_count": 321,
     "metadata": {},
     "output_type": "execute_result"
    }
   ],
   "source": [
    "tbi.describe()"
   ]
  },
  {
   "cell_type": "markdown",
   "metadata": {},
   "source": [
    "### Execution"
   ]
  },
  {
   "cell_type": "code",
   "execution_count": 330,
   "metadata": {},
   "outputs": [],
   "source": [
    "tbi_since1990 = tbi.loc[tbi['release_year'] > 1989]"
   ]
  },
  {
   "cell_type": "code",
   "execution_count": 332,
   "metadata": {},
   "outputs": [
    {
     "data": {
      "text/html": [
       "<div>\n",
       "<style scoped>\n",
       "    .dataframe tbody tr th:only-of-type {\n",
       "        vertical-align: middle;\n",
       "    }\n",
       "\n",
       "    .dataframe tbody tr th {\n",
       "        vertical-align: top;\n",
       "    }\n",
       "\n",
       "    .dataframe thead th {\n",
       "        text-align: right;\n",
       "    }\n",
       "</style>\n",
       "<table border=\"1\" class=\"dataframe\">\n",
       "  <thead>\n",
       "    <tr style=\"text-align: right;\">\n",
       "      <th></th>\n",
       "      <th>id</th>\n",
       "      <th>production_budget_$m</th>\n",
       "      <th>domestic_gross_$m</th>\n",
       "      <th>worldwide_gross_$m</th>\n",
       "      <th>foreign_gross_$m</th>\n",
       "      <th>year</th>\n",
       "      <th>release_month</th>\n",
       "      <th>release_year</th>\n",
       "      <th>global_mom</th>\n",
       "      <th>vote_average</th>\n",
       "      <th>popularity</th>\n",
       "    </tr>\n",
       "    <tr>\n",
       "      <th>genre1</th>\n",
       "      <th></th>\n",
       "      <th></th>\n",
       "      <th></th>\n",
       "      <th></th>\n",
       "      <th></th>\n",
       "      <th></th>\n",
       "      <th></th>\n",
       "      <th></th>\n",
       "      <th></th>\n",
       "      <th></th>\n",
       "      <th></th>\n",
       "    </tr>\n",
       "  </thead>\n",
       "  <tbody>\n",
       "    <tr>\n",
       "      <th></th>\n",
       "      <td>44.608696</td>\n",
       "      <td>26.478261</td>\n",
       "      <td>39.250000</td>\n",
       "      <td>102.916667</td>\n",
       "      <td>117.000000</td>\n",
       "      <td>2014.454545</td>\n",
       "      <td>7.250000</td>\n",
       "      <td>2008.214286</td>\n",
       "      <td>inf</td>\n",
       "      <td>6.450000</td>\n",
       "      <td>7.267750</td>\n",
       "    </tr>\n",
       "    <tr>\n",
       "      <th>Action</th>\n",
       "      <td>50.511407</td>\n",
       "      <td>72.047529</td>\n",
       "      <td>63.713869</td>\n",
       "      <td>202.697674</td>\n",
       "      <td>157.623116</td>\n",
       "      <td>2013.974052</td>\n",
       "      <td>6.653623</td>\n",
       "      <td>2013.184058</td>\n",
       "      <td>inf</td>\n",
       "      <td>6.098229</td>\n",
       "      <td>13.654303</td>\n",
       "    </tr>\n",
       "    <tr>\n",
       "      <th>Adventure</th>\n",
       "      <td>47.758974</td>\n",
       "      <td>71.676923</td>\n",
       "      <td>73.824000</td>\n",
       "      <td>229.185841</td>\n",
       "      <td>173.897436</td>\n",
       "      <td>2014.129032</td>\n",
       "      <td>6.916335</td>\n",
       "      <td>2013.167331</td>\n",
       "      <td>3.041710</td>\n",
       "      <td>6.401852</td>\n",
       "      <td>12.479968</td>\n",
       "    </tr>\n",
       "    <tr>\n",
       "      <th>Animation</th>\n",
       "      <td>45.200000</td>\n",
       "      <td>51.400000</td>\n",
       "      <td>41.414634</td>\n",
       "      <td>155.774194</td>\n",
       "      <td>113.631579</td>\n",
       "      <td>2014.551724</td>\n",
       "      <td>7.658537</td>\n",
       "      <td>2012.365854</td>\n",
       "      <td>2.930500</td>\n",
       "      <td>6.691667</td>\n",
       "      <td>9.059333</td>\n",
       "    </tr>\n",
       "    <tr>\n",
       "      <th>Biography</th>\n",
       "      <td>49.400000</td>\n",
       "      <td>22.262069</td>\n",
       "      <td>19.849206</td>\n",
       "      <td>53.989362</td>\n",
       "      <td>38.483051</td>\n",
       "      <td>2014.583333</td>\n",
       "      <td>7.591270</td>\n",
       "      <td>2013.698413</td>\n",
       "      <td>inf</td>\n",
       "      <td>6.751082</td>\n",
       "      <td>8.605225</td>\n",
       "    </tr>\n",
       "    <tr>\n",
       "      <th>Comedy</th>\n",
       "      <td>52.622222</td>\n",
       "      <td>20.674074</td>\n",
       "      <td>21.937888</td>\n",
       "      <td>53.635458</td>\n",
       "      <td>34.598639</td>\n",
       "      <td>2013.412766</td>\n",
       "      <td>6.764341</td>\n",
       "      <td>2012.565891</td>\n",
       "      <td>inf</td>\n",
       "      <td>6.150172</td>\n",
       "      <td>8.055791</td>\n",
       "    </tr>\n",
       "    <tr>\n",
       "      <th>Crime</th>\n",
       "      <td>48.798246</td>\n",
       "      <td>23.429825</td>\n",
       "      <td>17.421384</td>\n",
       "      <td>48.214876</td>\n",
       "      <td>32.968750</td>\n",
       "      <td>2014.086538</td>\n",
       "      <td>7.260870</td>\n",
       "      <td>2012.645963</td>\n",
       "      <td>1.882569</td>\n",
       "      <td>6.219718</td>\n",
       "      <td>9.077556</td>\n",
       "    </tr>\n",
       "    <tr>\n",
       "      <th>Documentary</th>\n",
       "      <td>48.373984</td>\n",
       "      <td>19.008130</td>\n",
       "      <td>17.806931</td>\n",
       "      <td>44.854305</td>\n",
       "      <td>13.560976</td>\n",
       "      <td>2013.653061</td>\n",
       "      <td>6.867647</td>\n",
       "      <td>2010.313725</td>\n",
       "      <td>inf</td>\n",
       "      <td>6.798582</td>\n",
       "      <td>4.325206</td>\n",
       "    </tr>\n",
       "    <tr>\n",
       "      <th>Drama</th>\n",
       "      <td>49.968354</td>\n",
       "      <td>19.630802</td>\n",
       "      <td>15.640205</td>\n",
       "      <td>44.032258</td>\n",
       "      <td>30.268939</td>\n",
       "      <td>2013.976517</td>\n",
       "      <td>7.024328</td>\n",
       "      <td>2011.609475</td>\n",
       "      <td>inf</td>\n",
       "      <td>6.433181</td>\n",
       "      <td>7.234650</td>\n",
       "    </tr>\n",
       "    <tr>\n",
       "      <th>Family</th>\n",
       "      <td>63.142857</td>\n",
       "      <td>3.857143</td>\n",
       "      <td>3.857143</td>\n",
       "      <td>4.285714</td>\n",
       "      <td>NaN</td>\n",
       "      <td>2017.000000</td>\n",
       "      <td>7.571429</td>\n",
       "      <td>2007.571429</td>\n",
       "      <td>1.792500</td>\n",
       "      <td>5.825000</td>\n",
       "      <td>2.875250</td>\n",
       "    </tr>\n",
       "    <tr>\n",
       "      <th>Fantasy</th>\n",
       "      <td>68.428571</td>\n",
       "      <td>23.000000</td>\n",
       "      <td>14.800000</td>\n",
       "      <td>32.555556</td>\n",
       "      <td>13.166667</td>\n",
       "      <td>2013.428571</td>\n",
       "      <td>7.000000</td>\n",
       "      <td>2013.400000</td>\n",
       "      <td>1.955000</td>\n",
       "      <td>5.990000</td>\n",
       "      <td>9.579700</td>\n",
       "    </tr>\n",
       "    <tr>\n",
       "      <th>Horror</th>\n",
       "      <td>54.077519</td>\n",
       "      <td>16.023256</td>\n",
       "      <td>28.671141</td>\n",
       "      <td>73.000000</td>\n",
       "      <td>49.160714</td>\n",
       "      <td>2014.000000</td>\n",
       "      <td>6.840000</td>\n",
       "      <td>2012.393333</td>\n",
       "      <td>inf</td>\n",
       "      <td>5.441085</td>\n",
       "      <td>8.531341</td>\n",
       "    </tr>\n",
       "    <tr>\n",
       "      <th>Music</th>\n",
       "      <td>27.800000</td>\n",
       "      <td>15.200000</td>\n",
       "      <td>17.400000</td>\n",
       "      <td>29.200000</td>\n",
       "      <td>5.000000</td>\n",
       "      <td>2013.000000</td>\n",
       "      <td>11.000000</td>\n",
       "      <td>2007.400000</td>\n",
       "      <td>1.520000</td>\n",
       "      <td>7.000000</td>\n",
       "      <td>3.603500</td>\n",
       "    </tr>\n",
       "    <tr>\n",
       "      <th>Musical</th>\n",
       "      <td>35.666667</td>\n",
       "      <td>40.333333</td>\n",
       "      <td>75.000000</td>\n",
       "      <td>191.333333</td>\n",
       "      <td>NaN</td>\n",
       "      <td>NaN</td>\n",
       "      <td>6.333333</td>\n",
       "      <td>2010.333333</td>\n",
       "      <td>2.566667</td>\n",
       "      <td>4.433333</td>\n",
       "      <td>1.637333</td>\n",
       "    </tr>\n",
       "    <tr>\n",
       "      <th>Mystery</th>\n",
       "      <td>72.000000</td>\n",
       "      <td>31.600000</td>\n",
       "      <td>42.750000</td>\n",
       "      <td>103.714286</td>\n",
       "      <td>77.800000</td>\n",
       "      <td>2013.166667</td>\n",
       "      <td>3.750000</td>\n",
       "      <td>2013.250000</td>\n",
       "      <td>3.670000</td>\n",
       "      <td>6.450000</td>\n",
       "      <td>12.216500</td>\n",
       "    </tr>\n",
       "    <tr>\n",
       "      <th>Romance</th>\n",
       "      <td>42.200000</td>\n",
       "      <td>26.800000</td>\n",
       "      <td>10.875000</td>\n",
       "      <td>31.875000</td>\n",
       "      <td>40.000000</td>\n",
       "      <td>2013.500000</td>\n",
       "      <td>6.500000</td>\n",
       "      <td>2010.000000</td>\n",
       "      <td>1.052500</td>\n",
       "      <td>6.300000</td>\n",
       "      <td>7.574500</td>\n",
       "    </tr>\n",
       "    <tr>\n",
       "      <th>Sci-Fi</th>\n",
       "      <td>51.375000</td>\n",
       "      <td>31.125000</td>\n",
       "      <td>42.375000</td>\n",
       "      <td>103.750000</td>\n",
       "      <td>NaN</td>\n",
       "      <td>NaN</td>\n",
       "      <td>4.875000</td>\n",
       "      <td>2007.000000</td>\n",
       "      <td>1.894286</td>\n",
       "      <td>6.025000</td>\n",
       "      <td>3.027750</td>\n",
       "    </tr>\n",
       "    <tr>\n",
       "      <th>Sport</th>\n",
       "      <td>22.500000</td>\n",
       "      <td>36.500000</td>\n",
       "      <td>19.500000</td>\n",
       "      <td>39.500000</td>\n",
       "      <td>NaN</td>\n",
       "      <td>NaN</td>\n",
       "      <td>7.500000</td>\n",
       "      <td>1998.000000</td>\n",
       "      <td>0.830000</td>\n",
       "      <td>NaN</td>\n",
       "      <td>NaN</td>\n",
       "    </tr>\n",
       "    <tr>\n",
       "      <th>Thriller</th>\n",
       "      <td>57.892857</td>\n",
       "      <td>18.678571</td>\n",
       "      <td>14.571429</td>\n",
       "      <td>32.241379</td>\n",
       "      <td>28.500000</td>\n",
       "      <td>2013.636364</td>\n",
       "      <td>6.857143</td>\n",
       "      <td>2007.971429</td>\n",
       "      <td>1.608800</td>\n",
       "      <td>5.700000</td>\n",
       "      <td>3.077870</td>\n",
       "    </tr>\n",
       "    <tr>\n",
       "      <th>War</th>\n",
       "      <td>54.333333</td>\n",
       "      <td>52.000000</td>\n",
       "      <td>62.000000</td>\n",
       "      <td>144.000000</td>\n",
       "      <td>NaN</td>\n",
       "      <td>NaN</td>\n",
       "      <td>5.000000</td>\n",
       "      <td>1998.000000</td>\n",
       "      <td>2.586667</td>\n",
       "      <td>NaN</td>\n",
       "      <td>NaN</td>\n",
       "    </tr>\n",
       "    <tr>\n",
       "      <th>Western</th>\n",
       "      <td>47.333333</td>\n",
       "      <td>6.000000</td>\n",
       "      <td>1.000000</td>\n",
       "      <td>1.666667</td>\n",
       "      <td>NaN</td>\n",
       "      <td>NaN</td>\n",
       "      <td>10.666667</td>\n",
       "      <td>2004.000000</td>\n",
       "      <td>1.040000</td>\n",
       "      <td>5.666667</td>\n",
       "      <td>1.394000</td>\n",
       "    </tr>\n",
       "  </tbody>\n",
       "</table>\n",
       "</div>"
      ],
      "text/plain": [
       "                    id  production_budget_$m  domestic_gross_$m  \\\n",
       "genre1                                                            \n",
       "             44.608696             26.478261          39.250000   \n",
       "Action       50.511407             72.047529          63.713869   \n",
       "Adventure    47.758974             71.676923          73.824000   \n",
       "Animation    45.200000             51.400000          41.414634   \n",
       "Biography    49.400000             22.262069          19.849206   \n",
       "Comedy       52.622222             20.674074          21.937888   \n",
       "Crime        48.798246             23.429825          17.421384   \n",
       "Documentary  48.373984             19.008130          17.806931   \n",
       "Drama        49.968354             19.630802          15.640205   \n",
       "Family       63.142857              3.857143           3.857143   \n",
       "Fantasy      68.428571             23.000000          14.800000   \n",
       "Horror       54.077519             16.023256          28.671141   \n",
       "Music        27.800000             15.200000          17.400000   \n",
       "Musical      35.666667             40.333333          75.000000   \n",
       "Mystery      72.000000             31.600000          42.750000   \n",
       "Romance      42.200000             26.800000          10.875000   \n",
       "Sci-Fi       51.375000             31.125000          42.375000   \n",
       "Sport        22.500000             36.500000          19.500000   \n",
       "Thriller     57.892857             18.678571          14.571429   \n",
       "War          54.333333             52.000000          62.000000   \n",
       "Western      47.333333              6.000000           1.000000   \n",
       "\n",
       "             worldwide_gross_$m  foreign_gross_$m         year  release_month  \\\n",
       "genre1                                                                          \n",
       "                     102.916667        117.000000  2014.454545       7.250000   \n",
       "Action               202.697674        157.623116  2013.974052       6.653623   \n",
       "Adventure            229.185841        173.897436  2014.129032       6.916335   \n",
       "Animation            155.774194        113.631579  2014.551724       7.658537   \n",
       "Biography             53.989362         38.483051  2014.583333       7.591270   \n",
       "Comedy                53.635458         34.598639  2013.412766       6.764341   \n",
       "Crime                 48.214876         32.968750  2014.086538       7.260870   \n",
       "Documentary           44.854305         13.560976  2013.653061       6.867647   \n",
       "Drama                 44.032258         30.268939  2013.976517       7.024328   \n",
       "Family                 4.285714               NaN  2017.000000       7.571429   \n",
       "Fantasy               32.555556         13.166667  2013.428571       7.000000   \n",
       "Horror                73.000000         49.160714  2014.000000       6.840000   \n",
       "Music                 29.200000          5.000000  2013.000000      11.000000   \n",
       "Musical              191.333333               NaN          NaN       6.333333   \n",
       "Mystery              103.714286         77.800000  2013.166667       3.750000   \n",
       "Romance               31.875000         40.000000  2013.500000       6.500000   \n",
       "Sci-Fi               103.750000               NaN          NaN       4.875000   \n",
       "Sport                 39.500000               NaN          NaN       7.500000   \n",
       "Thriller              32.241379         28.500000  2013.636364       6.857143   \n",
       "War                  144.000000               NaN          NaN       5.000000   \n",
       "Western                1.666667               NaN          NaN      10.666667   \n",
       "\n",
       "             release_year  global_mom  vote_average  popularity  \n",
       "genre1                                                           \n",
       "              2008.214286         inf      6.450000    7.267750  \n",
       "Action        2013.184058         inf      6.098229   13.654303  \n",
       "Adventure     2013.167331    3.041710      6.401852   12.479968  \n",
       "Animation     2012.365854    2.930500      6.691667    9.059333  \n",
       "Biography     2013.698413         inf      6.751082    8.605225  \n",
       "Comedy        2012.565891         inf      6.150172    8.055791  \n",
       "Crime         2012.645963    1.882569      6.219718    9.077556  \n",
       "Documentary   2010.313725         inf      6.798582    4.325206  \n",
       "Drama         2011.609475         inf      6.433181    7.234650  \n",
       "Family        2007.571429    1.792500      5.825000    2.875250  \n",
       "Fantasy       2013.400000    1.955000      5.990000    9.579700  \n",
       "Horror        2012.393333         inf      5.441085    8.531341  \n",
       "Music         2007.400000    1.520000      7.000000    3.603500  \n",
       "Musical       2010.333333    2.566667      4.433333    1.637333  \n",
       "Mystery       2013.250000    3.670000      6.450000   12.216500  \n",
       "Romance       2010.000000    1.052500      6.300000    7.574500  \n",
       "Sci-Fi        2007.000000    1.894286      6.025000    3.027750  \n",
       "Sport         1998.000000    0.830000           NaN         NaN  \n",
       "Thriller      2007.971429    1.608800      5.700000    3.077870  \n",
       "War           1998.000000    2.586667           NaN         NaN  \n",
       "Western       2004.000000    1.040000      5.666667    1.394000  "
      ]
     },
     "execution_count": 332,
     "metadata": {},
     "output_type": "execute_result"
    }
   ],
   "source": [
    "tbi_since1990.groupby(['genre1']).mean()"
   ]
  },
  {
   "cell_type": "code",
   "execution_count": 333,
   "metadata": {},
   "outputs": [],
   "source": [
    "genre_vs_mom = tbi_since1990.groupby(['genre1']).median().sort_values(by='global_mom',ascending=False)['global_mom']"
   ]
  },
  {
   "cell_type": "code",
   "execution_count": 334,
   "metadata": {},
   "outputs": [],
   "source": [
    "genre2_vs_mom = tbi_since1990.groupby(['genre2']).median().sort_values(by='global_mom',ascending=False)['global_mom']"
   ]
  },
  {
   "cell_type": "code",
   "execution_count": 325,
   "metadata": {},
   "outputs": [
    {
     "data": {
      "text/plain": [
       "genre1\n",
       "Mystery        4.450\n",
       "War            3.210\n",
       "Adventure      2.450\n",
       "Animation      2.400\n",
       "Horror         2.400\n",
       "               2.340\n",
       "Sci-Fi         2.190\n",
       "Action         2.000\n",
       "Musical        1.900\n",
       "Biography      1.870\n",
       "Comedy         1.850\n",
       "Documentary    1.490\n",
       "Drama          1.360\n",
       "Fantasy        1.340\n",
       "Thriller       1.040\n",
       "Crime          1.000\n",
       "Romance        0.835\n",
       "Sport          0.830\n",
       "Music          0.500\n",
       "Western        0.120\n",
       "Family         0.085\n",
       "Name: global_mom, dtype: float64"
      ]
     },
     "execution_count": 325,
     "metadata": {},
     "output_type": "execute_result"
    }
   ],
   "source": [
    "genre_vs_mom"
   ]
  },
  {
   "cell_type": "code",
   "execution_count": 326,
   "metadata": {},
   "outputs": [
    {
     "data": {
      "text/plain": [
       "<matplotlib.axes._subplots.AxesSubplot at 0x1f577591388>"
      ]
     },
     "execution_count": 326,
     "metadata": {},
     "output_type": "execute_result"
    },
    {
     "data": {
      "image/png": "[encoded data removed]",
      "text/plain": [
       "<Figure size 432x288 with 1 Axes>"
      ]
     },
     "metadata": {
      "needs_background": "light"
     },
     "output_type": "display_data"
    }
   ],
   "source": [
    "genre_vs_mom.plot.bar()"
   ]
  },
  {
   "cell_type": "code",
   "execution_count": 327,
   "metadata": {},
   "outputs": [
    {
     "data": {
      "text/plain": [
       "genre2\n",
       "Mystery        2.920\n",
       "Music          2.750\n",
       "Animation      2.680\n",
       "Adventure      2.470\n",
       "Documentary    2.250\n",
       "Romance        2.140\n",
       "Sci-Fi         2.080\n",
       "Comedy         2.050\n",
       "Family         1.850\n",
       "Fantasy        1.545\n",
       "Drama          1.520\n",
       "Crime          1.495\n",
       "Horror         1.430\n",
       "Thriller       1.390\n",
       "Western        1.165\n",
       "Sport          1.020\n",
       "History        0.865\n",
       "Biography      0.615\n",
       "War            0.355\n",
       "Musical          NaN\n",
       "Name: global_mom, dtype: float64"
      ]
     },
     "execution_count": 327,
     "metadata": {},
     "output_type": "execute_result"
    }
   ],
   "source": [
    "genre2_vs_mom"
   ]
  },
  {
   "cell_type": "code",
   "execution_count": 328,
   "metadata": {},
   "outputs": [
    {
     "data": {
      "text/plain": [
       "<matplotlib.axes._subplots.AxesSubplot at 0x1f57641c608>"
      ]
     },
     "execution_count": 328,
     "metadata": {},
     "output_type": "execute_result"
    },
    {
     "data": {
      "image/png": "[encoded data removed]",
      "text/plain": [
       "<Figure size 432x288 with 1 Axes>"
      ]
     },
     "metadata": {
      "needs_background": "light"
     },
     "output_type": "display_data"
    }
   ],
   "source": [
    "genre2_vs_mom.plot.bar()"
   ]
  },
  {
   "cell_type": "markdown",
   "metadata": {},
   "source": [
    "### Notes"
   ]
  },
  {
   "cell_type": "code",
   "execution_count": null,
   "metadata": {},
   "outputs": [],
   "source": [
    "# Use below three tables to do earnings / ROI by genre by season"
   ]
  },
  {
   "cell_type": "code",
   "execution_count": null,
   "metadata": {},
   "outputs": [],
   "source": [
    "SELECT COUNT(*) \n",
    "FROM movies.imdb_title_basics\n",
    "WHERE start_year > 2010\n",
    "#total 146144 rows --> starts 2010 only "
   ]
  },
  {
   "cell_type": "code",
   "execution_count": null,
   "metadata": {},
   "outputs": [],
   "source": [
    "SELECT COUNT(*)\n",
    "FROM movies.bom_movie_gross\n",
    "# total 3387 rows --> total database only has 3387 rows and starts at 2010"
   ]
  },
  {
   "cell_type": "code",
   "execution_count": null,
   "metadata": {},
   "outputs": [],
   "source": [
    "# tn movie budgets; bom movie gross; tmbd movies with unique titles "
   ]
  },
  {
   "cell_type": "code",
   "execution_count": null,
   "metadata": {},
   "outputs": [],
   "source": [
    "SELECT \n",
    "\tCOUNT(*),\n",
    "    RIGHT(release_date, 4)\n",
    "FROM movies.tn_movie_budgets\n",
    "GROUP BY RIGHT(release_date, 4) ASC\n",
    "#5782 rows total --> 1996 first year with over 100 movies \n",
    "\n",
    "SELECT \n",
    "\tCOUNT(*)\n",
    "FROM movies.tn_movie_budgets\n",
    "WHERE RIGHT(release_date, 4) > 1995\n",
    "#4925\n",
    "#2194 for 2010 and after"
   ]
  },
  {
   "cell_type": "code",
   "execution_count": 1,
   "metadata": {},
   "outputs": [],
   "source": [
    "#GENERAL Analysis (JOIN ON Movie name)\n",
    "#earnings / ROI by genre (tn_movie_budgets + imdb_title_basics JOIN on movie title) POST 2010 (only 2194 movies)\n",
    "#earnings / ROI by season (use only tn_movie_budgets) POST 2010 (only 2194 movies)\n",
    "#ratings vs. box office success correlatoin (movie_budgets and title_basics)\n",
    "#IMDB analysis (JOIN ON nmstat and tstat)\n",
    "#imdb genre vs. rating (use title_basics, title_ratings JOIN on tconst) POST 2010 (limit is ratings)\n",
    "#imdb actors, directors and producers with highest ratings (use title_principals, title_ratings and \n",
    "#name_basics, JOIN on tconst and nmconst) POST 2010 (limit is ratings)\n",
    "#RT Analysis (JOIN ON ID)\n",
    "#overview of top critics, most frequent critics and what genres they like / how harsh they are (rt_reviews)\n",
    "#rt ratings vs. box office reviews vs. top critics (1500 instances approx) limited by box office numbers in movie_info"
   ]
  },
  {
   "cell_type": "code",
   "execution_count": null,
   "metadata": {},
   "outputs": [],
   "source": [
    "# LIST of databases\n",
    "## DONT USE movies.bom_movie_gross for anything \n",
    "## DONT USE movies.imdb_name basics\n",
    "## DONT USE imdb title akas\n",
    "## DONT USE imdb title crew\n",
    "## ONLY database with too many rows is imdb principles w/ over 1m "
   ]
  },
  {
   "cell_type": "code",
   "execution_count": null,
   "metadata": {},
   "outputs": [],
   "source": [
    "# TO DO\n",
    "## Split genre into Primary, Secondary, Tertiary (for both ImDB and RT)"
   ]
  }
 ],
 "metadata": {
  "kernelspec": {
   "display_name": "Python 3",
   "language": "python",
   "name": "python3"
  },
  "language_info": {
   "codemirror_mode": {
    "name": "ipython",
    "version": 3
   },
   "file_extension": ".py",
   "mimetype": "text/x-python",
   "name": "python",
   "nbconvert_exporter": "python",
   "pygments_lexer": "ipython3",
   "version": "3.7.6"
  }
 },
 "nbformat": 4,
 "nbformat_minor": 4
}
