{
 "cells": [
  {
   "cell_type": "markdown",
   "metadata": {},
   "source": [
    "# Cong Workbook\n"
   ]
  },
  {
   "cell_type": "markdown",
   "metadata": {},
   "source": [
    "### Import Libraries\n",
    "Let's first import some stuff"
   ]
  },
  {
   "cell_type": "code",
   "execution_count": 316,
   "metadata": {},
   "outputs": [],
   "source": [
    "import numpy as np\n",
    "import pandas as pd\n",
    "import matplotlib.pyplot as plt"
   ]
  },
  {
   "cell_type": "code",
   "execution_count": 317,
   "metadata": {},
   "outputs": [
    {
     "name": "stdout",
     "output_type": "stream",
     "text": [
      "Requirement already satisfied: mysql-connector-python in c:\\users\\cxu19\\anaconda\\lib\\site-packages (8.0.20)\n",
      "Requirement already satisfied: protobuf>=3.0.0 in c:\\users\\cxu19\\anaconda\\lib\\site-packages (from mysql-connector-python) (3.12.2)\n",
      "Requirement already satisfied: setuptools in c:\\users\\cxu19\\anaconda\\lib\\site-packages (from protobuf>=3.0.0->mysql-connector-python) (45.2.0.post20200210)\n",
      "Requirement already satisfied: six>=1.9 in c:\\users\\cxu19\\anaconda\\lib\\site-packages (from protobuf>=3.0.0->mysql-connector-python) (1.14.0)\n"
     ]
    }
   ],
   "source": [
    "!pip install mysql-connector-python"
   ]
  },
  {
   "cell_type": "code",
   "execution_count": 360,
   "metadata": {},
   "outputs": [],
   "source": [
    "import mysql.connector"
   ]
  },
  {
   "cell_type": "code",
   "execution_count": 361,
   "metadata": {},
   "outputs": [],
   "source": [
    "con = mysql.connector.connect(user='hbs-student', password='super-secure-password?',\n",
    "                              host='hbs-ds-060120.c1doesqrid0e.us-east-1.rds.amazonaws.com',\n",
    "                              database='movies')"
   ]
  },
  {
   "cell_type": "markdown",
   "metadata": {},
   "source": [
    "### Analysis #1: Box Office / ROI based on genre and season"
   ]
  },
  {
   "cell_type": "code",
   "execution_count": 320,
   "metadata": {},
   "outputs": [],
   "source": [
    "tn = pd.DataFrame(pd.read_sql_query(\"\"\"\n",
    "SELECT * \n",
    "FROM movies.tn_movie_budgets\"\"\", con))"
   ]
  },
  {
   "cell_type": "code",
   "execution_count": 321,
   "metadata": {},
   "outputs": [],
   "source": [
    "tn['domestic_gross'] = tn['domestic_gross'].str.replace('$','')   "
   ]
  },
  {
   "cell_type": "code",
   "execution_count": 322,
   "metadata": {},
   "outputs": [],
   "source": [
    "tn['domestic_gross'] = tn['domestic_gross'].str.replace(',','')"
   ]
  },
  {
   "cell_type": "code",
   "execution_count": 323,
   "metadata": {},
   "outputs": [],
   "source": [
    "tn['domestic_gross'] = tn['domestic_gross'].astype(float)"
   ]
  },
  {
   "cell_type": "code",
   "execution_count": 324,
   "metadata": {},
   "outputs": [
    {
     "data": {
      "text/plain": [
       "0       760507625.0\n",
       "1       241063875.0\n",
       "2        42762350.0\n",
       "3       459005868.0\n",
       "4       620181382.0\n",
       "           ...     \n",
       "5777            0.0\n",
       "5778        48482.0\n",
       "5779         1338.0\n",
       "5780            0.0\n",
       "5781       181041.0\n",
       "Name: domestic_gross, Length: 5782, dtype: float64"
      ]
     },
     "execution_count": 324,
     "metadata": {},
     "output_type": "execute_result"
    }
   ],
   "source": [
    "tn['domestic_gross']"
   ]
  },
  {
   "cell_type": "code",
   "execution_count": 325,
   "metadata": {},
   "outputs": [],
   "source": [
    "bom = pd.DataFrame(pd.read_sql_query(\"\"\"\n",
    "SELECT * \n",
    "FROM movies.bom_movie_gross\"\"\", con))"
   ]
  },
  {
   "cell_type": "code",
   "execution_count": 326,
   "metadata": {},
   "outputs": [
    {
     "data": {
      "text/plain": [
       "0       415000000.0\n",
       "1       334200000.0\n",
       "2       296000000.0\n",
       "3       292600000.0\n",
       "4       238700000.0\n",
       "           ...     \n",
       "3382         6200.0\n",
       "3383         4800.0\n",
       "3384         2500.0\n",
       "3385         2400.0\n",
       "3386         1700.0\n",
       "Name: domestic_gross, Length: 3387, dtype: float64"
      ]
     },
     "execution_count": 326,
     "metadata": {},
     "output_type": "execute_result"
    }
   ],
   "source": [
    "bom['domestic_gross']"
   ]
  },
  {
   "cell_type": "code",
   "execution_count": 327,
   "metadata": {},
   "outputs": [],
   "source": [
    "tmdb = pd.DataFrame(pd.read_sql_query(\"\"\"\n",
    "SELECT * \n",
    "FROM movies.tmdb_movies\"\"\", con))"
   ]
  },
  {
   "cell_type": "code",
   "execution_count": 362,
   "metadata": {},
   "outputs": [],
   "source": [
    "imdb_title_basics = pd.DataFrame(pd.read_sql_query(\"\"\"\n",
    "SELECT \n",
    "\tprimary_title,\n",
    "    genres\n",
    "FROM movies.imdb_title_basics\"\"\", con))"
   ]
  },
  {
   "cell_type": "code",
   "execution_count": 364,
   "metadata": {},
   "outputs": [
    {
     "data": {
      "text/html": [
       "<div>\n",
       "<style scoped>\n",
       "    .dataframe tbody tr th:only-of-type {\n",
       "        vertical-align: middle;\n",
       "    }\n",
       "\n",
       "    .dataframe tbody tr th {\n",
       "        vertical-align: top;\n",
       "    }\n",
       "\n",
       "    .dataframe thead th {\n",
       "        text-align: right;\n",
       "    }\n",
       "</style>\n",
       "<table border=\"1\" class=\"dataframe\">\n",
       "  <thead>\n",
       "    <tr style=\"text-align: right;\">\n",
       "      <th></th>\n",
       "      <th>primary_title</th>\n",
       "      <th>genres</th>\n",
       "    </tr>\n",
       "  </thead>\n",
       "  <tbody>\n",
       "    <tr>\n",
       "      <th>0</th>\n",
       "      <td>Sunghursh</td>\n",
       "      <td>Action,Crime,Drama</td>\n",
       "    </tr>\n",
       "    <tr>\n",
       "      <th>1</th>\n",
       "      <td>One Day Before the Rainy Season</td>\n",
       "      <td>Biography,Drama</td>\n",
       "    </tr>\n",
       "    <tr>\n",
       "      <th>2</th>\n",
       "      <td>The Other Side of the Wind</td>\n",
       "      <td>Drama</td>\n",
       "    </tr>\n",
       "    <tr>\n",
       "      <th>3</th>\n",
       "      <td>Sabse Bada Sukh</td>\n",
       "      <td>Comedy,Drama</td>\n",
       "    </tr>\n",
       "    <tr>\n",
       "      <th>4</th>\n",
       "      <td>The Wandering Soap Opera</td>\n",
       "      <td>Comedy,Drama,Fantasy</td>\n",
       "    </tr>\n",
       "    <tr>\n",
       "      <th>...</th>\n",
       "      <td>...</td>\n",
       "      <td>...</td>\n",
       "    </tr>\n",
       "    <tr>\n",
       "      <th>146139</th>\n",
       "      <td>Kuambil Lagi Hatiku</td>\n",
       "      <td>Drama</td>\n",
       "    </tr>\n",
       "    <tr>\n",
       "      <th>146140</th>\n",
       "      <td>Rodolpho Teóphilo - O Legado de um Pioneiro</td>\n",
       "      <td>Documentary</td>\n",
       "    </tr>\n",
       "    <tr>\n",
       "      <th>146141</th>\n",
       "      <td>Dankyavar Danka</td>\n",
       "      <td>Comedy</td>\n",
       "    </tr>\n",
       "    <tr>\n",
       "      <th>146142</th>\n",
       "      <td>6 Gunn</td>\n",
       "      <td></td>\n",
       "    </tr>\n",
       "    <tr>\n",
       "      <th>146143</th>\n",
       "      <td>Chico Albuquerque - Revelações</td>\n",
       "      <td>Documentary</td>\n",
       "    </tr>\n",
       "  </tbody>\n",
       "</table>\n",
       "<p>146144 rows × 2 columns</p>\n",
       "</div>"
      ],
      "text/plain": [
       "                                      primary_title                genres\n",
       "0                                         Sunghursh    Action,Crime,Drama\n",
       "1                   One Day Before the Rainy Season       Biography,Drama\n",
       "2                        The Other Side of the Wind                 Drama\n",
       "3                                   Sabse Bada Sukh          Comedy,Drama\n",
       "4                          The Wandering Soap Opera  Comedy,Drama,Fantasy\n",
       "...                                             ...                   ...\n",
       "146139                          Kuambil Lagi Hatiku                 Drama\n",
       "146140  Rodolpho Teóphilo - O Legado de um Pioneiro           Documentary\n",
       "146141                              Dankyavar Danka                Comedy\n",
       "146142                                       6 Gunn                      \n",
       "146143               Chico Albuquerque - Revelações           Documentary\n",
       "\n",
       "[146144 rows x 2 columns]"
      ]
     },
     "execution_count": 364,
     "metadata": {},
     "output_type": "execute_result"
    }
   ],
   "source": [
    "imdb_title_basics"
   ]
  },
  {
   "cell_type": "code",
   "execution_count": 328,
   "metadata": {},
   "outputs": [
    {
     "data": {
      "text/plain": [
       "Index(['genre_ids', 'id', 'original_language', 'original_title', 'popularity',\n",
       "       'release_date', 'title', 'vote_average', 'vote_count'],\n",
       "      dtype='object')"
      ]
     },
     "execution_count": 328,
     "metadata": {},
     "output_type": "execute_result"
    }
   ],
   "source": [
    "tmdb.columns"
   ]
  },
  {
   "cell_type": "code",
   "execution_count": 329,
   "metadata": {},
   "outputs": [],
   "source": [
    "tmdb_bom = tmdb.join(bom.set_index('title'),\n",
    "          on='original_title',\n",
    "          how='outer',\n",
    "          rsuffix='_bom')"
   ]
  },
  {
   "cell_type": "code",
   "execution_count": 330,
   "metadata": {},
   "outputs": [],
   "source": [
    "tbt_org = tmdb_bom.join(tn.set_index('movie'),\n",
    "              on='original_title',\n",
    "              how='outer',\n",
    "              rsuffix='_tn')"
   ]
  },
  {
   "cell_type": "code",
   "execution_count": 331,
   "metadata": {},
   "outputs": [
    {
     "data": {
      "text/plain": [
       "(31786, 18)"
      ]
     },
     "execution_count": 331,
     "metadata": {},
     "output_type": "execute_result"
    }
   ],
   "source": [
    "tbt_org.shape"
   ]
  },
  {
   "cell_type": "code",
   "execution_count": 332,
   "metadata": {},
   "outputs": [],
   "source": [
    "tbt_org = tbt_org.reset_index()"
   ]
  },
  {
   "cell_type": "code",
   "execution_count": 333,
   "metadata": {},
   "outputs": [
    {
     "data": {
      "text/html": [
       "<div>\n",
       "<style scoped>\n",
       "    .dataframe tbody tr th:only-of-type {\n",
       "        vertical-align: middle;\n",
       "    }\n",
       "\n",
       "    .dataframe tbody tr th {\n",
       "        vertical-align: top;\n",
       "    }\n",
       "\n",
       "    .dataframe thead th {\n",
       "        text-align: right;\n",
       "    }\n",
       "</style>\n",
       "<table border=\"1\" class=\"dataframe\">\n",
       "  <thead>\n",
       "    <tr style=\"text-align: right;\">\n",
       "      <th></th>\n",
       "      <th>index</th>\n",
       "      <th>genre_ids</th>\n",
       "      <th>id</th>\n",
       "      <th>original_language</th>\n",
       "      <th>original_title</th>\n",
       "      <th>popularity</th>\n",
       "      <th>release_date</th>\n",
       "      <th>title</th>\n",
       "      <th>vote_average</th>\n",
       "      <th>vote_count</th>\n",
       "      <th>studio</th>\n",
       "      <th>domestic_gross</th>\n",
       "      <th>foreign_gross</th>\n",
       "      <th>year</th>\n",
       "      <th>id_tn</th>\n",
       "      <th>release_date_tn</th>\n",
       "      <th>production_budget</th>\n",
       "      <th>domestic_gross_tn</th>\n",
       "      <th>worldwide_gross</th>\n",
       "    </tr>\n",
       "  </thead>\n",
       "  <tbody>\n",
       "    <tr>\n",
       "      <th>1</th>\n",
       "      <td>1.0</td>\n",
       "      <td>1</td>\n",
       "      <td>10191.0</td>\n",
       "      <td>en</td>\n",
       "      <td>How to Train Your Dragon</td>\n",
       "      <td>28.734</td>\n",
       "      <td>2010-03-26</td>\n",
       "      <td>How to Train Your Dragon</td>\n",
       "      <td>7.7</td>\n",
       "      <td>7610.0</td>\n",
       "      <td>P/DW</td>\n",
       "      <td>217600000.0</td>\n",
       "      <td>277300000.0</td>\n",
       "      <td>2010.0</td>\n",
       "      <td>30.0</td>\n",
       "      <td>Mar 26, 2010</td>\n",
       "      <td>$165,000,000</td>\n",
       "      <td>217581232.0</td>\n",
       "      <td>$494,870,992</td>\n",
       "    </tr>\n",
       "    <tr>\n",
       "      <th>27000</th>\n",
       "      <td>NaN</td>\n",
       "      <td>NaN</td>\n",
       "      <td>NaN</td>\n",
       "      <td>NaN</td>\n",
       "      <td>17 Girls</td>\n",
       "      <td>NaN</td>\n",
       "      <td>NaN</td>\n",
       "      <td>NaN</td>\n",
       "      <td>NaN</td>\n",
       "      <td>NaN</td>\n",
       "      <td>Strand</td>\n",
       "      <td>15100.0</td>\n",
       "      <td>186000.0</td>\n",
       "      <td>2012.0</td>\n",
       "      <td>NaN</td>\n",
       "      <td>NaN</td>\n",
       "      <td>NaN</td>\n",
       "      <td>NaN</td>\n",
       "      <td>NaN</td>\n",
       "    </tr>\n",
       "    <tr>\n",
       "      <th>30000</th>\n",
       "      <td>NaN</td>\n",
       "      <td>NaN</td>\n",
       "      <td>NaN</td>\n",
       "      <td>NaN</td>\n",
       "      <td>The Princess Bride</td>\n",
       "      <td>NaN</td>\n",
       "      <td>NaN</td>\n",
       "      <td>NaN</td>\n",
       "      <td>NaN</td>\n",
       "      <td>NaN</td>\n",
       "      <td>NaN</td>\n",
       "      <td>NaN</td>\n",
       "      <td>NaN</td>\n",
       "      <td>NaN</td>\n",
       "      <td>47.0</td>\n",
       "      <td>Sep 25, 1987</td>\n",
       "      <td>$15,000,000</td>\n",
       "      <td>30857000.0</td>\n",
       "      <td>$30,859,628</td>\n",
       "    </tr>\n",
       "  </tbody>\n",
       "</table>\n",
       "</div>"
      ],
      "text/plain": [
       "       index genre_ids       id original_language            original_title  \\\n",
       "1        1.0         1  10191.0                en  How to Train Your Dragon   \n",
       "27000    NaN       NaN      NaN               NaN                  17 Girls   \n",
       "30000    NaN       NaN      NaN               NaN        The Princess Bride   \n",
       "\n",
       "       popularity release_date                     title  vote_average  \\\n",
       "1          28.734   2010-03-26  How to Train Your Dragon           7.7   \n",
       "27000         NaN          NaN                       NaN           NaN   \n",
       "30000         NaN          NaN                       NaN           NaN   \n",
       "\n",
       "       vote_count  studio  domestic_gross  foreign_gross    year  id_tn  \\\n",
       "1          7610.0    P/DW     217600000.0    277300000.0  2010.0   30.0   \n",
       "27000         NaN  Strand         15100.0       186000.0  2012.0    NaN   \n",
       "30000         NaN     NaN             NaN            NaN     NaN   47.0   \n",
       "\n",
       "      release_date_tn production_budget  domestic_gross_tn worldwide_gross  \n",
       "1        Mar 26, 2010      $165,000,000        217581232.0    $494,870,992  \n",
       "27000             NaN               NaN                NaN             NaN  \n",
       "30000    Sep 25, 1987       $15,000,000         30857000.0     $30,859,628  "
      ]
     },
     "execution_count": 333,
     "metadata": {},
     "output_type": "execute_result"
    }
   ],
   "source": [
    "tbt_org.iloc[[1,27000,30000], :]"
   ]
  },
  {
   "cell_type": "code",
   "execution_count": 334,
   "metadata": {},
   "outputs": [
    {
     "data": {
      "text/plain": [
       "0                NaN\n",
       "1        217600000.0\n",
       "2        312400000.0\n",
       "3                NaN\n",
       "4                NaN\n",
       "            ...     \n",
       "31781            NaN\n",
       "31782            NaN\n",
       "31783            NaN\n",
       "31784            NaN\n",
       "31785            NaN\n",
       "Name: domestic_gross, Length: 31786, dtype: float64"
      ]
     },
     "execution_count": 334,
     "metadata": {},
     "output_type": "execute_result"
    }
   ],
   "source": [
    "tbt_org['domestic_gross']"
   ]
  },
  {
   "cell_type": "code",
   "execution_count": 335,
   "metadata": {},
   "outputs": [
    {
     "data": {
      "text/plain": [
       "numpy.float64"
      ]
     },
     "execution_count": 335,
     "metadata": {},
     "output_type": "execute_result"
    }
   ],
   "source": [
    "type(tbt_org.iloc[1,12])"
   ]
  },
  {
   "cell_type": "code",
   "execution_count": 336,
   "metadata": {},
   "outputs": [],
   "source": [
    "tbt_org['domestic_gross'] = np.where(tbt_org['domestic_gross'].isna(), tbt_org['domestic_gross_tn'], tbt_org['domestic_gross']) "
   ]
  },
  {
   "cell_type": "code",
   "execution_count": 337,
   "metadata": {},
   "outputs": [],
   "source": [
    "tbt_org['release_date'] = np.where(tbt_org['release_date'].isna(), tbt_org['release_date_tn'], tbt_org['release_date']) "
   ]
  },
  {
   "cell_type": "code",
   "execution_count": 338,
   "metadata": {},
   "outputs": [],
   "source": [
    "tbt_org['release_date'] = pd.to_datetime(tbt_org['release_date']) "
   ]
  },
  {
   "cell_type": "code",
   "execution_count": 339,
   "metadata": {},
   "outputs": [
    {
     "data": {
      "text/html": [
       "<div>\n",
       "<style scoped>\n",
       "    .dataframe tbody tr th:only-of-type {\n",
       "        vertical-align: middle;\n",
       "    }\n",
       "\n",
       "    .dataframe tbody tr th {\n",
       "        vertical-align: top;\n",
       "    }\n",
       "\n",
       "    .dataframe thead th {\n",
       "        text-align: right;\n",
       "    }\n",
       "</style>\n",
       "<table border=\"1\" class=\"dataframe\">\n",
       "  <thead>\n",
       "    <tr style=\"text-align: right;\">\n",
       "      <th></th>\n",
       "      <th>index</th>\n",
       "      <th>genre_ids</th>\n",
       "      <th>id</th>\n",
       "      <th>original_language</th>\n",
       "      <th>original_title</th>\n",
       "      <th>popularity</th>\n",
       "      <th>release_date</th>\n",
       "      <th>title</th>\n",
       "      <th>vote_average</th>\n",
       "      <th>vote_count</th>\n",
       "      <th>studio</th>\n",
       "      <th>domestic_gross</th>\n",
       "      <th>foreign_gross</th>\n",
       "      <th>year</th>\n",
       "      <th>id_tn</th>\n",
       "      <th>release_date_tn</th>\n",
       "      <th>production_budget</th>\n",
       "      <th>domestic_gross_tn</th>\n",
       "      <th>worldwide_gross</th>\n",
       "    </tr>\n",
       "  </thead>\n",
       "  <tbody>\n",
       "    <tr>\n",
       "      <th>0</th>\n",
       "      <td>0.0</td>\n",
       "      <td>0</td>\n",
       "      <td>12444.0</td>\n",
       "      <td>en</td>\n",
       "      <td>Harry Potter and the Deathly Hallows: Part 1</td>\n",
       "      <td>33.533</td>\n",
       "      <td>2010-11-19</td>\n",
       "      <td>Harry Potter and the Deathly Hallows: Part 1</td>\n",
       "      <td>7.7</td>\n",
       "      <td>10788.0</td>\n",
       "      <td>NaN</td>\n",
       "      <td>NaN</td>\n",
       "      <td>NaN</td>\n",
       "      <td>NaN</td>\n",
       "      <td>NaN</td>\n",
       "      <td>NaN</td>\n",
       "      <td>NaN</td>\n",
       "      <td>NaN</td>\n",
       "      <td>NaN</td>\n",
       "    </tr>\n",
       "    <tr>\n",
       "      <th>1</th>\n",
       "      <td>1.0</td>\n",
       "      <td>1</td>\n",
       "      <td>10191.0</td>\n",
       "      <td>en</td>\n",
       "      <td>How to Train Your Dragon</td>\n",
       "      <td>28.734</td>\n",
       "      <td>2010-03-26</td>\n",
       "      <td>How to Train Your Dragon</td>\n",
       "      <td>7.7</td>\n",
       "      <td>7610.0</td>\n",
       "      <td>P/DW</td>\n",
       "      <td>217600000.0</td>\n",
       "      <td>277300000.0</td>\n",
       "      <td>2010.0</td>\n",
       "      <td>30.0</td>\n",
       "      <td>Mar 26, 2010</td>\n",
       "      <td>$165,000,000</td>\n",
       "      <td>217581232.0</td>\n",
       "      <td>$494,870,992</td>\n",
       "    </tr>\n",
       "    <tr>\n",
       "      <th>2</th>\n",
       "      <td>2.0</td>\n",
       "      <td>2</td>\n",
       "      <td>10138.0</td>\n",
       "      <td>en</td>\n",
       "      <td>Iron Man 2</td>\n",
       "      <td>28.515</td>\n",
       "      <td>2010-05-07</td>\n",
       "      <td>Iron Man 2</td>\n",
       "      <td>6.8</td>\n",
       "      <td>12368.0</td>\n",
       "      <td>Par.</td>\n",
       "      <td>312400000.0</td>\n",
       "      <td>311500000.0</td>\n",
       "      <td>2010.0</td>\n",
       "      <td>15.0</td>\n",
       "      <td>May 7, 2010</td>\n",
       "      <td>$170,000,000</td>\n",
       "      <td>312433331.0</td>\n",
       "      <td>$621,156,389</td>\n",
       "    </tr>\n",
       "    <tr>\n",
       "      <th>3</th>\n",
       "      <td>3.0</td>\n",
       "      <td>3</td>\n",
       "      <td>862.0</td>\n",
       "      <td>en</td>\n",
       "      <td>Toy Story</td>\n",
       "      <td>28.005</td>\n",
       "      <td>1995-11-22</td>\n",
       "      <td>Toy Story</td>\n",
       "      <td>7.9</td>\n",
       "      <td>10174.0</td>\n",
       "      <td>NaN</td>\n",
       "      <td>191796233.0</td>\n",
       "      <td>NaN</td>\n",
       "      <td>NaN</td>\n",
       "      <td>37.0</td>\n",
       "      <td>Nov 22, 1995</td>\n",
       "      <td>$30,000,000</td>\n",
       "      <td>191796233.0</td>\n",
       "      <td>$364,545,516</td>\n",
       "    </tr>\n",
       "    <tr>\n",
       "      <th>4</th>\n",
       "      <td>2473.0</td>\n",
       "      <td>2473</td>\n",
       "      <td>862.0</td>\n",
       "      <td>en</td>\n",
       "      <td>Toy Story</td>\n",
       "      <td>28.005</td>\n",
       "      <td>1995-11-22</td>\n",
       "      <td>Toy Story</td>\n",
       "      <td>7.9</td>\n",
       "      <td>10174.0</td>\n",
       "      <td>NaN</td>\n",
       "      <td>191796233.0</td>\n",
       "      <td>NaN</td>\n",
       "      <td>NaN</td>\n",
       "      <td>37.0</td>\n",
       "      <td>Nov 22, 1995</td>\n",
       "      <td>$30,000,000</td>\n",
       "      <td>191796233.0</td>\n",
       "      <td>$364,545,516</td>\n",
       "    </tr>\n",
       "  </tbody>\n",
       "</table>\n",
       "</div>"
      ],
      "text/plain": [
       "    index genre_ids       id original_language  \\\n",
       "0     0.0         0  12444.0                en   \n",
       "1     1.0         1  10191.0                en   \n",
       "2     2.0         2  10138.0                en   \n",
       "3     3.0         3    862.0                en   \n",
       "4  2473.0      2473    862.0                en   \n",
       "\n",
       "                                 original_title  popularity release_date  \\\n",
       "0  Harry Potter and the Deathly Hallows: Part 1      33.533   2010-11-19   \n",
       "1                      How to Train Your Dragon      28.734   2010-03-26   \n",
       "2                                    Iron Man 2      28.515   2010-05-07   \n",
       "3                                     Toy Story      28.005   1995-11-22   \n",
       "4                                     Toy Story      28.005   1995-11-22   \n",
       "\n",
       "                                          title  vote_average  vote_count  \\\n",
       "0  Harry Potter and the Deathly Hallows: Part 1           7.7     10788.0   \n",
       "1                      How to Train Your Dragon           7.7      7610.0   \n",
       "2                                    Iron Man 2           6.8     12368.0   \n",
       "3                                     Toy Story           7.9     10174.0   \n",
       "4                                     Toy Story           7.9     10174.0   \n",
       "\n",
       "  studio  domestic_gross  foreign_gross    year  id_tn release_date_tn  \\\n",
       "0    NaN             NaN            NaN     NaN    NaN             NaN   \n",
       "1   P/DW     217600000.0    277300000.0  2010.0   30.0    Mar 26, 2010   \n",
       "2   Par.     312400000.0    311500000.0  2010.0   15.0     May 7, 2010   \n",
       "3    NaN     191796233.0            NaN     NaN   37.0    Nov 22, 1995   \n",
       "4    NaN     191796233.0            NaN     NaN   37.0    Nov 22, 1995   \n",
       "\n",
       "  production_budget  domestic_gross_tn worldwide_gross  \n",
       "0               NaN                NaN             NaN  \n",
       "1      $165,000,000        217581232.0    $494,870,992  \n",
       "2      $170,000,000        312433331.0    $621,156,389  \n",
       "3       $30,000,000        191796233.0    $364,545,516  \n",
       "4       $30,000,000        191796233.0    $364,545,516  "
      ]
     },
     "execution_count": 339,
     "metadata": {},
     "output_type": "execute_result"
    }
   ],
   "source": [
    "tbt_org.head()"
   ]
  },
  {
   "cell_type": "code",
   "execution_count": 341,
   "metadata": {},
   "outputs": [],
   "source": [
    "tbt_new = tbt_org.drop(columns=['domestic_gross_tn','title', 'release_date_tn', 'index','id','year','id_tn', 'genre_ids'])"
   ]
  },
  {
   "cell_type": "code",
   "execution_count": 342,
   "metadata": {},
   "outputs": [],
   "source": [
    "tbt_new = tbt_new.drop_duplicates(subset = 'original_title')"
   ]
  },
  {
   "cell_type": "code",
   "execution_count": 343,
   "metadata": {},
   "outputs": [
    {
     "name": "stdout",
     "output_type": "stream",
     "text": [
      "<class 'pandas.core.frame.DataFrame'>\n",
      "Int64Index: 29990 entries, 0 to 31785\n",
      "Data columns (total 11 columns):\n",
      " #   Column             Non-Null Count  Dtype         \n",
      "---  ------             --------------  -----         \n",
      " 0   original_language  24835 non-null  object        \n",
      " 1   original_title     29990 non-null  object        \n",
      " 2   popularity         24835 non-null  float64       \n",
      " 3   release_date       28625 non-null  datetime64[ns]\n",
      " 4   vote_average       24835 non-null  float64       \n",
      " 5   vote_count         24835 non-null  float64       \n",
      " 6   studio             3386 non-null   object        \n",
      " 7   domestic_gross     7820 non-null   float64       \n",
      " 8   foreign_gross      2037 non-null   float64       \n",
      " 9   production_budget  5698 non-null   object        \n",
      " 10  worldwide_gross    5698 non-null   object        \n",
      "dtypes: datetime64[ns](1), float64(5), object(5)\n",
      "memory usage: 2.7+ MB\n"
     ]
    }
   ],
   "source": [
    "tbt_new.info()"
   ]
  },
  {
   "cell_type": "code",
   "execution_count": 344,
   "metadata": {},
   "outputs": [],
   "source": [
    "tbt_new = tbt_new.dropna(subset=['domestic_gross'])"
   ]
  },
  {
   "cell_type": "code",
   "execution_count": 345,
   "metadata": {},
   "outputs": [
    {
     "name": "stdout",
     "output_type": "stream",
     "text": [
      "<class 'pandas.core.frame.DataFrame'>\n",
      "Int64Index: 7820 entries, 1 to 31785\n",
      "Data columns (total 11 columns):\n",
      " #   Column             Non-Null Count  Dtype         \n",
      "---  ------             --------------  -----         \n",
      " 0   original_language  2683 non-null   object        \n",
      " 1   original_title     7820 non-null   object        \n",
      " 2   popularity         2683 non-null   float64       \n",
      " 3   release_date       6473 non-null   datetime64[ns]\n",
      " 4   vote_average       2683 non-null   float64       \n",
      " 5   vote_count         2683 non-null   float64       \n",
      " 6   studio             3360 non-null   object        \n",
      " 7   domestic_gross     7820 non-null   float64       \n",
      " 8   foreign_gross      2011 non-null   float64       \n",
      " 9   production_budget  5698 non-null   object        \n",
      " 10  worldwide_gross    5698 non-null   object        \n",
      "dtypes: datetime64[ns](1), float64(5), object(5)\n",
      "memory usage: 733.1+ KB\n"
     ]
    }
   ],
   "source": [
    "tbt_new.info()"
   ]
  },
  {
   "cell_type": "code",
   "execution_count": 349,
   "metadata": {},
   "outputs": [],
   "source": [
    "tbt_new = tbt_new.dropna(subset=['production_budget'])"
   ]
  },
  {
   "cell_type": "code",
   "execution_count": 350,
   "metadata": {},
   "outputs": [
    {
     "name": "stdout",
     "output_type": "stream",
     "text": [
      "<class 'pandas.core.frame.DataFrame'>\n",
      "Int64Index: 5698 entries, 1 to 31785\n",
      "Data columns (total 11 columns):\n",
      " #   Column             Non-Null Count  Dtype         \n",
      "---  ------             --------------  -----         \n",
      " 0   original_language  1908 non-null   object        \n",
      " 1   original_title     5698 non-null   object        \n",
      " 2   popularity         1908 non-null   float64       \n",
      " 3   release_date       5698 non-null   datetime64[ns]\n",
      " 4   vote_average       1908 non-null   float64       \n",
      " 5   vote_count         1908 non-null   float64       \n",
      " 6   studio             1238 non-null   object        \n",
      " 7   domestic_gross     5698 non-null   object        \n",
      " 8   foreign_gross      1079 non-null   float64       \n",
      " 9   production_budget  5698 non-null   object        \n",
      " 10  worldwide_gross    5698 non-null   object        \n",
      "dtypes: datetime64[ns](1), float64(4), object(6)\n",
      "memory usage: 534.2+ KB\n"
     ]
    }
   ],
   "source": [
    "tbt_new.info()"
   ]
  },
  {
   "cell_type": "code",
   "execution_count": 353,
   "metadata": {},
   "outputs": [],
   "source": [
    "tbt_new['worldwide_gross'] = tbt_new['worldwide_gross'].str.replace('$','') "
   ]
  },
  {
   "cell_type": "code",
   "execution_count": 354,
   "metadata": {},
   "outputs": [],
   "source": [
    "tbt_new['worldwide_gross'] = tbt_new['worldwide_gross'].str.replace(',','') "
   ]
  },
  {
   "cell_type": "code",
   "execution_count": 355,
   "metadata": {},
   "outputs": [],
   "source": [
    "tbt_new['worldwide_gross'] = tbt_new['worldwide_gross'].astype(float)"
   ]
  },
  {
   "cell_type": "code",
   "execution_count": 356,
   "metadata": {},
   "outputs": [
    {
     "data": {
      "text/plain": [
       "1        494870992.0\n",
       "2        621156389.0\n",
       "3        364545516.0\n",
       "5        835524642.0\n",
       "6        223050874.0\n",
       "            ...     \n",
       "31781            0.0\n",
       "31782       240495.0\n",
       "31783         1338.0\n",
       "31784            0.0\n",
       "31785       181041.0\n",
       "Name: worldwide_gross, Length: 5698, dtype: float64"
      ]
     },
     "execution_count": 356,
     "metadata": {},
     "output_type": "execute_result"
    }
   ],
   "source": [
    "tbt_new['worldwide_gross']"
   ]
  },
  {
   "cell_type": "code",
   "execution_count": 357,
   "metadata": {},
   "outputs": [
    {
     "data": {
      "text/plain": [
       "original_language    3790\n",
       "original_title          0\n",
       "popularity           3790\n",
       "release_date            0\n",
       "vote_average         3790\n",
       "vote_count           3790\n",
       "studio               4460\n",
       "domestic_gross          0\n",
       "foreign_gross        4619\n",
       "production_budget       0\n",
       "worldwide_gross         0\n",
       "dtype: int64"
      ]
     },
     "execution_count": 357,
     "metadata": {},
     "output_type": "execute_result"
    }
   ],
   "source": [
    "tbt_new.isna().sum()"
   ]
  },
  {
   "cell_type": "code",
   "execution_count": 365,
   "metadata": {},
   "outputs": [
    {
     "name": "stdout",
     "output_type": "stream",
     "text": [
      "<class 'pandas.core.frame.DataFrame'>\n",
      "Int64Index: 5698 entries, 1 to 31785\n",
      "Data columns (total 11 columns):\n",
      " #   Column             Non-Null Count  Dtype         \n",
      "---  ------             --------------  -----         \n",
      " 0   original_language  1908 non-null   object        \n",
      " 1   original_title     5698 non-null   object        \n",
      " 2   popularity         1908 non-null   float64       \n",
      " 3   release_date       5698 non-null   datetime64[ns]\n",
      " 4   vote_average       1908 non-null   float64       \n",
      " 5   vote_count         1908 non-null   float64       \n",
      " 6   studio             1238 non-null   object        \n",
      " 7   domestic_gross     5698 non-null   object        \n",
      " 8   foreign_gross      1079 non-null   float64       \n",
      " 9   production_budget  5698 non-null   object        \n",
      " 10  worldwide_gross    5698 non-null   float64       \n",
      "dtypes: datetime64[ns](1), float64(5), object(5)\n",
      "memory usage: 534.2+ KB\n"
     ]
    }
   ],
   "source": [
    "tbt_new.info()"
   ]
  },
  {
   "cell_type": "code",
   "execution_count": 366,
   "metadata": {},
   "outputs": [
    {
     "name": "stdout",
     "output_type": "stream",
     "text": [
      "<class 'pandas.core.frame.DataFrame'>\n",
      "RangeIndex: 146144 entries, 0 to 146143\n",
      "Data columns (total 2 columns):\n",
      " #   Column         Non-Null Count   Dtype \n",
      "---  ------         --------------   ----- \n",
      " 0   primary_title  146144 non-null  object\n",
      " 1   genres         146144 non-null  object\n",
      "dtypes: object(2)\n",
      "memory usage: 2.2+ MB\n"
     ]
    }
   ],
   "source": [
    "imdb_title_basics.info()"
   ]
  },
  {
   "cell_type": "code",
   "execution_count": 374,
   "metadata": {},
   "outputs": [
    {
     "data": {
      "text/html": [
       "<div>\n",
       "<style scoped>\n",
       "    .dataframe tbody tr th:only-of-type {\n",
       "        vertical-align: middle;\n",
       "    }\n",
       "\n",
       "    .dataframe tbody tr th {\n",
       "        vertical-align: top;\n",
       "    }\n",
       "\n",
       "    .dataframe thead th {\n",
       "        text-align: right;\n",
       "    }\n",
       "</style>\n",
       "<table border=\"1\" class=\"dataframe\">\n",
       "  <thead>\n",
       "    <tr style=\"text-align: right;\">\n",
       "      <th></th>\n",
       "      <th>primary_title</th>\n",
       "      <th>genres</th>\n",
       "    </tr>\n",
       "  </thead>\n",
       "  <tbody>\n",
       "    <tr>\n",
       "      <th>7066</th>\n",
       "      <td>Inception</td>\n",
       "      <td>Action,Adventure,Sci-Fi</td>\n",
       "    </tr>\n",
       "  </tbody>\n",
       "</table>\n",
       "</div>"
      ],
      "text/plain": [
       "     primary_title                   genres\n",
       "7066     Inception  Action,Adventure,Sci-Fi"
      ]
     },
     "execution_count": 374,
     "metadata": {},
     "output_type": "execute_result"
    }
   ],
   "source": [
    "imdb_title_basics.loc[imdb_title_basics['primary_title'] == 'Inception']"
   ]
  },
  {
   "cell_type": "code",
   "execution_count": 375,
   "metadata": {},
   "outputs": [
    {
     "data": {
      "text/html": [
       "<div>\n",
       "<style scoped>\n",
       "    .dataframe tbody tr th:only-of-type {\n",
       "        vertical-align: middle;\n",
       "    }\n",
       "\n",
       "    .dataframe tbody tr th {\n",
       "        vertical-align: top;\n",
       "    }\n",
       "\n",
       "    .dataframe thead th {\n",
       "        text-align: right;\n",
       "    }\n",
       "</style>\n",
       "<table border=\"1\" class=\"dataframe\">\n",
       "  <thead>\n",
       "    <tr style=\"text-align: right;\">\n",
       "      <th></th>\n",
       "      <th>original_language</th>\n",
       "      <th>original_title</th>\n",
       "      <th>popularity</th>\n",
       "      <th>release_date</th>\n",
       "      <th>vote_average</th>\n",
       "      <th>vote_count</th>\n",
       "      <th>studio</th>\n",
       "      <th>domestic_gross</th>\n",
       "      <th>foreign_gross</th>\n",
       "      <th>production_budget</th>\n",
       "      <th>worldwide_gross</th>\n",
       "    </tr>\n",
       "  </thead>\n",
       "  <tbody>\n",
       "    <tr>\n",
       "      <th>5</th>\n",
       "      <td>en</td>\n",
       "      <td>Inception</td>\n",
       "      <td>27.92</td>\n",
       "      <td>2010-07-16</td>\n",
       "      <td>8.3</td>\n",
       "      <td>22186.0</td>\n",
       "      <td>WB</td>\n",
       "      <td>2.926e+08</td>\n",
       "      <td>535700000.0</td>\n",
       "      <td>$160,000,000</td>\n",
       "      <td>835524642.0</td>\n",
       "    </tr>\n",
       "  </tbody>\n",
       "</table>\n",
       "</div>"
      ],
      "text/plain": [
       "  original_language original_title  popularity release_date  vote_average  \\\n",
       "5                en      Inception       27.92   2010-07-16           8.3   \n",
       "\n",
       "   vote_count studio domestic_gross  foreign_gross production_budget  \\\n",
       "5     22186.0     WB      2.926e+08    535700000.0      $160,000,000   \n",
       "\n",
       "   worldwide_gross  \n",
       "5      835524642.0  "
      ]
     },
     "execution_count": 375,
     "metadata": {},
     "output_type": "execute_result"
    }
   ],
   "source": [
    "tbt_new.loc[tbt_new['original_title'] == 'Inception'] "
   ]
  },
  {
   "cell_type": "code",
   "execution_count": 376,
   "metadata": {},
   "outputs": [],
   "source": [
    "tbti = tbt_new.join(imdb_title_basics.set_index('primary_title'),\n",
    "                    on='original_title')"
   ]
  },
  {
   "cell_type": "code",
   "execution_count": 377,
   "metadata": {},
   "outputs": [
    {
     "name": "stdout",
     "output_type": "stream",
     "text": [
      "<class 'pandas.core.frame.DataFrame'>\n",
      "Int64Index: 6992 entries, 1 to 31785\n",
      "Data columns (total 12 columns):\n",
      " #   Column             Non-Null Count  Dtype         \n",
      "---  ------             --------------  -----         \n",
      " 0   original_language  2906 non-null   object        \n",
      " 1   original_title     6992 non-null   object        \n",
      " 2   popularity         2906 non-null   float64       \n",
      " 3   release_date       6992 non-null   datetime64[ns]\n",
      " 4   vote_average       2906 non-null   float64       \n",
      " 5   vote_count         2906 non-null   float64       \n",
      " 6   studio             1654 non-null   object        \n",
      " 7   domestic_gross     6992 non-null   object        \n",
      " 8   foreign_gross      1424 non-null   float64       \n",
      " 9   production_budget  6992 non-null   object        \n",
      " 10  worldwide_gross    6992 non-null   float64       \n",
      " 11  genres             3606 non-null   object        \n",
      "dtypes: datetime64[ns](1), float64(5), object(6)\n",
      "memory usage: 710.1+ KB\n"
     ]
    }
   ],
   "source": [
    "tbti.info()"
   ]
  },
  {
   "cell_type": "code",
   "execution_count": null,
   "metadata": {},
   "outputs": [],
   "source": []
  },
  {
   "cell_type": "code",
   "execution_count": 381,
   "metadata": {},
   "outputs": [
    {
     "name": "stdout",
     "output_type": "stream",
     "text": [
      "<class 'pandas.core.frame.DataFrame'>\n",
      "RangeIndex: 5782 entries, 0 to 5781\n",
      "Data columns (total 6 columns):\n",
      " #   Column             Non-Null Count  Dtype  \n",
      "---  ------             --------------  -----  \n",
      " 0   id                 5782 non-null   int64  \n",
      " 1   release_date       5782 non-null   object \n",
      " 2   movie              5782 non-null   object \n",
      " 3   production_budget  5782 non-null   object \n",
      " 4   domestic_gross     5782 non-null   float64\n",
      " 5   worldwide_gross    5782 non-null   object \n",
      "dtypes: float64(1), int64(1), object(4)\n",
      "memory usage: 271.2+ KB\n"
     ]
    }
   ],
   "source": [
    "tn.info()"
   ]
  },
  {
   "cell_type": "code",
   "execution_count": 384,
   "metadata": {},
   "outputs": [],
   "source": [
    "tn['worldwide_gross'] =tn['worldwide_gross'].str.replace('$','')"
   ]
  },
  {
   "cell_type": "code",
   "execution_count": 385,
   "metadata": {},
   "outputs": [],
   "source": [
    "tn['worldwide_gross'] =tn['worldwide_gross'].str.replace(',','')"
   ]
  },
  {
   "cell_type": "code",
   "execution_count": 387,
   "metadata": {},
   "outputs": [],
   "source": [
    "tn['worldwide_gross'] =tn['worldwide_gross'].astype(float) "
   ]
  },
  {
   "cell_type": "code",
   "execution_count": 392,
   "metadata": {},
   "outputs": [],
   "source": [
    "tn['production_budget'] =tn['production_budget'].str.replace('$','')"
   ]
  },
  {
   "cell_type": "code",
   "execution_count": 393,
   "metadata": {},
   "outputs": [],
   "source": [
    "tn['production_budget'] =tn['production_budget'].str.replace(',','')"
   ]
  },
  {
   "cell_type": "code",
   "execution_count": 394,
   "metadata": {},
   "outputs": [],
   "source": [
    "tn['production_budget'] =tn['production_budget'].astype(float) "
   ]
  },
  {
   "cell_type": "code",
   "execution_count": 396,
   "metadata": {},
   "outputs": [],
   "source": [
    "tn['release_date'] = pd.to_datetime(tn['release_date'])"
   ]
  },
  {
   "cell_type": "code",
   "execution_count": 397,
   "metadata": {},
   "outputs": [
    {
     "name": "stdout",
     "output_type": "stream",
     "text": [
      "<class 'pandas.core.frame.DataFrame'>\n",
      "RangeIndex: 5782 entries, 0 to 5781\n",
      "Data columns (total 6 columns):\n",
      " #   Column             Non-Null Count  Dtype         \n",
      "---  ------             --------------  -----         \n",
      " 0   id                 5782 non-null   int64         \n",
      " 1   release_date       5782 non-null   datetime64[ns]\n",
      " 2   movie              5782 non-null   object        \n",
      " 3   production_budget  5782 non-null   float64       \n",
      " 4   domestic_gross     5782 non-null   float64       \n",
      " 5   worldwide_gross    5782 non-null   float64       \n",
      "dtypes: datetime64[ns](1), float64(3), int64(1), object(1)\n",
      "memory usage: 271.2+ KB\n"
     ]
    }
   ],
   "source": [
    "tn.info()"
   ]
  },
  {
   "cell_type": "code",
   "execution_count": 399,
   "metadata": {},
   "outputs": [
    {
     "data": {
      "text/html": [
       "<div>\n",
       "<style scoped>\n",
       "    .dataframe tbody tr th:only-of-type {\n",
       "        vertical-align: middle;\n",
       "    }\n",
       "\n",
       "    .dataframe tbody tr th {\n",
       "        vertical-align: top;\n",
       "    }\n",
       "\n",
       "    .dataframe thead th {\n",
       "        text-align: right;\n",
       "    }\n",
       "</style>\n",
       "<table border=\"1\" class=\"dataframe\">\n",
       "  <thead>\n",
       "    <tr style=\"text-align: right;\">\n",
       "      <th></th>\n",
       "      <th>id</th>\n",
       "      <th>release_date</th>\n",
       "      <th>movie</th>\n",
       "      <th>production_budget</th>\n",
       "      <th>domestic_gross</th>\n",
       "      <th>worldwide_gross</th>\n",
       "    </tr>\n",
       "  </thead>\n",
       "  <tbody>\n",
       "    <tr>\n",
       "      <th>0</th>\n",
       "      <td>1</td>\n",
       "      <td>2009-12-18</td>\n",
       "      <td>Avatar</td>\n",
       "      <td>425000000.0</td>\n",
       "      <td>760507625.0</td>\n",
       "      <td>2.776345e+09</td>\n",
       "    </tr>\n",
       "    <tr>\n",
       "      <th>1</th>\n",
       "      <td>2</td>\n",
       "      <td>2011-05-20</td>\n",
       "      <td>Pirates of the Caribbean: On Stranger Tides</td>\n",
       "      <td>410600000.0</td>\n",
       "      <td>241063875.0</td>\n",
       "      <td>1.045664e+09</td>\n",
       "    </tr>\n",
       "    <tr>\n",
       "      <th>2</th>\n",
       "      <td>3</td>\n",
       "      <td>2019-06-07</td>\n",
       "      <td>Dark Phoenix</td>\n",
       "      <td>350000000.0</td>\n",
       "      <td>42762350.0</td>\n",
       "      <td>1.497624e+08</td>\n",
       "    </tr>\n",
       "    <tr>\n",
       "      <th>3</th>\n",
       "      <td>4</td>\n",
       "      <td>2015-05-01</td>\n",
       "      <td>Avengers: Age of Ultron</td>\n",
       "      <td>330600000.0</td>\n",
       "      <td>459005868.0</td>\n",
       "      <td>1.403014e+09</td>\n",
       "    </tr>\n",
       "    <tr>\n",
       "      <th>4</th>\n",
       "      <td>5</td>\n",
       "      <td>2017-12-15</td>\n",
       "      <td>Star Wars Ep. VIII: The Last Jedi</td>\n",
       "      <td>317000000.0</td>\n",
       "      <td>620181382.0</td>\n",
       "      <td>1.316722e+09</td>\n",
       "    </tr>\n",
       "  </tbody>\n",
       "</table>\n",
       "</div>"
      ],
      "text/plain": [
       "   id release_date                                        movie  \\\n",
       "0   1   2009-12-18                                       Avatar   \n",
       "1   2   2011-05-20  Pirates of the Caribbean: On Stranger Tides   \n",
       "2   3   2019-06-07                                 Dark Phoenix   \n",
       "3   4   2015-05-01                      Avengers: Age of Ultron   \n",
       "4   5   2017-12-15            Star Wars Ep. VIII: The Last Jedi   \n",
       "\n",
       "   production_budget  domestic_gross  worldwide_gross  \n",
       "0        425000000.0     760507625.0     2.776345e+09  \n",
       "1        410600000.0     241063875.0     1.045664e+09  \n",
       "2        350000000.0      42762350.0     1.497624e+08  \n",
       "3        330600000.0     459005868.0     1.403014e+09  \n",
       "4        317000000.0     620181382.0     1.316722e+09  "
      ]
     },
     "execution_count": 399,
     "metadata": {},
     "output_type": "execute_result"
    }
   ],
   "source": [
    "tn.head()"
   ]
  },
  {
   "cell_type": "code",
   "execution_count": 382,
   "metadata": {},
   "outputs": [
    {
     "name": "stdout",
     "output_type": "stream",
     "text": [
      "<class 'pandas.core.frame.DataFrame'>\n",
      "RangeIndex: 3387 entries, 0 to 3386\n",
      "Data columns (total 5 columns):\n",
      " #   Column          Non-Null Count  Dtype  \n",
      "---  ------          --------------  -----  \n",
      " 0   title           3387 non-null   object \n",
      " 1   studio          3387 non-null   object \n",
      " 2   domestic_gross  3359 non-null   float64\n",
      " 3   foreign_gross   2037 non-null   float64\n",
      " 4   year            3387 non-null   int64  \n",
      "dtypes: float64(2), int64(1), object(2)\n",
      "memory usage: 132.4+ KB\n"
     ]
    }
   ],
   "source": [
    "bom.info()"
   ]
  },
  {
   "cell_type": "code",
   "execution_count": 407,
   "metadata": {},
   "outputs": [],
   "source": [
    "tb = tn.join(bom.set_index('title'),\n",
    "             on='movie',\n",
    "             how='outer',\n",
    "             lsuffix='_tn',\n",
    "             rsuffix='_bom')"
   ]
  },
  {
   "cell_type": "code",
   "execution_count": 408,
   "metadata": {},
   "outputs": [
    {
     "data": {
      "text/html": [
       "<div>\n",
       "<style scoped>\n",
       "    .dataframe tbody tr th:only-of-type {\n",
       "        vertical-align: middle;\n",
       "    }\n",
       "\n",
       "    .dataframe tbody tr th {\n",
       "        vertical-align: top;\n",
       "    }\n",
       "\n",
       "    .dataframe thead th {\n",
       "        text-align: right;\n",
       "    }\n",
       "</style>\n",
       "<table border=\"1\" class=\"dataframe\">\n",
       "  <thead>\n",
       "    <tr style=\"text-align: right;\">\n",
       "      <th></th>\n",
       "      <th>id</th>\n",
       "      <th>release_date</th>\n",
       "      <th>movie</th>\n",
       "      <th>production_budget</th>\n",
       "      <th>domestic_gross_tn</th>\n",
       "      <th>worldwide_gross</th>\n",
       "      <th>studio</th>\n",
       "      <th>domestic_gross_bom</th>\n",
       "      <th>foreign_gross</th>\n",
       "      <th>year</th>\n",
       "    </tr>\n",
       "  </thead>\n",
       "  <tbody>\n",
       "    <tr>\n",
       "      <th>0.0</th>\n",
       "      <td>1.0</td>\n",
       "      <td>2009-12-18</td>\n",
       "      <td>Avatar</td>\n",
       "      <td>425000000.0</td>\n",
       "      <td>760507625.0</td>\n",
       "      <td>2.776345e+09</td>\n",
       "      <td>NaN</td>\n",
       "      <td>NaN</td>\n",
       "      <td>NaN</td>\n",
       "      <td>NaN</td>\n",
       "    </tr>\n",
       "    <tr>\n",
       "      <th>1.0</th>\n",
       "      <td>2.0</td>\n",
       "      <td>2011-05-20</td>\n",
       "      <td>Pirates of the Caribbean: On Stranger Tides</td>\n",
       "      <td>410600000.0</td>\n",
       "      <td>241063875.0</td>\n",
       "      <td>1.045664e+09</td>\n",
       "      <td>BV</td>\n",
       "      <td>241100000.0</td>\n",
       "      <td>804600000.0</td>\n",
       "      <td>2011.0</td>\n",
       "    </tr>\n",
       "    <tr>\n",
       "      <th>2.0</th>\n",
       "      <td>3.0</td>\n",
       "      <td>2019-06-07</td>\n",
       "      <td>Dark Phoenix</td>\n",
       "      <td>350000000.0</td>\n",
       "      <td>42762350.0</td>\n",
       "      <td>1.497624e+08</td>\n",
       "      <td>NaN</td>\n",
       "      <td>NaN</td>\n",
       "      <td>NaN</td>\n",
       "      <td>NaN</td>\n",
       "    </tr>\n",
       "    <tr>\n",
       "      <th>3.0</th>\n",
       "      <td>4.0</td>\n",
       "      <td>2015-05-01</td>\n",
       "      <td>Avengers: Age of Ultron</td>\n",
       "      <td>330600000.0</td>\n",
       "      <td>459005868.0</td>\n",
       "      <td>1.403014e+09</td>\n",
       "      <td>BV</td>\n",
       "      <td>459000000.0</td>\n",
       "      <td>946400000.0</td>\n",
       "      <td>2015.0</td>\n",
       "    </tr>\n",
       "    <tr>\n",
       "      <th>4.0</th>\n",
       "      <td>5.0</td>\n",
       "      <td>2017-12-15</td>\n",
       "      <td>Star Wars Ep. VIII: The Last Jedi</td>\n",
       "      <td>317000000.0</td>\n",
       "      <td>620181382.0</td>\n",
       "      <td>1.316722e+09</td>\n",
       "      <td>NaN</td>\n",
       "      <td>NaN</td>\n",
       "      <td>NaN</td>\n",
       "      <td>NaN</td>\n",
       "    </tr>\n",
       "  </tbody>\n",
       "</table>\n",
       "</div>"
      ],
      "text/plain": [
       "      id release_date                                        movie  \\\n",
       "0.0  1.0   2009-12-18                                       Avatar   \n",
       "1.0  2.0   2011-05-20  Pirates of the Caribbean: On Stranger Tides   \n",
       "2.0  3.0   2019-06-07                                 Dark Phoenix   \n",
       "3.0  4.0   2015-05-01                      Avengers: Age of Ultron   \n",
       "4.0  5.0   2017-12-15            Star Wars Ep. VIII: The Last Jedi   \n",
       "\n",
       "     production_budget  domestic_gross_tn  worldwide_gross studio  \\\n",
       "0.0        425000000.0        760507625.0     2.776345e+09    NaN   \n",
       "1.0        410600000.0        241063875.0     1.045664e+09     BV   \n",
       "2.0        350000000.0         42762350.0     1.497624e+08    NaN   \n",
       "3.0        330600000.0        459005868.0     1.403014e+09     BV   \n",
       "4.0        317000000.0        620181382.0     1.316722e+09    NaN   \n",
       "\n",
       "     domestic_gross_bom  foreign_gross    year  \n",
       "0.0                 NaN            NaN     NaN  \n",
       "1.0         241100000.0    804600000.0  2011.0  \n",
       "2.0                 NaN            NaN     NaN  \n",
       "3.0         459000000.0    946400000.0  2015.0  \n",
       "4.0                 NaN            NaN     NaN  "
      ]
     },
     "execution_count": 408,
     "metadata": {},
     "output_type": "execute_result"
    }
   ],
   "source": [
    "tb.head()"
   ]
  },
  {
   "cell_type": "code",
   "execution_count": 417,
   "metadata": {},
   "outputs": [
    {
     "name": "stdout",
     "output_type": "stream",
     "text": [
      "<class 'pandas.core.frame.DataFrame'>\n",
      "Float64Index: 7931 entries, 0.0 to nan\n",
      "Data columns (total 10 columns):\n",
      " #   Column              Non-Null Count  Dtype         \n",
      "---  ------              --------------  -----         \n",
      " 0   id                  5782 non-null   float64       \n",
      " 1   release_date        5782 non-null   datetime64[ns]\n",
      " 2   movie               7931 non-null   object        \n",
      " 3   production_budget   5782 non-null   float64       \n",
      " 4   domestic_gross_tn   5782 non-null   float64       \n",
      " 5   worldwide_gross     5782 non-null   float64       \n",
      " 6   studio              3396 non-null   object        \n",
      " 7   domestic_gross_bom  3368 non-null   float64       \n",
      " 8   foreign_gross       2044 non-null   float64       \n",
      " 9   year                3396 non-null   float64       \n",
      "dtypes: datetime64[ns](1), float64(7), object(2)\n",
      "memory usage: 681.6+ KB\n"
     ]
    }
   ],
   "source": [
    "tb.info()"
   ]
  },
  {
   "cell_type": "code",
   "execution_count": 437,
   "metadata": {},
   "outputs": [],
   "source": [
    "tbi = tb.join(imdb_title_basics.set_index('primary_title'),\n",
    "        on='movie',\n",
    "        how='left',\n",
    "        rsuffix='_imdb')"
   ]
  },
  {
   "cell_type": "code",
   "execution_count": 438,
   "metadata": {},
   "outputs": [
    {
     "name": "stdout",
     "output_type": "stream",
     "text": [
      "<class 'pandas.core.frame.DataFrame'>\n",
      "Float64Index: 9714 entries, 0.0 to nan\n",
      "Data columns (total 11 columns):\n",
      " #   Column              Non-Null Count  Dtype         \n",
      "---  ------              --------------  -----         \n",
      " 0   id                  7221 non-null   float64       \n",
      " 1   release_date        7221 non-null   datetime64[ns]\n",
      " 2   movie               9714 non-null   object        \n",
      " 3   production_budget   7221 non-null   float64       \n",
      " 4   domestic_gross_tn   7221 non-null   float64       \n",
      " 5   worldwide_gross     7221 non-null   float64       \n",
      " 6   studio              4175 non-null   object        \n",
      " 7   domestic_gross_bom  4140 non-null   float64       \n",
      " 8   foreign_gross       2539 non-null   float64       \n",
      " 9   year                4175 non-null   float64       \n",
      " 10  genres              5607 non-null   object        \n",
      "dtypes: datetime64[ns](1), float64(7), object(3)\n",
      "memory usage: 910.7+ KB\n"
     ]
    }
   ],
   "source": [
    "tbi.info()"
   ]
  },
  {
   "cell_type": "code",
   "execution_count": 439,
   "metadata": {},
   "outputs": [],
   "source": [
    "tbi = tbi.drop_duplicates(subset = 'movie')"
   ]
  },
  {
   "cell_type": "code",
   "execution_count": 440,
   "metadata": {},
   "outputs": [
    {
     "name": "stdout",
     "output_type": "stream",
     "text": [
      "<class 'pandas.core.frame.DataFrame'>\n",
      "Float64Index: 7846 entries, 0.0 to nan\n",
      "Data columns (total 11 columns):\n",
      " #   Column              Non-Null Count  Dtype         \n",
      "---  ------              --------------  -----         \n",
      " 0   id                  5698 non-null   float64       \n",
      " 1   release_date        5698 non-null   datetime64[ns]\n",
      " 2   movie               7846 non-null   object        \n",
      " 3   production_budget   5698 non-null   float64       \n",
      " 4   domestic_gross_tn   5698 non-null   float64       \n",
      " 5   worldwide_gross     5698 non-null   float64       \n",
      " 6   studio              3386 non-null   object        \n",
      " 7   domestic_gross_bom  3358 non-null   float64       \n",
      " 8   foreign_gross       2037 non-null   float64       \n",
      " 9   year                3386 non-null   float64       \n",
      " 10  genres              3759 non-null   object        \n",
      "dtypes: datetime64[ns](1), float64(7), object(3)\n",
      "memory usage: 735.6+ KB\n"
     ]
    }
   ],
   "source": [
    "tbi.info()"
   ]
  },
  {
   "cell_type": "code",
   "execution_count": 441,
   "metadata": {},
   "outputs": [
    {
     "data": {
      "text/html": [
       "<div>\n",
       "<style scoped>\n",
       "    .dataframe tbody tr th:only-of-type {\n",
       "        vertical-align: middle;\n",
       "    }\n",
       "\n",
       "    .dataframe tbody tr th {\n",
       "        vertical-align: top;\n",
       "    }\n",
       "\n",
       "    .dataframe thead th {\n",
       "        text-align: right;\n",
       "    }\n",
       "</style>\n",
       "<table border=\"1\" class=\"dataframe\">\n",
       "  <thead>\n",
       "    <tr style=\"text-align: right;\">\n",
       "      <th></th>\n",
       "      <th>id</th>\n",
       "      <th>release_date</th>\n",
       "      <th>movie</th>\n",
       "      <th>production_budget</th>\n",
       "      <th>domestic_gross_tn</th>\n",
       "      <th>worldwide_gross</th>\n",
       "      <th>studio</th>\n",
       "      <th>domestic_gross_bom</th>\n",
       "      <th>foreign_gross</th>\n",
       "      <th>year</th>\n",
       "      <th>genres</th>\n",
       "    </tr>\n",
       "  </thead>\n",
       "  <tbody>\n",
       "    <tr>\n",
       "      <th>NaN</th>\n",
       "      <td>NaN</td>\n",
       "      <td>NaT</td>\n",
       "      <td>The Quake</td>\n",
       "      <td>NaN</td>\n",
       "      <td>NaN</td>\n",
       "      <td>NaN</td>\n",
       "      <td>Magn.</td>\n",
       "      <td>6200.0</td>\n",
       "      <td>NaN</td>\n",
       "      <td>2018.0</td>\n",
       "      <td>Action,Drama,Thriller</td>\n",
       "    </tr>\n",
       "    <tr>\n",
       "      <th>NaN</th>\n",
       "      <td>NaN</td>\n",
       "      <td>NaT</td>\n",
       "      <td>Edward II (2018 re-release)</td>\n",
       "      <td>NaN</td>\n",
       "      <td>NaN</td>\n",
       "      <td>NaN</td>\n",
       "      <td>FM</td>\n",
       "      <td>4800.0</td>\n",
       "      <td>NaN</td>\n",
       "      <td>2018.0</td>\n",
       "      <td>NaN</td>\n",
       "    </tr>\n",
       "    <tr>\n",
       "      <th>NaN</th>\n",
       "      <td>NaN</td>\n",
       "      <td>NaT</td>\n",
       "      <td>El Pacto</td>\n",
       "      <td>NaN</td>\n",
       "      <td>NaN</td>\n",
       "      <td>NaN</td>\n",
       "      <td>Sony</td>\n",
       "      <td>2500.0</td>\n",
       "      <td>NaN</td>\n",
       "      <td>2018.0</td>\n",
       "      <td>NaN</td>\n",
       "    </tr>\n",
       "    <tr>\n",
       "      <th>NaN</th>\n",
       "      <td>NaN</td>\n",
       "      <td>NaT</td>\n",
       "      <td>The Swan</td>\n",
       "      <td>NaN</td>\n",
       "      <td>NaN</td>\n",
       "      <td>NaN</td>\n",
       "      <td>Synergetic</td>\n",
       "      <td>2400.0</td>\n",
       "      <td>NaN</td>\n",
       "      <td>2018.0</td>\n",
       "      <td>NaN</td>\n",
       "    </tr>\n",
       "    <tr>\n",
       "      <th>NaN</th>\n",
       "      <td>NaN</td>\n",
       "      <td>NaT</td>\n",
       "      <td>An Actor Prepares</td>\n",
       "      <td>NaN</td>\n",
       "      <td>NaN</td>\n",
       "      <td>NaN</td>\n",
       "      <td>Grav.</td>\n",
       "      <td>1700.0</td>\n",
       "      <td>NaN</td>\n",
       "      <td>2018.0</td>\n",
       "      <td>Comedy</td>\n",
       "    </tr>\n",
       "  </tbody>\n",
       "</table>\n",
       "</div>"
      ],
      "text/plain": [
       "     id release_date                        movie  production_budget  \\\n",
       "NaN NaN          NaT                    The Quake                NaN   \n",
       "NaN NaN          NaT  Edward II (2018 re-release)                NaN   \n",
       "NaN NaN          NaT                     El Pacto                NaN   \n",
       "NaN NaN          NaT                     The Swan                NaN   \n",
       "NaN NaN          NaT            An Actor Prepares                NaN   \n",
       "\n",
       "     domestic_gross_tn  worldwide_gross      studio  domestic_gross_bom  \\\n",
       "NaN                NaN              NaN       Magn.              6200.0   \n",
       "NaN                NaN              NaN          FM              4800.0   \n",
       "NaN                NaN              NaN        Sony              2500.0   \n",
       "NaN                NaN              NaN  Synergetic              2400.0   \n",
       "NaN                NaN              NaN       Grav.              1700.0   \n",
       "\n",
       "     foreign_gross    year                 genres  \n",
       "NaN            NaN  2018.0  Action,Drama,Thriller  \n",
       "NaN            NaN  2018.0                    NaN  \n",
       "NaN            NaN  2018.0                    NaN  \n",
       "NaN            NaN  2018.0                    NaN  \n",
       "NaN            NaN  2018.0                 Comedy  "
      ]
     },
     "execution_count": 441,
     "metadata": {},
     "output_type": "execute_result"
    }
   ],
   "source": [
    "tbi.tail()"
   ]
  },
  {
   "cell_type": "code",
   "execution_count": 442,
   "metadata": {},
   "outputs": [],
   "source": [
    "tbi['domestic_gross_tn'] = np.where(tbi['domestic_gross_tn'].isna(), tbi['domestic_gross_bom'], tbi['domestic_gross_tn']) "
   ]
  },
  {
   "cell_type": "code",
   "execution_count": 445,
   "metadata": {},
   "outputs": [
    {
     "data": {
      "text/html": [
       "<div>\n",
       "<style scoped>\n",
       "    .dataframe tbody tr th:only-of-type {\n",
       "        vertical-align: middle;\n",
       "    }\n",
       "\n",
       "    .dataframe tbody tr th {\n",
       "        vertical-align: top;\n",
       "    }\n",
       "\n",
       "    .dataframe thead th {\n",
       "        text-align: right;\n",
       "    }\n",
       "</style>\n",
       "<table border=\"1\" class=\"dataframe\">\n",
       "  <thead>\n",
       "    <tr style=\"text-align: right;\">\n",
       "      <th></th>\n",
       "      <th>id</th>\n",
       "      <th>release_date</th>\n",
       "      <th>movie</th>\n",
       "      <th>production_budget</th>\n",
       "      <th>domestic_gross_tn</th>\n",
       "      <th>worldwide_gross</th>\n",
       "      <th>studio</th>\n",
       "      <th>domestic_gross_bom</th>\n",
       "      <th>foreign_gross</th>\n",
       "      <th>year</th>\n",
       "      <th>genres</th>\n",
       "    </tr>\n",
       "  </thead>\n",
       "  <tbody>\n",
       "    <tr>\n",
       "      <th>NaN</th>\n",
       "      <td>NaN</td>\n",
       "      <td>NaT</td>\n",
       "      <td>The Quake</td>\n",
       "      <td>NaN</td>\n",
       "      <td>6200.0</td>\n",
       "      <td>NaN</td>\n",
       "      <td>Magn.</td>\n",
       "      <td>6200.0</td>\n",
       "      <td>NaN</td>\n",
       "      <td>2018.0</td>\n",
       "      <td>Action,Drama,Thriller</td>\n",
       "    </tr>\n",
       "    <tr>\n",
       "      <th>NaN</th>\n",
       "      <td>NaN</td>\n",
       "      <td>NaT</td>\n",
       "      <td>Edward II (2018 re-release)</td>\n",
       "      <td>NaN</td>\n",
       "      <td>4800.0</td>\n",
       "      <td>NaN</td>\n",
       "      <td>FM</td>\n",
       "      <td>4800.0</td>\n",
       "      <td>NaN</td>\n",
       "      <td>2018.0</td>\n",
       "      <td>NaN</td>\n",
       "    </tr>\n",
       "    <tr>\n",
       "      <th>NaN</th>\n",
       "      <td>NaN</td>\n",
       "      <td>NaT</td>\n",
       "      <td>El Pacto</td>\n",
       "      <td>NaN</td>\n",
       "      <td>2500.0</td>\n",
       "      <td>NaN</td>\n",
       "      <td>Sony</td>\n",
       "      <td>2500.0</td>\n",
       "      <td>NaN</td>\n",
       "      <td>2018.0</td>\n",
       "      <td>NaN</td>\n",
       "    </tr>\n",
       "    <tr>\n",
       "      <th>NaN</th>\n",
       "      <td>NaN</td>\n",
       "      <td>NaT</td>\n",
       "      <td>The Swan</td>\n",
       "      <td>NaN</td>\n",
       "      <td>2400.0</td>\n",
       "      <td>NaN</td>\n",
       "      <td>Synergetic</td>\n",
       "      <td>2400.0</td>\n",
       "      <td>NaN</td>\n",
       "      <td>2018.0</td>\n",
       "      <td>NaN</td>\n",
       "    </tr>\n",
       "    <tr>\n",
       "      <th>NaN</th>\n",
       "      <td>NaN</td>\n",
       "      <td>NaT</td>\n",
       "      <td>An Actor Prepares</td>\n",
       "      <td>NaN</td>\n",
       "      <td>1700.0</td>\n",
       "      <td>NaN</td>\n",
       "      <td>Grav.</td>\n",
       "      <td>1700.0</td>\n",
       "      <td>NaN</td>\n",
       "      <td>2018.0</td>\n",
       "      <td>Comedy</td>\n",
       "    </tr>\n",
       "  </tbody>\n",
       "</table>\n",
       "</div>"
      ],
      "text/plain": [
       "     id release_date                        movie  production_budget  \\\n",
       "NaN NaN          NaT                    The Quake                NaN   \n",
       "NaN NaN          NaT  Edward II (2018 re-release)                NaN   \n",
       "NaN NaN          NaT                     El Pacto                NaN   \n",
       "NaN NaN          NaT                     The Swan                NaN   \n",
       "NaN NaN          NaT            An Actor Prepares                NaN   \n",
       "\n",
       "     domestic_gross_tn  worldwide_gross      studio  domestic_gross_bom  \\\n",
       "NaN             6200.0              NaN       Magn.              6200.0   \n",
       "NaN             4800.0              NaN          FM              4800.0   \n",
       "NaN             2500.0              NaN        Sony              2500.0   \n",
       "NaN             2400.0              NaN  Synergetic              2400.0   \n",
       "NaN             1700.0              NaN       Grav.              1700.0   \n",
       "\n",
       "     foreign_gross    year                 genres  \n",
       "NaN            NaN  2018.0  Action,Drama,Thriller  \n",
       "NaN            NaN  2018.0                    NaN  \n",
       "NaN            NaN  2018.0                    NaN  \n",
       "NaN            NaN  2018.0                    NaN  \n",
       "NaN            NaN  2018.0                 Comedy  "
      ]
     },
     "execution_count": 445,
     "metadata": {},
     "output_type": "execute_result"
    }
   ],
   "source": [
    "tbi.tail()"
   ]
  },
  {
   "cell_type": "code",
   "execution_count": 448,
   "metadata": {},
   "outputs": [],
   "source": [
    "tbi = tbi.drop(columns=['domestic_gross_bom','studio'])"
   ]
  },
  {
   "cell_type": "code",
   "execution_count": 449,
   "metadata": {},
   "outputs": [
    {
     "data": {
      "text/html": [
       "<div>\n",
       "<style scoped>\n",
       "    .dataframe tbody tr th:only-of-type {\n",
       "        vertical-align: middle;\n",
       "    }\n",
       "\n",
       "    .dataframe tbody tr th {\n",
       "        vertical-align: top;\n",
       "    }\n",
       "\n",
       "    .dataframe thead th {\n",
       "        text-align: right;\n",
       "    }\n",
       "</style>\n",
       "<table border=\"1\" class=\"dataframe\">\n",
       "  <thead>\n",
       "    <tr style=\"text-align: right;\">\n",
       "      <th></th>\n",
       "      <th>id</th>\n",
       "      <th>release_date</th>\n",
       "      <th>movie</th>\n",
       "      <th>production_budget</th>\n",
       "      <th>domestic_gross_tn</th>\n",
       "      <th>worldwide_gross</th>\n",
       "      <th>foreign_gross</th>\n",
       "      <th>year</th>\n",
       "      <th>genres</th>\n",
       "    </tr>\n",
       "  </thead>\n",
       "  <tbody>\n",
       "    <tr>\n",
       "      <th>0.0</th>\n",
       "      <td>1.0</td>\n",
       "      <td>2009-12-18</td>\n",
       "      <td>Avatar</td>\n",
       "      <td>425000000.0</td>\n",
       "      <td>760507625.0</td>\n",
       "      <td>2.776345e+09</td>\n",
       "      <td>NaN</td>\n",
       "      <td>NaN</td>\n",
       "      <td>Horror</td>\n",
       "    </tr>\n",
       "    <tr>\n",
       "      <th>1.0</th>\n",
       "      <td>2.0</td>\n",
       "      <td>2011-05-20</td>\n",
       "      <td>Pirates of the Caribbean: On Stranger Tides</td>\n",
       "      <td>410600000.0</td>\n",
       "      <td>241063875.0</td>\n",
       "      <td>1.045664e+09</td>\n",
       "      <td>804600000.0</td>\n",
       "      <td>2011.0</td>\n",
       "      <td>Action,Adventure,Fantasy</td>\n",
       "    </tr>\n",
       "    <tr>\n",
       "      <th>2.0</th>\n",
       "      <td>3.0</td>\n",
       "      <td>2019-06-07</td>\n",
       "      <td>Dark Phoenix</td>\n",
       "      <td>350000000.0</td>\n",
       "      <td>42762350.0</td>\n",
       "      <td>1.497624e+08</td>\n",
       "      <td>NaN</td>\n",
       "      <td>NaN</td>\n",
       "      <td>Action,Adventure,Sci-Fi</td>\n",
       "    </tr>\n",
       "    <tr>\n",
       "      <th>3.0</th>\n",
       "      <td>4.0</td>\n",
       "      <td>2015-05-01</td>\n",
       "      <td>Avengers: Age of Ultron</td>\n",
       "      <td>330600000.0</td>\n",
       "      <td>459005868.0</td>\n",
       "      <td>1.403014e+09</td>\n",
       "      <td>946400000.0</td>\n",
       "      <td>2015.0</td>\n",
       "      <td>Action,Adventure,Sci-Fi</td>\n",
       "    </tr>\n",
       "    <tr>\n",
       "      <th>4.0</th>\n",
       "      <td>5.0</td>\n",
       "      <td>2017-12-15</td>\n",
       "      <td>Star Wars Ep. VIII: The Last Jedi</td>\n",
       "      <td>317000000.0</td>\n",
       "      <td>620181382.0</td>\n",
       "      <td>1.316722e+09</td>\n",
       "      <td>NaN</td>\n",
       "      <td>NaN</td>\n",
       "      <td>NaN</td>\n",
       "    </tr>\n",
       "    <tr>\n",
       "      <th>...</th>\n",
       "      <td>...</td>\n",
       "      <td>...</td>\n",
       "      <td>...</td>\n",
       "      <td>...</td>\n",
       "      <td>...</td>\n",
       "      <td>...</td>\n",
       "      <td>...</td>\n",
       "      <td>...</td>\n",
       "      <td>...</td>\n",
       "    </tr>\n",
       "    <tr>\n",
       "      <th>NaN</th>\n",
       "      <td>NaN</td>\n",
       "      <td>NaT</td>\n",
       "      <td>The Quake</td>\n",
       "      <td>NaN</td>\n",
       "      <td>6200.0</td>\n",
       "      <td>NaN</td>\n",
       "      <td>NaN</td>\n",
       "      <td>2018.0</td>\n",
       "      <td>Action,Drama,Thriller</td>\n",
       "    </tr>\n",
       "    <tr>\n",
       "      <th>NaN</th>\n",
       "      <td>NaN</td>\n",
       "      <td>NaT</td>\n",
       "      <td>Edward II (2018 re-release)</td>\n",
       "      <td>NaN</td>\n",
       "      <td>4800.0</td>\n",
       "      <td>NaN</td>\n",
       "      <td>NaN</td>\n",
       "      <td>2018.0</td>\n",
       "      <td>NaN</td>\n",
       "    </tr>\n",
       "    <tr>\n",
       "      <th>NaN</th>\n",
       "      <td>NaN</td>\n",
       "      <td>NaT</td>\n",
       "      <td>El Pacto</td>\n",
       "      <td>NaN</td>\n",
       "      <td>2500.0</td>\n",
       "      <td>NaN</td>\n",
       "      <td>NaN</td>\n",
       "      <td>2018.0</td>\n",
       "      <td>NaN</td>\n",
       "    </tr>\n",
       "    <tr>\n",
       "      <th>NaN</th>\n",
       "      <td>NaN</td>\n",
       "      <td>NaT</td>\n",
       "      <td>The Swan</td>\n",
       "      <td>NaN</td>\n",
       "      <td>2400.0</td>\n",
       "      <td>NaN</td>\n",
       "      <td>NaN</td>\n",
       "      <td>2018.0</td>\n",
       "      <td>NaN</td>\n",
       "    </tr>\n",
       "    <tr>\n",
       "      <th>NaN</th>\n",
       "      <td>NaN</td>\n",
       "      <td>NaT</td>\n",
       "      <td>An Actor Prepares</td>\n",
       "      <td>NaN</td>\n",
       "      <td>1700.0</td>\n",
       "      <td>NaN</td>\n",
       "      <td>NaN</td>\n",
       "      <td>2018.0</td>\n",
       "      <td>Comedy</td>\n",
       "    </tr>\n",
       "  </tbody>\n",
       "</table>\n",
       "<p>7846 rows × 9 columns</p>\n",
       "</div>"
      ],
      "text/plain": [
       "      id release_date                                        movie  \\\n",
       "0.0  1.0   2009-12-18                                       Avatar   \n",
       "1.0  2.0   2011-05-20  Pirates of the Caribbean: On Stranger Tides   \n",
       "2.0  3.0   2019-06-07                                 Dark Phoenix   \n",
       "3.0  4.0   2015-05-01                      Avengers: Age of Ultron   \n",
       "4.0  5.0   2017-12-15            Star Wars Ep. VIII: The Last Jedi   \n",
       "..   ...          ...                                          ...   \n",
       "NaN  NaN          NaT                                    The Quake   \n",
       "NaN  NaN          NaT                  Edward II (2018 re-release)   \n",
       "NaN  NaN          NaT                                     El Pacto   \n",
       "NaN  NaN          NaT                                     The Swan   \n",
       "NaN  NaN          NaT                            An Actor Prepares   \n",
       "\n",
       "     production_budget  domestic_gross_tn  worldwide_gross  foreign_gross  \\\n",
       "0.0        425000000.0        760507625.0     2.776345e+09            NaN   \n",
       "1.0        410600000.0        241063875.0     1.045664e+09    804600000.0   \n",
       "2.0        350000000.0         42762350.0     1.497624e+08            NaN   \n",
       "3.0        330600000.0        459005868.0     1.403014e+09    946400000.0   \n",
       "4.0        317000000.0        620181382.0     1.316722e+09            NaN   \n",
       "..                 ...                ...              ...            ...   \n",
       "NaN                NaN             6200.0              NaN            NaN   \n",
       "NaN                NaN             4800.0              NaN            NaN   \n",
       "NaN                NaN             2500.0              NaN            NaN   \n",
       "NaN                NaN             2400.0              NaN            NaN   \n",
       "NaN                NaN             1700.0              NaN            NaN   \n",
       "\n",
       "       year                    genres  \n",
       "0.0     NaN                    Horror  \n",
       "1.0  2011.0  Action,Adventure,Fantasy  \n",
       "2.0     NaN   Action,Adventure,Sci-Fi  \n",
       "3.0  2015.0   Action,Adventure,Sci-Fi  \n",
       "4.0     NaN                       NaN  \n",
       "..      ...                       ...  \n",
       "NaN  2018.0     Action,Drama,Thriller  \n",
       "NaN  2018.0                       NaN  \n",
       "NaN  2018.0                       NaN  \n",
       "NaN  2018.0                       NaN  \n",
       "NaN  2018.0                    Comedy  \n",
       "\n",
       "[7846 rows x 9 columns]"
      ]
     },
     "execution_count": 449,
     "metadata": {},
     "output_type": "execute_result"
    }
   ],
   "source": [
    "tbi"
   ]
  },
  {
   "cell_type": "code",
   "execution_count": 451,
   "metadata": {},
   "outputs": [],
   "source": [
    "tbi[['genre1','genre2','genre3']] = tbi['genres'].str.split(pat=',',expand=True)"
   ]
  },
  {
   "cell_type": "code",
   "execution_count": 452,
   "metadata": {},
   "outputs": [
    {
     "data": {
      "text/html": [
       "<div>\n",
       "<style scoped>\n",
       "    .dataframe tbody tr th:only-of-type {\n",
       "        vertical-align: middle;\n",
       "    }\n",
       "\n",
       "    .dataframe tbody tr th {\n",
       "        vertical-align: top;\n",
       "    }\n",
       "\n",
       "    .dataframe thead th {\n",
       "        text-align: right;\n",
       "    }\n",
       "</style>\n",
       "<table border=\"1\" class=\"dataframe\">\n",
       "  <thead>\n",
       "    <tr style=\"text-align: right;\">\n",
       "      <th></th>\n",
       "      <th>id</th>\n",
       "      <th>release_date</th>\n",
       "      <th>movie</th>\n",
       "      <th>production_budget</th>\n",
       "      <th>domestic_gross_tn</th>\n",
       "      <th>worldwide_gross</th>\n",
       "      <th>foreign_gross</th>\n",
       "      <th>year</th>\n",
       "      <th>genres</th>\n",
       "      <th>genre1</th>\n",
       "      <th>genre2</th>\n",
       "      <th>genre3</th>\n",
       "    </tr>\n",
       "  </thead>\n",
       "  <tbody>\n",
       "    <tr>\n",
       "      <th>0.0</th>\n",
       "      <td>1.0</td>\n",
       "      <td>2009-12-18</td>\n",
       "      <td>Avatar</td>\n",
       "      <td>425000000.0</td>\n",
       "      <td>760507625.0</td>\n",
       "      <td>2.776345e+09</td>\n",
       "      <td>NaN</td>\n",
       "      <td>NaN</td>\n",
       "      <td>Horror</td>\n",
       "      <td>Horror</td>\n",
       "      <td>None</td>\n",
       "      <td>None</td>\n",
       "    </tr>\n",
       "    <tr>\n",
       "      <th>1.0</th>\n",
       "      <td>2.0</td>\n",
       "      <td>2011-05-20</td>\n",
       "      <td>Pirates of the Caribbean: On Stranger Tides</td>\n",
       "      <td>410600000.0</td>\n",
       "      <td>241063875.0</td>\n",
       "      <td>1.045664e+09</td>\n",
       "      <td>804600000.0</td>\n",
       "      <td>2011.0</td>\n",
       "      <td>Action,Adventure,Fantasy</td>\n",
       "      <td>Action</td>\n",
       "      <td>Adventure</td>\n",
       "      <td>Fantasy</td>\n",
       "    </tr>\n",
       "    <tr>\n",
       "      <th>2.0</th>\n",
       "      <td>3.0</td>\n",
       "      <td>2019-06-07</td>\n",
       "      <td>Dark Phoenix</td>\n",
       "      <td>350000000.0</td>\n",
       "      <td>42762350.0</td>\n",
       "      <td>1.497624e+08</td>\n",
       "      <td>NaN</td>\n",
       "      <td>NaN</td>\n",
       "      <td>Action,Adventure,Sci-Fi</td>\n",
       "      <td>Action</td>\n",
       "      <td>Adventure</td>\n",
       "      <td>Sci-Fi</td>\n",
       "    </tr>\n",
       "    <tr>\n",
       "      <th>3.0</th>\n",
       "      <td>4.0</td>\n",
       "      <td>2015-05-01</td>\n",
       "      <td>Avengers: Age of Ultron</td>\n",
       "      <td>330600000.0</td>\n",
       "      <td>459005868.0</td>\n",
       "      <td>1.403014e+09</td>\n",
       "      <td>946400000.0</td>\n",
       "      <td>2015.0</td>\n",
       "      <td>Action,Adventure,Sci-Fi</td>\n",
       "      <td>Action</td>\n",
       "      <td>Adventure</td>\n",
       "      <td>Sci-Fi</td>\n",
       "    </tr>\n",
       "    <tr>\n",
       "      <th>4.0</th>\n",
       "      <td>5.0</td>\n",
       "      <td>2017-12-15</td>\n",
       "      <td>Star Wars Ep. VIII: The Last Jedi</td>\n",
       "      <td>317000000.0</td>\n",
       "      <td>620181382.0</td>\n",
       "      <td>1.316722e+09</td>\n",
       "      <td>NaN</td>\n",
       "      <td>NaN</td>\n",
       "      <td>NaN</td>\n",
       "      <td>NaN</td>\n",
       "      <td>NaN</td>\n",
       "      <td>NaN</td>\n",
       "    </tr>\n",
       "  </tbody>\n",
       "</table>\n",
       "</div>"
      ],
      "text/plain": [
       "      id release_date                                        movie  \\\n",
       "0.0  1.0   2009-12-18                                       Avatar   \n",
       "1.0  2.0   2011-05-20  Pirates of the Caribbean: On Stranger Tides   \n",
       "2.0  3.0   2019-06-07                                 Dark Phoenix   \n",
       "3.0  4.0   2015-05-01                      Avengers: Age of Ultron   \n",
       "4.0  5.0   2017-12-15            Star Wars Ep. VIII: The Last Jedi   \n",
       "\n",
       "     production_budget  domestic_gross_tn  worldwide_gross  foreign_gross  \\\n",
       "0.0        425000000.0        760507625.0     2.776345e+09            NaN   \n",
       "1.0        410600000.0        241063875.0     1.045664e+09    804600000.0   \n",
       "2.0        350000000.0         42762350.0     1.497624e+08            NaN   \n",
       "3.0        330600000.0        459005868.0     1.403014e+09    946400000.0   \n",
       "4.0        317000000.0        620181382.0     1.316722e+09            NaN   \n",
       "\n",
       "       year                    genres  genre1     genre2   genre3  \n",
       "0.0     NaN                    Horror  Horror       None     None  \n",
       "1.0  2011.0  Action,Adventure,Fantasy  Action  Adventure  Fantasy  \n",
       "2.0     NaN   Action,Adventure,Sci-Fi  Action  Adventure   Sci-Fi  \n",
       "3.0  2015.0   Action,Adventure,Sci-Fi  Action  Adventure   Sci-Fi  \n",
       "4.0     NaN                       NaN     NaN        NaN      NaN  "
      ]
     },
     "execution_count": 452,
     "metadata": {},
     "output_type": "execute_result"
    }
   ],
   "source": [
    "tbi.head()"
   ]
  },
  {
   "cell_type": "code",
   "execution_count": 453,
   "metadata": {},
   "outputs": [
    {
     "name": "stdout",
     "output_type": "stream",
     "text": [
      "<class 'pandas.core.frame.DataFrame'>\n",
      "Float64Index: 7846 entries, 0.0 to nan\n",
      "Data columns (total 12 columns):\n",
      " #   Column             Non-Null Count  Dtype         \n",
      "---  ------             --------------  -----         \n",
      " 0   id                 5698 non-null   float64       \n",
      " 1   release_date       5698 non-null   datetime64[ns]\n",
      " 2   movie              7846 non-null   object        \n",
      " 3   production_budget  5698 non-null   float64       \n",
      " 4   domestic_gross_tn  7820 non-null   float64       \n",
      " 5   worldwide_gross    5698 non-null   float64       \n",
      " 6   foreign_gross      2037 non-null   float64       \n",
      " 7   year               3386 non-null   float64       \n",
      " 8   genres             3759 non-null   object        \n",
      " 9   genre1             3759 non-null   object        \n",
      " 10  genre2             2860 non-null   object        \n",
      " 11  genre3             1865 non-null   object        \n",
      "dtypes: datetime64[ns](1), float64(6), object(5)\n",
      "memory usage: 796.9+ KB\n"
     ]
    }
   ],
   "source": [
    "tbi.info()"
   ]
  },
  {
   "cell_type": "code",
   "execution_count": null,
   "metadata": {},
   "outputs": [],
   "source": []
  },
  {
   "cell_type": "code",
   "execution_count": null,
   "metadata": {},
   "outputs": [],
   "source": []
  },
  {
   "cell_type": "markdown",
   "metadata": {},
   "source": [
    "### Notes"
   ]
  },
  {
   "cell_type": "code",
   "execution_count": null,
   "metadata": {},
   "outputs": [],
   "source": [
    "# Use below three tables to do earnings / ROI by genre by season"
   ]
  },
  {
   "cell_type": "code",
   "execution_count": null,
   "metadata": {},
   "outputs": [],
   "source": [
    "SELECT COUNT(*) \n",
    "FROM movies.imdb_title_basics\n",
    "WHERE start_year > 2010\n",
    "#total 146144 rows --> starts 2010 only "
   ]
  },
  {
   "cell_type": "code",
   "execution_count": null,
   "metadata": {},
   "outputs": [],
   "source": [
    "SELECT COUNT(*)\n",
    "FROM movies.bom_movie_gross\n",
    "# total 3387 rows --> total database only has 3387 rows and starts at 2010"
   ]
  },
  {
   "cell_type": "code",
   "execution_count": null,
   "metadata": {},
   "outputs": [],
   "source": [
    "# tn movie budgets; bom movie gross; tmbd movies with unique titles "
   ]
  },
  {
   "cell_type": "code",
   "execution_count": null,
   "metadata": {},
   "outputs": [],
   "source": [
    "SELECT \n",
    "\tCOUNT(*),\n",
    "    RIGHT(release_date, 4)\n",
    "FROM movies.tn_movie_budgets\n",
    "GROUP BY RIGHT(release_date, 4) ASC\n",
    "#5782 rows total --> 1996 first year with over 100 movies \n",
    "\n",
    "SELECT \n",
    "\tCOUNT(*)\n",
    "FROM movies.tn_movie_budgets\n",
    "WHERE RIGHT(release_date, 4) > 1995\n",
    "#4925\n",
    "#2194 for 2010 and after"
   ]
  },
  {
   "cell_type": "code",
   "execution_count": 1,
   "metadata": {},
   "outputs": [],
   "source": [
    "#GENERAL Analysis (JOIN ON Movie name)\n",
    "#earnings / ROI by genre (tn_movie_budgets + imdb_title_basics JOIN on movie title) POST 2010 (only 2194 movies)\n",
    "#earnings / ROI by season (use only tn_movie_budgets) POST 2010 (only 2194 movies)\n",
    "#ratings vs. box office success correlatoin (movie_budgets and title_basics)\n",
    "#IMDB analysis (JOIN ON nmstat and tstat)\n",
    "#imdb genre vs. rating (use title_basics, title_ratings JOIN on tconst) POST 2010 (limit is ratings)\n",
    "#imdb actors, directors and producers with highest ratings (use title_principals, title_ratings and \n",
    "#name_basics, JOIN on tconst and nmconst) POST 2010 (limit is ratings)\n",
    "#RT Analysis (JOIN ON ID)\n",
    "#overview of top critics, most frequent critics and what genres they like / how harsh they are (rt_reviews)\n",
    "#rt ratings vs. box office reviews vs. top critics (1500 instances approx) limited by box office numbers in movie_info"
   ]
  },
  {
   "cell_type": "code",
   "execution_count": null,
   "metadata": {},
   "outputs": [],
   "source": [
    "# LIST of databases\n",
    "## DONT USE movies.bom_movie_gross for anything \n",
    "## DONT USE movies.imdb_name basics\n",
    "## DONT USE imdb title akas\n",
    "## DONT USE imdb title crew\n",
    "## ONLY database with too many rows is imdb principles w/ over 1m "
   ]
  },
  {
   "cell_type": "code",
   "execution_count": null,
   "metadata": {},
   "outputs": [],
   "source": [
    "# TO DO\n",
    "## Split genre into Primary, Secondary, Tertiary (for both ImDB and RT)"
   ]
  }
 ],
 "metadata": {
  "kernelspec": {
   "display_name": "Python 3",
   "language": "python",
   "name": "python3"
  },
  "language_info": {
   "codemirror_mode": {
    "name": "ipython",
    "version": 3
   },
   "file_extension": ".py",
   "mimetype": "text/x-python",
   "name": "python",
   "nbconvert_exporter": "python",
   "pygments_lexer": "ipython3",
   "version": "3.7.6"
  }
 },
 "nbformat": 4,
 "nbformat_minor": 4
}
