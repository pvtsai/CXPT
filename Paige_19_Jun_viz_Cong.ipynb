{
 "cells": [
  {
   "cell_type": "markdown",
   "metadata": {},
   "source": [
    "# Cong Workbook\n"
   ]
  },
  {
   "cell_type": "markdown",
   "metadata": {},
   "source": [
    "### Import Libraries"
   ]
  },
  {
   "cell_type": "code",
   "execution_count": 94,
   "metadata": {},
   "outputs": [],
   "source": [
    "import numpy as np\n",
    "import pandas as pd\n",
    "import matplotlib.pyplot as plt"
   ]
  },
  {
   "cell_type": "code",
   "execution_count": 95,
   "metadata": {},
   "outputs": [
    {
     "name": "stdout",
     "output_type": "stream",
     "text": [
      "Requirement already satisfied: mysql-connector-python in c:\\users\\cxu19\\anaconda\\lib\\site-packages (8.0.20)\n",
      "Requirement already satisfied: protobuf>=3.0.0 in c:\\users\\cxu19\\anaconda\\lib\\site-packages (from mysql-connector-python) (3.12.2)\n",
      "Requirement already satisfied: six>=1.9 in c:\\users\\cxu19\\anaconda\\lib\\site-packages (from protobuf>=3.0.0->mysql-connector-python) (1.14.0)\n",
      "Requirement already satisfied: setuptools in c:\\users\\cxu19\\anaconda\\lib\\site-packages (from protobuf>=3.0.0->mysql-connector-python) (45.2.0.post20200210)\n"
     ]
    }
   ],
   "source": [
    "!pip install mysql-connector-python"
   ]
  },
  {
   "cell_type": "code",
   "execution_count": 96,
   "metadata": {},
   "outputs": [],
   "source": [
    "import mysql.connector"
   ]
  },
  {
   "cell_type": "code",
   "execution_count": 97,
   "metadata": {},
   "outputs": [],
   "source": [
    "con = mysql.connector.connect(user='hbs-student', password='super-secure-password?',\n",
    "                              host='hbs-ds-060120.c1doesqrid0e.us-east-1.rds.amazonaws.com',\n",
    "                              database='movies')"
   ]
  },
  {
   "cell_type": "markdown",
   "metadata": {},
   "source": [
    "### Loading SQL Queries"
   ]
  },
  {
   "cell_type": "code",
   "execution_count": 98,
   "metadata": {},
   "outputs": [],
   "source": [
    "tn = pd.DataFrame(pd.read_sql_query(\"\"\"\n",
    "SELECT * \n",
    "FROM movies.tn_movie_budgets\"\"\", con))"
   ]
  },
  {
   "cell_type": "code",
   "execution_count": 99,
   "metadata": {},
   "outputs": [],
   "source": [
    "#Change data types\n",
    "tn['domestic_gross'] = tn['domestic_gross'].str.replace('$','')  \n",
    "tn['domestic_gross'] = tn['domestic_gross'].str.replace(',','')\n",
    "tn['domestic_gross'] = tn['domestic_gross'].astype(float)\n",
    "tn['worldwide_gross'] =tn['worldwide_gross'].str.replace('$','')\n",
    "tn['worldwide_gross'] =tn['worldwide_gross'].str.replace(',','')\n",
    "tn['worldwide_gross'] =tn['worldwide_gross'].astype(float) \n",
    "tn['production_budget'] =tn['production_budget'].str.replace('$','')\n",
    "tn['production_budget'] =tn['production_budget'].str.replace(',','')\n",
    "tn['production_budget'] =tn['production_budget'].astype(float) \n",
    "tn['release_date'] = pd.to_datetime(tn['release_date'])"
   ]
  },
  {
   "cell_type": "code",
   "execution_count": 100,
   "metadata": {},
   "outputs": [],
   "source": [
    "bom = pd.DataFrame(pd.read_sql_query(\"\"\"\n",
    "SELECT * \n",
    "FROM movies.bom_movie_gross\"\"\", con))"
   ]
  },
  {
   "cell_type": "code",
   "execution_count": 101,
   "metadata": {},
   "outputs": [],
   "source": [
    "tmd = pd.DataFrame(pd.read_sql_query(\"\"\"\n",
    "SELECT\n",
    "\ttitle,\n",
    "    vote_average,\n",
    "    popularity,\n",
    "    release_date\n",
    "FROM movies.tmdb_movies\"\"\", con))"
   ]
  },
  {
   "cell_type": "code",
   "execution_count": 102,
   "metadata": {},
   "outputs": [],
   "source": [
    "tmd['release_date'] = pd.to_datetime(tmd['release_date'])"
   ]
  },
  {
   "cell_type": "code",
   "execution_count": 103,
   "metadata": {},
   "outputs": [],
   "source": [
    "tmd = tmd.drop_duplicates(subset='title',keep=False)"
   ]
  },
  {
   "cell_type": "code",
   "execution_count": 104,
   "metadata": {},
   "outputs": [],
   "source": [
    "imdb_title_basics = pd.DataFrame(pd.read_sql_query(\"\"\"\n",
    "SELECT \n",
    "\tprimary_title,\n",
    "    genres,\n",
    "    start_year\n",
    "FROM movies.imdb_title_basics\"\"\", con))"
   ]
  },
  {
   "cell_type": "code",
   "execution_count": 105,
   "metadata": {},
   "outputs": [],
   "source": [
    "imdb_title_basics['title_new'] = imdb_title_basics['primary_title'].apply(lambda x: x.replace(' ',''))\n",
    "imdb_title_basics['title_new'] = imdb_title_basics['title_new'].apply(lambda x: x.lower())\n",
    "imdb_title_basics['title_new_year'] = imdb_title_basics['title_new'] + imdb_title_basics['start_year'].astype(str)"
   ]
  },
  {
   "cell_type": "code",
   "execution_count": 106,
   "metadata": {},
   "outputs": [],
   "source": [
    "# SELECT *\n",
    "# FROM movies.imdb_title_basics\n",
    "# JOIN movies.imdb_title_ratings USING (tconst)\n",
    "#to compare ImDB genre to ratings "
   ]
  },
  {
   "cell_type": "code",
   "execution_count": 107,
   "metadata": {},
   "outputs": [],
   "source": [
    "# SELECT\n",
    "# \tnconst,\n",
    "#     tconst,\n",
    "#     ordering,\n",
    "#     category,\n",
    "#     primary_title,\n",
    "#     start_year,\n",
    "#     genres,\n",
    "#     primary_name,\n",
    "#     averagerating,\n",
    "#     numvotes\n",
    "# FROM movies.imdb_title_principals\n",
    "# JOIN movies.imdb_title_basics USING (tconst)\n",
    "# JOIN movies.imdb_name_basics USING (nconst)\n",
    "# JOIN movies.imdb_title_ratings USING (tconst)\n",
    "# WHERE start_year >= 2015\n",
    "#to show which actresses / actors / directors appeared in most highly rated movies since 2015"
   ]
  },
  {
   "cell_type": "code",
   "execution_count": 108,
   "metadata": {},
   "outputs": [],
   "source": [
    "# tn = pd.DataFrame(pd.read_sql_query(\"\"\"\n",
    "# SELECT Count(*)\n",
    "# \ttconst,\n",
    "#     primary_title,\n",
    "#     averagerating,\n",
    "#     numvotes\n",
    "# FROM movies.imdb_title_ratings\n",
    "# JOIN movies.imdb_title_basics USING (tconst)\"\"\", con))\n",
    "# to join with tbi to get ratings vs. box office success correlation"
   ]
  },
  {
   "cell_type": "markdown",
   "metadata": {},
   "source": [
    "### Worldwide Gross by Genre and Season"
   ]
  },
  {
   "cell_type": "code",
   "execution_count": 109,
   "metadata": {},
   "outputs": [],
   "source": [
    "# JOIN bom and tn\n",
    "tb = tn.join(bom.set_index('title'),\n",
    "             on='movie',\n",
    "             how='outer',\n",
    "             lsuffix='_tn',\n",
    "             rsuffix='_bom')"
   ]
  },
  {
   "cell_type": "code",
   "execution_count": 110,
   "metadata": {},
   "outputs": [],
   "source": [
    "# JOIN tb with tmd\n",
    "tbt = tb.join(\n",
    "        tmd.set_index('title'),\n",
    "        on='movie',\n",
    "        how='left',\n",
    "        rsuffix='_tmd')"
   ]
  },
  {
   "cell_type": "code",
   "execution_count": 111,
   "metadata": {},
   "outputs": [],
   "source": [
    "tbt['release_date'] = np.where(tbt['release_date'].isna(), tbt['release_date_tmd'], tbt['release_date']) "
   ]
  },
  {
   "cell_type": "code",
   "execution_count": 112,
   "metadata": {},
   "outputs": [],
   "source": [
    "tbt = tbt.drop(columns='release_date_tmd')"
   ]
  },
  {
   "cell_type": "code",
   "execution_count": 113,
   "metadata": {},
   "outputs": [],
   "source": [
    "tbt['year'] = np.where(tbt['release_date'].isna(), tbt['year'], tbt['release_date'].dt.year)\n",
    "tbt['movie_new'] = tbt['movie'].apply(lambda x: x.replace(' ',''))\n",
    "tbt['movie_new'] = tbt['movie_new'].apply(lambda x: x.lower())\n",
    "tbt['movie_new_year'] = tbt['movie_new'] + tbt['year'].astype(str)\n",
    "tbt['movie_new_year'] = tbt['movie_new_year'].apply(lambda x: x.replace('.0','')) "
   ]
  },
  {
   "cell_type": "code",
   "execution_count": 114,
   "metadata": {},
   "outputs": [],
   "source": [
    "# JOIN tbt with imdb_title_basics\n",
    "tbi = tbt.join(imdb_title_basics.set_index('title_new_year'),\n",
    "        on='movie_new_year',\n",
    "        how='left',\n",
    "        rsuffix='_imdb')"
   ]
  },
  {
   "cell_type": "code",
   "execution_count": 115,
   "metadata": {},
   "outputs": [],
   "source": [
    "tbi = tbi.drop_duplicates(subset = 'movie')"
   ]
  },
  {
   "cell_type": "code",
   "execution_count": 116,
   "metadata": {},
   "outputs": [],
   "source": [
    "tbi['domestic_gross_tn'] = np.where(tbi['domestic_gross_tn'].isna(), tbi['domestic_gross_bom'], tbi['domestic_gross_tn']) \n",
    "tbi = tbi.drop(columns=['domestic_gross_bom','studio'])\n",
    "tbi['release_month'] = tbi['release_date'].dt.month\n",
    "tbi = tbi.rename(columns={'production_budget':'production_budget_$m','domestic_gross_tn':'domestic_gross_$m','worldwide_gross':'worldwide_gross_$m', 'foreign_gross':'foreign_gross_$m'})"
   ]
  },
  {
   "cell_type": "code",
   "execution_count": 117,
   "metadata": {},
   "outputs": [],
   "source": [
    "tbi['production_budget_$m'] = tbi['production_budget_$m'].apply(lambda x: '{:.0f}'.format(x/1000000))\n",
    "tbi['domestic_gross_$m'] = tbi['domestic_gross_$m'].apply(lambda x: '{:.0f}'.format(x/1000000))\n",
    "tbi['worldwide_gross_$m'] = tbi['worldwide_gross_$m'].apply(lambda x: '{:.0f}'.format(x/1000000))\n",
    "tbi['foreign_gross_$m'] = tbi['foreign_gross_$m'].apply(lambda x: '{:.0f}'.format(x/1000000))"
   ]
  },
  {
   "cell_type": "code",
   "execution_count": 118,
   "metadata": {},
   "outputs": [],
   "source": [
    "tbi['production_budget_$m'] = tbi['production_budget_$m'].astype(float)\n",
    "tbi['domestic_gross_$m'] = tbi['domestic_gross_$m'].astype(float)\n",
    "tbi['worldwide_gross_$m'] = tbi['worldwide_gross_$m'].astype(float)\n",
    "tbi['foreign_gross_$m'] = tbi['foreign_gross_$m'].astype(float)"
   ]
  },
  {
   "cell_type": "code",
   "execution_count": 119,
   "metadata": {},
   "outputs": [],
   "source": [
    "tbi['release_year'] = tbi['release_date'].dt.year\n",
    "tbi['global_mom'] = tbi['worldwide_gross_$m'] / tbi['production_budget_$m']\n",
    "tbi = tbi.round({'global_mom':2})"
   ]
  },
  {
   "cell_type": "code",
   "execution_count": 120,
   "metadata": {},
   "outputs": [],
   "source": [
    "tbi['release_year'] = tbi['release_date'].dt.year\n",
    "tbi['release_month'] = tbi['release_date'].dt.month"
   ]
  },
  {
   "cell_type": "code",
   "execution_count": 121,
   "metadata": {},
   "outputs": [],
   "source": [
    "tbi['worldwide_gross_$m'] = np.where(tbi['worldwide_gross_$m'].isna(), tbi['domestic_gross_$m'] + tbi['foreign_gross_$m'], tbi['worldwide_gross_$m'])"
   ]
  },
  {
   "cell_type": "code",
   "execution_count": 122,
   "metadata": {},
   "outputs": [],
   "source": [
    "tbi = tbi.drop(columns=['year','start_year','movie_new'])"
   ]
  },
  {
   "cell_type": "code",
   "execution_count": 123,
   "metadata": {},
   "outputs": [
    {
     "name": "stdout",
     "output_type": "stream",
     "text": [
      "<class 'pandas.core.frame.DataFrame'>\n",
      "Float64Index: 7846 entries, 0.0 to nan\n",
      "Data columns (total 16 columns):\n",
      " #   Column                Non-Null Count  Dtype         \n",
      "---  ------                --------------  -----         \n",
      " 0   id                    5698 non-null   float64       \n",
      " 1   release_date          6663 non-null   datetime64[ns]\n",
      " 2   movie                 7846 non-null   object        \n",
      " 3   production_budget_$m  5698 non-null   float64       \n",
      " 4   domestic_gross_$m     7820 non-null   float64       \n",
      " 5   worldwide_gross_$m    6630 non-null   float64       \n",
      " 6   foreign_gross_$m      2037 non-null   float64       \n",
      " 7   vote_average          2571 non-null   float64       \n",
      " 8   popularity            2571 non-null   float64       \n",
      " 9   movie_new_year        7846 non-null   object        \n",
      " 10  primary_title         2467 non-null   object        \n",
      " 11  genres                2467 non-null   object        \n",
      " 12  title_new             2467 non-null   object        \n",
      " 13  release_month         6663 non-null   float64       \n",
      " 14  release_year          6663 non-null   float64       \n",
      " 15  global_mom            5461 non-null   float64       \n",
      "dtypes: datetime64[ns](1), float64(10), object(5)\n",
      "memory usage: 1.0+ MB\n"
     ]
    }
   ],
   "source": [
    "tbi.info()"
   ]
  },
  {
   "cell_type": "code",
   "execution_count": 133,
   "metadata": {},
   "outputs": [
    {
     "data": {
      "text/plain": [
       "0.0                                   avatar2009\n",
       "1.0    piratesofthecaribbean:onstrangertides2011\n",
       "2.0                              darkphoenix2019\n",
       "3.0                     avengers:ageofultron2015\n",
       "4.0              starwarsep.viii:thelastjedi2017\n",
       "                         ...                    \n",
       "NaN                                 thequake2018\n",
       "NaN                 edwardii(2018re-release)2018\n",
       "NaN                                  elpacto2018\n",
       "NaN                                  theswan2018\n",
       "NaN                          anactorprepares2018\n",
       "Name: movie_new_year, Length: 7846, dtype: object"
      ]
     },
     "execution_count": 133,
     "metadata": {},
     "output_type": "execute_result"
    }
   ],
   "source": [
    "tbi['movie_new_year']"
   ]
  },
  {
   "cell_type": "code",
   "execution_count": 136,
   "metadata": {},
   "outputs": [],
   "source": [
    "tbi_genre= pd.DataFrame(tbi.genres.str.split(',').tolist(), index=tbi.movie).stack()"
   ]
  },
  {
   "cell_type": "code",
   "execution_count": 137,
   "metadata": {},
   "outputs": [],
   "source": [
    "tbi_genre =tbi_genre.reset_index([0, 'movie'])"
   ]
  },
  {
   "cell_type": "code",
   "execution_count": 139,
   "metadata": {},
   "outputs": [],
   "source": [
    "tbi_genre = tbi_genre.join(tbi.set_index('movie'),on='movie')"
   ]
  },
  {
   "cell_type": "code",
   "execution_count": 141,
   "metadata": {},
   "outputs": [],
   "source": [
    "tbi_genre = tbi_genre.rename(columns={0:'genre'})"
   ]
  },
  {
   "cell_type": "code",
   "execution_count": 142,
   "metadata": {},
   "outputs": [],
   "source": [
    "tbi_genre = tbi_genre.explode('genre')"
   ]
  },
  {
   "cell_type": "code",
   "execution_count": 146,
   "metadata": {},
   "outputs": [
    {
     "ename": "KeyError",
     "evalue": "\"['genres'] not found in axis\"",
     "output_type": "error",
     "traceback": [
      "\u001b[1;31m---------------------------------------------------------------------------\u001b[0m",
      "\u001b[1;31mKeyError\u001b[0m                                  Traceback (most recent call last)",
      "\u001b[1;32m<ipython-input-146-aaa63911c8ce>\u001b[0m in \u001b[0;36m<module>\u001b[1;34m\u001b[0m\n\u001b[1;32m----> 1\u001b[1;33m \u001b[0mtbi_genre\u001b[0m \u001b[1;33m=\u001b[0m \u001b[0mtbi_genre\u001b[0m\u001b[1;33m.\u001b[0m\u001b[0mdrop\u001b[0m\u001b[1;33m(\u001b[0m\u001b[0mcolumns\u001b[0m\u001b[1;33m=\u001b[0m\u001b[1;34m'genres'\u001b[0m\u001b[1;33m)\u001b[0m\u001b[1;33m\u001b[0m\u001b[1;33m\u001b[0m\u001b[0m\n\u001b[0m",
      "\u001b[1;32m~\\anaconda\\lib\\site-packages\\pandas\\core\\frame.py\u001b[0m in \u001b[0;36mdrop\u001b[1;34m(self, labels, axis, index, columns, level, inplace, errors)\u001b[0m\n\u001b[0;32m   3995\u001b[0m             \u001b[0mlevel\u001b[0m\u001b[1;33m=\u001b[0m\u001b[0mlevel\u001b[0m\u001b[1;33m,\u001b[0m\u001b[1;33m\u001b[0m\u001b[1;33m\u001b[0m\u001b[0m\n\u001b[0;32m   3996\u001b[0m             \u001b[0minplace\u001b[0m\u001b[1;33m=\u001b[0m\u001b[0minplace\u001b[0m\u001b[1;33m,\u001b[0m\u001b[1;33m\u001b[0m\u001b[1;33m\u001b[0m\u001b[0m\n\u001b[1;32m-> 3997\u001b[1;33m             \u001b[0merrors\u001b[0m\u001b[1;33m=\u001b[0m\u001b[0merrors\u001b[0m\u001b[1;33m,\u001b[0m\u001b[1;33m\u001b[0m\u001b[1;33m\u001b[0m\u001b[0m\n\u001b[0m\u001b[0;32m   3998\u001b[0m         )\n\u001b[0;32m   3999\u001b[0m \u001b[1;33m\u001b[0m\u001b[0m\n",
      "\u001b[1;32m~\\anaconda\\lib\\site-packages\\pandas\\core\\generic.py\u001b[0m in \u001b[0;36mdrop\u001b[1;34m(self, labels, axis, index, columns, level, inplace, errors)\u001b[0m\n\u001b[0;32m   3934\u001b[0m         \u001b[1;32mfor\u001b[0m \u001b[0maxis\u001b[0m\u001b[1;33m,\u001b[0m \u001b[0mlabels\u001b[0m \u001b[1;32min\u001b[0m \u001b[0maxes\u001b[0m\u001b[1;33m.\u001b[0m\u001b[0mitems\u001b[0m\u001b[1;33m(\u001b[0m\u001b[1;33m)\u001b[0m\u001b[1;33m:\u001b[0m\u001b[1;33m\u001b[0m\u001b[1;33m\u001b[0m\u001b[0m\n\u001b[0;32m   3935\u001b[0m             \u001b[1;32mif\u001b[0m \u001b[0mlabels\u001b[0m \u001b[1;32mis\u001b[0m \u001b[1;32mnot\u001b[0m \u001b[1;32mNone\u001b[0m\u001b[1;33m:\u001b[0m\u001b[1;33m\u001b[0m\u001b[1;33m\u001b[0m\u001b[0m\n\u001b[1;32m-> 3936\u001b[1;33m                 \u001b[0mobj\u001b[0m \u001b[1;33m=\u001b[0m \u001b[0mobj\u001b[0m\u001b[1;33m.\u001b[0m\u001b[0m_drop_axis\u001b[0m\u001b[1;33m(\u001b[0m\u001b[0mlabels\u001b[0m\u001b[1;33m,\u001b[0m \u001b[0maxis\u001b[0m\u001b[1;33m,\u001b[0m \u001b[0mlevel\u001b[0m\u001b[1;33m=\u001b[0m\u001b[0mlevel\u001b[0m\u001b[1;33m,\u001b[0m \u001b[0merrors\u001b[0m\u001b[1;33m=\u001b[0m\u001b[0merrors\u001b[0m\u001b[1;33m)\u001b[0m\u001b[1;33m\u001b[0m\u001b[1;33m\u001b[0m\u001b[0m\n\u001b[0m\u001b[0;32m   3937\u001b[0m \u001b[1;33m\u001b[0m\u001b[0m\n\u001b[0;32m   3938\u001b[0m         \u001b[1;32mif\u001b[0m \u001b[0minplace\u001b[0m\u001b[1;33m:\u001b[0m\u001b[1;33m\u001b[0m\u001b[1;33m\u001b[0m\u001b[0m\n",
      "\u001b[1;32m~\\anaconda\\lib\\site-packages\\pandas\\core\\generic.py\u001b[0m in \u001b[0;36m_drop_axis\u001b[1;34m(self, labels, axis, level, errors)\u001b[0m\n\u001b[0;32m   3968\u001b[0m                 \u001b[0mnew_axis\u001b[0m \u001b[1;33m=\u001b[0m \u001b[0maxis\u001b[0m\u001b[1;33m.\u001b[0m\u001b[0mdrop\u001b[0m\u001b[1;33m(\u001b[0m\u001b[0mlabels\u001b[0m\u001b[1;33m,\u001b[0m \u001b[0mlevel\u001b[0m\u001b[1;33m=\u001b[0m\u001b[0mlevel\u001b[0m\u001b[1;33m,\u001b[0m \u001b[0merrors\u001b[0m\u001b[1;33m=\u001b[0m\u001b[0merrors\u001b[0m\u001b[1;33m)\u001b[0m\u001b[1;33m\u001b[0m\u001b[1;33m\u001b[0m\u001b[0m\n\u001b[0;32m   3969\u001b[0m             \u001b[1;32melse\u001b[0m\u001b[1;33m:\u001b[0m\u001b[1;33m\u001b[0m\u001b[1;33m\u001b[0m\u001b[0m\n\u001b[1;32m-> 3970\u001b[1;33m                 \u001b[0mnew_axis\u001b[0m \u001b[1;33m=\u001b[0m \u001b[0maxis\u001b[0m\u001b[1;33m.\u001b[0m\u001b[0mdrop\u001b[0m\u001b[1;33m(\u001b[0m\u001b[0mlabels\u001b[0m\u001b[1;33m,\u001b[0m \u001b[0merrors\u001b[0m\u001b[1;33m=\u001b[0m\u001b[0merrors\u001b[0m\u001b[1;33m)\u001b[0m\u001b[1;33m\u001b[0m\u001b[1;33m\u001b[0m\u001b[0m\n\u001b[0m\u001b[0;32m   3971\u001b[0m             \u001b[0mresult\u001b[0m \u001b[1;33m=\u001b[0m \u001b[0mself\u001b[0m\u001b[1;33m.\u001b[0m\u001b[0mreindex\u001b[0m\u001b[1;33m(\u001b[0m\u001b[1;33m**\u001b[0m\u001b[1;33m{\u001b[0m\u001b[0maxis_name\u001b[0m\u001b[1;33m:\u001b[0m \u001b[0mnew_axis\u001b[0m\u001b[1;33m}\u001b[0m\u001b[1;33m)\u001b[0m\u001b[1;33m\u001b[0m\u001b[1;33m\u001b[0m\u001b[0m\n\u001b[0;32m   3972\u001b[0m \u001b[1;33m\u001b[0m\u001b[0m\n",
      "\u001b[1;32m~\\anaconda\\lib\\site-packages\\pandas\\core\\indexes\\base.py\u001b[0m in \u001b[0;36mdrop\u001b[1;34m(self, labels, errors)\u001b[0m\n\u001b[0;32m   5016\u001b[0m         \u001b[1;32mif\u001b[0m \u001b[0mmask\u001b[0m\u001b[1;33m.\u001b[0m\u001b[0many\u001b[0m\u001b[1;33m(\u001b[0m\u001b[1;33m)\u001b[0m\u001b[1;33m:\u001b[0m\u001b[1;33m\u001b[0m\u001b[1;33m\u001b[0m\u001b[0m\n\u001b[0;32m   5017\u001b[0m             \u001b[1;32mif\u001b[0m \u001b[0merrors\u001b[0m \u001b[1;33m!=\u001b[0m \u001b[1;34m\"ignore\"\u001b[0m\u001b[1;33m:\u001b[0m\u001b[1;33m\u001b[0m\u001b[1;33m\u001b[0m\u001b[0m\n\u001b[1;32m-> 5018\u001b[1;33m                 \u001b[1;32mraise\u001b[0m \u001b[0mKeyError\u001b[0m\u001b[1;33m(\u001b[0m\u001b[1;34mf\"{labels[mask]} not found in axis\"\u001b[0m\u001b[1;33m)\u001b[0m\u001b[1;33m\u001b[0m\u001b[1;33m\u001b[0m\u001b[0m\n\u001b[0m\u001b[0;32m   5019\u001b[0m             \u001b[0mindexer\u001b[0m \u001b[1;33m=\u001b[0m \u001b[0mindexer\u001b[0m\u001b[1;33m[\u001b[0m\u001b[1;33m~\u001b[0m\u001b[0mmask\u001b[0m\u001b[1;33m]\u001b[0m\u001b[1;33m\u001b[0m\u001b[1;33m\u001b[0m\u001b[0m\n\u001b[0;32m   5020\u001b[0m         \u001b[1;32mreturn\u001b[0m \u001b[0mself\u001b[0m\u001b[1;33m.\u001b[0m\u001b[0mdelete\u001b[0m\u001b[1;33m(\u001b[0m\u001b[0mindexer\u001b[0m\u001b[1;33m)\u001b[0m\u001b[1;33m\u001b[0m\u001b[1;33m\u001b[0m\u001b[0m\n",
      "\u001b[1;31mKeyError\u001b[0m: \"['genres'] not found in axis\""
     ]
    }
   ],
   "source": [
    "tbi_genre = tbi_genre.drop(columns='genres')"
   ]
  },
  {
   "cell_type": "code",
   "execution_count": 148,
   "metadata": {},
   "outputs": [],
   "source": [
    "tbi_genre['release_month'] = tbi_genre['release_date'].dt.month"
   ]
  },
  {
   "cell_type": "code",
   "execution_count": 149,
   "metadata": {},
   "outputs": [],
   "source": [
    "tbi['release_month'] = tbi['release_date'].dt.month"
   ]
  },
  {
   "cell_type": "markdown",
   "metadata": {},
   "source": [
    "### Execution"
   ]
  },
  {
   "cell_type": "code",
   "execution_count": 42,
   "metadata": {},
   "outputs": [],
   "source": [
    "import seaborn as sns"
   ]
  },
  {
   "cell_type": "code",
   "execution_count": 43,
   "metadata": {},
   "outputs": [],
   "source": [
    "tbi_since1990 = tbi_genre.loc[tbi_genre['release_year'] > 1989]"
   ]
  },
  {
   "cell_type": "code",
   "execution_count": 44,
   "metadata": {},
   "outputs": [
    {
     "data": {
      "text/html": [
       "<div>\n",
       "<style scoped>\n",
       "    .dataframe tbody tr th:only-of-type {\n",
       "        vertical-align: middle;\n",
       "    }\n",
       "\n",
       "    .dataframe tbody tr th {\n",
       "        vertical-align: top;\n",
       "    }\n",
       "\n",
       "    .dataframe thead th {\n",
       "        text-align: right;\n",
       "    }\n",
       "</style>\n",
       "<table border=\"1\" class=\"dataframe\">\n",
       "  <thead>\n",
       "    <tr style=\"text-align: right;\">\n",
       "      <th></th>\n",
       "      <th>id</th>\n",
       "      <th>production_budget_$m</th>\n",
       "      <th>domestic_gross_$m</th>\n",
       "      <th>worldwide_gross_$m</th>\n",
       "      <th>foreign_gross_$m</th>\n",
       "      <th>vote_average</th>\n",
       "      <th>popularity</th>\n",
       "      <th>release_month</th>\n",
       "      <th>release_year</th>\n",
       "      <th>global_mom</th>\n",
       "    </tr>\n",
       "    <tr>\n",
       "      <th>genre</th>\n",
       "      <th></th>\n",
       "      <th></th>\n",
       "      <th></th>\n",
       "      <th></th>\n",
       "      <th></th>\n",
       "      <th></th>\n",
       "      <th></th>\n",
       "      <th></th>\n",
       "      <th></th>\n",
       "      <th></th>\n",
       "    </tr>\n",
       "  </thead>\n",
       "  <tbody>\n",
       "    <tr>\n",
       "      <th>Action</th>\n",
       "      <td>50.615385</td>\n",
       "      <td>79.127473</td>\n",
       "      <td>72.541301</td>\n",
       "      <td>227.043053</td>\n",
       "      <td>160.816489</td>\n",
       "      <td>6.129218</td>\n",
       "      <td>14.662453</td>\n",
       "      <td>6.820244</td>\n",
       "      <td>2014.089005</td>\n",
       "      <td>2.618996</td>\n",
       "    </tr>\n",
       "    <tr>\n",
       "      <th>Adventure</th>\n",
       "      <td>47.550279</td>\n",
       "      <td>105.935754</td>\n",
       "      <td>109.030660</td>\n",
       "      <td>328.878412</td>\n",
       "      <td>228.162500</td>\n",
       "      <td>6.306647</td>\n",
       "      <td>16.906202</td>\n",
       "      <td>7.047059</td>\n",
       "      <td>2014.331765</td>\n",
       "      <td>3.066011</td>\n",
       "    </tr>\n",
       "    <tr>\n",
       "      <th>Animation</th>\n",
       "      <td>44.405660</td>\n",
       "      <td>96.716981</td>\n",
       "      <td>112.461538</td>\n",
       "      <td>338.243697</td>\n",
       "      <td>244.581633</td>\n",
       "      <td>6.322642</td>\n",
       "      <td>14.023340</td>\n",
       "      <td>7.238462</td>\n",
       "      <td>2014.438462</td>\n",
       "      <td>3.614528</td>\n",
       "    </tr>\n",
       "    <tr>\n",
       "      <th>Biography</th>\n",
       "      <td>52.194030</td>\n",
       "      <td>25.701493</td>\n",
       "      <td>28.573604</td>\n",
       "      <td>72.301887</td>\n",
       "      <td>50.165138</td>\n",
       "      <td>6.760784</td>\n",
       "      <td>9.686935</td>\n",
       "      <td>8.578680</td>\n",
       "      <td>2014.736041</td>\n",
       "      <td>inf</td>\n",
       "    </tr>\n",
       "    <tr>\n",
       "      <th>Comedy</th>\n",
       "      <td>50.436673</td>\n",
       "      <td>40.455577</td>\n",
       "      <td>45.467852</td>\n",
       "      <td>123.198098</td>\n",
       "      <td>87.828633</td>\n",
       "      <td>6.115470</td>\n",
       "      <td>10.354233</td>\n",
       "      <td>7.188525</td>\n",
       "      <td>2013.571038</td>\n",
       "      <td>inf</td>\n",
       "    </tr>\n",
       "    <tr>\n",
       "      <th>Crime</th>\n",
       "      <td>49.525862</td>\n",
       "      <td>32.806034</td>\n",
       "      <td>30.524590</td>\n",
       "      <td>81.138996</td>\n",
       "      <td>46.088889</td>\n",
       "      <td>6.216791</td>\n",
       "      <td>11.527896</td>\n",
       "      <td>7.186275</td>\n",
       "      <td>2013.970588</td>\n",
       "      <td>inf</td>\n",
       "    </tr>\n",
       "    <tr>\n",
       "      <th>Documentary</th>\n",
       "      <td>49.416667</td>\n",
       "      <td>8.750000</td>\n",
       "      <td>5.243478</td>\n",
       "      <td>17.142857</td>\n",
       "      <td>12.567568</td>\n",
       "      <td>6.966990</td>\n",
       "      <td>4.916913</td>\n",
       "      <td>7.413793</td>\n",
       "      <td>2013.241379</td>\n",
       "      <td>inf</td>\n",
       "    </tr>\n",
       "    <tr>\n",
       "      <th>Drama</th>\n",
       "      <td>51.208564</td>\n",
       "      <td>26.628453</td>\n",
       "      <td>23.679193</td>\n",
       "      <td>66.765714</td>\n",
       "      <td>48.074523</td>\n",
       "      <td>6.408681</td>\n",
       "      <td>9.441171</td>\n",
       "      <td>7.748858</td>\n",
       "      <td>2013.857534</td>\n",
       "      <td>inf</td>\n",
       "    </tr>\n",
       "    <tr>\n",
       "      <th>Family</th>\n",
       "      <td>54.288660</td>\n",
       "      <td>65.835052</td>\n",
       "      <td>69.750000</td>\n",
       "      <td>183.405941</td>\n",
       "      <td>101.449275</td>\n",
       "      <td>6.160227</td>\n",
       "      <td>11.110864</td>\n",
       "      <td>7.546296</td>\n",
       "      <td>2013.564815</td>\n",
       "      <td>2.610745</td>\n",
       "    </tr>\n",
       "    <tr>\n",
       "      <th>Fantasy</th>\n",
       "      <td>50.443548</td>\n",
       "      <td>85.233871</td>\n",
       "      <td>70.146667</td>\n",
       "      <td>216.580420</td>\n",
       "      <td>157.428571</td>\n",
       "      <td>6.121488</td>\n",
       "      <td>14.622587</td>\n",
       "      <td>6.986667</td>\n",
       "      <td>2013.826667</td>\n",
       "      <td>inf</td>\n",
       "    </tr>\n",
       "    <tr>\n",
       "      <th>History</th>\n",
       "      <td>42.850000</td>\n",
       "      <td>36.350000</td>\n",
       "      <td>24.786667</td>\n",
       "      <td>68.796610</td>\n",
       "      <td>47.595745</td>\n",
       "      <td>6.546032</td>\n",
       "      <td>9.442794</td>\n",
       "      <td>8.065789</td>\n",
       "      <td>2014.789474</td>\n",
       "      <td>2.484500</td>\n",
       "    </tr>\n",
       "    <tr>\n",
       "      <th>Horror</th>\n",
       "      <td>51.032967</td>\n",
       "      <td>17.115385</td>\n",
       "      <td>27.276190</td>\n",
       "      <td>64.324742</td>\n",
       "      <td>55.280374</td>\n",
       "      <td>5.560947</td>\n",
       "      <td>10.568639</td>\n",
       "      <td>7.188679</td>\n",
       "      <td>2014.155660</td>\n",
       "      <td>inf</td>\n",
       "    </tr>\n",
       "    <tr>\n",
       "      <th>Music</th>\n",
       "      <td>55.705882</td>\n",
       "      <td>17.882353</td>\n",
       "      <td>26.931507</td>\n",
       "      <td>72.083333</td>\n",
       "      <td>50.447368</td>\n",
       "      <td>6.716364</td>\n",
       "      <td>8.482400</td>\n",
       "      <td>7.581081</td>\n",
       "      <td>2013.743243</td>\n",
       "      <td>3.964082</td>\n",
       "    </tr>\n",
       "    <tr>\n",
       "      <th>Musical</th>\n",
       "      <td>36.111111</td>\n",
       "      <td>43.111111</td>\n",
       "      <td>59.266667</td>\n",
       "      <td>175.000000</td>\n",
       "      <td>90.142857</td>\n",
       "      <td>6.150000</td>\n",
       "      <td>5.905500</td>\n",
       "      <td>7.066667</td>\n",
       "      <td>2012.933333</td>\n",
       "      <td>2.394444</td>\n",
       "    </tr>\n",
       "    <tr>\n",
       "      <th>Mystery</th>\n",
       "      <td>52.920635</td>\n",
       "      <td>25.238095</td>\n",
       "      <td>30.807229</td>\n",
       "      <td>82.503497</td>\n",
       "      <td>57.495050</td>\n",
       "      <td>6.108333</td>\n",
       "      <td>11.489879</td>\n",
       "      <td>7.289157</td>\n",
       "      <td>2014.150602</td>\n",
       "      <td>inf</td>\n",
       "    </tr>\n",
       "    <tr>\n",
       "      <th>News</th>\n",
       "      <td>NaN</td>\n",
       "      <td>NaN</td>\n",
       "      <td>0.000000</td>\n",
       "      <td>NaN</td>\n",
       "      <td>NaN</td>\n",
       "      <td>6.100000</td>\n",
       "      <td>3.085000</td>\n",
       "      <td>9.000000</td>\n",
       "      <td>2013.000000</td>\n",
       "      <td>NaN</td>\n",
       "    </tr>\n",
       "    <tr>\n",
       "      <th>Romance</th>\n",
       "      <td>54.921466</td>\n",
       "      <td>22.842932</td>\n",
       "      <td>23.130573</td>\n",
       "      <td>63.522634</td>\n",
       "      <td>38.345029</td>\n",
       "      <td>6.307042</td>\n",
       "      <td>8.716803</td>\n",
       "      <td>7.082803</td>\n",
       "      <td>2013.178344</td>\n",
       "      <td>inf</td>\n",
       "    </tr>\n",
       "    <tr>\n",
       "      <th>Sci-Fi</th>\n",
       "      <td>49.571429</td>\n",
       "      <td>94.383459</td>\n",
       "      <td>118.447552</td>\n",
       "      <td>338.463768</td>\n",
       "      <td>221.176471</td>\n",
       "      <td>6.264655</td>\n",
       "      <td>18.424810</td>\n",
       "      <td>6.645833</td>\n",
       "      <td>2014.263889</td>\n",
       "      <td>inf</td>\n",
       "    </tr>\n",
       "    <tr>\n",
       "      <th>Sport</th>\n",
       "      <td>61.750000</td>\n",
       "      <td>25.093750</td>\n",
       "      <td>28.750000</td>\n",
       "      <td>51.352941</td>\n",
       "      <td>24.050000</td>\n",
       "      <td>6.796875</td>\n",
       "      <td>9.012687</td>\n",
       "      <td>8.200000</td>\n",
       "      <td>2013.850000</td>\n",
       "      <td>2.330667</td>\n",
       "    </tr>\n",
       "    <tr>\n",
       "      <th>Thriller</th>\n",
       "      <td>54.267442</td>\n",
       "      <td>32.240310</td>\n",
       "      <td>37.694864</td>\n",
       "      <td>117.365854</td>\n",
       "      <td>88.126263</td>\n",
       "      <td>6.027007</td>\n",
       "      <td>11.593613</td>\n",
       "      <td>7.311377</td>\n",
       "      <td>2013.823353</td>\n",
       "      <td>inf</td>\n",
       "    </tr>\n",
       "    <tr>\n",
       "      <th>War</th>\n",
       "      <td>45.611111</td>\n",
       "      <td>27.444444</td>\n",
       "      <td>15.642857</td>\n",
       "      <td>43.608696</td>\n",
       "      <td>25.375000</td>\n",
       "      <td>6.717391</td>\n",
       "      <td>9.494261</td>\n",
       "      <td>8.500000</td>\n",
       "      <td>2013.821429</td>\n",
       "      <td>1.324444</td>\n",
       "    </tr>\n",
       "    <tr>\n",
       "      <th>Western</th>\n",
       "      <td>48.333333</td>\n",
       "      <td>55.916667</td>\n",
       "      <td>34.555556</td>\n",
       "      <td>88.866667</td>\n",
       "      <td>70.750000</td>\n",
       "      <td>6.056250</td>\n",
       "      <td>10.156750</td>\n",
       "      <td>8.666667</td>\n",
       "      <td>2013.000000</td>\n",
       "      <td>1.576667</td>\n",
       "    </tr>\n",
       "  </tbody>\n",
       "</table>\n",
       "</div>"
      ],
      "text/plain": [
       "                    id  production_budget_$m  domestic_gross_$m  \\\n",
       "genre                                                             \n",
       "Action       50.615385             79.127473          72.541301   \n",
       "Adventure    47.550279            105.935754         109.030660   \n",
       "Animation    44.405660             96.716981         112.461538   \n",
       "Biography    52.194030             25.701493          28.573604   \n",
       "Comedy       50.436673             40.455577          45.467852   \n",
       "Crime        49.525862             32.806034          30.524590   \n",
       "Documentary  49.416667              8.750000           5.243478   \n",
       "Drama        51.208564             26.628453          23.679193   \n",
       "Family       54.288660             65.835052          69.750000   \n",
       "Fantasy      50.443548             85.233871          70.146667   \n",
       "History      42.850000             36.350000          24.786667   \n",
       "Horror       51.032967             17.115385          27.276190   \n",
       "Music        55.705882             17.882353          26.931507   \n",
       "Musical      36.111111             43.111111          59.266667   \n",
       "Mystery      52.920635             25.238095          30.807229   \n",
       "News               NaN                   NaN           0.000000   \n",
       "Romance      54.921466             22.842932          23.130573   \n",
       "Sci-Fi       49.571429             94.383459         118.447552   \n",
       "Sport        61.750000             25.093750          28.750000   \n",
       "Thriller     54.267442             32.240310          37.694864   \n",
       "War          45.611111             27.444444          15.642857   \n",
       "Western      48.333333             55.916667          34.555556   \n",
       "\n",
       "             worldwide_gross_$m  foreign_gross_$m  vote_average  popularity  \\\n",
       "genre                                                                         \n",
       "Action               227.043053        160.816489      6.129218   14.662453   \n",
       "Adventure            328.878412        228.162500      6.306647   16.906202   \n",
       "Animation            338.243697        244.581633      6.322642   14.023340   \n",
       "Biography             72.301887         50.165138      6.760784    9.686935   \n",
       "Comedy               123.198098         87.828633      6.115470   10.354233   \n",
       "Crime                 81.138996         46.088889      6.216791   11.527896   \n",
       "Documentary           17.142857         12.567568      6.966990    4.916913   \n",
       "Drama                 66.765714         48.074523      6.408681    9.441171   \n",
       "Family               183.405941        101.449275      6.160227   11.110864   \n",
       "Fantasy              216.580420        157.428571      6.121488   14.622587   \n",
       "History               68.796610         47.595745      6.546032    9.442794   \n",
       "Horror                64.324742         55.280374      5.560947   10.568639   \n",
       "Music                 72.083333         50.447368      6.716364    8.482400   \n",
       "Musical              175.000000         90.142857      6.150000    5.905500   \n",
       "Mystery               82.503497         57.495050      6.108333   11.489879   \n",
       "News                        NaN               NaN      6.100000    3.085000   \n",
       "Romance               63.522634         38.345029      6.307042    8.716803   \n",
       "Sci-Fi               338.463768        221.176471      6.264655   18.424810   \n",
       "Sport                 51.352941         24.050000      6.796875    9.012687   \n",
       "Thriller             117.365854         88.126263      6.027007   11.593613   \n",
       "War                   43.608696         25.375000      6.717391    9.494261   \n",
       "Western               88.866667         70.750000      6.056250   10.156750   \n",
       "\n",
       "             release_month  release_year  global_mom  \n",
       "genre                                                 \n",
       "Action            6.820244   2014.089005    2.618996  \n",
       "Adventure         7.047059   2014.331765    3.066011  \n",
       "Animation         7.238462   2014.438462    3.614528  \n",
       "Biography         8.578680   2014.736041         inf  \n",
       "Comedy            7.188525   2013.571038         inf  \n",
       "Crime             7.186275   2013.970588         inf  \n",
       "Documentary       7.413793   2013.241379         inf  \n",
       "Drama             7.748858   2013.857534         inf  \n",
       "Family            7.546296   2013.564815    2.610745  \n",
       "Fantasy           6.986667   2013.826667         inf  \n",
       "History           8.065789   2014.789474    2.484500  \n",
       "Horror            7.188679   2014.155660         inf  \n",
       "Music             7.581081   2013.743243    3.964082  \n",
       "Musical           7.066667   2012.933333    2.394444  \n",
       "Mystery           7.289157   2014.150602         inf  \n",
       "News              9.000000   2013.000000         NaN  \n",
       "Romance           7.082803   2013.178344         inf  \n",
       "Sci-Fi            6.645833   2014.263889         inf  \n",
       "Sport             8.200000   2013.850000    2.330667  \n",
       "Thriller          7.311377   2013.823353         inf  \n",
       "War               8.500000   2013.821429    1.324444  \n",
       "Western           8.666667   2013.000000    1.576667  "
      ]
     },
     "execution_count": 44,
     "metadata": {},
     "output_type": "execute_result"
    }
   ],
   "source": [
    "tbi_since1990.groupby(['genre']).mean()"
   ]
  },
  {
   "cell_type": "code",
   "execution_count": 45,
   "metadata": {},
   "outputs": [],
   "source": [
    "genre_vs_mom = tbi_since1990.groupby(['genre']).median().sort_values(by='global_mom',ascending=False)['global_mom']"
   ]
  },
  {
   "cell_type": "code",
   "execution_count": 46,
   "metadata": {},
   "outputs": [
    {
     "data": {
      "text/plain": [
       "genre\n",
       "Mystery        3.250\n",
       "Animation      2.980\n",
       "Sci-Fi         2.780\n",
       "Horror         2.670\n",
       "Adventure      2.620\n",
       "Music          2.500\n",
       "Thriller       2.400\n",
       "Comedy         2.350\n",
       "Romance        2.330\n",
       "Documentary    2.315\n",
       "Fantasy        2.180\n",
       "Action         2.135\n",
       "Family         2.015\n",
       "Biography      2.000\n",
       "Drama          1.900\n",
       "History        1.810\n",
       "Sport          1.745\n",
       "Crime          1.650\n",
       "Musical        0.870\n",
       "Western        0.725\n",
       "War            0.665\n",
       "News             NaN\n",
       "Name: global_mom, dtype: float64"
      ]
     },
     "execution_count": 46,
     "metadata": {},
     "output_type": "execute_result"
    }
   ],
   "source": [
    "genre_vs_mom"
   ]
  },
  {
   "cell_type": "code",
   "execution_count": 47,
   "metadata": {},
   "outputs": [
    {
     "data": {
      "text/plain": [
       "<matplotlib.axes._subplots.AxesSubplot at 0x211a6502e48>"
      ]
     },
     "execution_count": 47,
     "metadata": {},
     "output_type": "execute_result"
    },
    {
     "data": {
      "image/png": "[encoded data removed]",
      "text/plain": [
       "<Figure size 432x288 with 1 Axes>"
      ]
     },
     "metadata": {
      "needs_background": "light"
     },
     "output_type": "display_data"
    }
   ],
   "source": [
    "genre_vs_mom.plot.bar()"
   ]
  },
  {
   "cell_type": "code",
   "execution_count": 48,
   "metadata": {},
   "outputs": [],
   "source": [
    "genre_vs_mom = genre_vs_mom.reset_index()"
   ]
  },
  {
   "cell_type": "code",
   "execution_count": 49,
   "metadata": {},
   "outputs": [
    {
     "data": {
      "image/png": "[encoded data removed]",
      "text/plain": [
       "<Figure size 720x720 with 1 Axes>"
      ]
     },
     "metadata": {
      "needs_background": "light"
     },
     "output_type": "display_data"
    }
   ],
   "source": [
    "plt.figure(figsize=(10, 10))\n",
    "chart = sns.barplot(x='genre',y='global_mom',data=genre_vs_mom, ci=None, color = 'turquoise')\n",
    "\n",
    "# set labels\n",
    "plt.xlabel(\"Genre\", size=15)\n",
    "plt.ylabel(\"Median Global MoM\", size=15)\n",
    "plt.title(\"Top Genres by Multiple on Money (MoM) since 1990\", size=18)\n",
    "plt.xticks(\n",
    "    rotation=45, \n",
    "    horizontalalignment='right',\n",
    "    fontweight='light',\n",
    "    fontsize='x-large'  \n",
    ")\n",
    "plt.show()"
   ]
  },
  {
   "cell_type": "code",
   "execution_count": 50,
   "metadata": {},
   "outputs": [
    {
     "data": {
      "text/html": [
       "<div>\n",
       "<style scoped>\n",
       "    .dataframe tbody tr th:only-of-type {\n",
       "        vertical-align: middle;\n",
       "    }\n",
       "\n",
       "    .dataframe tbody tr th {\n",
       "        vertical-align: top;\n",
       "    }\n",
       "\n",
       "    .dataframe thead th {\n",
       "        text-align: right;\n",
       "    }\n",
       "</style>\n",
       "<table border=\"1\" class=\"dataframe\">\n",
       "  <thead>\n",
       "    <tr style=\"text-align: right;\">\n",
       "      <th></th>\n",
       "      <th>id</th>\n",
       "      <th>production_budget_$m</th>\n",
       "      <th>domestic_gross_$m</th>\n",
       "      <th>worldwide_gross_$m</th>\n",
       "      <th>foreign_gross_$m</th>\n",
       "      <th>vote_average</th>\n",
       "      <th>popularity</th>\n",
       "      <th>release_month</th>\n",
       "      <th>release_year</th>\n",
       "      <th>global_mom</th>\n",
       "    </tr>\n",
       "    <tr>\n",
       "      <th>genre</th>\n",
       "      <th></th>\n",
       "      <th></th>\n",
       "      <th></th>\n",
       "      <th></th>\n",
       "      <th></th>\n",
       "      <th></th>\n",
       "      <th></th>\n",
       "      <th></th>\n",
       "      <th></th>\n",
       "      <th></th>\n",
       "    </tr>\n",
       "  </thead>\n",
       "  <tbody>\n",
       "    <tr>\n",
       "      <th>Action</th>\n",
       "      <td>50.615385</td>\n",
       "      <td>79.127473</td>\n",
       "      <td>65.111614</td>\n",
       "      <td>221.773551</td>\n",
       "      <td>155.880096</td>\n",
       "      <td>6.129218</td>\n",
       "      <td>14.662453</td>\n",
       "      <td>6.820244</td>\n",
       "      <td>2014.089005</td>\n",
       "      <td>2.618996</td>\n",
       "    </tr>\n",
       "    <tr>\n",
       "      <th>Adventure</th>\n",
       "      <td>47.550279</td>\n",
       "      <td>105.935754</td>\n",
       "      <td>106.026432</td>\n",
       "      <td>325.447867</td>\n",
       "      <td>224.020649</td>\n",
       "      <td>6.306647</td>\n",
       "      <td>16.906202</td>\n",
       "      <td>7.047059</td>\n",
       "      <td>2014.331765</td>\n",
       "      <td>3.066011</td>\n",
       "    </tr>\n",
       "    <tr>\n",
       "      <th>Animation</th>\n",
       "      <td>44.405660</td>\n",
       "      <td>96.716981</td>\n",
       "      <td>109.049645</td>\n",
       "      <td>328.456693</td>\n",
       "      <td>232.811321</td>\n",
       "      <td>6.322642</td>\n",
       "      <td>14.023340</td>\n",
       "      <td>7.238462</td>\n",
       "      <td>2014.438462</td>\n",
       "      <td>3.614528</td>\n",
       "    </tr>\n",
       "    <tr>\n",
       "      <th>Biography</th>\n",
       "      <td>52.194030</td>\n",
       "      <td>25.701493</td>\n",
       "      <td>25.399123</td>\n",
       "      <td>68.571429</td>\n",
       "      <td>46.632000</td>\n",
       "      <td>6.760784</td>\n",
       "      <td>9.686935</td>\n",
       "      <td>8.578680</td>\n",
       "      <td>2014.736041</td>\n",
       "      <td>inf</td>\n",
       "    </tr>\n",
       "    <tr>\n",
       "      <th>Comedy</th>\n",
       "      <td>50.436673</td>\n",
       "      <td>40.455577</td>\n",
       "      <td>40.270047</td>\n",
       "      <td>119.637574</td>\n",
       "      <td>84.447732</td>\n",
       "      <td>6.115470</td>\n",
       "      <td>10.354233</td>\n",
       "      <td>7.188525</td>\n",
       "      <td>2013.571038</td>\n",
       "      <td>inf</td>\n",
       "    </tr>\n",
       "    <tr>\n",
       "      <th>Crime</th>\n",
       "      <td>49.525862</td>\n",
       "      <td>32.806034</td>\n",
       "      <td>27.465909</td>\n",
       "      <td>77.569395</td>\n",
       "      <td>43.162562</td>\n",
       "      <td>6.216791</td>\n",
       "      <td>11.527896</td>\n",
       "      <td>7.186275</td>\n",
       "      <td>2013.970588</td>\n",
       "      <td>inf</td>\n",
       "    </tr>\n",
       "    <tr>\n",
       "      <th>Documentary</th>\n",
       "      <td>49.416667</td>\n",
       "      <td>8.750000</td>\n",
       "      <td>4.532374</td>\n",
       "      <td>16.426471</td>\n",
       "      <td>11.595238</td>\n",
       "      <td>6.966990</td>\n",
       "      <td>4.916913</td>\n",
       "      <td>7.413793</td>\n",
       "      <td>2013.241379</td>\n",
       "      <td>inf</td>\n",
       "    </tr>\n",
       "    <tr>\n",
       "      <th>Drama</th>\n",
       "      <td>51.208564</td>\n",
       "      <td>26.628453</td>\n",
       "      <td>20.816471</td>\n",
       "      <td>65.822460</td>\n",
       "      <td>47.526562</td>\n",
       "      <td>6.408681</td>\n",
       "      <td>9.441171</td>\n",
       "      <td>7.748858</td>\n",
       "      <td>2013.857534</td>\n",
       "      <td>inf</td>\n",
       "    </tr>\n",
       "    <tr>\n",
       "      <th>Family</th>\n",
       "      <td>54.288660</td>\n",
       "      <td>65.835052</td>\n",
       "      <td>68.369748</td>\n",
       "      <td>186.750000</td>\n",
       "      <td>104.441558</td>\n",
       "      <td>6.160227</td>\n",
       "      <td>11.110864</td>\n",
       "      <td>7.546296</td>\n",
       "      <td>2013.564815</td>\n",
       "      <td>2.610745</td>\n",
       "    </tr>\n",
       "    <tr>\n",
       "      <th>Fantasy</th>\n",
       "      <td>50.443548</td>\n",
       "      <td>85.233871</td>\n",
       "      <td>70.875740</td>\n",
       "      <td>224.928571</td>\n",
       "      <td>161.834862</td>\n",
       "      <td>6.121488</td>\n",
       "      <td>14.622587</td>\n",
       "      <td>6.986667</td>\n",
       "      <td>2013.826667</td>\n",
       "      <td>inf</td>\n",
       "    </tr>\n",
       "    <tr>\n",
       "      <th>History</th>\n",
       "      <td>42.850000</td>\n",
       "      <td>36.350000</td>\n",
       "      <td>21.258427</td>\n",
       "      <td>65.107692</td>\n",
       "      <td>45.056604</td>\n",
       "      <td>6.546032</td>\n",
       "      <td>9.442794</td>\n",
       "      <td>8.065789</td>\n",
       "      <td>2014.789474</td>\n",
       "      <td>2.484500</td>\n",
       "    </tr>\n",
       "    <tr>\n",
       "      <th>Horror</th>\n",
       "      <td>51.032967</td>\n",
       "      <td>17.115385</td>\n",
       "      <td>26.691630</td>\n",
       "      <td>65.990148</td>\n",
       "      <td>55.615385</td>\n",
       "      <td>5.560947</td>\n",
       "      <td>10.568639</td>\n",
       "      <td>7.188679</td>\n",
       "      <td>2014.155660</td>\n",
       "      <td>inf</td>\n",
       "    </tr>\n",
       "    <tr>\n",
       "      <th>Music</th>\n",
       "      <td>55.705882</td>\n",
       "      <td>17.882353</td>\n",
       "      <td>24.240964</td>\n",
       "      <td>70.629032</td>\n",
       "      <td>50.195122</td>\n",
       "      <td>6.716364</td>\n",
       "      <td>8.482400</td>\n",
       "      <td>7.581081</td>\n",
       "      <td>2013.743243</td>\n",
       "      <td>3.964082</td>\n",
       "    </tr>\n",
       "    <tr>\n",
       "      <th>Musical</th>\n",
       "      <td>36.111111</td>\n",
       "      <td>43.111111</td>\n",
       "      <td>52.294118</td>\n",
       "      <td>175.000000</td>\n",
       "      <td>90.142857</td>\n",
       "      <td>6.150000</td>\n",
       "      <td>5.905500</td>\n",
       "      <td>7.066667</td>\n",
       "      <td>2012.933333</td>\n",
       "      <td>2.394444</td>\n",
       "    </tr>\n",
       "    <tr>\n",
       "      <th>Mystery</th>\n",
       "      <td>52.920635</td>\n",
       "      <td>25.238095</td>\n",
       "      <td>28.951087</td>\n",
       "      <td>85.715232</td>\n",
       "      <td>61.834862</td>\n",
       "      <td>6.108333</td>\n",
       "      <td>11.489879</td>\n",
       "      <td>7.289157</td>\n",
       "      <td>2014.150602</td>\n",
       "      <td>inf</td>\n",
       "    </tr>\n",
       "    <tr>\n",
       "      <th>News</th>\n",
       "      <td>NaN</td>\n",
       "      <td>NaN</td>\n",
       "      <td>0.000000</td>\n",
       "      <td>NaN</td>\n",
       "      <td>NaN</td>\n",
       "      <td>6.100000</td>\n",
       "      <td>3.085000</td>\n",
       "      <td>9.000000</td>\n",
       "      <td>2013.000000</td>\n",
       "      <td>NaN</td>\n",
       "    </tr>\n",
       "    <tr>\n",
       "      <th>Romance</th>\n",
       "      <td>54.921466</td>\n",
       "      <td>22.842932</td>\n",
       "      <td>19.660574</td>\n",
       "      <td>62.532567</td>\n",
       "      <td>38.137566</td>\n",
       "      <td>6.307042</td>\n",
       "      <td>8.716803</td>\n",
       "      <td>7.082803</td>\n",
       "      <td>2013.178344</td>\n",
       "      <td>inf</td>\n",
       "    </tr>\n",
       "    <tr>\n",
       "      <th>Sci-Fi</th>\n",
       "      <td>49.571429</td>\n",
       "      <td>94.383459</td>\n",
       "      <td>116.390411</td>\n",
       "      <td>337.762590</td>\n",
       "      <td>220.834951</td>\n",
       "      <td>6.264655</td>\n",
       "      <td>18.424810</td>\n",
       "      <td>6.645833</td>\n",
       "      <td>2014.263889</td>\n",
       "      <td>inf</td>\n",
       "    </tr>\n",
       "    <tr>\n",
       "      <th>Sport</th>\n",
       "      <td>61.750000</td>\n",
       "      <td>25.093750</td>\n",
       "      <td>26.227273</td>\n",
       "      <td>49.444444</td>\n",
       "      <td>23.318182</td>\n",
       "      <td>6.796875</td>\n",
       "      <td>9.012687</td>\n",
       "      <td>8.200000</td>\n",
       "      <td>2013.850000</td>\n",
       "      <td>2.330667</td>\n",
       "    </tr>\n",
       "    <tr>\n",
       "      <th>Thriller</th>\n",
       "      <td>54.267442</td>\n",
       "      <td>32.240310</td>\n",
       "      <td>34.180108</td>\n",
       "      <td>116.331148</td>\n",
       "      <td>88.037037</td>\n",
       "      <td>6.027007</td>\n",
       "      <td>11.593613</td>\n",
       "      <td>7.311377</td>\n",
       "      <td>2013.823353</td>\n",
       "      <td>inf</td>\n",
       "    </tr>\n",
       "    <tr>\n",
       "      <th>War</th>\n",
       "      <td>45.611111</td>\n",
       "      <td>27.444444</td>\n",
       "      <td>15.714286</td>\n",
       "      <td>53.800000</td>\n",
       "      <td>43.800000</td>\n",
       "      <td>6.717391</td>\n",
       "      <td>9.494261</td>\n",
       "      <td>8.500000</td>\n",
       "      <td>2013.821429</td>\n",
       "      <td>1.324444</td>\n",
       "    </tr>\n",
       "    <tr>\n",
       "      <th>Western</th>\n",
       "      <td>48.333333</td>\n",
       "      <td>55.916667</td>\n",
       "      <td>32.650000</td>\n",
       "      <td>83.875000</td>\n",
       "      <td>63.777778</td>\n",
       "      <td>6.056250</td>\n",
       "      <td>10.156750</td>\n",
       "      <td>8.666667</td>\n",
       "      <td>2013.000000</td>\n",
       "      <td>1.576667</td>\n",
       "    </tr>\n",
       "  </tbody>\n",
       "</table>\n",
       "</div>"
      ],
      "text/plain": [
       "                    id  production_budget_$m  domestic_gross_$m  \\\n",
       "genre                                                             \n",
       "Action       50.615385             79.127473          65.111614   \n",
       "Adventure    47.550279            105.935754         106.026432   \n",
       "Animation    44.405660             96.716981         109.049645   \n",
       "Biography    52.194030             25.701493          25.399123   \n",
       "Comedy       50.436673             40.455577          40.270047   \n",
       "Crime        49.525862             32.806034          27.465909   \n",
       "Documentary  49.416667              8.750000           4.532374   \n",
       "Drama        51.208564             26.628453          20.816471   \n",
       "Family       54.288660             65.835052          68.369748   \n",
       "Fantasy      50.443548             85.233871          70.875740   \n",
       "History      42.850000             36.350000          21.258427   \n",
       "Horror       51.032967             17.115385          26.691630   \n",
       "Music        55.705882             17.882353          24.240964   \n",
       "Musical      36.111111             43.111111          52.294118   \n",
       "Mystery      52.920635             25.238095          28.951087   \n",
       "News               NaN                   NaN           0.000000   \n",
       "Romance      54.921466             22.842932          19.660574   \n",
       "Sci-Fi       49.571429             94.383459         116.390411   \n",
       "Sport        61.750000             25.093750          26.227273   \n",
       "Thriller     54.267442             32.240310          34.180108   \n",
       "War          45.611111             27.444444          15.714286   \n",
       "Western      48.333333             55.916667          32.650000   \n",
       "\n",
       "             worldwide_gross_$m  foreign_gross_$m  vote_average  popularity  \\\n",
       "genre                                                                         \n",
       "Action               221.773551        155.880096      6.129218   14.662453   \n",
       "Adventure            325.447867        224.020649      6.306647   16.906202   \n",
       "Animation            328.456693        232.811321      6.322642   14.023340   \n",
       "Biography             68.571429         46.632000      6.760784    9.686935   \n",
       "Comedy               119.637574         84.447732      6.115470   10.354233   \n",
       "Crime                 77.569395         43.162562      6.216791   11.527896   \n",
       "Documentary           16.426471         11.595238      6.966990    4.916913   \n",
       "Drama                 65.822460         47.526562      6.408681    9.441171   \n",
       "Family               186.750000        104.441558      6.160227   11.110864   \n",
       "Fantasy              224.928571        161.834862      6.121488   14.622587   \n",
       "History               65.107692         45.056604      6.546032    9.442794   \n",
       "Horror                65.990148         55.615385      5.560947   10.568639   \n",
       "Music                 70.629032         50.195122      6.716364    8.482400   \n",
       "Musical              175.000000         90.142857      6.150000    5.905500   \n",
       "Mystery               85.715232         61.834862      6.108333   11.489879   \n",
       "News                        NaN               NaN      6.100000    3.085000   \n",
       "Romance               62.532567         38.137566      6.307042    8.716803   \n",
       "Sci-Fi               337.762590        220.834951      6.264655   18.424810   \n",
       "Sport                 49.444444         23.318182      6.796875    9.012687   \n",
       "Thriller             116.331148         88.037037      6.027007   11.593613   \n",
       "War                   53.800000         43.800000      6.717391    9.494261   \n",
       "Western               83.875000         63.777778      6.056250   10.156750   \n",
       "\n",
       "             release_month  release_year  global_mom  \n",
       "genre                                                 \n",
       "Action            6.820244   2014.089005    2.618996  \n",
       "Adventure         7.047059   2014.331765    3.066011  \n",
       "Animation         7.238462   2014.438462    3.614528  \n",
       "Biography         8.578680   2014.736041         inf  \n",
       "Comedy            7.188525   2013.571038         inf  \n",
       "Crime             7.186275   2013.970588         inf  \n",
       "Documentary       7.413793   2013.241379         inf  \n",
       "Drama             7.748858   2013.857534         inf  \n",
       "Family            7.546296   2013.564815    2.610745  \n",
       "Fantasy           6.986667   2013.826667         inf  \n",
       "History           8.065789   2014.789474    2.484500  \n",
       "Horror            7.188679   2014.155660         inf  \n",
       "Music             7.581081   2013.743243    3.964082  \n",
       "Musical           7.066667   2012.933333    2.394444  \n",
       "Mystery           7.289157   2014.150602         inf  \n",
       "News              9.000000   2013.000000         NaN  \n",
       "Romance           7.082803   2013.178344         inf  \n",
       "Sci-Fi            6.645833   2014.263889         inf  \n",
       "Sport             8.200000   2013.850000    2.330667  \n",
       "Thriller          7.311377   2013.823353         inf  \n",
       "War               8.500000   2013.821429    1.324444  \n",
       "Western           8.666667   2013.000000    1.576667  "
      ]
     },
     "execution_count": 50,
     "metadata": {},
     "output_type": "execute_result"
    }
   ],
   "source": [
    "tbi_genre.groupby(['genre']).mean()"
   ]
  },
  {
   "cell_type": "code",
   "execution_count": 51,
   "metadata": {},
   "outputs": [],
   "source": [
    "genre_vs_mom_all = tbi_genre.groupby(['genre']).median().sort_values(by='global_mom',ascending=False)['global_mom']"
   ]
  },
  {
   "cell_type": "code",
   "execution_count": 52,
   "metadata": {},
   "outputs": [],
   "source": [
    "genre_vs_mom_all = genre_vs_mom_all.reset_index()"
   ]
  },
  {
   "cell_type": "code",
   "execution_count": 53,
   "metadata": {},
   "outputs": [
    {
     "data": {
      "image/png": "[encoded data removed]",
      "text/plain": [
       "<Figure size 720x720 with 1 Axes>"
      ]
     },
     "metadata": {
      "needs_background": "light"
     },
     "output_type": "display_data"
    }
   ],
   "source": [
    "plt.figure(figsize=(10, 10))\n",
    "chart = sns.barplot(x='genre',y='global_mom',data=genre_vs_mom_all, ci=None, color = 'turquoise')\n",
    "\n",
    "# set labels\n",
    "plt.xlabel(\"Genre\", size=15)\n",
    "plt.ylabel(\"Median Global MoM\", size=15)\n",
    "plt.title(\"Top Genres by Multiple on Money (MoM) since 1990\", size=18)\n",
    "plt.xticks(\n",
    "    rotation=45, \n",
    "    horizontalalignment='right',\n",
    "    fontweight='light',\n",
    "    fontsize='x-large'  \n",
    ")\n",
    "plt.show()"
   ]
  },
  {
   "cell_type": "code",
   "execution_count": 54,
   "metadata": {},
   "outputs": [],
   "source": [
    "genre_vs_wwg_all = tbi_genre.groupby(['genre']).median().sort_values(by='worldwide_gross_$m',ascending=False)['worldwide_gross_$m']"
   ]
  },
  {
   "cell_type": "code",
   "execution_count": 55,
   "metadata": {},
   "outputs": [],
   "source": [
    "genre_vs_wwg_all = genre_vs_wwg_all.reset_index()"
   ]
  },
  {
   "cell_type": "code",
   "execution_count": 56,
   "metadata": {},
   "outputs": [
    {
     "data": {
      "image/png": "[encoded data removed]",
      "text/plain": [
       "<Figure size 720x720 with 1 Axes>"
      ]
     },
     "metadata": {
      "needs_background": "light"
     },
     "output_type": "display_data"
    }
   ],
   "source": [
    "plt.figure(figsize=(10, 10))\n",
    "chart = sns.barplot(x='genre',y='worldwide_gross_$m',data=genre_vs_wwg_all, ci=None, color = 'slateblue')\n",
    "\n",
    "# set labels\n",
    "plt.xlabel(\"Genre\", size=15)\n",
    "plt.ylabel(\"Median Worldwide Gross Earnings\", size=15)\n",
    "plt.title(\"Top Genres by Worldwide Gross Earnings (median)\", size=18)\n",
    "plt.xticks(\n",
    "    rotation=45, \n",
    "    horizontalalignment='right',\n",
    "    fontweight='light',\n",
    "    fontsize='x-large'  \n",
    ")\n",
    "plt.show()"
   ]
  },
  {
   "cell_type": "code",
   "execution_count": 57,
   "metadata": {},
   "outputs": [],
   "source": [
    "mom_by_month = tbi.groupby(['release_month']).median().sort_values(by='release_month',ascending=True)['global_mom']"
   ]
  },
  {
   "cell_type": "code",
   "execution_count": 58,
   "metadata": {},
   "outputs": [],
   "source": [
    "mom_by_month = mom_by_month.reset_index()"
   ]
  },
  {
   "cell_type": "code",
   "execution_count": 59,
   "metadata": {},
   "outputs": [],
   "source": [
    "mom_by_month = mom_by_month.replace(to_replace = 12.0,value='December')\n",
    "mom_by_month = mom_by_month.replace(to_replace = 11.0,value='November')\n",
    "mom_by_month = mom_by_month.replace(to_replace = 10.0,value='October')\n",
    "mom_by_month = mom_by_month.replace(to_replace = 9.0,value='September')\n",
    "mom_by_month = mom_by_month.replace(to_replace = 8.0,value='August')\n",
    "mom_by_month = mom_by_month.replace(to_replace = 7.0,value='July')\n",
    "mom_by_month = mom_by_month.replace(to_replace = 6.0,value='June')\n",
    "mom_by_month = mom_by_month.replace(to_replace = 5.0,value='May')\n",
    "mom_by_month = mom_by_month.replace(to_replace = 4.0,value='April')\n",
    "mom_by_month = mom_by_month.replace(to_replace = 3.0,value='March')\n",
    "mom_by_month = mom_by_month.replace(to_replace = 2.0,value='February')\n",
    "mom_by_month = mom_by_month.replace(to_replace = 11.0,value='January')\n"
   ]
  },
  {
   "cell_type": "code",
   "execution_count": 60,
   "metadata": {},
   "outputs": [
    {
     "data": {
      "text/html": [
       "<div>\n",
       "<style scoped>\n",
       "    .dataframe tbody tr th:only-of-type {\n",
       "        vertical-align: middle;\n",
       "    }\n",
       "\n",
       "    .dataframe tbody tr th {\n",
       "        vertical-align: top;\n",
       "    }\n",
       "\n",
       "    .dataframe thead th {\n",
       "        text-align: right;\n",
       "    }\n",
       "</style>\n",
       "<table border=\"1\" class=\"dataframe\">\n",
       "  <thead>\n",
       "    <tr style=\"text-align: right;\">\n",
       "      <th></th>\n",
       "      <th>release_month</th>\n",
       "      <th>global_mom</th>\n",
       "    </tr>\n",
       "  </thead>\n",
       "  <tbody>\n",
       "    <tr>\n",
       "      <th>0</th>\n",
       "      <td>1</td>\n",
       "      <td>1.590</td>\n",
       "    </tr>\n",
       "    <tr>\n",
       "      <th>1</th>\n",
       "      <td>February</td>\n",
       "      <td>1.750</td>\n",
       "    </tr>\n",
       "    <tr>\n",
       "      <th>2</th>\n",
       "      <td>March</td>\n",
       "      <td>1.630</td>\n",
       "    </tr>\n",
       "    <tr>\n",
       "      <th>3</th>\n",
       "      <td>April</td>\n",
       "      <td>1.455</td>\n",
       "    </tr>\n",
       "    <tr>\n",
       "      <th>4</th>\n",
       "      <td>May</td>\n",
       "      <td>2.180</td>\n",
       "    </tr>\n",
       "    <tr>\n",
       "      <th>5</th>\n",
       "      <td>June</td>\n",
       "      <td>2.260</td>\n",
       "    </tr>\n",
       "    <tr>\n",
       "      <th>6</th>\n",
       "      <td>July</td>\n",
       "      <td>2.400</td>\n",
       "    </tr>\n",
       "    <tr>\n",
       "      <th>7</th>\n",
       "      <td>August</td>\n",
       "      <td>1.730</td>\n",
       "    </tr>\n",
       "    <tr>\n",
       "      <th>8</th>\n",
       "      <td>September</td>\n",
       "      <td>1.330</td>\n",
       "    </tr>\n",
       "    <tr>\n",
       "      <th>9</th>\n",
       "      <td>October</td>\n",
       "      <td>1.500</td>\n",
       "    </tr>\n",
       "    <tr>\n",
       "      <th>10</th>\n",
       "      <td>November</td>\n",
       "      <td>2.225</td>\n",
       "    </tr>\n",
       "    <tr>\n",
       "      <th>11</th>\n",
       "      <td>December</td>\n",
       "      <td>1.780</td>\n",
       "    </tr>\n",
       "  </tbody>\n",
       "</table>\n",
       "</div>"
      ],
      "text/plain": [
       "   release_month  global_mom\n",
       "0              1       1.590\n",
       "1       February       1.750\n",
       "2          March       1.630\n",
       "3          April       1.455\n",
       "4            May       2.180\n",
       "5           June       2.260\n",
       "6           July       2.400\n",
       "7         August       1.730\n",
       "8      September       1.330\n",
       "9        October       1.500\n",
       "10      November       2.225\n",
       "11      December       1.780"
      ]
     },
     "execution_count": 60,
     "metadata": {},
     "output_type": "execute_result"
    }
   ],
   "source": [
    "mom_by_month"
   ]
  },
  {
   "cell_type": "code",
   "execution_count": 61,
   "metadata": {},
   "outputs": [
    {
     "data": {
      "image/png": "[encoded data removed]",
      "text/plain": [
       "<Figure size 720x720 with 1 Axes>"
      ]
     },
     "metadata": {
      "needs_background": "light"
     },
     "output_type": "display_data"
    }
   ],
   "source": [
    "\n",
    "plt.figure(figsize=(10, 10))\n",
    "chart = sns.barplot(x='release_month',y='global_mom',data=mom_by_month, color='orchid',ci=None)\n",
    "\n",
    "# set labels\n",
    "plt.xlabel(\"Month\", size=15)\n",
    "plt.ylabel(\"Median Multiple on Money\", size=15)\n",
    "plt.title(\"Median Multiple on Money by Month\", size=18)\n",
    "plt.xticks(\n",
    "    rotation=45, \n",
    "    horizontalalignment='right',\n",
    "    fontweight='light',\n",
    "    fontsize='x-large'  \n",
    ")\n",
    "plt.show()"
   ]
  },
  {
   "cell_type": "code",
   "execution_count": null,
   "metadata": {},
   "outputs": [],
   "source": []
  },
  {
   "cell_type": "code",
   "execution_count": null,
   "metadata": {},
   "outputs": [],
   "source": []
  },
  {
   "cell_type": "code",
   "execution_count": null,
   "metadata": {},
   "outputs": [],
   "source": []
  },
  {
   "cell_type": "markdown",
   "metadata": {},
   "source": [
    "### Notes"
   ]
  },
  {
   "cell_type": "code",
   "execution_count": null,
   "metadata": {},
   "outputs": [],
   "source": [
    "# Use below three tables to do earnings / ROI by genre by season"
   ]
  },
  {
   "cell_type": "code",
   "execution_count": null,
   "metadata": {},
   "outputs": [],
   "source": [
    "SELECT COUNT(*) \n",
    "FROM movies.imdb_title_basics\n",
    "WHERE start_year > 2010\n",
    "#total 146144 rows --> starts 2010 only "
   ]
  },
  {
   "cell_type": "code",
   "execution_count": null,
   "metadata": {},
   "outputs": [],
   "source": [
    "SELECT COUNT(*)\n",
    "FROM movies.bom_movie_gross\n",
    "# total 3387 rows --> total database only has 3387 rows and starts at 2010"
   ]
  },
  {
   "cell_type": "code",
   "execution_count": null,
   "metadata": {},
   "outputs": [],
   "source": [
    "# tn movie budgets; bom movie gross; tmbd movies with unique titles "
   ]
  },
  {
   "cell_type": "code",
   "execution_count": null,
   "metadata": {},
   "outputs": [],
   "source": [
    "SELECT \n",
    "\tCOUNT(*),\n",
    "    RIGHT(release_date, 4)\n",
    "FROM movies.tn_movie_budgets\n",
    "GROUP BY RIGHT(release_date, 4) ASC\n",
    "#5782 rows total --> 1996 first year with over 100 movies \n",
    "\n",
    "SELECT \n",
    "\tCOUNT(*)\n",
    "FROM movies.tn_movie_budgets\n",
    "WHERE RIGHT(release_date, 4) > 1995\n",
    "#4925\n",
    "#2194 for 2010 and after"
   ]
  },
  {
   "cell_type": "code",
   "execution_count": 1,
   "metadata": {},
   "outputs": [],
   "source": [
    "#GENERAL Analysis (JOIN ON Movie name)\n",
    "#earnings / ROI by genre (tn_movie_budgets + imdb_title_basics JOIN on movie title) POST 2010 (only 2194 movies)\n",
    "#earnings / ROI by season (use only tn_movie_budgets) POST 2010 (only 2194 movies)\n",
    "#ratings vs. box office success correlatoin (movie_budgets and title_basics)\n",
    "#IMDB analysis (JOIN ON nmstat and tstat)\n",
    "#imdb genre vs. rating (use title_basics, title_ratings JOIN on tconst) POST 2010 (limit is ratings)\n",
    "#imdb actors, directors and producers with highest ratings (use title_principals, title_ratings and \n",
    "#name_basics, JOIN on tconst and nmconst) POST 2010 (limit is ratings)\n",
    "#RT Analysis (JOIN ON ID)\n",
    "#overview of top critics, most frequent critics and what genres they like / how harsh they are (rt_reviews)\n",
    "#rt ratings vs. box office reviews vs. top critics (1500 instances approx) limited by box office numbers in movie_info"
   ]
  },
  {
   "cell_type": "code",
   "execution_count": null,
   "metadata": {},
   "outputs": [],
   "source": [
    "# LIST of databases\n",
    "## DONT USE movies.bom_movie_gross for anything \n",
    "## DONT USE movies.imdb_name basics\n",
    "## DONT USE imdb title akas\n",
    "## DONT USE imdb title crew\n",
    "## ONLY database with too many rows is imdb principles w/ over 1m "
   ]
  },
  {
   "cell_type": "code",
   "execution_count": null,
   "metadata": {},
   "outputs": [],
   "source": [
    "# TO DO\n",
    "## Split genre into Primary, Secondary, Tertiary (for both ImDB and RT)"
   ]
  }
 ],
 "metadata": {
  "kernelspec": {
   "display_name": "Python 3",
   "language": "python",
   "name": "python3"
  },
  "language_info": {
   "codemirror_mode": {
    "name": "ipython",
    "version": 3
   },
   "file_extension": ".py",
   "mimetype": "text/x-python",
   "name": "python",
   "nbconvert_exporter": "python",
   "pygments_lexer": "ipython3",
   "version": "3.7.6"
  }
 },
 "nbformat": 4,
 "nbformat_minor": 4
}
